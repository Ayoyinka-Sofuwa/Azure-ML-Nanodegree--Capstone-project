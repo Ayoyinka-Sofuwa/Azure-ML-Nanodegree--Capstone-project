{
 "cells": [
  {
   "cell_type": "markdown",
   "metadata": {},
   "source": [
    "# Automated ML\n",
    "\n",
    "TODO: Import Dependencies. In the cell below, import all the dependencies that you will need to complete the project."
   ]
  },
  {
   "cell_type": "code",
   "execution_count": 1,
   "metadata": {
    "gather": {
     "logged": 1598423888013
    },
    "jupyter": {
     "outputs_hidden": false,
     "source_hidden": false
    },
    "nteract": {
     "transient": {
      "deleting": false
     }
    }
   },
   "outputs": [
    {
     "name": "stdout",
     "output_type": "stream",
     "text": [
      "Sdk version is: 1.20.0\n"
     ]
    }
   ],
   "source": [
    "from azureml.core.experiment import Experiment\n",
    "from azureml.core.workspace import Workspace\n",
    "from azureml.train.automl import AutoMLConfig\n",
    "from azureml.core.dataset import Dataset\n",
    "\n",
    "print(\"Sdk version is:\", azureml.core.VERSION)"
   ]
  },
  {
   "cell_type": "markdown",
   "metadata": {},
   "source": [
    "##### Set up workspace and experiment\n",
    "\n",
    "* Set up compute cluster"
   ]
  },
  {
   "cell_type": "code",
   "execution_count": 2,
   "metadata": {
    "gather": {
     "logged": 1598423890461
    },
    "jupyter": {
     "outputs_hidden": false,
     "source_hidden": false
    },
    "nteract": {
     "transient": {
      "deleting": false
     }
    }
   },
   "outputs": [],
   "source": [
    "ws = Workspace.from_config()\n",
    "\n",
    "# choose a name for experiment\n",
    "experiment_name = 'automl-exp'\n",
    "project_folder = \"./automl-project\"\n",
    "\n",
    "exp=Experiment(ws, experiment_name)"
   ]
  },
  {
   "cell_type": "code",
   "execution_count": 3,
   "metadata": {},
   "outputs": [
    {
     "name": "stdout",
     "output_type": "stream",
     "text": [
      "Found existing cluster, use it.\n",
      "Succeeded\n",
      "AmlCompute wait for completion finished\n",
      "\n",
      "Minimum number of nodes requested have been provisioned\n"
     ]
    },
    {
     "data": {
      "text/plain": [
       "<azureml.core.compute.amlcompute.AmlComputeStatus at 0x7f1d7ce64b00>"
      ]
     },
     "execution_count": 3,
     "metadata": {},
     "output_type": "execute_result"
    }
   ],
   "source": [
    "from azureml.core.compute_target import ComputeTargetException\n",
    "from azureml.core.compute import AmlCompute\n",
    "from azureml.core.compute import ComputeTarget\n",
    "\n",
    "cluster_name= \"AML-Cluster\"\n",
    "\n",
    "#Verify that cluster does not exist already\n",
    "try:\n",
    "    compute_target = ComputeTarget(workspace=ws, name=cluster_name)\n",
    "    print('Found existing cluster, use it.')\n",
    "    \n",
    "except ComputeTargetException:\n",
    "    compute_config = AmlCompute.provisioning_configuration(vm_size='STANDARD_DS12_v2',\n",
    "                                                           min_nodes=1, max_nodes=5)\n",
    "    \n",
    "    compute_target = ComputeTarget.create(ws, cluster_name, compute_config)\n",
    "\n",
    "compute_target.wait_for_completion(show_output=True, min_node_count = 1, timeout_in_minutes = 10)\n",
    "compute_target.get_status()"
   ]
  },
  {
   "cell_type": "markdown",
   "metadata": {},
   "source": [
    "## Dataset\n",
    "\n",
    "### Overview\n",
    "TODO: In this markdown cell, give an overview of the dataset you are using. Also mention the task you will be performing.\n",
    "\n",
    "\n",
    "TODO: Get data. In the cell below, write code to access the data you will be using in this project. Remember that the dataset needs to be external."
   ]
  },
  {
   "cell_type": "markdown",
   "metadata": {},
   "source": [
    "Breast Cancer is the most common type of cancer women experience worldwide, it is usually first observed in lumps or masses that develop in the breast, while some of these lumps or masses may not be cancerous and may be due to other hormonal complications, some of these lumps turn out to be cancerous. This is why this dataset generated focuses mainly on the side, texture and features of the lumps to determine if they will be cancerous or not.\n",
    "\n",
    "In this data, I have 6 columns:\n",
    "* The mean radius\n",
    "* mean texture\n",
    "* mean perimeter\n",
    "* mean area\n",
    "* mean smoothness\n",
    "* diagnosis\n",
    "\n",
    "The Diagnosis feature is the labeled data for our classification experiment that gives the input for women whose lumps are diagnosed as cancerous or not.\n",
    "The column is already encoded where 1 means a cancerous lump and 0 means a non cancerous lump."
   ]
  },
  {
   "cell_type": "markdown",
   "metadata": {},
   "source": [
    "For this project, I'll be using the breast cancer dataset that contains features centered on the size and area of the tumor to determine if it's cancerous or not, or otherwise: malignant or benign.\n",
    "\n",
    "This task is going to be a classification task which decides only two variables; cancerous or not."
   ]
  },
  {
   "cell_type": "code",
   "execution_count": 4,
   "metadata": {},
   "outputs": [
    {
     "data": {
      "text/html": [
       "<div>\n",
       "<style scoped>\n",
       "    .dataframe tbody tr th:only-of-type {\n",
       "        vertical-align: middle;\n",
       "    }\n",
       "\n",
       "    .dataframe tbody tr th {\n",
       "        vertical-align: top;\n",
       "    }\n",
       "\n",
       "    .dataframe thead th {\n",
       "        text-align: right;\n",
       "    }\n",
       "</style>\n",
       "<table border=\"1\" class=\"dataframe\">\n",
       "  <thead>\n",
       "    <tr style=\"text-align: right;\">\n",
       "      <th></th>\n",
       "      <th>mean_radius</th>\n",
       "      <th>mean_texture</th>\n",
       "      <th>mean_perimeter</th>\n",
       "      <th>mean_area</th>\n",
       "      <th>mean_smoothness</th>\n",
       "      <th>diagnosis</th>\n",
       "    </tr>\n",
       "  </thead>\n",
       "  <tbody>\n",
       "    <tr>\n",
       "      <th>count</th>\n",
       "      <td>569.000000</td>\n",
       "      <td>569.000000</td>\n",
       "      <td>569.000000</td>\n",
       "      <td>569.000000</td>\n",
       "      <td>569.000000</td>\n",
       "      <td>569.000000</td>\n",
       "    </tr>\n",
       "    <tr>\n",
       "      <th>mean</th>\n",
       "      <td>14.127292</td>\n",
       "      <td>19.289649</td>\n",
       "      <td>91.969033</td>\n",
       "      <td>654.889104</td>\n",
       "      <td>0.096360</td>\n",
       "      <td>0.627417</td>\n",
       "    </tr>\n",
       "    <tr>\n",
       "      <th>std</th>\n",
       "      <td>3.524049</td>\n",
       "      <td>4.301036</td>\n",
       "      <td>24.298981</td>\n",
       "      <td>351.914129</td>\n",
       "      <td>0.014064</td>\n",
       "      <td>0.483918</td>\n",
       "    </tr>\n",
       "    <tr>\n",
       "      <th>min</th>\n",
       "      <td>6.981000</td>\n",
       "      <td>9.710000</td>\n",
       "      <td>43.790000</td>\n",
       "      <td>143.500000</td>\n",
       "      <td>0.052630</td>\n",
       "      <td>0.000000</td>\n",
       "    </tr>\n",
       "    <tr>\n",
       "      <th>25%</th>\n",
       "      <td>11.700000</td>\n",
       "      <td>16.170000</td>\n",
       "      <td>75.170000</td>\n",
       "      <td>420.300000</td>\n",
       "      <td>0.086370</td>\n",
       "      <td>0.000000</td>\n",
       "    </tr>\n",
       "    <tr>\n",
       "      <th>50%</th>\n",
       "      <td>13.370000</td>\n",
       "      <td>18.840000</td>\n",
       "      <td>86.240000</td>\n",
       "      <td>551.100000</td>\n",
       "      <td>0.095870</td>\n",
       "      <td>1.000000</td>\n",
       "    </tr>\n",
       "    <tr>\n",
       "      <th>75%</th>\n",
       "      <td>15.780000</td>\n",
       "      <td>21.800000</td>\n",
       "      <td>104.100000</td>\n",
       "      <td>782.700000</td>\n",
       "      <td>0.105300</td>\n",
       "      <td>1.000000</td>\n",
       "    </tr>\n",
       "    <tr>\n",
       "      <th>max</th>\n",
       "      <td>28.110000</td>\n",
       "      <td>39.280000</td>\n",
       "      <td>188.500000</td>\n",
       "      <td>2501.000000</td>\n",
       "      <td>0.163400</td>\n",
       "      <td>1.000000</td>\n",
       "    </tr>\n",
       "  </tbody>\n",
       "</table>\n",
       "</div>"
      ],
      "text/plain": [
       "       mean_radius  mean_texture  mean_perimeter    mean_area  \\\n",
       "count   569.000000    569.000000      569.000000   569.000000   \n",
       "mean     14.127292     19.289649       91.969033   654.889104   \n",
       "std       3.524049      4.301036       24.298981   351.914129   \n",
       "min       6.981000      9.710000       43.790000   143.500000   \n",
       "25%      11.700000     16.170000       75.170000   420.300000   \n",
       "50%      13.370000     18.840000       86.240000   551.100000   \n",
       "75%      15.780000     21.800000      104.100000   782.700000   \n",
       "max      28.110000     39.280000      188.500000  2501.000000   \n",
       "\n",
       "       mean_smoothness   diagnosis  \n",
       "count       569.000000  569.000000  \n",
       "mean          0.096360    0.627417  \n",
       "std           0.014064    0.483918  \n",
       "min           0.052630    0.000000  \n",
       "25%           0.086370    0.000000  \n",
       "50%           0.095870    1.000000  \n",
       "75%           0.105300    1.000000  \n",
       "max           0.163400    1.000000  "
      ]
     },
     "execution_count": 4,
     "metadata": {},
     "output_type": "execute_result"
    }
   ],
   "source": [
    "#load the data\n",
    "found = False\n",
    "key = \"breast-cancer-data\"\n",
    "description_text = \"breast cancer prediction for third Project\"\n",
    "\n",
    "if key in ws.datasets.keys(): \n",
    "        found = True\n",
    "        dataset = ws.datasets[key] \n",
    "\n",
    "if not found:\n",
    "        # Create AML Dataset and register it into Workspace\n",
    "        data = 'https://raw.githubusercontent.com/Ayoyinka-Sofuwa/Capstone-project/main/Breast_cancer_data.csv'\n",
    "        dataset = Dataset.Tabular.from_delimited_files(data)        \n",
    "        #Register Dataset in Workspace\n",
    "        dataset = dataset.register(workspace=ws,\n",
    "                                   name=key,\n",
    "                                   description=description_text)\n",
    "\n",
    "\n",
    "df = dataset.to_pandas_dataframe()\n",
    "\n",
    "df.describe()"
   ]
  },
  {
   "cell_type": "markdown",
   "metadata": {},
   "source": [
    "## AutoML Configuration\n",
    "\n",
    "TODO: Explain why you chose the automl settings and cofiguration you used below."
   ]
  },
  {
   "cell_type": "markdown",
   "metadata": {},
   "source": [
    "In my automl settings, I set the experiment to time out at 30 minutes, run 4 experiments at a time and the primary metric to be highlighted will be the accuracy of each model generated.\n",
    "\n",
    "It is a classification experiment and my target column to be predicted is the diagnosis column. And I configured the automated ML experiment to be Onnx compatible for deployment."
   ]
  },
  {
   "cell_type": "code",
   "execution_count": 5,
   "metadata": {
    "gather": {
     "logged": 1598429217746
    },
    "jupyter": {
     "outputs_hidden": false,
     "source_hidden": false
    },
    "nteract": {
     "transient": {
      "deleting": false
     }
    }
   },
   "outputs": [],
   "source": [
    "#Put your automl settings here\n",
    "automl_settings = {\"experiment_timeout_minutes\": 30,\n",
    "                   \"max_concurrent_iterations\": 4,\n",
    "                   \"primary_metric\" : 'accuracy'}\n",
    "\n",
    "#Put your automl config here\n",
    "automl_config = AutoMLConfig(compute_target=compute_target,\n",
    "                             task = \"classification\",\n",
    "                             training_data=dataset,\n",
    "                             label_column_name=\"diagnosis\",   \n",
    "                             path = project_folder,\n",
    "                             enable_early_stopping= True,\n",
    "                             featurization= 'auto',\n",
    "                             enable_onnx_compatible_models=True,\n",
    "                             debug_log = \"automl_errors.log\",\n",
    "                             **automl_settings)"
   ]
  },
  {
   "cell_type": "code",
   "execution_count": 6,
   "metadata": {
    "gather": {
     "logged": 1598431107951
    },
    "jupyter": {
     "outputs_hidden": false,
     "source_hidden": false
    },
    "nteract": {
     "transient": {
      "deleting": false
     }
    }
   },
   "outputs": [
    {
     "name": "stdout",
     "output_type": "stream",
     "text": [
      "Running on remote.\n"
     ]
    }
   ],
   "source": [
    "#Submit your experiment\n",
    "automl_run = exp.submit(automl_config)"
   ]
  },
  {
   "cell_type": "markdown",
   "metadata": {},
   "source": [
    "## Run Details\n",
    "\n",
    "OPTIONAL: Write about the different models trained and their performance. Why do you think some models did better than others?\n",
    "\n",
    "TODO: In the cell below, use the `RunDetails` widget to show the different experiments."
   ]
  },
  {
   "cell_type": "code",
   "execution_count": 7,
   "metadata": {
    "gather": {
     "logged": 1598431121770
    },
    "jupyter": {
     "outputs_hidden": false,
     "source_hidden": false
    },
    "nteract": {
     "transient": {
      "deleting": false
     }
    }
   },
   "outputs": [
    {
     "data": {
      "application/vnd.jupyter.widget-view+json": {
       "model_id": "98b268f8d12b4ed4b9e966286dd04abf",
       "version_major": 2,
       "version_minor": 0
      },
      "text/plain": [
       "_AutoMLWidget(widget_settings={'childWidgetDisplay': 'popup', 'send_telemetry': False, 'log_level': 'INFO', 's…"
      ]
     },
     "metadata": {},
     "output_type": "display_data"
    },
    {
     "data": {
      "application/aml.mini.widget.v1": "{\"status\": \"Completed\", \"workbench_run_details_uri\": \"https://ml.azure.com/experiments/automl-exp/runs/AutoML_664193cb-b6c8-4931-8be5-b39bb8fc5856?wsid=/subscriptions/f9d5a085-54dc-4215-9ba6-dad5d86e60a0/resourcegroups/aml-quickstarts-139015/workspaces/quick-starts-ws-139015\", \"run_id\": \"AutoML_664193cb-b6c8-4931-8be5-b39bb8fc5856\", \"run_properties\": {\"run_id\": \"AutoML_664193cb-b6c8-4931-8be5-b39bb8fc5856\", \"created_utc\": \"2021-02-16T12:01:56.681673Z\", \"properties\": {\"num_iterations\": \"1000\", \"training_type\": \"TrainFull\", \"acquisition_function\": \"EI\", \"primary_metric\": \"accuracy\", \"train_split\": \"0\", \"acquisition_parameter\": \"0\", \"num_cross_validation\": null, \"target\": \"AML-Cluster\", \"AMLSettingsJsonString\": \"{\\\"path\\\":null,\\\"name\\\":\\\"automl-exp\\\",\\\"subscription_id\\\":\\\"f9d5a085-54dc-4215-9ba6-dad5d86e60a0\\\",\\\"resource_group\\\":\\\"aml-quickstarts-139015\\\",\\\"workspace_name\\\":\\\"quick-starts-ws-139015\\\",\\\"region\\\":\\\"southcentralus\\\",\\\"compute_target\\\":\\\"AML-Cluster\\\",\\\"spark_service\\\":null,\\\"azure_service\\\":\\\"remote\\\",\\\"many_models\\\":false,\\\"pipeline_fetch_max_batch_size\\\":1,\\\"iterations\\\":1000,\\\"primary_metric\\\":\\\"accuracy\\\",\\\"task_type\\\":\\\"classification\\\",\\\"data_script\\\":null,\\\"validation_size\\\":0.0,\\\"n_cross_validations\\\":null,\\\"y_min\\\":null,\\\"y_max\\\":null,\\\"num_classes\\\":null,\\\"featurization\\\":\\\"auto\\\",\\\"_ignore_package_version_incompatibilities\\\":false,\\\"is_timeseries\\\":false,\\\"max_cores_per_iteration\\\":1,\\\"max_concurrent_iterations\\\":4,\\\"iteration_timeout_minutes\\\":null,\\\"mem_in_mb\\\":null,\\\"enforce_time_on_windows\\\":false,\\\"experiment_timeout_minutes\\\":30,\\\"experiment_exit_score\\\":null,\\\"whitelist_models\\\":null,\\\"blacklist_algos\\\":[\\\"TensorFlowLinearClassifier\\\",\\\"TensorFlowDNN\\\"],\\\"supported_models\\\":[\\\"LightGBM\\\",\\\"ExtremeRandomTrees\\\",\\\"RandomForest\\\",\\\"GradientBoosting\\\",\\\"MultinomialNaiveBayes\\\",\\\"SGD\\\",\\\"KNN\\\",\\\"LinearSVM\\\",\\\"AveragedPerceptronClassifier\\\",\\\"TensorFlowLinearClassifier\\\",\\\"BernoulliNaiveBayes\\\",\\\"DecisionTree\\\",\\\"LogisticRegression\\\",\\\"TensorFlowDNN\\\",\\\"XGBoostClassifier\\\",\\\"SVM\\\"],\\\"auto_blacklist\\\":true,\\\"blacklist_samples_reached\\\":false,\\\"exclude_nan_labels\\\":true,\\\"verbosity\\\":20,\\\"_debug_log\\\":\\\"azureml_automl.log\\\",\\\"show_warnings\\\":false,\\\"model_explainability\\\":true,\\\"service_url\\\":null,\\\"sdk_url\\\":null,\\\"sdk_packages\\\":null,\\\"enable_onnx_compatible_models\\\":true,\\\"enable_split_onnx_featurizer_estimator_models\\\":false,\\\"vm_type\\\":\\\"STANDARD_DS12_V2\\\",\\\"telemetry_verbosity\\\":20,\\\"send_telemetry\\\":true,\\\"enable_dnn\\\":false,\\\"scenario\\\":\\\"SDK-1.13.0\\\",\\\"environment_label\\\":null,\\\"force_text_dnn\\\":false,\\\"enable_feature_sweeping\\\":false,\\\"enable_early_stopping\\\":true,\\\"early_stopping_n_iters\\\":10,\\\"metrics\\\":null,\\\"enable_ensembling\\\":true,\\\"enable_stack_ensembling\\\":false,\\\"ensemble_iterations\\\":15,\\\"enable_tf\\\":false,\\\"enable_subsampling\\\":null,\\\"subsample_seed\\\":null,\\\"enable_nimbusml\\\":false,\\\"enable_streaming\\\":false,\\\"force_streaming\\\":false,\\\"track_child_runs\\\":true,\\\"allowed_private_models\\\":[],\\\"label_column_name\\\":\\\"diagnosis\\\",\\\"weight_column_name\\\":null,\\\"cv_split_column_names\\\":null,\\\"enable_local_managed\\\":false,\\\"_local_managed_run_id\\\":null,\\\"cost_mode\\\":1,\\\"lag_length\\\":0,\\\"metric_operation\\\":\\\"maximize\\\",\\\"preprocess\\\":true}\", \"DataPrepJsonString\": \"{\\\\\\\"training_data\\\\\\\": \\\\\\\"{\\\\\\\\\\\\\\\"blocks\\\\\\\\\\\\\\\": [{\\\\\\\\\\\\\\\"id\\\\\\\\\\\\\\\": \\\\\\\\\\\\\\\"f843fd7a-d7ad-487b-9033-13dddc5b4e95\\\\\\\\\\\\\\\", \\\\\\\\\\\\\\\"type\\\\\\\\\\\\\\\": \\\\\\\\\\\\\\\"Microsoft.DPrep.GetFilesBlock\\\\\\\\\\\\\\\", \\\\\\\\\\\\\\\"arguments\\\\\\\\\\\\\\\": {\\\\\\\\\\\\\\\"isArchive\\\\\\\\\\\\\\\": false, \\\\\\\\\\\\\\\"path\\\\\\\\\\\\\\\": {\\\\\\\\\\\\\\\"target\\\\\\\\\\\\\\\": 4, \\\\\\\\\\\\\\\"resourceDetails\\\\\\\\\\\\\\\": [{\\\\\\\\\\\\\\\"path\\\\\\\\\\\\\\\": \\\\\\\\\\\\\\\"https://raw.githubusercontent.com/Ayoyinka-Sofuwa/Capstone-project/main/Breast_cancer_data.csv\\\\\\\\\\\\\\\"}]}}, \\\\\\\\\\\\\\\"localData\\\\\\\\\\\\\\\": {}, \\\\\\\\\\\\\\\"isEnabled\\\\\\\\\\\\\\\": true, \\\\\\\\\\\\\\\"name\\\\\\\\\\\\\\\": null, \\\\\\\\\\\\\\\"annotation\\\\\\\\\\\\\\\": null}, {\\\\\\\\\\\\\\\"id\\\\\\\\\\\\\\\": \\\\\\\\\\\\\\\"2a08707b-0f83-4d57-82c3-bf001f5866d8\\\\\\\\\\\\\\\", \\\\\\\\\\\\\\\"type\\\\\\\\\\\\\\\": \\\\\\\\\\\\\\\"Microsoft.DPrep.ParseDelimitedBlock\\\\\\\\\\\\\\\", \\\\\\\\\\\\\\\"arguments\\\\\\\\\\\\\\\": {\\\\\\\\\\\\\\\"columnHeadersMode\\\\\\\\\\\\\\\": 3, \\\\\\\\\\\\\\\"fileEncoding\\\\\\\\\\\\\\\": 0, \\\\\\\\\\\\\\\"handleQuotedLineBreaks\\\\\\\\\\\\\\\": false, \\\\\\\\\\\\\\\"preview\\\\\\\\\\\\\\\": false, \\\\\\\\\\\\\\\"separator\\\\\\\\\\\\\\\": \\\\\\\\\\\\\\\",\\\\\\\\\\\\\\\", \\\\\\\\\\\\\\\"skipRows\\\\\\\\\\\\\\\": 0, \\\\\\\\\\\\\\\"skipRowsMode\\\\\\\\\\\\\\\": 0}, \\\\\\\\\\\\\\\"localData\\\\\\\\\\\\\\\": {}, \\\\\\\\\\\\\\\"isEnabled\\\\\\\\\\\\\\\": true, \\\\\\\\\\\\\\\"name\\\\\\\\\\\\\\\": null, \\\\\\\\\\\\\\\"annotation\\\\\\\\\\\\\\\": null}, {\\\\\\\\\\\\\\\"id\\\\\\\\\\\\\\\": \\\\\\\\\\\\\\\"cb37c74c-ed5a-4947-aa7a-288f28c0c954\\\\\\\\\\\\\\\", \\\\\\\\\\\\\\\"type\\\\\\\\\\\\\\\": \\\\\\\\\\\\\\\"Microsoft.DPrep.DropColumnsBlock\\\\\\\\\\\\\\\", \\\\\\\\\\\\\\\"arguments\\\\\\\\\\\\\\\": {\\\\\\\\\\\\\\\"columns\\\\\\\\\\\\\\\": {\\\\\\\\\\\\\\\"type\\\\\\\\\\\\\\\": 0, \\\\\\\\\\\\\\\"details\\\\\\\\\\\\\\\": {\\\\\\\\\\\\\\\"selectedColumns\\\\\\\\\\\\\\\": [\\\\\\\\\\\\\\\"Path\\\\\\\\\\\\\\\"]}}}, \\\\\\\\\\\\\\\"localData\\\\\\\\\\\\\\\": {}, \\\\\\\\\\\\\\\"isEnabled\\\\\\\\\\\\\\\": true, \\\\\\\\\\\\\\\"name\\\\\\\\\\\\\\\": null, \\\\\\\\\\\\\\\"annotation\\\\\\\\\\\\\\\": null}, {\\\\\\\\\\\\\\\"id\\\\\\\\\\\\\\\": \\\\\\\\\\\\\\\"1b46f422-95a3-48bb-a804-1f3f29983d7b\\\\\\\\\\\\\\\", \\\\\\\\\\\\\\\"type\\\\\\\\\\\\\\\": \\\\\\\\\\\\\\\"Microsoft.DPrep.SetColumnTypesBlock\\\\\\\\\\\\\\\", \\\\\\\\\\\\\\\"arguments\\\\\\\\\\\\\\\": {\\\\\\\\\\\\\\\"columnConversion\\\\\\\\\\\\\\\": [{\\\\\\\\\\\\\\\"column\\\\\\\\\\\\\\\": {\\\\\\\\\\\\\\\"type\\\\\\\\\\\\\\\": 2, \\\\\\\\\\\\\\\"details\\\\\\\\\\\\\\\": {\\\\\\\\\\\\\\\"selectedColumn\\\\\\\\\\\\\\\": \\\\\\\\\\\\\\\"mean_radius\\\\\\\\\\\\\\\"}}, \\\\\\\\\\\\\\\"typeProperty\\\\\\\\\\\\\\\": 3}, {\\\\\\\\\\\\\\\"column\\\\\\\\\\\\\\\": {\\\\\\\\\\\\\\\"type\\\\\\\\\\\\\\\": 2, \\\\\\\\\\\\\\\"details\\\\\\\\\\\\\\\": {\\\\\\\\\\\\\\\"selectedColumn\\\\\\\\\\\\\\\": \\\\\\\\\\\\\\\"mean_texture\\\\\\\\\\\\\\\"}}, \\\\\\\\\\\\\\\"typeProperty\\\\\\\\\\\\\\\": 3}, {\\\\\\\\\\\\\\\"column\\\\\\\\\\\\\\\": {\\\\\\\\\\\\\\\"type\\\\\\\\\\\\\\\": 2, \\\\\\\\\\\\\\\"details\\\\\\\\\\\\\\\": {\\\\\\\\\\\\\\\"selectedColumn\\\\\\\\\\\\\\\": \\\\\\\\\\\\\\\"mean_perimeter\\\\\\\\\\\\\\\"}}, \\\\\\\\\\\\\\\"typeProperty\\\\\\\\\\\\\\\": 3}, {\\\\\\\\\\\\\\\"column\\\\\\\\\\\\\\\": {\\\\\\\\\\\\\\\"type\\\\\\\\\\\\\\\": 2, \\\\\\\\\\\\\\\"details\\\\\\\\\\\\\\\": {\\\\\\\\\\\\\\\"selectedColumn\\\\\\\\\\\\\\\": \\\\\\\\\\\\\\\"mean_area\\\\\\\\\\\\\\\"}}, \\\\\\\\\\\\\\\"typeProperty\\\\\\\\\\\\\\\": 3}, {\\\\\\\\\\\\\\\"column\\\\\\\\\\\\\\\": {\\\\\\\\\\\\\\\"type\\\\\\\\\\\\\\\": 2, \\\\\\\\\\\\\\\"details\\\\\\\\\\\\\\\": {\\\\\\\\\\\\\\\"selectedColumn\\\\\\\\\\\\\\\": \\\\\\\\\\\\\\\"mean_smoothness\\\\\\\\\\\\\\\"}}, \\\\\\\\\\\\\\\"typeProperty\\\\\\\\\\\\\\\": 3}, {\\\\\\\\\\\\\\\"column\\\\\\\\\\\\\\\": {\\\\\\\\\\\\\\\"type\\\\\\\\\\\\\\\": 2, \\\\\\\\\\\\\\\"details\\\\\\\\\\\\\\\": {\\\\\\\\\\\\\\\"selectedColumn\\\\\\\\\\\\\\\": \\\\\\\\\\\\\\\"diagnosis\\\\\\\\\\\\\\\"}}, \\\\\\\\\\\\\\\"typeProperty\\\\\\\\\\\\\\\": 2}]}, \\\\\\\\\\\\\\\"localData\\\\\\\\\\\\\\\": {}, \\\\\\\\\\\\\\\"isEnabled\\\\\\\\\\\\\\\": true, \\\\\\\\\\\\\\\"name\\\\\\\\\\\\\\\": null, \\\\\\\\\\\\\\\"annotation\\\\\\\\\\\\\\\": null}], \\\\\\\\\\\\\\\"inspectors\\\\\\\\\\\\\\\": [], \\\\\\\\\\\\\\\"meta\\\\\\\\\\\\\\\": {\\\\\\\\\\\\\\\"savedDatasetId\\\\\\\\\\\\\\\": \\\\\\\\\\\\\\\"04b971a3-8237-408d-a698-c6a0798e4528\\\\\\\\\\\\\\\", \\\\\\\\\\\\\\\"datasetType\\\\\\\\\\\\\\\": \\\\\\\\\\\\\\\"tabular\\\\\\\\\\\\\\\", \\\\\\\\\\\\\\\"subscriptionId\\\\\\\\\\\\\\\": \\\\\\\\\\\\\\\"f9d5a085-54dc-4215-9ba6-dad5d86e60a0\\\\\\\\\\\\\\\", \\\\\\\\\\\\\\\"workspaceId\\\\\\\\\\\\\\\": \\\\\\\\\\\\\\\"d41cae32-ecb0-4449-9de2-98131b62b2e9\\\\\\\\\\\\\\\", \\\\\\\\\\\\\\\"workspaceLocation\\\\\\\\\\\\\\\": \\\\\\\\\\\\\\\"southcentralus\\\\\\\\\\\\\\\"}}\\\\\\\", \\\\\\\"activities\\\\\\\": 0}\", \"EnableSubsampling\": null, \"runTemplate\": \"AutoML\", \"azureml.runsource\": \"automl\", \"display_task_type\": \"classification\", \"dependencies_versions\": \"{\\\"azureml-widgets\\\": \\\"1.20.0\\\", \\\"azureml-train\\\": \\\"1.20.0\\\", \\\"azureml-train-restclients-hyperdrive\\\": \\\"1.20.0\\\", \\\"azureml-train-core\\\": \\\"1.20.0\\\", \\\"azureml-train-automl\\\": \\\"1.20.0\\\", \\\"azureml-train-automl-runtime\\\": \\\"1.20.0\\\", \\\"azureml-train-automl-client\\\": \\\"1.20.0\\\", \\\"azureml-tensorboard\\\": \\\"1.20.0\\\", \\\"azureml-telemetry\\\": \\\"1.20.0\\\", \\\"azureml-sdk\\\": \\\"1.20.0\\\", \\\"azureml-samples\\\": \\\"0+unknown\\\", \\\"azureml-pipeline\\\": \\\"1.20.0\\\", \\\"azureml-pipeline-steps\\\": \\\"1.20.0\\\", \\\"azureml-pipeline-core\\\": \\\"1.20.0\\\", \\\"azureml-opendatasets\\\": \\\"1.20.0\\\", \\\"azureml-model-management-sdk\\\": \\\"1.0.1b6.post1\\\", \\\"azureml-mlflow\\\": \\\"1.20.0.post1\\\", \\\"azureml-interpret\\\": \\\"1.20.0\\\", \\\"azureml-explain-model\\\": \\\"1.20.0\\\", \\\"azureml-defaults\\\": \\\"1.20.0\\\", \\\"azureml-dataset-runtime\\\": \\\"1.20.0\\\", \\\"azureml-dataprep\\\": \\\"2.7.3\\\", \\\"azureml-dataprep-rslex\\\": \\\"1.5.0\\\", \\\"azureml-dataprep-native\\\": \\\"27.0.0\\\", \\\"azureml-datadrift\\\": \\\"1.20.0\\\", \\\"azureml-core\\\": \\\"1.20.0\\\", \\\"azureml-contrib-services\\\": \\\"1.20.0\\\", \\\"azureml-contrib-server\\\": \\\"1.20.0\\\", \\\"azureml-contrib-reinforcementlearning\\\": \\\"1.20.0\\\", \\\"azureml-contrib-pipeline-steps\\\": \\\"1.20.0\\\", \\\"azureml-contrib-notebook\\\": \\\"1.20.0\\\", \\\"azureml-contrib-interpret\\\": \\\"1.20.0\\\", \\\"azureml-contrib-gbdt\\\": \\\"1.20.0\\\", \\\"azureml-contrib-fairness\\\": \\\"1.20.0\\\", \\\"azureml-contrib-dataset\\\": \\\"1.20.0\\\", \\\"azureml-cli-common\\\": \\\"1.20.0\\\", \\\"azureml-automl-runtime\\\": \\\"1.20.0\\\", \\\"azureml-automl-core\\\": \\\"1.20.0\\\", \\\"azureml-accel-models\\\": \\\"1.20.0\\\"}\", \"_aml_system_scenario_identification\": \"Remote.Parent\", \"ClientType\": \"SDK\", \"environment_cpu_name\": \"AzureML-AutoML\", \"environment_cpu_label\": \"prod\", \"environment_gpu_name\": \"AzureML-AutoML-GPU\", \"environment_gpu_label\": \"prod\", \"root_attribution\": \"automl\", \"attribution\": \"AutoML\", \"Orchestrator\": \"AutoML\", \"CancelUri\": \"https://southcentralus.experiments.azureml.net/jasmine/v1.0/subscriptions/f9d5a085-54dc-4215-9ba6-dad5d86e60a0/resourceGroups/aml-quickstarts-139015/providers/Microsoft.MachineLearningServices/workspaces/quick-starts-ws-139015/experimentids/71dfa162-c30d-4cf8-825c-38e9dcba95ab/cancel/AutoML_664193cb-b6c8-4931-8be5-b39bb8fc5856\", \"ClientSdkVersion\": \"1.21.0\", \"snapshotId\": \"00000000-0000-0000-0000-000000000000\", \"SetupRunId\": \"AutoML_664193cb-b6c8-4931-8be5-b39bb8fc5856_setup\", \"SetupRunContainerId\": \"dcid.AutoML_664193cb-b6c8-4931-8be5-b39bb8fc5856_setup\", \"FeaturizationRunJsonPath\": \"featurizer_container.json\", \"FeaturizationRunId\": \"AutoML_664193cb-b6c8-4931-8be5-b39bb8fc5856_featurize\", \"ProblemInfoJsonString\": \"{\\\"dataset_num_categorical\\\": 0, \\\"is_sparse\\\": false, \\\"subsampling\\\": false, \\\"dataset_classes\\\": 2, \\\"dataset_features\\\": 5, \\\"dataset_samples\\\": 569, \\\"single_frequency_class_detected\\\": false}\", \"ModelExplainRunId\": \"AutoML_664193cb-b6c8-4931-8be5-b39bb8fc5856_ModelExplain\"}, \"tags\": {\"model_explain_run\": \"best_run\", \"_aml_system_azureml.automlComponent\": \"AutoML\", \"pipeline_id\": \"\", \"score\": \"\", \"predicted_cost\": \"\", \"fit_time\": \"\", \"training_percent\": \"\", \"iteration\": \"\", \"run_preprocessor\": \"\", \"run_algorithm\": \"\", \"dynamic_whitelisting_iterations\": \"<25>;<30>;<35>;\", \"automl_best_child_run_id\": \"AutoML_664193cb-b6c8-4931-8be5-b39bb8fc5856_36\"}, \"end_time_utc\": \"2021-02-16T12:20:22.909105Z\", \"status\": \"Completed\", \"log_files\": {}, \"log_groups\": [], \"run_duration\": \"0:18:26\"}, \"child_runs\": [{\"run_id\": \"AutoML_664193cb-b6c8-4931-8be5-b39bb8fc5856_0\", \"run_number\": 5, \"metric\": null, \"status\": \"Completed\", \"run_type\": \"azureml.scriptrun\", \"training_percent\": \"100\", \"start_time\": \"2021-02-16T12:07:42.488586Z\", \"end_time\": \"2021-02-16T12:09:53.395136Z\", \"created_time\": \"2021-02-16T12:05:37.895512Z\", \"created_time_dt\": \"2021-02-16T12:05:37.895512Z\", \"duration\": \"0:04:15\", \"iteration\": \"0\", \"goal\": \"accuracy_max\", \"run_name\": \"MaxAbsScaler, LightGBM\", \"run_properties\": \"copy=True\", \"primary_metric\": 0.92437343, \"best_metric\": 0.92437343}, {\"run_id\": \"AutoML_664193cb-b6c8-4931-8be5-b39bb8fc5856_3\", \"run_number\": 6, \"metric\": null, \"status\": \"Completed\", \"run_type\": \"azureml.scriptrun\", \"training_percent\": \"100\", \"start_time\": \"2021-02-16T12:07:40.457094Z\", \"end_time\": \"2021-02-16T12:09:41.275737Z\", \"created_time\": \"2021-02-16T12:05:38.013838Z\", \"created_time_dt\": \"2021-02-16T12:05:38.013838Z\", \"duration\": \"0:04:03\", \"iteration\": \"3\", \"goal\": \"accuracy_max\", \"run_name\": \"MinMaxScaler, RandomForest\", \"run_properties\": \"copy=True, feature_range=(0, 1\", \"primary_metric\": 0.91024436, \"best_metric\": 0.93493108}, {\"run_id\": \"AutoML_664193cb-b6c8-4931-8be5-b39bb8fc5856_1\", \"run_number\": 7, \"metric\": null, \"status\": \"Completed\", \"run_type\": \"azureml.scriptrun\", \"training_percent\": \"100\", \"start_time\": \"2021-02-16T12:05:49.944448Z\", \"end_time\": \"2021-02-16T12:06:43.536288Z\", \"created_time\": \"2021-02-16T12:05:38.022518Z\", \"created_time_dt\": \"2021-02-16T12:05:38.022518Z\", \"duration\": \"0:01:05\", \"iteration\": \"1\", \"goal\": \"accuracy_max\", \"run_name\": \"MaxAbsScaler, XGBoostClassifier\", \"run_properties\": \"copy=True\", \"primary_metric\": 0.93493108, \"best_metric\": 0.93493108}, {\"run_id\": \"AutoML_664193cb-b6c8-4931-8be5-b39bb8fc5856_2\", \"run_number\": 8, \"metric\": null, \"status\": \"Completed\", \"run_type\": \"azureml.scriptrun\", \"training_percent\": \"100\", \"start_time\": \"2021-02-16T12:06:50.328016Z\", \"end_time\": \"2021-02-16T12:07:46.502149Z\", \"created_time\": \"2021-02-16T12:05:38.043512Z\", \"created_time_dt\": \"2021-02-16T12:05:38.043512Z\", \"duration\": \"0:02:08\", \"iteration\": \"2\", \"goal\": \"accuracy_max\", \"run_name\": \"MinMaxScaler, RandomForest\", \"run_properties\": \"copy=True, feature_range=(0, 1\", \"primary_metric\": 0.90673559, \"best_metric\": 0.93493108}, {\"run_id\": \"AutoML_664193cb-b6c8-4931-8be5-b39bb8fc5856_4\", \"run_number\": 9, \"metric\": null, \"status\": \"Completed\", \"run_type\": \"azureml.scriptrun\", \"training_percent\": \"100\", \"start_time\": \"2021-02-16T12:07:44.111433Z\", \"end_time\": \"2021-02-16T12:10:00.981464Z\", \"created_time\": \"2021-02-16T12:06:45.130289Z\", \"created_time_dt\": \"2021-02-16T12:06:45.130289Z\", \"duration\": \"0:03:15\", \"iteration\": \"4\", \"goal\": \"accuracy_max\", \"run_name\": \"MinMaxScaler, RandomForest\", \"run_properties\": \"copy=True, feature_range=(0, 1\", \"primary_metric\": 0.92255639, \"best_metric\": 0.93493108}, {\"run_id\": \"AutoML_664193cb-b6c8-4931-8be5-b39bb8fc5856_5\", \"run_number\": 10, \"metric\": null, \"status\": \"Completed\", \"run_type\": \"azureml.scriptrun\", \"training_percent\": \"100\", \"start_time\": \"2021-02-16T12:08:03.191164Z\", \"end_time\": \"2021-02-16T12:08:59.464208Z\", \"created_time\": \"2021-02-16T12:07:49.640318Z\", \"created_time_dt\": \"2021-02-16T12:07:49.640318Z\", \"duration\": \"0:01:09\", \"iteration\": \"5\", \"goal\": \"accuracy_max\", \"run_name\": \"SparseNormalizer, XGBoostClassifier\", \"run_properties\": \"<azureml.automl.runtime.shared.model_wrappers.SparseNormalizer object at 0x7f59cd0f2518\", \"primary_metric\": 0.93840852, \"best_metric\": 0.93840852}, {\"run_id\": \"AutoML_664193cb-b6c8-4931-8be5-b39bb8fc5856_6\", \"run_number\": 11, \"metric\": null, \"status\": \"Completed\", \"run_type\": \"azureml.scriptrun\", \"training_percent\": \"100\", \"start_time\": \"2021-02-16T12:09:15.129609Z\", \"end_time\": \"2021-02-16T12:10:09.588959Z\", \"created_time\": \"2021-02-16T12:09:02.838104Z\", \"created_time_dt\": \"2021-02-16T12:09:02.838104Z\", \"duration\": \"0:01:06\", \"iteration\": \"6\", \"goal\": \"accuracy_max\", \"run_name\": \"RobustScaler, SVM\", \"run_properties\": \"copy=True, quantile_range=[10, 90], with_centering=True,\\n             with_scaling=True\", \"primary_metric\": 0.92086466, \"best_metric\": 0.93840852}, {\"run_id\": \"AutoML_664193cb-b6c8-4931-8be5-b39bb8fc5856_7\", \"run_number\": 12, \"metric\": null, \"status\": \"Completed\", \"run_type\": \"azureml.scriptrun\", \"training_percent\": \"100\", \"start_time\": \"2021-02-16T12:09:57.141339Z\", \"end_time\": \"2021-02-16T12:10:51.461327Z\", \"created_time\": \"2021-02-16T12:09:44.848451Z\", \"created_time_dt\": \"2021-02-16T12:09:44.848451Z\", \"duration\": \"0:01:06\", \"iteration\": \"7\", \"goal\": \"accuracy_max\", \"run_name\": \"MinMaxScaler, SVM\", \"run_properties\": \"copy=True, feature_range=(0, 1\", \"primary_metric\": 0.92077068, \"best_metric\": 0.93840852}, {\"run_id\": \"AutoML_664193cb-b6c8-4931-8be5-b39bb8fc5856_8\", \"run_number\": 13, \"metric\": null, \"status\": \"Completed\", \"run_type\": \"azureml.scriptrun\", \"training_percent\": \"100\", \"start_time\": \"2021-02-16T12:10:07.784289Z\", \"end_time\": \"2021-02-16T12:11:05.681891Z\", \"created_time\": \"2021-02-16T12:09:55.588131Z\", \"created_time_dt\": \"2021-02-16T12:09:55.588131Z\", \"duration\": \"0:01:10\", \"iteration\": \"8\", \"goal\": \"accuracy_max\", \"run_name\": \"StandardScalerWrapper, LogisticRegression\", \"run_properties\": \"<azureml.automl.runtime.shared.model_wrappers.StandardScalerWrapper object at 0x7fd5b41c5dd8\", \"primary_metric\": 0.92612782, \"best_metric\": 0.93840852}, {\"run_id\": \"AutoML_664193cb-b6c8-4931-8be5-b39bb8fc5856_9\", \"run_number\": 14, \"metric\": null, \"status\": \"Completed\", \"run_type\": \"azureml.scriptrun\", \"training_percent\": \"100\", \"start_time\": \"2021-02-16T12:10:15.625936Z\", \"end_time\": \"2021-02-16T12:11:04.729694Z\", \"created_time\": \"2021-02-16T12:10:03.213733Z\", \"created_time_dt\": \"2021-02-16T12:10:03.213733Z\", \"duration\": \"0:01:01\", \"iteration\": \"9\", \"goal\": \"accuracy_max\", \"run_name\": \"SparseNormalizer, LightGBM\", \"run_properties\": \"<azureml.automl.runtime.shared.model_wrappers.SparseNormalizer object at 0x7f98701f1d30\", \"primary_metric\": 0.90147243, \"best_metric\": 0.93840852}, {\"run_id\": \"AutoML_664193cb-b6c8-4931-8be5-b39bb8fc5856_10\", \"run_number\": 15, \"metric\": null, \"status\": \"Completed\", \"run_type\": \"azureml.scriptrun\", \"training_percent\": \"100\", \"start_time\": \"2021-02-16T12:10:25.71212Z\", \"end_time\": \"2021-02-16T12:11:17.882192Z\", \"created_time\": \"2021-02-16T12:10:12.399827Z\", \"created_time_dt\": \"2021-02-16T12:10:12.399827Z\", \"duration\": \"0:01:05\", \"iteration\": \"10\", \"goal\": \"accuracy_max\", \"run_name\": \"SparseNormalizer, XGBoostClassifier\", \"run_properties\": \"<azureml.automl.runtime.shared.model_wrappers.SparseNormalizer object at 0x7fc0292a44a8\", \"primary_metric\": 0.92434211, \"best_metric\": 0.93840852}, {\"run_id\": \"AutoML_664193cb-b6c8-4931-8be5-b39bb8fc5856_11\", \"run_number\": 16, \"metric\": null, \"status\": \"Completed\", \"run_type\": \"azureml.scriptrun\", \"training_percent\": \"100\", \"start_time\": \"2021-02-16T12:11:05.596981Z\", \"end_time\": \"2021-02-16T12:11:54.398191Z\", \"created_time\": \"2021-02-16T12:10:53.289646Z\", \"created_time_dt\": \"2021-02-16T12:10:53.289646Z\", \"duration\": \"0:01:01\", \"iteration\": \"11\", \"goal\": \"accuracy_max\", \"run_name\": \"SparseNormalizer, XGBoostClassifier\", \"run_properties\": \"<azureml.automl.runtime.shared.model_wrappers.SparseNormalizer object at 0x7f707c125c88\", \"primary_metric\": 0.92261905, \"best_metric\": 0.93840852}, {\"run_id\": \"AutoML_664193cb-b6c8-4931-8be5-b39bb8fc5856_12\", \"run_number\": 17, \"metric\": null, \"status\": \"Completed\", \"run_type\": \"azureml.scriptrun\", \"training_percent\": \"100\", \"start_time\": \"2021-02-16T12:11:19.143188Z\", \"end_time\": \"2021-02-16T12:12:09.98188Z\", \"created_time\": \"2021-02-16T12:11:06.772123Z\", \"created_time_dt\": \"2021-02-16T12:11:06.772123Z\", \"duration\": \"0:01:03\", \"iteration\": \"12\", \"goal\": \"accuracy_max\", \"run_name\": \"MaxAbsScaler, LightGBM\", \"run_properties\": \"copy=True\", \"primary_metric\": 0.91199875, \"best_metric\": 0.93840852}, {\"run_id\": \"AutoML_664193cb-b6c8-4931-8be5-b39bb8fc5856_13\", \"run_number\": 18, \"metric\": null, \"status\": \"Completed\", \"run_type\": \"azureml.scriptrun\", \"training_percent\": \"100\", \"start_time\": \"2021-02-16T12:11:27.558676Z\", \"end_time\": \"2021-02-16T12:12:19.342448Z\", \"created_time\": \"2021-02-16T12:11:13.248324Z\", \"created_time_dt\": \"2021-02-16T12:11:13.248324Z\", \"duration\": \"0:01:06\", \"iteration\": \"13\", \"goal\": \"accuracy_max\", \"run_name\": \"StandardScalerWrapper, LightGBM\", \"run_properties\": \"<azureml.automl.runtime.shared.model_wrappers.StandardScalerWrapper object at 0x7fbc1508fa90\", \"primary_metric\": 0.91199875, \"best_metric\": 0.93840852}, {\"run_id\": \"AutoML_664193cb-b6c8-4931-8be5-b39bb8fc5856_14\", \"run_number\": 19, \"metric\": null, \"status\": \"Completed\", \"run_type\": \"azureml.scriptrun\", \"training_percent\": \"100\", \"start_time\": \"2021-02-16T12:11:35.829437Z\", \"end_time\": \"2021-02-16T12:12:33.833462Z\", \"created_time\": \"2021-02-16T12:11:20.687906Z\", \"created_time_dt\": \"2021-02-16T12:11:20.687906Z\", \"duration\": \"0:01:13\", \"iteration\": \"14\", \"goal\": \"accuracy_max\", \"run_name\": \"StandardScalerWrapper, LightGBM\", \"run_properties\": \"<azureml.automl.runtime.shared.model_wrappers.StandardScalerWrapper object at 0x7fc05ed7e8d0\", \"primary_metric\": 0.93665414, \"best_metric\": 0.93840852}, {\"run_id\": \"AutoML_664193cb-b6c8-4931-8be5-b39bb8fc5856_15\", \"run_number\": 20, \"metric\": null, \"status\": \"Completed\", \"run_type\": \"azureml.scriptrun\", \"training_percent\": \"100\", \"start_time\": \"2021-02-16T12:12:11.44506Z\", \"end_time\": \"2021-02-16T12:12:57.757257Z\", \"created_time\": \"2021-02-16T12:11:57.823493Z\", \"created_time_dt\": \"2021-02-16T12:11:57.823493Z\", \"duration\": \"0:00:59\", \"iteration\": \"15\", \"goal\": \"accuracy_max\", \"run_name\": \"MaxAbsScaler, LightGBM\", \"run_properties\": \"copy=True\", \"primary_metric\": 0.91027569, \"best_metric\": 0.93840852}, {\"run_id\": \"AutoML_664193cb-b6c8-4931-8be5-b39bb8fc5856_16\", \"run_number\": 21, \"metric\": null, \"status\": \"Completed\", \"run_type\": \"azureml.scriptrun\", \"training_percent\": \"100\", \"start_time\": \"2021-02-16T12:12:26.275899Z\", \"end_time\": \"2021-02-16T12:13:21.609294Z\", \"created_time\": \"2021-02-16T12:12:13.210705Z\", \"created_time_dt\": \"2021-02-16T12:12:13.210705Z\", \"duration\": \"0:01:08\", \"iteration\": \"16\", \"goal\": \"accuracy_max\", \"run_name\": \"StandardScalerWrapper, RandomForest\", \"run_properties\": \"<azureml.automl.runtime.shared.model_wrappers.StandardScalerWrapper object at 0x7fd0400c95c0\", \"primary_metric\": 0.92434211, \"best_metric\": 0.93840852}, {\"run_id\": \"AutoML_664193cb-b6c8-4931-8be5-b39bb8fc5856_17\", \"run_number\": 22, \"metric\": null, \"status\": \"Completed\", \"run_type\": \"azureml.scriptrun\", \"training_percent\": \"100\", \"start_time\": \"2021-02-16T12:12:33.701707Z\", \"end_time\": \"2021-02-16T12:13:26.384982Z\", \"created_time\": \"2021-02-16T12:12:21.522369Z\", \"created_time_dt\": \"2021-02-16T12:12:21.522369Z\", \"duration\": \"0:01:04\", \"iteration\": \"17\", \"goal\": \"accuracy_max\", \"run_name\": \"StandardScalerWrapper, LightGBM\", \"run_properties\": \"<azureml.automl.runtime.shared.model_wrappers.StandardScalerWrapper object at 0x7fd7a3ca4f28\", \"primary_metric\": 0.93139098, \"best_metric\": 0.93840852}, {\"run_id\": \"AutoML_664193cb-b6c8-4931-8be5-b39bb8fc5856_18\", \"run_number\": 23, \"metric\": null, \"status\": \"Completed\", \"run_type\": \"azureml.scriptrun\", \"training_percent\": \"100\", \"start_time\": \"2021-02-16T12:12:49.484506Z\", \"end_time\": \"2021-02-16T12:13:40.233658Z\", \"created_time\": \"2021-02-16T12:12:37.715242Z\", \"created_time_dt\": \"2021-02-16T12:12:37.715242Z\", \"duration\": \"0:01:02\", \"iteration\": \"18\", \"goal\": \"accuracy_max\", \"run_name\": \"SparseNormalizer, XGBoostClassifier\", \"run_properties\": \"<azureml.automl.runtime.shared.model_wrappers.SparseNormalizer object at 0x7fdaf80367f0\", \"primary_metric\": 0.91378446, \"best_metric\": 0.93840852}, {\"run_id\": \"AutoML_664193cb-b6c8-4931-8be5-b39bb8fc5856_19\", \"run_number\": 24, \"metric\": null, \"status\": \"Completed\", \"run_type\": \"azureml.scriptrun\", \"training_percent\": \"100\", \"start_time\": \"2021-02-16T12:13:11.812087Z\", \"end_time\": \"2021-02-16T12:14:05.102025Z\", \"created_time\": \"2021-02-16T12:13:00.807583Z\", \"created_time_dt\": \"2021-02-16T12:13:00.807583Z\", \"duration\": \"0:01:04\", \"iteration\": \"19\", \"goal\": \"accuracy_max\", \"run_name\": \"RobustScaler, LightGBM\", \"run_properties\": \"copy=True, quantile_range=[25, 75], with_centering=False,\\n             with_scaling=False\", \"primary_metric\": 0.91203008, \"best_metric\": 0.93840852}, {\"run_id\": \"AutoML_664193cb-b6c8-4931-8be5-b39bb8fc5856_20\", \"run_number\": 25, \"metric\": null, \"status\": \"Completed\", \"run_type\": \"azureml.scriptrun\", \"training_percent\": \"100\", \"start_time\": \"2021-02-16T12:13:36.942249Z\", \"end_time\": \"2021-02-16T12:14:32.672003Z\", \"created_time\": \"2021-02-16T12:13:23.933761Z\", \"created_time_dt\": \"2021-02-16T12:13:23.933761Z\", \"duration\": \"0:01:08\", \"iteration\": \"20\", \"goal\": \"accuracy_max\", \"run_name\": \"SparseNormalizer, XGBoostClassifier\", \"run_properties\": \"<azureml.automl.runtime.shared.model_wrappers.SparseNormalizer object at 0x7f22a00547b8\", \"primary_metric\": 0.92788221, \"best_metric\": 0.93840852}, {\"run_id\": \"AutoML_664193cb-b6c8-4931-8be5-b39bb8fc5856_21\", \"run_number\": 26, \"metric\": null, \"status\": \"Completed\", \"run_type\": \"azureml.scriptrun\", \"training_percent\": \"100\", \"start_time\": \"2021-02-16T12:13:43.397825Z\", \"end_time\": \"2021-02-16T12:14:38.425285Z\", \"created_time\": \"2021-02-16T12:13:29.877309Z\", \"created_time_dt\": \"2021-02-16T12:13:29.877309Z\", \"duration\": \"0:01:08\", \"iteration\": \"21\", \"goal\": \"accuracy_max\", \"run_name\": \"StandardScalerWrapper, LightGBM\", \"run_properties\": \"<azureml.automl.runtime.shared.model_wrappers.StandardScalerWrapper object at 0x7fee14025b38\", \"primary_metric\": 0.91907895, \"best_metric\": 0.93840852}, {\"run_id\": \"AutoML_664193cb-b6c8-4931-8be5-b39bb8fc5856_22\", \"run_number\": 27, \"metric\": null, \"status\": \"Completed\", \"run_type\": \"azureml.scriptrun\", \"training_percent\": \"100\", \"start_time\": \"2021-02-16T12:13:54.879466Z\", \"end_time\": \"2021-02-16T12:14:49.620615Z\", \"created_time\": \"2021-02-16T12:13:42.067121Z\", \"created_time_dt\": \"2021-02-16T12:13:42.067121Z\", \"duration\": \"0:01:07\", \"iteration\": \"22\", \"goal\": \"accuracy_max\", \"run_name\": \"SparseNormalizer, LightGBM\", \"run_properties\": \"<azureml.automl.runtime.shared.model_wrappers.SparseNormalizer object at 0x7ff068d07e48\", \"primary_metric\": 0.91557018, \"best_metric\": 0.93840852}, {\"run_id\": \"AutoML_664193cb-b6c8-4931-8be5-b39bb8fc5856_23\", \"run_number\": 28, \"metric\": null, \"status\": \"Completed\", \"run_type\": \"azureml.scriptrun\", \"training_percent\": \"100\", \"start_time\": \"2021-02-16T12:14:16.860551Z\", \"end_time\": \"2021-02-16T12:15:07.734796Z\", \"created_time\": \"2021-02-16T12:14:07.044737Z\", \"created_time_dt\": \"2021-02-16T12:14:07.044737Z\", \"duration\": \"0:01:00\", \"iteration\": \"23\", \"goal\": \"accuracy_max\", \"run_name\": \"StandardScalerWrapper, LightGBM\", \"run_properties\": \"<azureml.automl.runtime.shared.model_wrappers.StandardScalerWrapper object at 0x7f1704591518\", \"primary_metric\": 0.91904762, \"best_metric\": 0.93840852}, {\"run_id\": \"AutoML_664193cb-b6c8-4931-8be5-b39bb8fc5856_24\", \"run_number\": 29, \"metric\": null, \"status\": \"Completed\", \"run_type\": \"azureml.scriptrun\", \"training_percent\": \"100\", \"start_time\": \"2021-02-16T12:14:46.377494Z\", \"end_time\": \"2021-02-16T12:15:35.55098Z\", \"created_time\": \"2021-02-16T12:14:34.429636Z\", \"created_time_dt\": \"2021-02-16T12:14:34.429636Z\", \"duration\": \"0:01:01\", \"iteration\": \"24\", \"goal\": \"accuracy_max\", \"run_name\": \"SparseNormalizer, XGBoostClassifier\", \"run_properties\": \"<azureml.automl.runtime.shared.model_wrappers.SparseNormalizer object at 0x7f7938517400\", \"primary_metric\": 0.91904762, \"best_metric\": 0.93840852}, {\"run_id\": \"AutoML_664193cb-b6c8-4931-8be5-b39bb8fc5856_25\", \"run_number\": 30, \"metric\": null, \"status\": \"Completed\", \"run_type\": \"azureml.scriptrun\", \"training_percent\": \"100\", \"start_time\": \"2021-02-16T12:14:53.341768Z\", \"end_time\": \"2021-02-16T12:15:44.029605Z\", \"created_time\": \"2021-02-16T12:14:41.386172Z\", \"created_time_dt\": \"2021-02-16T12:14:41.386172Z\", \"duration\": \"0:01:02\", \"iteration\": \"25\", \"goal\": \"accuracy_max\", \"run_name\": \"SparseNormalizer, XGBoostClassifier\", \"run_properties\": \"<azureml.automl.runtime.shared.model_wrappers.SparseNormalizer object at 0x7f8a28c04be0\", \"primary_metric\": 0.62734962, \"best_metric\": 0.93840852}, {\"run_id\": \"AutoML_664193cb-b6c8-4931-8be5-b39bb8fc5856_26\", \"run_number\": 31, \"metric\": null, \"status\": \"Completed\", \"run_type\": \"azureml.scriptrun\", \"training_percent\": \"100\", \"start_time\": \"2021-02-16T12:15:02.410421Z\", \"end_time\": \"2021-02-16T12:15:53.215213Z\", \"created_time\": \"2021-02-16T12:14:51.35374Z\", \"created_time_dt\": \"2021-02-16T12:14:51.35374Z\", \"duration\": \"0:01:01\", \"iteration\": \"26\", \"goal\": \"accuracy_max\", \"run_name\": \"MaxAbsScaler, RandomForest\", \"run_properties\": \"copy=True\", \"primary_metric\": 0.91203008, \"best_metric\": 0.93840852}, {\"run_id\": \"AutoML_664193cb-b6c8-4931-8be5-b39bb8fc5856_27\", \"run_number\": 32, \"metric\": null, \"status\": \"Completed\", \"run_type\": \"azureml.scriptrun\", \"training_percent\": \"100\", \"start_time\": \"2021-02-16T12:15:21.863395Z\", \"end_time\": \"2021-02-16T12:16:23.001432Z\", \"created_time\": \"2021-02-16T12:15:09.652039Z\", \"created_time_dt\": \"2021-02-16T12:15:09.652039Z\", \"duration\": \"0:01:13\", \"iteration\": \"27\", \"goal\": \"accuracy_max\", \"run_name\": \"SparseNormalizer, ExtremeRandomTrees\", \"run_properties\": \"<azureml.automl.runtime.shared.model_wrappers.SparseNormalizer object at 0x7f4d30736710\", \"primary_metric\": 0.89445489, \"best_metric\": 0.93840852}, {\"run_id\": \"AutoML_664193cb-b6c8-4931-8be5-b39bb8fc5856_28\", \"run_number\": 33, \"metric\": null, \"status\": \"Completed\", \"run_type\": \"azureml.scriptrun\", \"training_percent\": \"100\", \"start_time\": \"2021-02-16T12:15:48.152274Z\", \"end_time\": \"2021-02-16T12:16:41.639115Z\", \"created_time\": \"2021-02-16T12:15:37.595006Z\", \"created_time_dt\": \"2021-02-16T12:15:37.595006Z\", \"duration\": \"0:01:04\", \"iteration\": \"28\", \"goal\": \"accuracy_max\", \"run_name\": \"SparseNormalizer, ExtremeRandomTrees\", \"run_properties\": \"<azureml.automl.runtime.shared.model_wrappers.SparseNormalizer object at 0x7f3d48835978\", \"primary_metric\": 0.87161654, \"best_metric\": 0.93840852}, {\"run_id\": \"AutoML_664193cb-b6c8-4931-8be5-b39bb8fc5856_29\", \"run_number\": 34, \"metric\": null, \"status\": \"Completed\", \"run_type\": \"azureml.scriptrun\", \"training_percent\": \"100\", \"start_time\": \"2021-02-16T12:15:57.972758Z\", \"end_time\": \"2021-02-16T12:16:49.909529Z\", \"created_time\": \"2021-02-16T12:15:47.122272Z\", \"created_time_dt\": \"2021-02-16T12:15:47.122272Z\", \"duration\": \"0:01:02\", \"iteration\": \"29\", \"goal\": \"accuracy_max\", \"run_name\": \"SparseNormalizer, RandomForest\", \"run_properties\": \"<azureml.automl.runtime.shared.model_wrappers.SparseNormalizer object at 0x7fafe265b6a0\", \"primary_metric\": 0.91550752, \"best_metric\": 0.93840852}, {\"run_id\": \"AutoML_664193cb-b6c8-4931-8be5-b39bb8fc5856_30\", \"run_number\": 35, \"metric\": null, \"status\": \"Completed\", \"run_type\": \"azureml.scriptrun\", \"training_percent\": \"100\", \"start_time\": \"2021-02-16T12:16:08.104104Z\", \"end_time\": \"2021-02-16T12:17:04.716117Z\", \"created_time\": \"2021-02-16T12:15:56.903431Z\", \"created_time_dt\": \"2021-02-16T12:15:56.903431Z\", \"duration\": \"0:01:07\", \"iteration\": \"30\", \"goal\": \"accuracy_max\", \"run_name\": \"SparseNormalizer, XGBoostClassifier\", \"run_properties\": \"<azureml.automl.runtime.shared.model_wrappers.SparseNormalizer object at 0x7fd0d5930898\", \"primary_metric\": 0.91021303, \"best_metric\": 0.93840852}, {\"run_id\": \"AutoML_664193cb-b6c8-4931-8be5-b39bb8fc5856_31\", \"run_number\": 36, \"metric\": null, \"status\": \"Completed\", \"run_type\": \"azureml.scriptrun\", \"training_percent\": \"100\", \"start_time\": \"2021-02-16T12:16:35.405259Z\", \"end_time\": \"2021-02-16T12:17:25.807973Z\", \"created_time\": \"2021-02-16T12:16:24.773412Z\", \"created_time_dt\": \"2021-02-16T12:16:24.773412Z\", \"duration\": \"0:01:01\", \"iteration\": \"31\", \"goal\": \"accuracy_max\", \"run_name\": \"SparseNormalizer, XGBoostClassifier\", \"run_properties\": \"<azureml.automl.runtime.shared.model_wrappers.SparseNormalizer object at 0x7fcdf89f1e48\", \"primary_metric\": 0.8962406, \"best_metric\": 0.93840852}, {\"run_id\": \"AutoML_664193cb-b6c8-4931-8be5-b39bb8fc5856_32\", \"run_number\": 37, \"metric\": null, \"status\": \"Completed\", \"run_type\": \"azureml.scriptrun\", \"training_percent\": \"100\", \"start_time\": \"2021-02-16T12:16:53.844986Z\", \"end_time\": \"2021-02-16T12:17:41.812108Z\", \"created_time\": \"2021-02-16T12:16:43.381803Z\", \"created_time_dt\": \"2021-02-16T12:16:43.381803Z\", \"duration\": \"0:00:58\", \"iteration\": \"32\", \"goal\": \"accuracy_max\", \"run_name\": \"SparseNormalizer, XGBoostClassifier\", \"run_properties\": \"<azureml.automl.runtime.shared.model_wrappers.SparseNormalizer object at 0x7f4c65ed85f8\", \"primary_metric\": 0.93314536, \"best_metric\": 0.93840852}, {\"run_id\": \"AutoML_664193cb-b6c8-4931-8be5-b39bb8fc5856_33\", \"run_number\": 38, \"metric\": null, \"status\": \"Canceled\", \"run_type\": \"azureml.scriptrun\", \"training_percent\": \"100\", \"start_time\": \"2021-02-16T12:17:04.515701Z\", \"end_time\": \"2021-02-16T12:17:50.547982Z\", \"created_time\": \"2021-02-16T12:16:51.655092Z\", \"created_time_dt\": \"2021-02-16T12:16:51.655092Z\", \"duration\": \"0:00:58\", \"iteration\": \"33\", \"goal\": \"accuracy_max\", \"run_name\": \"MinMaxScaler, LogisticRegression\", \"run_properties\": \"copy=True, feature_range=(0, 1\", \"primary_metric\": 0.92615915, \"best_metric\": 0.93840852}, {\"run_id\": \"AutoML_664193cb-b6c8-4931-8be5-b39bb8fc5856_34\", \"run_number\": 39, \"metric\": null, \"status\": \"Canceled\", \"run_type\": \"azureml.scriptrun\", \"training_percent\": \"100\", \"start_time\": \"2021-02-16T12:17:17.996458Z\", \"end_time\": \"2021-02-16T12:17:49.131956Z\", \"created_time\": \"2021-02-16T12:17:06.518488Z\", \"created_time_dt\": \"2021-02-16T12:17:06.518488Z\", \"duration\": \"0:00:42\", \"iteration\": \"34\", \"goal\": \"accuracy_max\", \"run_name\": \"StandardScalerWrapper, XGBoostClassifier\", \"run_properties\": \"<azureml.automl.runtime.shared.model_wrappers.StandardScalerWrapper object at 0x7f9f75cc4080\", \"primary_metric\": 0.9085213, \"best_metric\": 0.93840852}, {\"run_id\": \"AutoML_664193cb-b6c8-4931-8be5-b39bb8fc5856_35\", \"run_number\": 40, \"metric\": null, \"status\": \"Canceled\", \"run_type\": \"azureml.scriptrun\", \"training_percent\": \"100\", \"start_time\": \"2021-02-16T12:17:38.638782Z\", \"end_time\": \"2021-02-16T12:17:51.296567Z\", \"created_time\": \"2021-02-16T12:17:28.542999Z\", \"created_time_dt\": \"2021-02-16T12:17:28.542999Z\", \"duration\": \"0:00:22\", \"iteration\": \"35\", \"goal\": null, \"run_name\": \"Canceled\", \"run_properties\": null}, {\"run_id\": \"AutoML_664193cb-b6c8-4931-8be5-b39bb8fc5856_36\", \"run_number\": 41, \"metric\": null, \"status\": \"Completed\", \"run_type\": \"azureml.scriptrun\", \"training_percent\": \"100\", \"start_time\": \"2021-02-16T12:18:04.739994Z\", \"end_time\": \"2021-02-16T12:20:09.615142Z\", \"created_time\": \"2021-02-16T12:17:54.216604Z\", \"created_time_dt\": \"2021-02-16T12:17:54.216604Z\", \"duration\": \"0:02:15\", \"iteration\": \"36\", \"goal\": \"accuracy_max\", \"run_name\": \"VotingEnsemble\", \"run_properties\": \"classification_labels=None,\\n                              estimators=[('5',\\n                                           Pipeline(memory=None,\\n                                                    steps=[('sparsenormalizer',\\n                                                            <azureml.automl.runtime.shared.model_wrappers.SparseNormalizer object at 0x7fcc383ca4e0>\", \"primary_metric\": 0.94194862, \"best_metric\": 0.94194862}], \"children_metrics\": {\"categories\": [0], \"series\": {\"f1_score_macro\": [{\"categories\": [\"0\", \"1\", \"2\", \"3\", \"4\", \"5\", \"6\", \"7\", \"8\", \"9\", \"10\", \"11\", \"12\", \"13\", \"14\", \"15\", \"16\", \"17\", \"18\", \"19\", \"20\", \"21\", \"22\", \"23\", \"24\", \"25\", \"26\", \"27\", \"28\", \"29\", \"30\", \"31\", \"32\", \"33\", \"34\", \"36\"], \"mode\": \"markers\", \"name\": \"f1_score_macro\", \"stepped\": false, \"type\": \"scatter\", \"data\": [0.9171851072639103, 0.928675565063369, 0.8984221089690966, 0.9020026349030651, 0.9163640830694272, 0.9332326449482433, 0.9128155232821265, 0.9120566698421649, 0.9194531030229832, 0.892658932526252, 0.9169064203671177, 0.9159519252745902, 0.9032631187844828, 0.9036701902923159, 0.9312718182129963, 0.9015976833448324, 0.9183163816789909, 0.9247479719001866, 0.9058412026103054, 0.9035471678927511, 0.9206783688728555, 0.9120863959896888, 0.9078005271417672, 0.9118797041800348, 0.9104029014001151, 0.38483266157103707, 0.9049486408153017, 0.8859282958544134, 0.8611825670796402, 0.9080681633943979, 0.9011171241319704, 0.8834972193826255, 0.9273432561872902, 0.9209373329303521, 0.8997603603065315, 0.9365514229540526]}, {\"categories\": [\"0\", \"1\", \"2\", \"3\", \"4\", \"5\", \"6\", \"7\", \"8\", \"9\", \"10\", \"11\", \"12\", \"13\", \"14\", \"15\", \"16\", \"17\", \"18\", \"19\", \"20\", \"21\", \"22\", \"23\", \"24\", \"25\", \"26\", \"27\", \"28\", \"29\", \"30\", \"31\", \"32\", \"33\", \"34\", \"36\"], \"mode\": \"lines\", \"name\": \"f1_score_macro_max\", \"stepped\": true, \"type\": \"scatter\", \"data\": [0.9171851072639103, 0.928675565063369, 0.928675565063369, 0.928675565063369, 0.928675565063369, 0.9332326449482433, 0.9332326449482433, 0.9332326449482433, 0.9332326449482433, 0.9332326449482433, 0.9332326449482433, 0.9332326449482433, 0.9332326449482433, 0.9332326449482433, 0.9332326449482433, 0.9332326449482433, 0.9332326449482433, 0.9332326449482433, 0.9332326449482433, 0.9332326449482433, 0.9332326449482433, 0.9332326449482433, 0.9332326449482433, 0.9332326449482433, 0.9332326449482433, 0.9332326449482433, 0.9332326449482433, 0.9332326449482433, 0.9332326449482433, 0.9332326449482433, 0.9332326449482433, 0.9332326449482433, 0.9332326449482433, 0.9332326449482433, 0.9332326449482433, 0.9365514229540526]}], \"balanced_accuracy\": [{\"categories\": [\"0\", \"1\", \"2\", \"3\", \"4\", \"5\", \"6\", \"7\", \"8\", \"9\", \"10\", \"11\", \"12\", \"13\", \"14\", \"15\", \"16\", \"17\", \"18\", \"19\", \"20\", \"21\", \"22\", \"23\", \"24\", \"25\", \"26\", \"27\", \"28\", \"29\", \"30\", \"31\", \"32\", \"33\", \"34\", \"36\"], \"mode\": \"markers\", \"name\": \"balanced_accuracy\", \"stepped\": false, \"type\": \"scatter\", \"data\": [0.9182105951381587, 0.9286806778122797, 0.8947157040871504, 0.8962697581412045, 0.916076368225873, 0.929446501829457, 0.9105743965330074, 0.9057190757986051, 0.9210738893689774, 0.8919800296145943, 0.9122048036794735, 0.9159312936727103, 0.8971217174876918, 0.8978595832604412, 0.9285690812960263, 0.8954142594199765, 0.9143066487867907, 0.9239794815062241, 0.8997307657326467, 0.8969620677324908, 0.9196513416649397, 0.9080297504050329, 0.9026352562365247, 0.909322396427501, 0.9033107897154838, 0.5, 0.9079693576539544, 0.8884889621217316, 0.863516804711877, 0.9050913150621487, 0.8931603159524784, 0.8714872195658268, 0.9233268335075827, 0.9303521806937095, 0.8949827468797684, 0.932729486960268]}, {\"categories\": [\"0\", \"1\", \"2\", \"3\", \"4\", \"5\", \"6\", \"7\", \"8\", \"9\", \"10\", \"11\", \"12\", \"13\", \"14\", \"15\", \"16\", \"17\", \"18\", \"19\", \"20\", \"21\", \"22\", \"23\", \"24\", \"25\", \"26\", \"27\", \"28\", \"29\", \"30\", \"31\", \"32\", \"33\", \"34\", \"36\"], \"mode\": \"lines\", \"name\": \"balanced_accuracy_max\", \"stepped\": true, \"type\": \"scatter\", \"data\": [0.9182105951381587, 0.9286806778122797, 0.9286806778122797, 0.9286806778122797, 0.9286806778122797, 0.929446501829457, 0.929446501829457, 0.929446501829457, 0.929446501829457, 0.929446501829457, 0.929446501829457, 0.929446501829457, 0.929446501829457, 0.929446501829457, 0.929446501829457, 0.929446501829457, 0.929446501829457, 0.929446501829457, 0.929446501829457, 0.929446501829457, 0.929446501829457, 0.929446501829457, 0.929446501829457, 0.929446501829457, 0.929446501829457, 0.929446501829457, 0.929446501829457, 0.929446501829457, 0.929446501829457, 0.929446501829457, 0.929446501829457, 0.929446501829457, 0.929446501829457, 0.9303521806937095, 0.9303521806937095, 0.932729486960268]}], \"precision_score_micro\": [{\"categories\": [\"0\", \"1\", \"2\", \"3\", \"4\", \"5\", \"6\", \"7\", \"8\", \"9\", \"10\", \"11\", \"12\", \"13\", \"14\", \"15\", \"16\", \"17\", \"18\", \"19\", \"20\", \"21\", \"22\", \"23\", \"24\", \"25\", \"26\", \"27\", \"28\", \"29\", \"30\", \"31\", \"32\", \"33\", \"34\", \"36\"], \"mode\": \"markers\", \"name\": \"precision_score_micro\", \"stepped\": false, \"type\": \"scatter\", \"data\": [0.9243734335839597, 0.9349310776942357, 0.9067355889724309, 0.9102443609022555, 0.9225563909774437, 0.938408521303258, 0.9208646616541353, 0.9207706766917292, 0.9261278195488721, 0.9014724310776941, 0.9243421052631579, 0.9226190476190477, 0.9119987468671678, 0.9119987468671678, 0.9366541353383457, 0.9102756892230577, 0.9243421052631579, 0.9313909774436089, 0.9137844611528821, 0.9120300751879699, 0.9278822055137844, 0.9190789473684209, 0.9155701754385964, 0.919047619047619, 0.9190476190476191, 0.6273496240601505, 0.9120300751879699, 0.894454887218045, 0.8716165413533835, 0.9155075187969924, 0.9102130325814535, 0.8962406015037594, 0.9331453634085213, 0.9261591478696742, 0.9085213032581454, 0.9419486215538848]}, {\"categories\": [\"0\", \"1\", \"2\", \"3\", \"4\", \"5\", \"6\", \"7\", \"8\", \"9\", \"10\", \"11\", \"12\", \"13\", \"14\", \"15\", \"16\", \"17\", \"18\", \"19\", \"20\", \"21\", \"22\", \"23\", \"24\", \"25\", \"26\", \"27\", \"28\", \"29\", \"30\", \"31\", \"32\", \"33\", \"34\", \"36\"], \"mode\": \"lines\", \"name\": \"precision_score_micro_max\", \"stepped\": true, \"type\": \"scatter\", \"data\": [0.9243734335839597, 0.9349310776942357, 0.9349310776942357, 0.9349310776942357, 0.9349310776942357, 0.938408521303258, 0.938408521303258, 0.938408521303258, 0.938408521303258, 0.938408521303258, 0.938408521303258, 0.938408521303258, 0.938408521303258, 0.938408521303258, 0.938408521303258, 0.938408521303258, 0.938408521303258, 0.938408521303258, 0.938408521303258, 0.938408521303258, 0.938408521303258, 0.938408521303258, 0.938408521303258, 0.938408521303258, 0.938408521303258, 0.938408521303258, 0.938408521303258, 0.938408521303258, 0.938408521303258, 0.938408521303258, 0.938408521303258, 0.938408521303258, 0.938408521303258, 0.938408521303258, 0.938408521303258, 0.9419486215538848]}], \"f1_score_micro\": [{\"categories\": [\"0\", \"1\", \"2\", \"3\", \"4\", \"5\", \"6\", \"7\", \"8\", \"9\", \"10\", \"11\", \"12\", \"13\", \"14\", \"15\", \"16\", \"17\", \"18\", \"19\", \"20\", \"21\", \"22\", \"23\", \"24\", \"25\", \"26\", \"27\", \"28\", \"29\", \"30\", \"31\", \"32\", \"33\", \"34\", \"36\"], \"mode\": \"markers\", \"name\": \"f1_score_micro\", \"stepped\": false, \"type\": \"scatter\", \"data\": [0.9243734335839597, 0.9349310776942357, 0.9067355889724309, 0.9102443609022555, 0.9225563909774437, 0.938408521303258, 0.9208646616541353, 0.9207706766917292, 0.9261278195488721, 0.9014724310776941, 0.9243421052631579, 0.9226190476190477, 0.9119987468671678, 0.9119987468671678, 0.9366541353383457, 0.9102756892230577, 0.9243421052631579, 0.9313909774436089, 0.9137844611528821, 0.9120300751879699, 0.9278822055137844, 0.9190789473684209, 0.9155701754385964, 0.919047619047619, 0.9190476190476191, 0.6273496240601505, 0.9120300751879699, 0.894454887218045, 0.8716165413533835, 0.9155075187969924, 0.9102130325814535, 0.8962406015037594, 0.9331453634085213, 0.9261591478696742, 0.9085213032581454, 0.9419486215538848]}, {\"categories\": [\"0\", \"1\", \"2\", \"3\", \"4\", \"5\", \"6\", \"7\", \"8\", \"9\", \"10\", \"11\", \"12\", \"13\", \"14\", \"15\", \"16\", \"17\", \"18\", \"19\", \"20\", \"21\", \"22\", \"23\", \"24\", \"25\", \"26\", \"27\", \"28\", \"29\", \"30\", \"31\", \"32\", \"33\", \"34\", \"36\"], \"mode\": \"lines\", \"name\": \"f1_score_micro_max\", \"stepped\": true, \"type\": \"scatter\", \"data\": [0.9243734335839597, 0.9349310776942357, 0.9349310776942357, 0.9349310776942357, 0.9349310776942357, 0.938408521303258, 0.938408521303258, 0.938408521303258, 0.938408521303258, 0.938408521303258, 0.938408521303258, 0.938408521303258, 0.938408521303258, 0.938408521303258, 0.938408521303258, 0.938408521303258, 0.938408521303258, 0.938408521303258, 0.938408521303258, 0.938408521303258, 0.938408521303258, 0.938408521303258, 0.938408521303258, 0.938408521303258, 0.938408521303258, 0.938408521303258, 0.938408521303258, 0.938408521303258, 0.938408521303258, 0.938408521303258, 0.938408521303258, 0.938408521303258, 0.938408521303258, 0.938408521303258, 0.938408521303258, 0.9419486215538848]}], \"precision_score_macro\": [{\"categories\": [\"0\", \"1\", \"2\", \"3\", \"4\", \"5\", \"6\", \"7\", \"8\", \"9\", \"10\", \"11\", \"12\", \"13\", \"14\", \"15\", \"16\", \"17\", \"18\", \"19\", \"20\", \"21\", \"22\", \"23\", \"24\", \"25\", \"26\", \"27\", \"28\", \"29\", \"30\", \"31\", \"32\", \"33\", \"34\", \"36\"], \"mode\": \"markers\", \"name\": \"precision_score_macro\", \"stepped\": false, \"type\": \"scatter\", \"data\": [0.9192347941740525, 0.9313971529998291, 0.9108209504615481, 0.9149257327342658, 0.9212282105262318, 0.9405014522975014, 0.9196083358905597, 0.9250655188932646, 0.9247344479780624, 0.9002088867771452, 0.9259781746947848, 0.9214081398832425, 0.9182007741067968, 0.9163976454944283, 0.9393114219705406, 0.9165724239408451, 0.9269855602035278, 0.9290454920625967, 0.9170578406887129, 0.9164066771349514, 0.9278304779617675, 0.9224183975499767, 0.9195855518193692, 0.9211551584577901, 0.9230335909693832, 0.31367481203007525, 0.9064529150466021, 0.891191730046993, 0.8640308372282057, 0.9157872887888704, 0.9171518737060869, 0.9088287284610814, 0.9346910382074857, 0.9177882678560427, 0.9147737561306009, 0.9427973684870684]}, {\"categories\": [\"0\", \"1\", \"2\", \"3\", \"4\", \"5\", \"6\", \"7\", \"8\", \"9\", \"10\", \"11\", \"12\", \"13\", \"14\", \"15\", \"16\", \"17\", \"18\", \"19\", \"20\", \"21\", \"22\", \"23\", \"24\", \"25\", \"26\", \"27\", \"28\", \"29\", \"30\", \"31\", \"32\", \"33\", \"34\", \"36\"], \"mode\": \"lines\", \"name\": \"precision_score_macro_max\", \"stepped\": true, \"type\": \"scatter\", \"data\": [0.9192347941740525, 0.9313971529998291, 0.9313971529998291, 0.9313971529998291, 0.9313971529998291, 0.9405014522975014, 0.9405014522975014, 0.9405014522975014, 0.9405014522975014, 0.9405014522975014, 0.9405014522975014, 0.9405014522975014, 0.9405014522975014, 0.9405014522975014, 0.9405014522975014, 0.9405014522975014, 0.9405014522975014, 0.9405014522975014, 0.9405014522975014, 0.9405014522975014, 0.9405014522975014, 0.9405014522975014, 0.9405014522975014, 0.9405014522975014, 0.9405014522975014, 0.9405014522975014, 0.9405014522975014, 0.9405014522975014, 0.9405014522975014, 0.9405014522975014, 0.9405014522975014, 0.9405014522975014, 0.9405014522975014, 0.9405014522975014, 0.9405014522975014, 0.9427973684870684]}], \"recall_score_micro\": [{\"categories\": [\"0\", \"1\", \"2\", \"3\", \"4\", \"5\", \"6\", \"7\", \"8\", \"9\", \"10\", \"11\", \"12\", \"13\", \"14\", \"15\", \"16\", \"17\", \"18\", \"19\", \"20\", \"21\", \"22\", \"23\", \"24\", \"25\", \"26\", \"27\", \"28\", \"29\", \"30\", \"31\", \"32\", \"33\", \"34\", \"36\"], \"mode\": \"markers\", \"name\": \"recall_score_micro\", \"stepped\": false, \"type\": \"scatter\", \"data\": [0.9243734335839597, 0.9349310776942357, 0.9067355889724309, 0.9102443609022555, 0.9225563909774437, 0.938408521303258, 0.9208646616541353, 0.9207706766917292, 0.9261278195488721, 0.9014724310776941, 0.9243421052631579, 0.9226190476190477, 0.9119987468671678, 0.9119987468671678, 0.9366541353383457, 0.9102756892230577, 0.9243421052631579, 0.9313909774436089, 0.9137844611528821, 0.9120300751879699, 0.9278822055137844, 0.9190789473684209, 0.9155701754385964, 0.919047619047619, 0.9190476190476191, 0.6273496240601505, 0.9120300751879699, 0.894454887218045, 0.8716165413533835, 0.9155075187969924, 0.9102130325814535, 0.8962406015037594, 0.9331453634085213, 0.9261591478696742, 0.9085213032581454, 0.9419486215538848]}, {\"categories\": [\"0\", \"1\", \"2\", \"3\", \"4\", \"5\", \"6\", \"7\", \"8\", \"9\", \"10\", \"11\", \"12\", \"13\", \"14\", \"15\", \"16\", \"17\", \"18\", \"19\", \"20\", \"21\", \"22\", \"23\", \"24\", \"25\", \"26\", \"27\", \"28\", \"29\", \"30\", \"31\", \"32\", \"33\", \"34\", \"36\"], \"mode\": \"lines\", \"name\": \"recall_score_micro_max\", \"stepped\": true, \"type\": \"scatter\", \"data\": [0.9243734335839597, 0.9349310776942357, 0.9349310776942357, 0.9349310776942357, 0.9349310776942357, 0.938408521303258, 0.938408521303258, 0.938408521303258, 0.938408521303258, 0.938408521303258, 0.938408521303258, 0.938408521303258, 0.938408521303258, 0.938408521303258, 0.938408521303258, 0.938408521303258, 0.938408521303258, 0.938408521303258, 0.938408521303258, 0.938408521303258, 0.938408521303258, 0.938408521303258, 0.938408521303258, 0.938408521303258, 0.938408521303258, 0.938408521303258, 0.938408521303258, 0.938408521303258, 0.938408521303258, 0.938408521303258, 0.938408521303258, 0.938408521303258, 0.938408521303258, 0.938408521303258, 0.938408521303258, 0.9419486215538848]}], \"f1_score_weighted\": [{\"categories\": [\"0\", \"1\", \"2\", \"3\", \"4\", \"5\", \"6\", \"7\", \"8\", \"9\", \"10\", \"11\", \"12\", \"13\", \"14\", \"15\", \"16\", \"17\", \"18\", \"19\", \"20\", \"21\", \"22\", \"23\", \"24\", \"25\", \"26\", \"27\", \"28\", \"29\", \"30\", \"31\", \"32\", \"33\", \"34\", \"36\"], \"mode\": \"markers\", \"name\": \"f1_score_weighted\", \"stepped\": false, \"type\": \"scatter\", \"data\": [0.9243524885717143, 0.9347298055027193, 0.9052253418164031, 0.9086644598004854, 0.9220242024664878, 0.9377630095231225, 0.9203845427673253, 0.919454512619521, 0.9258001957697204, 0.9007648920345066, 0.9234989010876232, 0.9220265000848663, 0.9103460940673713, 0.9103892231471761, 0.9357780186887252, 0.9084929887949447, 0.9234467225682425, 0.9308611298010476, 0.9125694307555614, 0.9105699197475368, 0.9272564804437975, 0.9177998051758284, 0.9143337176552441, 0.9178762082254147, 0.917872359472262, 0.4850339249782264, 0.911945622921853, 0.8940946068428628, 0.8716064487301249, 0.9145153988882694, 0.9084833632537667, 0.8935082140592572, 0.9325980257090741, 0.9268529870880993, 0.9066276190092634, 0.9415128443151127]}, {\"categories\": [\"0\", \"1\", \"2\", \"3\", \"4\", \"5\", \"6\", \"7\", \"8\", \"9\", \"10\", \"11\", \"12\", \"13\", \"14\", \"15\", \"16\", \"17\", \"18\", \"19\", \"20\", \"21\", \"22\", \"23\", \"24\", \"25\", \"26\", \"27\", \"28\", \"29\", \"30\", \"31\", \"32\", \"33\", \"34\", \"36\"], \"mode\": \"lines\", \"name\": \"f1_score_weighted_max\", \"stepped\": true, \"type\": \"scatter\", \"data\": [0.9243524885717143, 0.9347298055027193, 0.9347298055027193, 0.9347298055027193, 0.9347298055027193, 0.9377630095231225, 0.9377630095231225, 0.9377630095231225, 0.9377630095231225, 0.9377630095231225, 0.9377630095231225, 0.9377630095231225, 0.9377630095231225, 0.9377630095231225, 0.9377630095231225, 0.9377630095231225, 0.9377630095231225, 0.9377630095231225, 0.9377630095231225, 0.9377630095231225, 0.9377630095231225, 0.9377630095231225, 0.9377630095231225, 0.9377630095231225, 0.9377630095231225, 0.9377630095231225, 0.9377630095231225, 0.9377630095231225, 0.9377630095231225, 0.9377630095231225, 0.9377630095231225, 0.9377630095231225, 0.9377630095231225, 0.9377630095231225, 0.9377630095231225, 0.9415128443151127]}], \"AUC_micro\": [{\"categories\": [\"0\", \"1\", \"2\", \"3\", \"4\", \"5\", \"6\", \"7\", \"8\", \"9\", \"10\", \"11\", \"12\", \"13\", \"14\", \"15\", \"16\", \"17\", \"18\", \"19\", \"20\", \"21\", \"22\", \"23\", \"24\", \"25\", \"26\", \"27\", \"28\", \"29\", \"30\", \"31\", \"32\", \"33\", \"34\", \"36\"], \"mode\": \"markers\", \"name\": \"AUC_micro\", \"stepped\": false, \"type\": \"scatter\", \"data\": [0.9787857213522528, 0.9806840193371901, 0.969902051887237, 0.9668899005816547, 0.976821989183485, 0.9807075842802495, 0.9625428899630026, 0.9559400292319143, 0.9814523778116973, 0.9488732698758173, 0.9740840686459256, 0.9659013703588546, 0.9726435743965176, 0.9732649684989416, 0.9813073567377089, 0.961644212740498, 0.9739739876790974, 0.9798915364853237, 0.9670013654122777, 0.9740341612175802, 0.9764404353615868, 0.9770693278465586, 0.9623676496221757, 0.9752015337529286, 0.9730694805623079, 0.6273496240601505, 0.9695052559343219, 0.9570584610806465, 0.9454798493728056, 0.9637637817130547, 0.9625317994233704, 0.9451260317146248, 0.975032388301581, 0.9796838489550945, 0.9684817954189986, 0.9827331584757631]}, {\"categories\": [\"0\", \"1\", \"2\", \"3\", \"4\", \"5\", \"6\", \"7\", \"8\", \"9\", \"10\", \"11\", \"12\", \"13\", \"14\", \"15\", \"16\", \"17\", \"18\", \"19\", \"20\", \"21\", \"22\", \"23\", \"24\", \"25\", \"26\", \"27\", \"28\", \"29\", \"30\", \"31\", \"32\", \"33\", \"34\", \"36\"], \"mode\": \"lines\", \"name\": \"AUC_micro_max\", \"stepped\": true, \"type\": \"scatter\", \"data\": [0.9787857213522528, 0.9806840193371901, 0.9806840193371901, 0.9806840193371901, 0.9806840193371901, 0.9807075842802495, 0.9807075842802495, 0.9807075842802495, 0.9814523778116973, 0.9814523778116973, 0.9814523778116973, 0.9814523778116973, 0.9814523778116973, 0.9814523778116973, 0.9814523778116973, 0.9814523778116973, 0.9814523778116973, 0.9814523778116973, 0.9814523778116973, 0.9814523778116973, 0.9814523778116973, 0.9814523778116973, 0.9814523778116973, 0.9814523778116973, 0.9814523778116973, 0.9814523778116973, 0.9814523778116973, 0.9814523778116973, 0.9814523778116973, 0.9814523778116973, 0.9814523778116973, 0.9814523778116973, 0.9814523778116973, 0.9814523778116973, 0.9814523778116973, 0.9827331584757631]}], \"average_precision_score_micro\": [{\"categories\": [\"0\", \"1\", \"2\", \"3\", \"4\", \"5\", \"6\", \"7\", \"8\", \"9\", \"10\", \"11\", \"12\", \"13\", \"14\", \"15\", \"16\", \"17\", \"18\", \"19\", \"20\", \"21\", \"22\", \"23\", \"24\", \"25\", \"26\", \"27\", \"28\", \"29\", \"30\", \"31\", \"32\", \"33\", \"34\", \"36\"], \"mode\": \"markers\", \"name\": \"average_precision_score_micro\", \"stepped\": false, \"type\": \"scatter\", \"data\": [0.9796992152407007, 0.9809504135069336, 0.9706943938418912, 0.9677451276804014, 0.9747146416034514, 0.9799412780796587, 0.9605973254333275, 0.9517541380032105, 0.9824517843408204, 0.9434882137502983, 0.9720682634507878, 0.961301239443159, 0.972445853749065, 0.9728625241697255, 0.9815050762064562, 0.9601510396021007, 0.9742529955358968, 0.9805670468837505, 0.9638947053632423, 0.9746632924411145, 0.9761753454552988, 0.977761651485681, 0.9585073587296439, 0.9752117365026065, 0.9705497747189493, 0.5828853638639204, 0.9704838085673442, 0.9586620384236297, 0.9476773554234439, 0.9646359953282877, 0.9599950685721688, 0.9347997763285761, 0.973137521398933, 0.9807779028315202, 0.9680372077988885, 0.9831653101315074]}, {\"categories\": [\"0\", \"1\", \"2\", \"3\", \"4\", \"5\", \"6\", \"7\", \"8\", \"9\", \"10\", \"11\", \"12\", \"13\", \"14\", \"15\", \"16\", \"17\", \"18\", \"19\", \"20\", \"21\", \"22\", \"23\", \"24\", \"25\", \"26\", \"27\", \"28\", \"29\", \"30\", \"31\", \"32\", \"33\", \"34\", \"36\"], \"mode\": \"lines\", \"name\": \"average_precision_score_micro_max\", \"stepped\": true, \"type\": \"scatter\", \"data\": [0.9796992152407007, 0.9809504135069336, 0.9809504135069336, 0.9809504135069336, 0.9809504135069336, 0.9809504135069336, 0.9809504135069336, 0.9809504135069336, 0.9824517843408204, 0.9824517843408204, 0.9824517843408204, 0.9824517843408204, 0.9824517843408204, 0.9824517843408204, 0.9824517843408204, 0.9824517843408204, 0.9824517843408204, 0.9824517843408204, 0.9824517843408204, 0.9824517843408204, 0.9824517843408204, 0.9824517843408204, 0.9824517843408204, 0.9824517843408204, 0.9824517843408204, 0.9824517843408204, 0.9824517843408204, 0.9824517843408204, 0.9824517843408204, 0.9824517843408204, 0.9824517843408204, 0.9824517843408204, 0.9824517843408204, 0.9824517843408204, 0.9824517843408204, 0.9831653101315074]}], \"log_loss\": [{\"categories\": [\"0\", \"1\", \"2\", \"3\", \"4\", \"5\", \"6\", \"7\", \"8\", \"9\", \"10\", \"11\", \"12\", \"13\", \"14\", \"15\", \"16\", \"17\", \"18\", \"19\", \"20\", \"21\", \"22\", \"23\", \"24\", \"25\", \"26\", \"27\", \"28\", \"29\", \"30\", \"31\", \"32\", \"33\", \"34\", \"36\"], \"mode\": \"markers\", \"name\": \"log_loss\", \"stepped\": false, \"type\": \"scatter\", \"data\": [0.24927938382759157, 0.18069034358192027, 0.22374240297161507, 0.23409641512242332, 0.2992157003037289, 0.17648011174156547, 0.23196335758524148, 0.2628817924394508, 0.17142655113496783, 0.28051827138123014, 0.21533395981282544, 0.33351243603287095, 0.2911806218938148, 0.26162459458947784, 0.18710370962092077, 0.3609312162928679, 0.2142560726995185, 0.17884497150713213, 0.24604654599202241, 0.2584607140036425, 0.19222595705170314, 0.22396571931992554, 0.2488018766857595, 0.24020369643657316, 0.220008083464292, 0.6615969397158497, 0.2438342897468365, 0.33169644938431364, 0.40881639832634703, 0.26323450658660724, 0.2660052131676106, 0.38577979806723334, 0.1936682923978452, 0.1786708512650573, 0.3556295648187176, 0.17258220041111955]}, {\"categories\": [\"0\", \"1\", \"2\", \"3\", \"4\", \"5\", \"6\", \"7\", \"8\", \"9\", \"10\", \"11\", \"12\", \"13\", \"14\", \"15\", \"16\", \"17\", \"18\", \"19\", \"20\", \"21\", \"22\", \"23\", \"24\", \"25\", \"26\", \"27\", \"28\", \"29\", \"30\", \"31\", \"32\", \"33\", \"34\", \"36\"], \"mode\": \"lines\", \"name\": \"log_loss_min\", \"stepped\": true, \"type\": \"scatter\", \"data\": [0.24927938382759157, 0.18069034358192027, 0.18069034358192027, 0.18069034358192027, 0.18069034358192027, 0.17648011174156547, 0.17648011174156547, 0.17648011174156547, 0.17142655113496783, 0.17142655113496783, 0.17142655113496783, 0.17142655113496783, 0.17142655113496783, 0.17142655113496783, 0.17142655113496783, 0.17142655113496783, 0.17142655113496783, 0.17142655113496783, 0.17142655113496783, 0.17142655113496783, 0.17142655113496783, 0.17142655113496783, 0.17142655113496783, 0.17142655113496783, 0.17142655113496783, 0.17142655113496783, 0.17142655113496783, 0.17142655113496783, 0.17142655113496783, 0.17142655113496783, 0.17142655113496783, 0.17142655113496783, 0.17142655113496783, 0.17142655113496783, 0.17142655113496783, 0.17142655113496783]}], \"recall_score_macro\": [{\"categories\": [\"0\", \"1\", \"2\", \"3\", \"4\", \"5\", \"6\", \"7\", \"8\", \"9\", \"10\", \"11\", \"12\", \"13\", \"14\", \"15\", \"16\", \"17\", \"18\", \"19\", \"20\", \"21\", \"22\", \"23\", \"24\", \"25\", \"26\", \"27\", \"28\", \"29\", \"30\", \"31\", \"32\", \"33\", \"34\", \"36\"], \"mode\": \"markers\", \"name\": \"recall_score_macro\", \"stepped\": false, \"type\": \"scatter\", \"data\": [0.9182105951381587, 0.9286806778122797, 0.8947157040871504, 0.8962697581412045, 0.916076368225873, 0.929446501829457, 0.9105743965330074, 0.9057190757986051, 0.9210738893689774, 0.8919800296145943, 0.9122048036794735, 0.9159312936727103, 0.8971217174876918, 0.8978595832604412, 0.9285690812960263, 0.8954142594199765, 0.9143066487867907, 0.9239794815062241, 0.8997307657326467, 0.8969620677324908, 0.9196513416649397, 0.9080297504050329, 0.9026352562365247, 0.909322396427501, 0.9033107897154838, 0.5, 0.9079693576539544, 0.8884889621217316, 0.863516804711877, 0.9050913150621487, 0.8931603159524784, 0.8714872195658268, 0.9233268335075827, 0.9303521806937095, 0.8949827468797684, 0.932729486960268]}, {\"categories\": [\"0\", \"1\", \"2\", \"3\", \"4\", \"5\", \"6\", \"7\", \"8\", \"9\", \"10\", \"11\", \"12\", \"13\", \"14\", \"15\", \"16\", \"17\", \"18\", \"19\", \"20\", \"21\", \"22\", \"23\", \"24\", \"25\", \"26\", \"27\", \"28\", \"29\", \"30\", \"31\", \"32\", \"33\", \"34\", \"36\"], \"mode\": \"lines\", \"name\": \"recall_score_macro_max\", \"stepped\": true, \"type\": \"scatter\", \"data\": [0.9182105951381587, 0.9286806778122797, 0.9286806778122797, 0.9286806778122797, 0.9286806778122797, 0.929446501829457, 0.929446501829457, 0.929446501829457, 0.929446501829457, 0.929446501829457, 0.929446501829457, 0.929446501829457, 0.929446501829457, 0.929446501829457, 0.929446501829457, 0.929446501829457, 0.929446501829457, 0.929446501829457, 0.929446501829457, 0.929446501829457, 0.929446501829457, 0.929446501829457, 0.929446501829457, 0.929446501829457, 0.929446501829457, 0.929446501829457, 0.929446501829457, 0.929446501829457, 0.929446501829457, 0.929446501829457, 0.929446501829457, 0.929446501829457, 0.929446501829457, 0.9303521806937095, 0.9303521806937095, 0.932729486960268]}], \"weighted_accuracy\": [{\"categories\": [\"0\", \"1\", \"2\", \"3\", \"4\", \"5\", \"6\", \"7\", \"8\", \"9\", \"10\", \"11\", \"12\", \"13\", \"14\", \"15\", \"16\", \"17\", \"18\", \"19\", \"20\", \"21\", \"22\", \"23\", \"24\", \"25\", \"26\", \"27\", \"28\", \"29\", \"30\", \"31\", \"32\", \"33\", \"34\", \"36\"], \"mode\": \"markers\", \"name\": \"weighted_accuracy\", \"stepped\": false, \"type\": \"scatter\", \"data\": [0.9298003113675322, 0.9400916551250733, 0.9176180634631391, 0.9227622126999961, 0.9289531890350782, 0.9462326435693571, 0.9295313757362076, 0.9332588211570224, 0.9314507238185442, 0.9103094071099582, 0.9345479487016368, 0.929238093922684, 0.9254256108323844, 0.9247062438463628, 0.9440865743864458, 0.9235548722933865, 0.9334755750666313, 0.9380030450481792, 0.925582496009695, 0.925057667208151, 0.9355370614282155, 0.9292351918062067, 0.9270486398557889, 0.9282413337176351, 0.9318018639971302, 0.7314563038651748, 0.9166674333583279, 0.9008477421774534, 0.8790217501189123, 0.9247810454124528, 0.9246224687768259, 0.9167548141938383, 0.941122711006477, 0.9237584742573579, 0.92088205696569, 0.9493158812951364]}, {\"categories\": [\"0\", \"1\", \"2\", \"3\", \"4\", \"5\", \"6\", \"7\", \"8\", \"9\", \"10\", \"11\", \"12\", \"13\", \"14\", \"15\", \"16\", \"17\", \"18\", \"19\", \"20\", \"21\", \"22\", \"23\", \"24\", \"25\", \"26\", \"27\", \"28\", \"29\", \"30\", \"31\", \"32\", \"33\", \"34\", \"36\"], \"mode\": \"lines\", \"name\": \"weighted_accuracy_max\", \"stepped\": true, \"type\": \"scatter\", \"data\": [0.9298003113675322, 0.9400916551250733, 0.9400916551250733, 0.9400916551250733, 0.9400916551250733, 0.9462326435693571, 0.9462326435693571, 0.9462326435693571, 0.9462326435693571, 0.9462326435693571, 0.9462326435693571, 0.9462326435693571, 0.9462326435693571, 0.9462326435693571, 0.9462326435693571, 0.9462326435693571, 0.9462326435693571, 0.9462326435693571, 0.9462326435693571, 0.9462326435693571, 0.9462326435693571, 0.9462326435693571, 0.9462326435693571, 0.9462326435693571, 0.9462326435693571, 0.9462326435693571, 0.9462326435693571, 0.9462326435693571, 0.9462326435693571, 0.9462326435693571, 0.9462326435693571, 0.9462326435693571, 0.9462326435693571, 0.9462326435693571, 0.9462326435693571, 0.9493158812951364]}], \"matthews_correlation\": [{\"categories\": [\"0\", \"1\", \"2\", \"3\", \"4\", \"5\", \"6\", \"7\", \"8\", \"9\", \"10\", \"11\", \"12\", \"13\", \"14\", \"15\", \"16\", \"17\", \"18\", \"19\", \"20\", \"21\", \"22\", \"23\", \"24\", \"25\", \"26\", \"27\", \"28\", \"29\", \"30\", \"31\", \"32\", \"33\", \"34\", \"36\"], \"mode\": \"markers\", \"name\": \"matthews_correlation\", \"stepped\": false, \"type\": \"scatter\", \"data\": [0.8371715332149023, 0.8598311618941656, 0.804681630584572, 0.8105422553184054, 0.8368113841322344, 0.8697474570718399, 0.829756563228262, 0.8302155456803563, 0.8452283971158561, 0.7916035604441198, 0.8379039543940296, 0.8368590696294689, 0.8145247133561841, 0.8137189219735527, 0.8673458861308656, 0.811110849988817, 0.8409451643690723, 0.8526653957211705, 0.8164486689354383, 0.8129057307524178, 0.8469499652934422, 0.8299642147984232, 0.8217290275447693, 0.8299204009384678, 0.8259047067015445, 0.0, 0.8139428300635059, 0.7790288831639783, 0.7271561367871721, 0.8205634132025779, 0.8096600575978032, 0.7792116646067582, 0.8577755616479829, 0.8475963025502786, 0.808773674318988, 0.8753024453082594]}, {\"categories\": [\"0\", \"1\", \"2\", \"3\", \"4\", \"5\", \"6\", \"7\", \"8\", \"9\", \"10\", \"11\", \"12\", \"13\", \"14\", \"15\", \"16\", \"17\", \"18\", \"19\", \"20\", \"21\", \"22\", \"23\", \"24\", \"25\", \"26\", \"27\", \"28\", \"29\", \"30\", \"31\", \"32\", \"33\", \"34\", \"36\"], \"mode\": \"lines\", \"name\": \"matthews_correlation_max\", \"stepped\": true, \"type\": \"scatter\", \"data\": [0.8371715332149023, 0.8598311618941656, 0.8598311618941656, 0.8598311618941656, 0.8598311618941656, 0.8697474570718399, 0.8697474570718399, 0.8697474570718399, 0.8697474570718399, 0.8697474570718399, 0.8697474570718399, 0.8697474570718399, 0.8697474570718399, 0.8697474570718399, 0.8697474570718399, 0.8697474570718399, 0.8697474570718399, 0.8697474570718399, 0.8697474570718399, 0.8697474570718399, 0.8697474570718399, 0.8697474570718399, 0.8697474570718399, 0.8697474570718399, 0.8697474570718399, 0.8697474570718399, 0.8697474570718399, 0.8697474570718399, 0.8697474570718399, 0.8697474570718399, 0.8697474570718399, 0.8697474570718399, 0.8697474570718399, 0.8697474570718399, 0.8697474570718399, 0.8753024453082594]}], \"precision_score_weighted\": [{\"categories\": [\"0\", \"1\", \"2\", \"3\", \"4\", \"5\", \"6\", \"7\", \"8\", \"9\", \"10\", \"11\", \"12\", \"13\", \"14\", \"15\", \"16\", \"17\", \"18\", \"19\", \"20\", \"21\", \"22\", \"23\", \"24\", \"25\", \"26\", \"27\", \"28\", \"29\", \"30\", \"31\", \"32\", \"33\", \"34\", \"36\"], \"mode\": \"markers\", \"name\": \"precision_score_weighted\", \"stepped\": false, \"type\": \"scatter\", \"data\": [0.9268260876918551, 0.9368016381341674, 0.9110877914029769, 0.9132470468359365, 0.9251559451110287, 0.9402740933390026, 0.9237307735724208, 0.9239727540385644, 0.931276143118615, 0.9057726259937409, 0.9265643569840449, 0.925964500806165, 0.9162055591126258, 0.9148282628550835, 0.9393953153451962, 0.9141756615440826, 0.9266467717563908, 0.9332139751376729, 0.9158957200201859, 0.9146459263772282, 0.9318245947217985, 0.9220149744214841, 0.918930589406434, 0.9224869034979838, 0.9214529133983831, 0.39656017589399567, 0.9152786893294224, 0.9000610194504469, 0.8758355039419543, 0.9177648707186711, 0.9138038945468223, 0.9024073025930612, 0.9349627151041873, 0.9324292940679568, 0.913504787453679, 0.9431081012411845]}, {\"categories\": [\"0\", \"1\", \"2\", \"3\", \"4\", \"5\", \"6\", \"7\", \"8\", \"9\", \"10\", \"11\", \"12\", \"13\", \"14\", \"15\", \"16\", \"17\", \"18\", \"19\", \"20\", \"21\", \"22\", \"23\", \"24\", \"25\", \"26\", \"27\", \"28\", \"29\", \"30\", \"31\", \"32\", \"33\", \"34\", \"36\"], \"mode\": \"lines\", \"name\": \"precision_score_weighted_max\", \"stepped\": true, \"type\": \"scatter\", \"data\": [0.9268260876918551, 0.9368016381341674, 0.9368016381341674, 0.9368016381341674, 0.9368016381341674, 0.9402740933390026, 0.9402740933390026, 0.9402740933390026, 0.9402740933390026, 0.9402740933390026, 0.9402740933390026, 0.9402740933390026, 0.9402740933390026, 0.9402740933390026, 0.9402740933390026, 0.9402740933390026, 0.9402740933390026, 0.9402740933390026, 0.9402740933390026, 0.9402740933390026, 0.9402740933390026, 0.9402740933390026, 0.9402740933390026, 0.9402740933390026, 0.9402740933390026, 0.9402740933390026, 0.9402740933390026, 0.9402740933390026, 0.9402740933390026, 0.9402740933390026, 0.9402740933390026, 0.9402740933390026, 0.9402740933390026, 0.9402740933390026, 0.9402740933390026, 0.9431081012411845]}], \"average_precision_score_weighted\": [{\"categories\": [\"0\", \"1\", \"2\", \"3\", \"4\", \"5\", \"6\", \"7\", \"8\", \"9\", \"10\", \"11\", \"12\", \"13\", \"14\", \"15\", \"16\", \"17\", \"18\", \"19\", \"20\", \"21\", \"22\", \"23\", \"24\", \"25\", \"26\", \"27\", \"28\", \"29\", \"30\", \"31\", \"32\", \"33\", \"34\", \"36\"], \"mode\": \"markers\", \"name\": \"average_precision_score_weighted\", \"stepped\": false, \"type\": \"scatter\", \"data\": [0.9802393177765827, 0.9809132200707505, 0.9709066233024555, 0.9677625948921869, 0.9755899444723953, 0.9807096774515303, 0.9588640092589346, 0.945341511761919, 0.9836936914647646, 0.9509410353306771, 0.9715019636221633, 0.9581914189119282, 0.9766103746235164, 0.9765520239471513, 0.9832059472918765, 0.9716066955015987, 0.9764204247507106, 0.9826136150017979, 0.9603941942060311, 0.9763008877127393, 0.9778507174323096, 0.9799034900582507, 0.9594991924932945, 0.9778980034553211, 0.9683651025930823, 0.5384211036676905, 0.9706470740518588, 0.9588636513531494, 0.9457856489411192, 0.96638653051278, 0.9565876422574695, 0.9239316552325969, 0.9742304577555764, 0.9836953019649617, 0.9685756894898475, 0.9834579750711656]}, {\"categories\": [\"0\", \"1\", \"2\", \"3\", \"4\", \"5\", \"6\", \"7\", \"8\", \"9\", \"10\", \"11\", \"12\", \"13\", \"14\", \"15\", \"16\", \"17\", \"18\", \"19\", \"20\", \"21\", \"22\", \"23\", \"24\", \"25\", \"26\", \"27\", \"28\", \"29\", \"30\", \"31\", \"32\", \"33\", \"34\", \"36\"], \"mode\": \"lines\", \"name\": \"average_precision_score_weighted_max\", \"stepped\": true, \"type\": \"scatter\", \"data\": [0.9802393177765827, 0.9809132200707505, 0.9809132200707505, 0.9809132200707505, 0.9809132200707505, 0.9809132200707505, 0.9809132200707505, 0.9809132200707505, 0.9836936914647646, 0.9836936914647646, 0.9836936914647646, 0.9836936914647646, 0.9836936914647646, 0.9836936914647646, 0.9836936914647646, 0.9836936914647646, 0.9836936914647646, 0.9836936914647646, 0.9836936914647646, 0.9836936914647646, 0.9836936914647646, 0.9836936914647646, 0.9836936914647646, 0.9836936914647646, 0.9836936914647646, 0.9836936914647646, 0.9836936914647646, 0.9836936914647646, 0.9836936914647646, 0.9836936914647646, 0.9836936914647646, 0.9836936914647646, 0.9836936914647646, 0.9836953019649617, 0.9836953019649617, 0.9836953019649617]}], \"accuracy\": [{\"categories\": [\"0\", \"1\", \"2\", \"3\", \"4\", \"5\", \"6\", \"7\", \"8\", \"9\", \"10\", \"11\", \"12\", \"13\", \"14\", \"15\", \"16\", \"17\", \"18\", \"19\", \"20\", \"21\", \"22\", \"23\", \"24\", \"25\", \"26\", \"27\", \"28\", \"29\", \"30\", \"31\", \"32\", \"33\", \"34\", \"36\"], \"mode\": \"markers\", \"name\": \"accuracy\", \"stepped\": false, \"type\": \"scatter\", \"data\": [0.9243734335839597, 0.9349310776942357, 0.9067355889724309, 0.9102443609022555, 0.9225563909774437, 0.938408521303258, 0.9208646616541353, 0.9207706766917292, 0.9261278195488721, 0.9014724310776941, 0.9243421052631579, 0.9226190476190477, 0.9119987468671678, 0.9119987468671678, 0.9366541353383457, 0.9102756892230577, 0.9243421052631579, 0.9313909774436089, 0.9137844611528821, 0.9120300751879699, 0.9278822055137844, 0.9190789473684209, 0.9155701754385964, 0.919047619047619, 0.9190476190476191, 0.6273496240601505, 0.9120300751879699, 0.894454887218045, 0.8716165413533835, 0.9155075187969924, 0.9102130325814535, 0.8962406015037594, 0.9331453634085213, 0.9261591478696742, 0.9085213032581454, 0.9419486215538848]}, {\"categories\": [\"0\", \"1\", \"2\", \"3\", \"4\", \"5\", \"6\", \"7\", \"8\", \"9\", \"10\", \"11\", \"12\", \"13\", \"14\", \"15\", \"16\", \"17\", \"18\", \"19\", \"20\", \"21\", \"22\", \"23\", \"24\", \"25\", \"26\", \"27\", \"28\", \"29\", \"30\", \"31\", \"32\", \"33\", \"34\", \"36\"], \"mode\": \"lines\", \"name\": \"accuracy_max\", \"stepped\": true, \"type\": \"scatter\", \"data\": [0.9243734335839597, 0.9349310776942357, 0.9349310776942357, 0.9349310776942357, 0.9349310776942357, 0.938408521303258, 0.938408521303258, 0.938408521303258, 0.938408521303258, 0.938408521303258, 0.938408521303258, 0.938408521303258, 0.938408521303258, 0.938408521303258, 0.938408521303258, 0.938408521303258, 0.938408521303258, 0.938408521303258, 0.938408521303258, 0.938408521303258, 0.938408521303258, 0.938408521303258, 0.938408521303258, 0.938408521303258, 0.938408521303258, 0.938408521303258, 0.938408521303258, 0.938408521303258, 0.938408521303258, 0.938408521303258, 0.938408521303258, 0.938408521303258, 0.938408521303258, 0.938408521303258, 0.938408521303258, 0.9419486215538848]}], \"recall_score_weighted\": [{\"categories\": [\"0\", \"1\", \"2\", \"3\", \"4\", \"5\", \"6\", \"7\", \"8\", \"9\", \"10\", \"11\", \"12\", \"13\", \"14\", \"15\", \"16\", \"17\", \"18\", \"19\", \"20\", \"21\", \"22\", \"23\", \"24\", \"25\", \"26\", \"27\", \"28\", \"29\", \"30\", \"31\", \"32\", \"33\", \"34\", \"36\"], \"mode\": \"markers\", \"name\": \"recall_score_weighted\", \"stepped\": false, \"type\": \"scatter\", \"data\": [0.9243734335839597, 0.9349310776942357, 0.9067355889724309, 0.9102443609022555, 0.9225563909774437, 0.938408521303258, 0.9208646616541353, 0.9207706766917292, 0.9261278195488721, 0.9014724310776941, 0.9243421052631579, 0.9226190476190477, 0.9119987468671678, 0.9119987468671678, 0.9366541353383457, 0.9102756892230577, 0.9243421052631579, 0.9313909774436089, 0.9137844611528821, 0.9120300751879699, 0.9278822055137844, 0.9190789473684209, 0.9155701754385964, 0.919047619047619, 0.9190476190476191, 0.6273496240601505, 0.9120300751879699, 0.894454887218045, 0.8716165413533835, 0.9155075187969924, 0.9102130325814535, 0.8962406015037594, 0.9331453634085213, 0.9261591478696742, 0.9085213032581454, 0.9419486215538848]}, {\"categories\": [\"0\", \"1\", \"2\", \"3\", \"4\", \"5\", \"6\", \"7\", \"8\", \"9\", \"10\", \"11\", \"12\", \"13\", \"14\", \"15\", \"16\", \"17\", \"18\", \"19\", \"20\", \"21\", \"22\", \"23\", \"24\", \"25\", \"26\", \"27\", \"28\", \"29\", \"30\", \"31\", \"32\", \"33\", \"34\", \"36\"], \"mode\": \"lines\", \"name\": \"recall_score_weighted_max\", \"stepped\": true, \"type\": \"scatter\", \"data\": [0.9243734335839597, 0.9349310776942357, 0.9349310776942357, 0.9349310776942357, 0.9349310776942357, 0.938408521303258, 0.938408521303258, 0.938408521303258, 0.938408521303258, 0.938408521303258, 0.938408521303258, 0.938408521303258, 0.938408521303258, 0.938408521303258, 0.938408521303258, 0.938408521303258, 0.938408521303258, 0.938408521303258, 0.938408521303258, 0.938408521303258, 0.938408521303258, 0.938408521303258, 0.938408521303258, 0.938408521303258, 0.938408521303258, 0.938408521303258, 0.938408521303258, 0.938408521303258, 0.938408521303258, 0.938408521303258, 0.938408521303258, 0.938408521303258, 0.938408521303258, 0.938408521303258, 0.938408521303258, 0.9419486215538848]}], \"AUC_weighted\": [{\"categories\": [\"0\", \"1\", \"2\", \"3\", \"4\", \"5\", \"6\", \"7\", \"8\", \"9\", \"10\", \"11\", \"12\", \"13\", \"14\", \"15\", \"16\", \"17\", \"18\", \"19\", \"20\", \"21\", \"22\", \"23\", \"24\", \"25\", \"26\", \"27\", \"28\", \"29\", \"30\", \"31\", \"32\", \"33\", \"34\", \"36\"], \"mode\": \"markers\", \"name\": \"AUC_weighted\", \"stepped\": false, \"type\": \"scatter\", \"data\": [0.9773814891945802, 0.9792780725646366, 0.9693342537644938, 0.9653620760754673, 0.9759120797660394, 0.9808176346675314, 0.9572652904166169, 0.9446277944285291, 0.9820068384646985, 0.9507918426856117, 0.9718441982717468, 0.9616728219983923, 0.9749979451653342, 0.975686926803838, 0.9820967128417243, 0.9723936043580219, 0.9750223730938208, 0.9809891225120065, 0.962380534538552, 0.9739303909940992, 0.9763949942294451, 0.9783152200207829, 0.960164564280044, 0.97635275398875, 0.9700130512093466, 0.5, 0.9684643177033813, 0.9548845901263597, 0.9401580956615305, 0.9636541885802353, 0.9582082727246665, 0.9341485117070416, 0.9748260804538573, 0.9820039612268469, 0.9672420745828637, 0.9817930052760542]}, {\"categories\": [\"0\", \"1\", \"2\", \"3\", \"4\", \"5\", \"6\", \"7\", \"8\", \"9\", \"10\", \"11\", \"12\", \"13\", \"14\", \"15\", \"16\", \"17\", \"18\", \"19\", \"20\", \"21\", \"22\", \"23\", \"24\", \"25\", \"26\", \"27\", \"28\", \"29\", \"30\", \"31\", \"32\", \"33\", \"34\", \"36\"], \"mode\": \"lines\", \"name\": \"AUC_weighted_max\", \"stepped\": true, \"type\": \"scatter\", \"data\": [0.9773814891945802, 0.9792780725646366, 0.9792780725646366, 0.9792780725646366, 0.9792780725646366, 0.9808176346675314, 0.9808176346675314, 0.9808176346675314, 0.9820068384646985, 0.9820068384646985, 0.9820068384646985, 0.9820068384646985, 0.9820068384646985, 0.9820068384646985, 0.9820967128417243, 0.9820967128417243, 0.9820967128417243, 0.9820967128417243, 0.9820967128417243, 0.9820967128417243, 0.9820967128417243, 0.9820967128417243, 0.9820967128417243, 0.9820967128417243, 0.9820967128417243, 0.9820967128417243, 0.9820967128417243, 0.9820967128417243, 0.9820967128417243, 0.9820967128417243, 0.9820967128417243, 0.9820967128417243, 0.9820967128417243, 0.9820967128417243, 0.9820967128417243, 0.9820967128417243]}], \"norm_macro_recall\": [{\"categories\": [\"0\", \"1\", \"2\", \"3\", \"4\", \"5\", \"6\", \"7\", \"8\", \"9\", \"10\", \"11\", \"12\", \"13\", \"14\", \"15\", \"16\", \"17\", \"18\", \"19\", \"20\", \"21\", \"22\", \"23\", \"24\", \"25\", \"26\", \"27\", \"28\", \"29\", \"30\", \"31\", \"32\", \"33\", \"34\", \"36\"], \"mode\": \"markers\", \"name\": \"norm_macro_recall\", \"stepped\": false, \"type\": \"scatter\", \"data\": [0.8364211902763173, 0.8573613556245597, 0.7894314081743005, 0.7925395162824087, 0.8321527364517461, 0.858893003658914, 0.8211487930660148, 0.81143815159721, 0.8421477787379545, 0.7839600592291888, 0.8244096073589471, 0.8318625873454206, 0.7942434349753833, 0.7957191665208823, 0.8571381625920523, 0.7908285188399534, 0.8286132975735813, 0.8479589630124483, 0.7994615314652934, 0.7939241354649819, 0.8393026833298795, 0.8160595008100658, 0.8052705124730494, 0.8186447928550022, 0.8066215794309681, 0.0, 0.8159387153079087, 0.7769779242434627, 0.727033609423754, 0.8101826301242973, 0.7863206319049565, 0.7429744391316537, 0.8466536670151654, 0.860704361387419, 0.7899654937595371, 0.8654589739205365]}, {\"categories\": [\"0\", \"1\", \"2\", \"3\", \"4\", \"5\", \"6\", \"7\", \"8\", \"9\", \"10\", \"11\", \"12\", \"13\", \"14\", \"15\", \"16\", \"17\", \"18\", \"19\", \"20\", \"21\", \"22\", \"23\", \"24\", \"25\", \"26\", \"27\", \"28\", \"29\", \"30\", \"31\", \"32\", \"33\", \"34\", \"36\"], \"mode\": \"lines\", \"name\": \"norm_macro_recall_max\", \"stepped\": true, \"type\": \"scatter\", \"data\": [0.8364211902763173, 0.8573613556245597, 0.8573613556245597, 0.8573613556245597, 0.8573613556245597, 0.858893003658914, 0.858893003658914, 0.858893003658914, 0.858893003658914, 0.858893003658914, 0.858893003658914, 0.858893003658914, 0.858893003658914, 0.858893003658914, 0.858893003658914, 0.858893003658914, 0.858893003658914, 0.858893003658914, 0.858893003658914, 0.858893003658914, 0.858893003658914, 0.858893003658914, 0.858893003658914, 0.858893003658914, 0.858893003658914, 0.858893003658914, 0.858893003658914, 0.858893003658914, 0.858893003658914, 0.858893003658914, 0.858893003658914, 0.858893003658914, 0.858893003658914, 0.860704361387419, 0.860704361387419, 0.8654589739205365]}], \"average_precision_score_macro\": [{\"categories\": [\"0\", \"1\", \"2\", \"3\", \"4\", \"5\", \"6\", \"7\", \"8\", \"9\", \"10\", \"11\", \"12\", \"13\", \"14\", \"15\", \"16\", \"17\", \"18\", \"19\", \"20\", \"21\", \"22\", \"23\", \"24\", \"25\", \"26\", \"27\", \"28\", \"29\", \"30\", \"31\", \"32\", \"33\", \"34\", \"36\"], \"mode\": \"markers\", \"name\": \"average_precision_score_macro\", \"stepped\": false, \"type\": \"scatter\", \"data\": [0.9780138106513124, 0.9792427499659313, 0.9685446341925585, 0.9651518036415456, 0.9740124173544578, 0.9787091272346476, 0.9567016332827867, 0.9444414092051154, 0.9816551935563451, 0.947526385531605, 0.9694426272974948, 0.9560397414906827, 0.9749692666916342, 0.9750823002953917, 0.9820025133941664, 0.9693599238368407, 0.974521265057312, 0.9807062380857664, 0.9588665786978204, 0.9739242741306369, 0.9755453773952695, 0.978366402606123, 0.9568679199832217, 0.9763813550752685, 0.9660072491093983, 0.5, 0.9682604871667971, 0.9545971071230392, 0.9405451784457425, 0.9634862537087152, 0.9545842696751536, 0.9166952470634488, 0.9723307585135921, 0.9816549879138501, 0.9658944994654807, 0.9817771707659146]}, {\"categories\": [\"0\", \"1\", \"2\", \"3\", \"4\", \"5\", \"6\", \"7\", \"8\", \"9\", \"10\", \"11\", \"12\", \"13\", \"14\", \"15\", \"16\", \"17\", \"18\", \"19\", \"20\", \"21\", \"22\", \"23\", \"24\", \"25\", \"26\", \"27\", \"28\", \"29\", \"30\", \"31\", \"32\", \"33\", \"34\", \"36\"], \"mode\": \"lines\", \"name\": \"average_precision_score_macro_max\", \"stepped\": true, \"type\": \"scatter\", \"data\": [0.9780138106513124, 0.9792427499659313, 0.9792427499659313, 0.9792427499659313, 0.9792427499659313, 0.9792427499659313, 0.9792427499659313, 0.9792427499659313, 0.9816551935563451, 0.9816551935563451, 0.9816551935563451, 0.9816551935563451, 0.9816551935563451, 0.9816551935563451, 0.9820025133941664, 0.9820025133941664, 0.9820025133941664, 0.9820025133941664, 0.9820025133941664, 0.9820025133941664, 0.9820025133941664, 0.9820025133941664, 0.9820025133941664, 0.9820025133941664, 0.9820025133941664, 0.9820025133941664, 0.9820025133941664, 0.9820025133941664, 0.9820025133941664, 0.9820025133941664, 0.9820025133941664, 0.9820025133941664, 0.9820025133941664, 0.9820025133941664, 0.9820025133941664, 0.9820025133941664]}], \"AUC_macro\": [{\"categories\": [\"0\", \"1\", \"2\", \"3\", \"4\", \"5\", \"6\", \"7\", \"8\", \"9\", \"10\", \"11\", \"12\", \"13\", \"14\", \"15\", \"16\", \"17\", \"18\", \"19\", \"20\", \"21\", \"22\", \"23\", \"24\", \"25\", \"26\", \"27\", \"28\", \"29\", \"30\", \"31\", \"32\", \"33\", \"34\", \"36\"], \"mode\": \"markers\", \"name\": \"AUC_macro\", \"stepped\": false, \"type\": \"scatter\", \"data\": [0.9773814891945802, 0.9792780725646366, 0.9693342537644938, 0.9653620760754675, 0.9759120797660394, 0.9808176346675314, 0.9572652904166169, 0.9446277944285291, 0.9820068384646985, 0.9507918426856117, 0.9718441982717471, 0.9616728219983923, 0.9749979451653342, 0.975686926803838, 0.9820967128417243, 0.9723936043580219, 0.9750223730938208, 0.9809891225120065, 0.962380534538552, 0.9739303909940992, 0.9763949942294452, 0.9783152200207829, 0.960164564280044, 0.97635275398875, 0.9700130512093466, 0.5, 0.9684643177033813, 0.9548845901263597, 0.9401580956615305, 0.9636541885802353, 0.9582082727246665, 0.9341485117070416, 0.9748260804538573, 0.9820039612268469, 0.9672420745828637, 0.9817930052760542]}, {\"categories\": [\"0\", \"1\", \"2\", \"3\", \"4\", \"5\", \"6\", \"7\", \"8\", \"9\", \"10\", \"11\", \"12\", \"13\", \"14\", \"15\", \"16\", \"17\", \"18\", \"19\", \"20\", \"21\", \"22\", \"23\", \"24\", \"25\", \"26\", \"27\", \"28\", \"29\", \"30\", \"31\", \"32\", \"33\", \"34\", \"36\"], \"mode\": \"lines\", \"name\": \"AUC_macro_max\", \"stepped\": true, \"type\": \"scatter\", \"data\": [0.9773814891945802, 0.9792780725646366, 0.9792780725646366, 0.9792780725646366, 0.9792780725646366, 0.9808176346675314, 0.9808176346675314, 0.9808176346675314, 0.9820068384646985, 0.9820068384646985, 0.9820068384646985, 0.9820068384646985, 0.9820068384646985, 0.9820068384646985, 0.9820967128417243, 0.9820967128417243, 0.9820967128417243, 0.9820967128417243, 0.9820967128417243, 0.9820967128417243, 0.9820967128417243, 0.9820967128417243, 0.9820967128417243, 0.9820967128417243, 0.9820967128417243, 0.9820967128417243, 0.9820967128417243, 0.9820967128417243, 0.9820967128417243, 0.9820967128417243, 0.9820967128417243, 0.9820967128417243, 0.9820967128417243, 0.9820967128417243, 0.9820967128417243, 0.9820967128417243]}]}, \"metricName\": null, \"primaryMetricName\": \"accuracy\", \"showLegend\": false}, \"run_metrics\": [{\"name\": \"experiment_status\", \"run_id\": \"AutoML_664193cb-b6c8-4931-8be5-b39bb8fc5856\", \"categories\": [0, 1, 2, 3, 4, 5], \"series\": [{\"data\": [\"DatasetEvaluation\", \"FeaturesGeneration\", \"DatasetFeaturization\", \"DatasetFeaturizationCompleted\", \"DatasetCrossValidationSplit\", \"ModelSelection\"]}]}, {\"name\": \"experiment_status_description\", \"run_id\": \"AutoML_664193cb-b6c8-4931-8be5-b39bb8fc5856\", \"categories\": [0, 1, 2, 3, 4, 5], \"series\": [{\"data\": [\"Gathering dataset statistics.\", \"Generating features for the dataset.\", \"Beginning to fit featurizers and featurize the dataset.\", \"Completed fit featurizers and featurizing the dataset.\", \"Generating individually featurized CV splits.\", \"Beginning model selection.\"]}]}, {\"name\": \"AUC_weighted\", \"run_id\": \"AutoML_664193cb-b6c8-4931-8be5-b39bb8fc5856\", \"categories\": [0], \"series\": [{\"data\": [0.9817930052760542]}]}, {\"name\": \"accuracy\", \"run_id\": \"AutoML_664193cb-b6c8-4931-8be5-b39bb8fc5856\", \"categories\": [0], \"series\": [{\"data\": [0.9419486215538848]}]}, {\"name\": \"precision_score_micro\", \"run_id\": \"AutoML_664193cb-b6c8-4931-8be5-b39bb8fc5856\", \"categories\": [0], \"series\": [{\"data\": [0.9419486215538848]}]}, {\"name\": \"AUC_macro\", \"run_id\": \"AutoML_664193cb-b6c8-4931-8be5-b39bb8fc5856\", \"categories\": [0], \"series\": [{\"data\": [0.9817930052760542]}]}, {\"name\": \"norm_macro_recall\", \"run_id\": \"AutoML_664193cb-b6c8-4931-8be5-b39bb8fc5856\", \"categories\": [0], \"series\": [{\"data\": [0.8654589739205365]}]}, {\"name\": \"recall_score_weighted\", \"run_id\": \"AutoML_664193cb-b6c8-4931-8be5-b39bb8fc5856\", \"categories\": [0], \"series\": [{\"data\": [0.9419486215538848]}]}, {\"name\": \"balanced_accuracy\", \"run_id\": \"AutoML_664193cb-b6c8-4931-8be5-b39bb8fc5856\", \"categories\": [0], \"series\": [{\"data\": [0.932729486960268]}]}, {\"name\": \"f1_score_micro\", \"run_id\": \"AutoML_664193cb-b6c8-4931-8be5-b39bb8fc5856\", \"categories\": [0], \"series\": [{\"data\": [0.9419486215538848]}]}, {\"name\": \"average_precision_score_weighted\", \"run_id\": \"AutoML_664193cb-b6c8-4931-8be5-b39bb8fc5856\", \"categories\": [0], \"series\": [{\"data\": [0.9834579750711656]}]}, {\"name\": \"recall_score_macro\", \"run_id\": \"AutoML_664193cb-b6c8-4931-8be5-b39bb8fc5856\", \"categories\": [0], \"series\": [{\"data\": [0.932729486960268]}]}, {\"name\": \"log_loss\", \"run_id\": \"AutoML_664193cb-b6c8-4931-8be5-b39bb8fc5856\", \"categories\": [0], \"series\": [{\"data\": [0.17258220041111955]}]}, {\"name\": \"weighted_accuracy\", \"run_id\": \"AutoML_664193cb-b6c8-4931-8be5-b39bb8fc5856\", \"categories\": [0], \"series\": [{\"data\": [0.9493158812951364]}]}, {\"name\": \"matthews_correlation\", \"run_id\": \"AutoML_664193cb-b6c8-4931-8be5-b39bb8fc5856\", \"categories\": [0], \"series\": [{\"data\": [0.8753024453082594]}]}, {\"name\": \"average_precision_score_micro\", \"run_id\": \"AutoML_664193cb-b6c8-4931-8be5-b39bb8fc5856\", \"categories\": [0], \"series\": [{\"data\": [0.9831653101315074]}]}, {\"name\": \"precision_score_weighted\", \"run_id\": \"AutoML_664193cb-b6c8-4931-8be5-b39bb8fc5856\", \"categories\": [0], \"series\": [{\"data\": [0.9431081012411845]}]}, {\"name\": \"recall_score_micro\", \"run_id\": \"AutoML_664193cb-b6c8-4931-8be5-b39bb8fc5856\", \"categories\": [0], \"series\": [{\"data\": [0.9419486215538848]}]}, {\"name\": \"f1_score_weighted\", \"run_id\": \"AutoML_664193cb-b6c8-4931-8be5-b39bb8fc5856\", \"categories\": [0], \"series\": [{\"data\": [0.9415128443151127]}]}, {\"name\": \"AUC_micro\", \"run_id\": \"AutoML_664193cb-b6c8-4931-8be5-b39bb8fc5856\", \"categories\": [0], \"series\": [{\"data\": [0.9827331584757631]}]}, {\"name\": \"f1_score_macro\", \"run_id\": \"AutoML_664193cb-b6c8-4931-8be5-b39bb8fc5856\", \"categories\": [0], \"series\": [{\"data\": [0.9365514229540526]}]}, {\"name\": \"precision_score_macro\", \"run_id\": \"AutoML_664193cb-b6c8-4931-8be5-b39bb8fc5856\", \"categories\": [0], \"series\": [{\"data\": [0.9427973684870684]}]}, {\"name\": \"average_precision_score_macro\", \"run_id\": \"AutoML_664193cb-b6c8-4931-8be5-b39bb8fc5856\", \"categories\": [0], \"series\": [{\"data\": [0.9817771707659146]}]}], \"run_logs\": \"\\nRun is completed.\", \"graph\": {}, \"widget_settings\": {\"childWidgetDisplay\": \"popup\", \"send_telemetry\": false, \"log_level\": \"INFO\", \"sdk_version\": \"1.20.0\"}, \"loading\": false}"
     },
     "metadata": {},
     "output_type": "display_data"
    }
   ],
   "source": [
    "from azureml.widgets import RunDetails\n",
    "RunDetails(automl_run).show()\n"
   ]
  },
  {
   "cell_type": "code",
   "execution_count": 8,
   "metadata": {},
   "outputs": [
    {
     "name": "stdout",
     "output_type": "stream",
     "text": [
      "\n",
      "Current status: FeaturesGeneration. Generating features for the dataset.\n",
      "Current status: DatasetCrossValidationSplit. Generating individually featurized CV splits.\n",
      "Current status: ModelSelection. Beginning model selection.\n",
      "\n",
      "****************************************************************************************************\n",
      "DATA GUARDRAILS: \n",
      "\n",
      "TYPE:         Cross validation\n",
      "STATUS:       DONE\n",
      "DESCRIPTION:  Each iteration of the trained model was validated through cross-validation.\n",
      "              \n",
      "DETAILS:      \n",
      "+---------------------------------+\n",
      "|Number of folds                  |\n",
      "+=================================+\n",
      "|10                               |\n",
      "+---------------------------------+\n",
      "\n",
      "****************************************************************************************************\n",
      "\n",
      "TYPE:         Class balancing detection\n",
      "STATUS:       PASSED\n",
      "DESCRIPTION:  Your inputs were analyzed, and all classes are balanced in your training data.\n",
      "              Learn more about imbalanced data: https://aka.ms/AutomatedMLImbalancedData\n",
      "\n",
      "****************************************************************************************************\n",
      "\n",
      "TYPE:         Missing feature values imputation\n",
      "STATUS:       PASSED\n",
      "DESCRIPTION:  No feature missing values were detected in the training data.\n",
      "              Learn more about missing value imputation: https://aka.ms/AutomatedMLFeaturization\n",
      "\n",
      "****************************************************************************************************\n",
      "\n",
      "TYPE:         High cardinality feature detection\n",
      "STATUS:       PASSED\n",
      "DESCRIPTION:  Your inputs were analyzed, and no high cardinality features were detected.\n",
      "              Learn more about high cardinality feature handling: https://aka.ms/AutomatedMLFeaturization\n",
      "\n",
      "****************************************************************************************************\n",
      "\n",
      "****************************************************************************************************\n",
      "ITERATION: The iteration being evaluated.\n",
      "PIPELINE: A summary description of the pipeline being evaluated.\n",
      "DURATION: Time taken for the current iteration.\n",
      "METRIC: The result of computing score on the fitted pipeline.\n",
      "BEST: The best observed score thus far.\n",
      "****************************************************************************************************\n",
      "\n",
      " ITERATION   PIPELINE                                       DURATION      METRIC      BEST\n",
      "         1   MaxAbsScaler XGBoostClassifier                 0:00:54       0.9349    0.9349\n",
      "         2   MinMaxScaler RandomForest                      0:00:56       0.9067    0.9349\n",
      "         5   SparseNormalizer XGBoostClassifier             0:00:56       0.9384    0.9384\n",
      "         3   MinMaxScaler RandomForest                      0:02:01       0.9102    0.9384\n",
      "         0   MaxAbsScaler LightGBM                          0:02:11       0.9244    0.9384\n",
      "         4   MinMaxScaler RandomForest                      0:02:17       0.9226    0.9384\n",
      "         6   RobustScaler SVM                               0:00:54       0.9209    0.9384\n",
      "         7   MinMaxScaler SVM                               0:00:54       0.9208    0.9384\n",
      "         8   StandardScalerWrapper LogisticRegression       0:00:58       0.9261    0.9384\n",
      "         9   SparseNormalizer LightGBM                      0:00:49       0.9015    0.9384\n",
      "        10   SparseNormalizer XGBoostClassifier             0:00:52       0.9243    0.9384\n",
      "        11   SparseNormalizer XGBoostClassifier             0:00:49       0.9226    0.9384\n",
      "        12   MaxAbsScaler LightGBM                          0:00:51       0.9120    0.9384\n",
      "        13   StandardScalerWrapper LightGBM                 0:00:52       0.9120    0.9384\n",
      "        14   StandardScalerWrapper LightGBM                 0:00:58       0.9367    0.9384\n",
      "        15   MaxAbsScaler LightGBM                          0:00:46       0.9103    0.9384\n",
      "        16   StandardScalerWrapper RandomForest             0:00:55       0.9243    0.9384\n",
      "        17   StandardScalerWrapper LightGBM                 0:00:53       0.9314    0.9384\n",
      "        18   SparseNormalizer XGBoostClassifier             0:00:51       0.9138    0.9384\n",
      "        19   RobustScaler LightGBM                          0:00:53       0.9120    0.9384\n",
      "        20   SparseNormalizer XGBoostClassifier             0:00:56       0.9279    0.9384\n",
      "        21   StandardScalerWrapper LightGBM                 0:00:55       0.9191    0.9384\n",
      "        22   SparseNormalizer LightGBM                      0:00:55       0.9156    0.9384\n",
      "        23   StandardScalerWrapper LightGBM                 0:00:51       0.9190    0.9384\n",
      "        24   SparseNormalizer XGBoostClassifier             0:00:49       0.9190    0.9384\n",
      "        25   SparseNormalizer XGBoostClassifier             0:00:51       0.6273    0.9384\n",
      "        26   MaxAbsScaler RandomForest                      0:00:51       0.9120    0.9384\n",
      "        27   SparseNormalizer ExtremeRandomTrees            0:01:01       0.8945    0.9384\n",
      "        28   SparseNormalizer ExtremeRandomTrees            0:00:53       0.8716    0.9384\n",
      "        29   SparseNormalizer RandomForest                  0:00:52       0.9155    0.9384\n",
      "        30   SparseNormalizer XGBoostClassifier             0:00:57       0.9102    0.9384\n",
      "        31   SparseNormalizer XGBoostClassifier             0:00:50       0.8962    0.9384\n",
      "        32   SparseNormalizer XGBoostClassifier             0:00:48       0.9331    0.9384\n",
      "        33   MinMaxScaler LogisticRegression                0:00:46       0.9262    0.9384\n",
      "        34   StandardScalerWrapper XGBoostClassifier        0:00:31       0.9085    0.9384\n",
      "        35                                                  0:00:13          nan    0.9384\n",
      "        36    VotingEnsemble                                0:02:05       0.9419    0.9419\n"
     ]
    },
    {
     "data": {
      "text/plain": [
       "{'runId': 'AutoML_664193cb-b6c8-4931-8be5-b39bb8fc5856',\n",
       " 'target': 'AML-Cluster',\n",
       " 'status': 'Completed',\n",
       " 'startTimeUtc': '2021-02-16T12:02:12.563705Z',\n",
       " 'endTimeUtc': '2021-02-16T12:20:22.909105Z',\n",
       " 'properties': {'num_iterations': '1000',\n",
       "  'training_type': 'TrainFull',\n",
       "  'acquisition_function': 'EI',\n",
       "  'primary_metric': 'accuracy',\n",
       "  'train_split': '0',\n",
       "  'acquisition_parameter': '0',\n",
       "  'num_cross_validation': None,\n",
       "  'target': 'AML-Cluster',\n",
       "  'AMLSettingsJsonString': '{\"path\":null,\"name\":\"automl-exp\",\"subscription_id\":\"f9d5a085-54dc-4215-9ba6-dad5d86e60a0\",\"resource_group\":\"aml-quickstarts-139015\",\"workspace_name\":\"quick-starts-ws-139015\",\"region\":\"southcentralus\",\"compute_target\":\"AML-Cluster\",\"spark_service\":null,\"azure_service\":\"remote\",\"many_models\":false,\"pipeline_fetch_max_batch_size\":1,\"iterations\":1000,\"primary_metric\":\"accuracy\",\"task_type\":\"classification\",\"data_script\":null,\"validation_size\":0.0,\"n_cross_validations\":null,\"y_min\":null,\"y_max\":null,\"num_classes\":null,\"featurization\":\"auto\",\"_ignore_package_version_incompatibilities\":false,\"is_timeseries\":false,\"max_cores_per_iteration\":1,\"max_concurrent_iterations\":4,\"iteration_timeout_minutes\":null,\"mem_in_mb\":null,\"enforce_time_on_windows\":false,\"experiment_timeout_minutes\":30,\"experiment_exit_score\":null,\"whitelist_models\":null,\"blacklist_algos\":[\"TensorFlowLinearClassifier\",\"TensorFlowDNN\"],\"supported_models\":[\"LightGBM\",\"ExtremeRandomTrees\",\"RandomForest\",\"GradientBoosting\",\"MultinomialNaiveBayes\",\"SGD\",\"KNN\",\"LinearSVM\",\"AveragedPerceptronClassifier\",\"TensorFlowLinearClassifier\",\"BernoulliNaiveBayes\",\"DecisionTree\",\"LogisticRegression\",\"TensorFlowDNN\",\"XGBoostClassifier\",\"SVM\"],\"auto_blacklist\":true,\"blacklist_samples_reached\":false,\"exclude_nan_labels\":true,\"verbosity\":20,\"_debug_log\":\"azureml_automl.log\",\"show_warnings\":false,\"model_explainability\":true,\"service_url\":null,\"sdk_url\":null,\"sdk_packages\":null,\"enable_onnx_compatible_models\":true,\"enable_split_onnx_featurizer_estimator_models\":false,\"vm_type\":\"STANDARD_DS12_V2\",\"telemetry_verbosity\":20,\"send_telemetry\":true,\"enable_dnn\":false,\"scenario\":\"SDK-1.13.0\",\"environment_label\":null,\"force_text_dnn\":false,\"enable_feature_sweeping\":false,\"enable_early_stopping\":true,\"early_stopping_n_iters\":10,\"metrics\":null,\"enable_ensembling\":true,\"enable_stack_ensembling\":false,\"ensemble_iterations\":15,\"enable_tf\":false,\"enable_subsampling\":null,\"subsample_seed\":null,\"enable_nimbusml\":false,\"enable_streaming\":false,\"force_streaming\":false,\"track_child_runs\":true,\"allowed_private_models\":[],\"label_column_name\":\"diagnosis\",\"weight_column_name\":null,\"cv_split_column_names\":null,\"enable_local_managed\":false,\"_local_managed_run_id\":null,\"cost_mode\":1,\"lag_length\":0,\"metric_operation\":\"maximize\",\"preprocess\":true}',\n",
       "  'DataPrepJsonString': '{\\\\\"training_data\\\\\": \\\\\"{\\\\\\\\\\\\\"blocks\\\\\\\\\\\\\": [{\\\\\\\\\\\\\"id\\\\\\\\\\\\\": \\\\\\\\\\\\\"f843fd7a-d7ad-487b-9033-13dddc5b4e95\\\\\\\\\\\\\", \\\\\\\\\\\\\"type\\\\\\\\\\\\\": \\\\\\\\\\\\\"Microsoft.DPrep.GetFilesBlock\\\\\\\\\\\\\", \\\\\\\\\\\\\"arguments\\\\\\\\\\\\\": {\\\\\\\\\\\\\"isArchive\\\\\\\\\\\\\": false, \\\\\\\\\\\\\"path\\\\\\\\\\\\\": {\\\\\\\\\\\\\"target\\\\\\\\\\\\\": 4, \\\\\\\\\\\\\"resourceDetails\\\\\\\\\\\\\": [{\\\\\\\\\\\\\"path\\\\\\\\\\\\\": \\\\\\\\\\\\\"https://raw.githubusercontent.com/Ayoyinka-Sofuwa/Capstone-project/main/Breast_cancer_data.csv\\\\\\\\\\\\\"}]}}, \\\\\\\\\\\\\"localData\\\\\\\\\\\\\": {}, \\\\\\\\\\\\\"isEnabled\\\\\\\\\\\\\": true, \\\\\\\\\\\\\"name\\\\\\\\\\\\\": null, \\\\\\\\\\\\\"annotation\\\\\\\\\\\\\": null}, {\\\\\\\\\\\\\"id\\\\\\\\\\\\\": \\\\\\\\\\\\\"2a08707b-0f83-4d57-82c3-bf001f5866d8\\\\\\\\\\\\\", \\\\\\\\\\\\\"type\\\\\\\\\\\\\": \\\\\\\\\\\\\"Microsoft.DPrep.ParseDelimitedBlock\\\\\\\\\\\\\", \\\\\\\\\\\\\"arguments\\\\\\\\\\\\\": {\\\\\\\\\\\\\"columnHeadersMode\\\\\\\\\\\\\": 3, \\\\\\\\\\\\\"fileEncoding\\\\\\\\\\\\\": 0, \\\\\\\\\\\\\"handleQuotedLineBreaks\\\\\\\\\\\\\": false, \\\\\\\\\\\\\"preview\\\\\\\\\\\\\": false, \\\\\\\\\\\\\"separator\\\\\\\\\\\\\": \\\\\\\\\\\\\",\\\\\\\\\\\\\", \\\\\\\\\\\\\"skipRows\\\\\\\\\\\\\": 0, \\\\\\\\\\\\\"skipRowsMode\\\\\\\\\\\\\": 0}, \\\\\\\\\\\\\"localData\\\\\\\\\\\\\": {}, \\\\\\\\\\\\\"isEnabled\\\\\\\\\\\\\": true, \\\\\\\\\\\\\"name\\\\\\\\\\\\\": null, \\\\\\\\\\\\\"annotation\\\\\\\\\\\\\": null}, {\\\\\\\\\\\\\"id\\\\\\\\\\\\\": \\\\\\\\\\\\\"cb37c74c-ed5a-4947-aa7a-288f28c0c954\\\\\\\\\\\\\", \\\\\\\\\\\\\"type\\\\\\\\\\\\\": \\\\\\\\\\\\\"Microsoft.DPrep.DropColumnsBlock\\\\\\\\\\\\\", \\\\\\\\\\\\\"arguments\\\\\\\\\\\\\": {\\\\\\\\\\\\\"columns\\\\\\\\\\\\\": {\\\\\\\\\\\\\"type\\\\\\\\\\\\\": 0, \\\\\\\\\\\\\"details\\\\\\\\\\\\\": {\\\\\\\\\\\\\"selectedColumns\\\\\\\\\\\\\": [\\\\\\\\\\\\\"Path\\\\\\\\\\\\\"]}}}, \\\\\\\\\\\\\"localData\\\\\\\\\\\\\": {}, \\\\\\\\\\\\\"isEnabled\\\\\\\\\\\\\": true, \\\\\\\\\\\\\"name\\\\\\\\\\\\\": null, \\\\\\\\\\\\\"annotation\\\\\\\\\\\\\": null}, {\\\\\\\\\\\\\"id\\\\\\\\\\\\\": \\\\\\\\\\\\\"1b46f422-95a3-48bb-a804-1f3f29983d7b\\\\\\\\\\\\\", \\\\\\\\\\\\\"type\\\\\\\\\\\\\": \\\\\\\\\\\\\"Microsoft.DPrep.SetColumnTypesBlock\\\\\\\\\\\\\", \\\\\\\\\\\\\"arguments\\\\\\\\\\\\\": {\\\\\\\\\\\\\"columnConversion\\\\\\\\\\\\\": [{\\\\\\\\\\\\\"column\\\\\\\\\\\\\": {\\\\\\\\\\\\\"type\\\\\\\\\\\\\": 2, \\\\\\\\\\\\\"details\\\\\\\\\\\\\": {\\\\\\\\\\\\\"selectedColumn\\\\\\\\\\\\\": \\\\\\\\\\\\\"mean_radius\\\\\\\\\\\\\"}}, \\\\\\\\\\\\\"typeProperty\\\\\\\\\\\\\": 3}, {\\\\\\\\\\\\\"column\\\\\\\\\\\\\": {\\\\\\\\\\\\\"type\\\\\\\\\\\\\": 2, \\\\\\\\\\\\\"details\\\\\\\\\\\\\": {\\\\\\\\\\\\\"selectedColumn\\\\\\\\\\\\\": \\\\\\\\\\\\\"mean_texture\\\\\\\\\\\\\"}}, \\\\\\\\\\\\\"typeProperty\\\\\\\\\\\\\": 3}, {\\\\\\\\\\\\\"column\\\\\\\\\\\\\": {\\\\\\\\\\\\\"type\\\\\\\\\\\\\": 2, \\\\\\\\\\\\\"details\\\\\\\\\\\\\": {\\\\\\\\\\\\\"selectedColumn\\\\\\\\\\\\\": \\\\\\\\\\\\\"mean_perimeter\\\\\\\\\\\\\"}}, \\\\\\\\\\\\\"typeProperty\\\\\\\\\\\\\": 3}, {\\\\\\\\\\\\\"column\\\\\\\\\\\\\": {\\\\\\\\\\\\\"type\\\\\\\\\\\\\": 2, \\\\\\\\\\\\\"details\\\\\\\\\\\\\": {\\\\\\\\\\\\\"selectedColumn\\\\\\\\\\\\\": \\\\\\\\\\\\\"mean_area\\\\\\\\\\\\\"}}, \\\\\\\\\\\\\"typeProperty\\\\\\\\\\\\\": 3}, {\\\\\\\\\\\\\"column\\\\\\\\\\\\\": {\\\\\\\\\\\\\"type\\\\\\\\\\\\\": 2, \\\\\\\\\\\\\"details\\\\\\\\\\\\\": {\\\\\\\\\\\\\"selectedColumn\\\\\\\\\\\\\": \\\\\\\\\\\\\"mean_smoothness\\\\\\\\\\\\\"}}, \\\\\\\\\\\\\"typeProperty\\\\\\\\\\\\\": 3}, {\\\\\\\\\\\\\"column\\\\\\\\\\\\\": {\\\\\\\\\\\\\"type\\\\\\\\\\\\\": 2, \\\\\\\\\\\\\"details\\\\\\\\\\\\\": {\\\\\\\\\\\\\"selectedColumn\\\\\\\\\\\\\": \\\\\\\\\\\\\"diagnosis\\\\\\\\\\\\\"}}, \\\\\\\\\\\\\"typeProperty\\\\\\\\\\\\\": 2}]}, \\\\\\\\\\\\\"localData\\\\\\\\\\\\\": {}, \\\\\\\\\\\\\"isEnabled\\\\\\\\\\\\\": true, \\\\\\\\\\\\\"name\\\\\\\\\\\\\": null, \\\\\\\\\\\\\"annotation\\\\\\\\\\\\\": null}], \\\\\\\\\\\\\"inspectors\\\\\\\\\\\\\": [], \\\\\\\\\\\\\"meta\\\\\\\\\\\\\": {\\\\\\\\\\\\\"savedDatasetId\\\\\\\\\\\\\": \\\\\\\\\\\\\"04b971a3-8237-408d-a698-c6a0798e4528\\\\\\\\\\\\\", \\\\\\\\\\\\\"datasetType\\\\\\\\\\\\\": \\\\\\\\\\\\\"tabular\\\\\\\\\\\\\", \\\\\\\\\\\\\"subscriptionId\\\\\\\\\\\\\": \\\\\\\\\\\\\"f9d5a085-54dc-4215-9ba6-dad5d86e60a0\\\\\\\\\\\\\", \\\\\\\\\\\\\"workspaceId\\\\\\\\\\\\\": \\\\\\\\\\\\\"d41cae32-ecb0-4449-9de2-98131b62b2e9\\\\\\\\\\\\\", \\\\\\\\\\\\\"workspaceLocation\\\\\\\\\\\\\": \\\\\\\\\\\\\"southcentralus\\\\\\\\\\\\\"}}\\\\\", \\\\\"activities\\\\\": 0}',\n",
       "  'EnableSubsampling': None,\n",
       "  'runTemplate': 'AutoML',\n",
       "  'azureml.runsource': 'automl',\n",
       "  'display_task_type': 'classification',\n",
       "  'dependencies_versions': '{\"azureml-widgets\": \"1.20.0\", \"azureml-train\": \"1.20.0\", \"azureml-train-restclients-hyperdrive\": \"1.20.0\", \"azureml-train-core\": \"1.20.0\", \"azureml-train-automl\": \"1.20.0\", \"azureml-train-automl-runtime\": \"1.20.0\", \"azureml-train-automl-client\": \"1.20.0\", \"azureml-tensorboard\": \"1.20.0\", \"azureml-telemetry\": \"1.20.0\", \"azureml-sdk\": \"1.20.0\", \"azureml-samples\": \"0+unknown\", \"azureml-pipeline\": \"1.20.0\", \"azureml-pipeline-steps\": \"1.20.0\", \"azureml-pipeline-core\": \"1.20.0\", \"azureml-opendatasets\": \"1.20.0\", \"azureml-model-management-sdk\": \"1.0.1b6.post1\", \"azureml-mlflow\": \"1.20.0.post1\", \"azureml-interpret\": \"1.20.0\", \"azureml-explain-model\": \"1.20.0\", \"azureml-defaults\": \"1.20.0\", \"azureml-dataset-runtime\": \"1.20.0\", \"azureml-dataprep\": \"2.7.3\", \"azureml-dataprep-rslex\": \"1.5.0\", \"azureml-dataprep-native\": \"27.0.0\", \"azureml-datadrift\": \"1.20.0\", \"azureml-core\": \"1.20.0\", \"azureml-contrib-services\": \"1.20.0\", \"azureml-contrib-server\": \"1.20.0\", \"azureml-contrib-reinforcementlearning\": \"1.20.0\", \"azureml-contrib-pipeline-steps\": \"1.20.0\", \"azureml-contrib-notebook\": \"1.20.0\", \"azureml-contrib-interpret\": \"1.20.0\", \"azureml-contrib-gbdt\": \"1.20.0\", \"azureml-contrib-fairness\": \"1.20.0\", \"azureml-contrib-dataset\": \"1.20.0\", \"azureml-cli-common\": \"1.20.0\", \"azureml-automl-runtime\": \"1.20.0\", \"azureml-automl-core\": \"1.20.0\", \"azureml-accel-models\": \"1.20.0\"}',\n",
       "  '_aml_system_scenario_identification': 'Remote.Parent',\n",
       "  'ClientType': 'SDK',\n",
       "  'environment_cpu_name': 'AzureML-AutoML',\n",
       "  'environment_cpu_label': 'prod',\n",
       "  'environment_gpu_name': 'AzureML-AutoML-GPU',\n",
       "  'environment_gpu_label': 'prod',\n",
       "  'root_attribution': 'automl',\n",
       "  'attribution': 'AutoML',\n",
       "  'Orchestrator': 'AutoML',\n",
       "  'CancelUri': 'https://southcentralus.experiments.azureml.net/jasmine/v1.0/subscriptions/f9d5a085-54dc-4215-9ba6-dad5d86e60a0/resourceGroups/aml-quickstarts-139015/providers/Microsoft.MachineLearningServices/workspaces/quick-starts-ws-139015/experimentids/71dfa162-c30d-4cf8-825c-38e9dcba95ab/cancel/AutoML_664193cb-b6c8-4931-8be5-b39bb8fc5856',\n",
       "  'ClientSdkVersion': '1.21.0',\n",
       "  'snapshotId': '00000000-0000-0000-0000-000000000000',\n",
       "  'SetupRunId': 'AutoML_664193cb-b6c8-4931-8be5-b39bb8fc5856_setup',\n",
       "  'SetupRunContainerId': 'dcid.AutoML_664193cb-b6c8-4931-8be5-b39bb8fc5856_setup',\n",
       "  'FeaturizationRunJsonPath': 'featurizer_container.json',\n",
       "  'FeaturizationRunId': 'AutoML_664193cb-b6c8-4931-8be5-b39bb8fc5856_featurize',\n",
       "  'ProblemInfoJsonString': '{\"dataset_num_categorical\": 0, \"is_sparse\": false, \"subsampling\": false, \"dataset_classes\": 2, \"dataset_features\": 5, \"dataset_samples\": 569, \"single_frequency_class_detected\": false}',\n",
       "  'ModelExplainRunId': 'AutoML_664193cb-b6c8-4931-8be5-b39bb8fc5856_ModelExplain'},\n",
       " 'inputDatasets': [{'dataset': {'id': '04b971a3-8237-408d-a698-c6a0798e4528'}, 'consumptionDetails': {'type': 'RunInput', 'inputName': 'training_data', 'mechanism': 'Direct'}}],\n",
       " 'outputDatasets': [],\n",
       " 'logFiles': {},\n",
       " 'submittedBy': 'ODL_User 139015'}"
      ]
     },
     "execution_count": 8,
     "metadata": {},
     "output_type": "execute_result"
    }
   ],
   "source": [
    "automl_run.wait_for_completion(show_output=True)"
   ]
  },
  {
   "cell_type": "markdown",
   "metadata": {},
   "source": [
    "## Best Model\n",
    "\n",
    "TODO: In the cell below, get the best model from the automl experiments and display all the properties of the model.\n",
    "\n"
   ]
  },
  {
   "cell_type": "code",
   "execution_count": 13,
   "metadata": {
    "gather": {
     "logged": 1598431425670
    },
    "jupyter": {
     "outputs_hidden": false,
     "source_hidden": false
    },
    "nteract": {
     "transient": {
      "deleting": false
     }
    }
   },
   "outputs": [
    {
     "name": "stderr",
     "output_type": "stream",
     "text": [
      "WARNING:root:The version of the SDK does not match the version the model was trained on.\n",
      "WARNING:root:The consistency in the result may not be guaranteed.\n",
      "WARNING:root:Package:azureml-automl-core, training version:1.21.0, current version:1.20.0\n",
      "Package:azureml-automl-runtime, training version:1.21.0, current version:1.20.0\n",
      "Package:azureml-core, training version:1.21.0.post1, current version:1.20.0\n",
      "Package:azureml-dataprep, training version:2.8.2, current version:2.7.3\n",
      "Package:azureml-dataprep-native, training version:28.0.0, current version:27.0.0\n",
      "Package:azureml-dataprep-rslex, training version:1.6.0, current version:1.5.0\n",
      "Package:azureml-dataset-runtime, training version:1.21.0, current version:1.20.0\n",
      "Package:azureml-defaults, training version:1.21.0, current version:1.20.0\n",
      "Package:azureml-interpret, training version:1.21.0, current version:1.20.0\n",
      "Package:azureml-pipeline-core, training version:1.21.0, current version:1.20.0\n",
      "Package:azureml-telemetry, training version:1.21.0, current version:1.20.0\n",
      "Package:azureml-train-automl-client, training version:1.21.0, current version:1.20.0\n",
      "Package:azureml-train-automl-runtime, training version:1.21.0, current version:1.20.0\n",
      "WARNING:root:Please ensure the version of your local conda dependencies match the version on which your model was trained in order to properly retrieve your model.\n"
     ]
    },
    {
     "name": "stdout",
     "output_type": "stream",
     "text": [
      "Current provisioning state of AmlCompute is \"Deleting\"\n",
      "\n"
     ]
    }
   ],
   "source": [
    "best_model= automl_run.get_output()"
   ]
  },
  {
   "cell_type": "code",
   "execution_count": 10,
   "metadata": {
    "gather": {
     "logged": 1598431426111
    },
    "jupyter": {
     "outputs_hidden": false,
     "source_hidden": false
    },
    "nteract": {
     "transient": {
      "deleting": false
     }
    }
   },
   "outputs": [],
   "source": [
    "#TODO: Save the best model\n",
    "from azureml.automl.runtime.onnx_convert import OnnxConverter\n",
    "\n",
    "best_model, onnx_model= automl_run.get_output(return_onnx_model=True)"
   ]
  },
  {
   "cell_type": "code",
   "execution_count": 11,
   "metadata": {},
   "outputs": [],
   "source": [
    "onnx_path = \"./best_automl_model.onnx\"\n",
    "OnnxConverter.save_onnx_model(onnx_model, file_path=onnx_path)"
   ]
  },
  {
   "cell_type": "markdown",
   "metadata": {},
   "source": [
    "## Model Deployment\n",
    "\n",
    "Remember you have to deploy only one of the two models you trained.. Perform the steps in the rest of this notebook only if you wish to deploy this model.\n",
    "\n",
    "TODO: In the cell below, register the model, create an inference config and deploy the model as a web service."
   ]
  },
  {
   "cell_type": "code",
   "execution_count": null,
   "metadata": {
    "gather": {
     "logged": 1598431435189
    },
    "jupyter": {
     "outputs_hidden": false,
     "source_hidden": false
    },
    "nteract": {
     "transient": {
      "deleting": false
     }
    }
   },
   "outputs": [],
   "source": []
  },
  {
   "cell_type": "markdown",
   "metadata": {
    "collapsed": true,
    "gather": {
     "logged": 1598431657736
    },
    "jupyter": {
     "outputs_hidden": false,
     "source_hidden": false
    },
    "nteract": {
     "transient": {
      "deleting": false
     }
    }
   },
   "source": [
    "TODO: In the cell below, send a request to the web service you deployed to test it."
   ]
  },
  {
   "cell_type": "code",
   "execution_count": null,
   "metadata": {
    "gather": {
     "logged": 1598432707604
    },
    "jupyter": {
     "outputs_hidden": false,
     "source_hidden": false
    },
    "nteract": {
     "transient": {
      "deleting": false
     }
    }
   },
   "outputs": [],
   "source": []
  },
  {
   "cell_type": "markdown",
   "metadata": {
    "collapsed": true,
    "gather": {
     "logged": 1598432765711
    },
    "jupyter": {
     "outputs_hidden": false,
     "source_hidden": false
    },
    "nteract": {
     "transient": {
      "deleting": false
     }
    }
   },
   "source": [
    "TODO: In the cell below, print the logs of the web service and delete the service"
   ]
  },
  {
   "cell_type": "code",
   "execution_count": null,
   "metadata": {
    "jupyter": {
     "outputs_hidden": false,
     "source_hidden": false
    },
    "nteract": {
     "transient": {
      "deleting": false
     }
    }
   },
   "outputs": [],
   "source": []
  },
  {
   "cell_type": "code",
   "execution_count": 12,
   "metadata": {},
   "outputs": [],
   "source": [
    "compute_target.delete()"
   ]
  }
 ],
 "metadata": {
  "kernel_info": {
   "name": "python3-azureml"
  },
  "kernelspec": {
   "display_name": "Python 3",
   "language": "python",
   "name": "python3"
  },
  "language_info": {
   "codemirror_mode": {
    "name": "ipython",
    "version": 3
   },
   "file_extension": ".py",
   "mimetype": "text/x-python",
   "name": "python",
   "nbconvert_exporter": "python",
   "pygments_lexer": "ipython3",
   "version": "3.6.9"
  },
  "nteract": {
   "version": "nteract-front-end@1.0.0"
  }
 },
 "nbformat": 4,
 "nbformat_minor": 2
}
