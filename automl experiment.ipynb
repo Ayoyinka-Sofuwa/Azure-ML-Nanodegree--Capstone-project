{
 "cells": [
  {
   "cell_type": "markdown",
   "metadata": {},
   "source": [
    "# Automated ML\n",
    "\n",
    "TODO: Import Dependencies. In the cell below, import all the dependencies that you will need to complete the project."
   ]
  },
  {
   "cell_type": "code",
   "execution_count": 1,
   "metadata": {
    "gather": {
     "logged": 1598423888013
    },
    "jupyter": {
     "outputs_hidden": false,
     "source_hidden": false
    },
    "nteract": {
     "transient": {
      "deleting": false
     }
    }
   },
   "outputs": [
    {
     "name": "stdout",
     "output_type": "stream",
     "text": [
      "Sdk version is: 1.22.0\n"
     ]
    }
   ],
   "source": [
    "from azureml.core.experiment import Experiment\n",
    "from azureml.core.workspace import Workspace\n",
    "from azureml.train.automl import AutoMLConfig\n",
    "from azureml.core.dataset import Dataset\n",
    "from azureml.data.dataset_factory import TabularDatasetFactory\n",
    "\n",
    "print(\"Sdk version is:\", azureml.core.VERSION)"
   ]
  },
  {
   "cell_type": "markdown",
   "metadata": {},
   "source": [
    "##### Set up workspace and experiment\n",
    "\n",
    "* Set up compute cluster"
   ]
  },
  {
   "cell_type": "code",
   "execution_count": 2,
   "metadata": {
    "gather": {
     "logged": 1598423890461
    },
    "jupyter": {
     "outputs_hidden": false,
     "source_hidden": false
    },
    "nteract": {
     "transient": {
      "deleting": false
     }
    }
   },
   "outputs": [],
   "source": [
    "ws = Workspace.from_config()\n",
    "\n",
    "# choose a name for experiment\n",
    "experiment_name = 'automl-exp'\n",
    "project_folder = \"./automl-project\"\n",
    "\n",
    "exp=Experiment(ws, experiment_name)"
   ]
  },
  {
   "cell_type": "code",
   "execution_count": 3,
   "metadata": {},
   "outputs": [
    {
     "name": "stdout",
     "output_type": "stream",
     "text": [
      "Creating\n",
      "Succeeded.......................\n",
      "AmlCompute wait for completion finished\n",
      "\n",
      "Minimum number of nodes requested have been provisioned\n"
     ]
    },
    {
     "data": {
      "text/plain": [
       "<azureml.core.compute.amlcompute.AmlComputeStatus at 0x7f9da0a78588>"
      ]
     },
     "execution_count": 3,
     "metadata": {},
     "output_type": "execute_result"
    }
   ],
   "source": [
    "from azureml.core.compute_target import ComputeTargetException\n",
    "from azureml.core.compute import AmlCompute\n",
    "from azureml.core.compute import ComputeTarget\n",
    "\n",
    "cluster_name= \"AML-Cluster\"\n",
    "\n",
    "#Verify that cluster does not exist already\n",
    "try:\n",
    "    compute_target = ComputeTarget(workspace=ws, name=cluster_name)\n",
    "    print('Found existing cluster, use it.')\n",
    "    \n",
    "except ComputeTargetException:\n",
    "    compute_config = AmlCompute.provisioning_configuration(vm_size='STANDARD_DS12_v2',\n",
    "                                                           min_nodes=1, max_nodes=5)\n",
    "    \n",
    "    compute_target = ComputeTarget.create(ws, cluster_name, compute_config)\n",
    "\n",
    "compute_target.wait_for_completion(show_output=True, min_node_count = 1, timeout_in_minutes = 10)\n",
    "compute_target.get_status()"
   ]
  },
  {
   "cell_type": "markdown",
   "metadata": {},
   "source": [
    "## Dataset\n",
    "\n",
    "### Overview\n",
    "TODO: In this markdown cell, give an overview of the dataset you are using. Also mention the task you will be performing.\n",
    "\n",
    "\n",
    "TODO: Get data. In the cell below, write code to access the data you will be using in this project. Remember that the dataset needs to be external."
   ]
  },
  {
   "cell_type": "markdown",
   "metadata": {},
   "source": [
    "Breast Cancer is the most common type of cancer women experience worldwide, it is usually first observed in lumps or masses that develop in the breast, while some of these lumps or masses may not be cancerous and may be due to other hormonal complications, some of these lumps turn out to be cancerous. This is why this dataset generated focuses mainly on the side, texture and features of the lumps to determine if they will be cancerous or not.\n",
    "\n",
    "In this data, I have 6 columns:\n",
    "* The mean radius\n",
    "* mean texture\n",
    "* mean perimeter\n",
    "* mean area\n",
    "* mean smoothness\n",
    "* diagnosis\n",
    "\n",
    "The Diagnosis feature is the labeled data for our classification experiment that gives the input for women whose lumps are diagnosed as cancerous or not.\n",
    "The column is already encoded where 1 means a cancerous lump and 0 means a non cancerous lump."
   ]
  },
  {
   "cell_type": "markdown",
   "metadata": {},
   "source": [
    "For this project, I'll be using the breast cancer dataset that contains features centered on the size and area of the tumor to determine if it's cancerous or not, or otherwise: malignant or benign.\n",
    "\n",
    "This task is going to be a classification task which decides only two variables; cancerous or not."
   ]
  },
  {
   "cell_type": "code",
   "execution_count": 4,
   "metadata": {},
   "outputs": [
    {
     "data": {
      "text/html": [
       "<div>\n",
       "<style scoped>\n",
       "    .dataframe tbody tr th:only-of-type {\n",
       "        vertical-align: middle;\n",
       "    }\n",
       "\n",
       "    .dataframe tbody tr th {\n",
       "        vertical-align: top;\n",
       "    }\n",
       "\n",
       "    .dataframe thead th {\n",
       "        text-align: right;\n",
       "    }\n",
       "</style>\n",
       "<table border=\"1\" class=\"dataframe\">\n",
       "  <thead>\n",
       "    <tr style=\"text-align: right;\">\n",
       "      <th></th>\n",
       "      <th>mean_radius</th>\n",
       "      <th>mean_texture</th>\n",
       "      <th>mean_perimeter</th>\n",
       "      <th>mean_area</th>\n",
       "      <th>mean_smoothness</th>\n",
       "      <th>diagnosis</th>\n",
       "    </tr>\n",
       "  </thead>\n",
       "  <tbody>\n",
       "    <tr>\n",
       "      <th>count</th>\n",
       "      <td>569.000000</td>\n",
       "      <td>569.000000</td>\n",
       "      <td>569.000000</td>\n",
       "      <td>569.000000</td>\n",
       "      <td>569.000000</td>\n",
       "      <td>569.000000</td>\n",
       "    </tr>\n",
       "    <tr>\n",
       "      <th>mean</th>\n",
       "      <td>14.127292</td>\n",
       "      <td>19.289649</td>\n",
       "      <td>91.969033</td>\n",
       "      <td>654.889104</td>\n",
       "      <td>0.096360</td>\n",
       "      <td>0.627417</td>\n",
       "    </tr>\n",
       "    <tr>\n",
       "      <th>std</th>\n",
       "      <td>3.524049</td>\n",
       "      <td>4.301036</td>\n",
       "      <td>24.298981</td>\n",
       "      <td>351.914129</td>\n",
       "      <td>0.014064</td>\n",
       "      <td>0.483918</td>\n",
       "    </tr>\n",
       "    <tr>\n",
       "      <th>min</th>\n",
       "      <td>6.981000</td>\n",
       "      <td>9.710000</td>\n",
       "      <td>43.790000</td>\n",
       "      <td>143.500000</td>\n",
       "      <td>0.052630</td>\n",
       "      <td>0.000000</td>\n",
       "    </tr>\n",
       "    <tr>\n",
       "      <th>25%</th>\n",
       "      <td>11.700000</td>\n",
       "      <td>16.170000</td>\n",
       "      <td>75.170000</td>\n",
       "      <td>420.300000</td>\n",
       "      <td>0.086370</td>\n",
       "      <td>0.000000</td>\n",
       "    </tr>\n",
       "    <tr>\n",
       "      <th>50%</th>\n",
       "      <td>13.370000</td>\n",
       "      <td>18.840000</td>\n",
       "      <td>86.240000</td>\n",
       "      <td>551.100000</td>\n",
       "      <td>0.095870</td>\n",
       "      <td>1.000000</td>\n",
       "    </tr>\n",
       "    <tr>\n",
       "      <th>75%</th>\n",
       "      <td>15.780000</td>\n",
       "      <td>21.800000</td>\n",
       "      <td>104.100000</td>\n",
       "      <td>782.700000</td>\n",
       "      <td>0.105300</td>\n",
       "      <td>1.000000</td>\n",
       "    </tr>\n",
       "    <tr>\n",
       "      <th>max</th>\n",
       "      <td>28.110000</td>\n",
       "      <td>39.280000</td>\n",
       "      <td>188.500000</td>\n",
       "      <td>2501.000000</td>\n",
       "      <td>0.163400</td>\n",
       "      <td>1.000000</td>\n",
       "    </tr>\n",
       "  </tbody>\n",
       "</table>\n",
       "</div>"
      ],
      "text/plain": [
       "       mean_radius  mean_texture  mean_perimeter    mean_area  \\\n",
       "count   569.000000    569.000000      569.000000   569.000000   \n",
       "mean     14.127292     19.289649       91.969033   654.889104   \n",
       "std       3.524049      4.301036       24.298981   351.914129   \n",
       "min       6.981000      9.710000       43.790000   143.500000   \n",
       "25%      11.700000     16.170000       75.170000   420.300000   \n",
       "50%      13.370000     18.840000       86.240000   551.100000   \n",
       "75%      15.780000     21.800000      104.100000   782.700000   \n",
       "max      28.110000     39.280000      188.500000  2501.000000   \n",
       "\n",
       "       mean_smoothness   diagnosis  \n",
       "count       569.000000  569.000000  \n",
       "mean          0.096360    0.627417  \n",
       "std           0.014064    0.483918  \n",
       "min           0.052630    0.000000  \n",
       "25%           0.086370    0.000000  \n",
       "50%           0.095870    1.000000  \n",
       "75%           0.105300    1.000000  \n",
       "max           0.163400    1.000000  "
      ]
     },
     "execution_count": 4,
     "metadata": {},
     "output_type": "execute_result"
    }
   ],
   "source": [
    "#load the data\n",
    "found = False\n",
    "key = \"breast-cancer-data\"\n",
    "description_text = \"breast cancer prediction for third Project\"\n",
    "\n",
    "if key in ws.datasets.keys(): \n",
    "        found = True\n",
    "        dataset = ws.datasets[key] \n",
    "\n",
    "if not found:\n",
    "        # Create AML Dataset and register it into Workspace\n",
    "        data = 'https://raw.githubusercontent.com/Ayoyinka-Sofuwa/Capstone-project/main/Breast_cancer_data.csv'\n",
    "        dataset = Dataset.Tabular.from_delimited_files(data)        \n",
    "        #Register Dataset in Workspace\n",
    "        dataset = dataset.register(workspace=ws,\n",
    "                                   name=key,\n",
    "                                   description=description_text)\n",
    "\n",
    "\n",
    "df = dataset.to_pandas_dataframe()\n",
    "\n",
    "df.describe()"
   ]
  },
  {
   "cell_type": "markdown",
   "metadata": {},
   "source": [
    "## AutoML Configuration\n",
    "\n",
    "TODO: Explain why you chose the automl settings and cofiguration you used below."
   ]
  },
  {
   "cell_type": "markdown",
   "metadata": {},
   "source": [
    "In my automl settings, I set the experiment to time out at 30 minutes, run 4 experiments at a time and the primary metric to be highlighted will be the accuracy of each model generated.\n",
    "\n",
    "It is a classification experiment and my target column to be predicted is the diagnosis column. And I configured the automated ML experiment to be Onnx compatible for deployment."
   ]
  },
  {
   "cell_type": "code",
   "execution_count": 5,
   "metadata": {
    "gather": {
     "logged": 1598429217746
    },
    "jupyter": {
     "outputs_hidden": false,
     "source_hidden": false
    },
    "nteract": {
     "transient": {
      "deleting": false
     }
    }
   },
   "outputs": [],
   "source": [
    "#Put your automl settings here\n",
    "automl_settings = {\"experiment_timeout_minutes\": 30,\n",
    "                   \"max_concurrent_iterations\": 4,\n",
    "                   \"primary_metric\" : 'accuracy'}\n",
    "\n",
    "#Put your automl config here\n",
    "automl_config = AutoMLConfig(task = \"classification\",\n",
    "                             training_data=dataset,\n",
    "                             label_column_name=\"diagnosis\",   \n",
    "                             path = project_folder,\n",
    "                             enable_early_stopping= True,\n",
    "                             featurization= 'off',\n",
    "                             enable_onnx_compatible_models=True,\n",
    "                             debug_log = \"automl_errors.log\",\n",
    "                             **automl_settings)"
   ]
  },
  {
   "cell_type": "code",
   "execution_count": 6,
   "metadata": {
    "gather": {
     "logged": 1598431107951
    },
    "jupyter": {
     "outputs_hidden": false,
     "source_hidden": false
    },
    "nteract": {
     "transient": {
      "deleting": false
     }
    }
   },
   "outputs": [
    {
     "name": "stderr",
     "output_type": "stream",
     "text": [
      "WARNING:root:Running on local machine. Note that local runs always run synchronously even if you use the parameter 'show_output=False'\n"
     ]
    }
   ],
   "source": [
    "#Submit your experiment\n",
    "automl_run = exp.submit(automl_config)"
   ]
  },
  {
   "cell_type": "markdown",
   "metadata": {},
   "source": [
    "## Run Details\n",
    "\n",
    "OPTIONAL: Write about the different models trained and their performance. Why do you think some models did better than others?\n",
    "\n",
    "TODO: In the cell below, use the `RunDetails` widget to show the different experiments."
   ]
  },
  {
   "cell_type": "code",
   "execution_count": 7,
   "metadata": {
    "gather": {
     "logged": 1598431121770
    },
    "jupyter": {
     "outputs_hidden": false,
     "source_hidden": false
    },
    "nteract": {
     "transient": {
      "deleting": false
     }
    }
   },
   "outputs": [
    {
     "data": {
      "application/vnd.jupyter.widget-view+json": {
       "model_id": "5df11416e45c4d86aa09a844a8434f50",
       "version_major": 2,
       "version_minor": 0
      },
      "text/plain": [
       "_AutoMLWidget(widget_settings={'childWidgetDisplay': 'popup', 'send_telemetry': False, 'log_level': 'INFO', 's…"
      ]
     },
     "metadata": {},
     "output_type": "display_data"
    },
    {
     "data": {
      "application/aml.mini.widget.v1": "{\"status\": \"Completed\", \"workbench_run_details_uri\": \"https://ml.azure.com/experiments/automl-exp/runs/AutoML_f522ea1c-2bb4-412c-b0e2-702869f6a55f?wsid=/subscriptions/9b72f9e6-56c5-4c16-991b-19c652994860/resourcegroups/aml-quickstarts-140119/workspaces/quick-starts-ws-140119\", \"run_id\": \"AutoML_f522ea1c-2bb4-412c-b0e2-702869f6a55f\", \"run_properties\": {\"run_id\": \"AutoML_f522ea1c-2bb4-412c-b0e2-702869f6a55f\", \"created_utc\": \"2021-03-09T20:05:51.967916Z\", \"properties\": {\"num_iterations\": \"1000\", \"training_type\": \"TrainFull\", \"acquisition_function\": \"EI\", \"primary_metric\": \"accuracy\", \"train_split\": \"0\", \"acquisition_parameter\": \"0\", \"num_cross_validation\": \"10\", \"target\": \"local\", \"AMLSettingsJsonString\": \"{\\\"path\\\":null,\\\"name\\\":\\\"automl-exp\\\",\\\"subscription_id\\\":\\\"9b72f9e6-56c5-4c16-991b-19c652994860\\\",\\\"resource_group\\\":\\\"aml-quickstarts-140119\\\",\\\"workspace_name\\\":\\\"quick-starts-ws-140119\\\",\\\"region\\\":\\\"southcentralus\\\",\\\"compute_target\\\":\\\"local\\\",\\\"spark_service\\\":null,\\\"azure_service\\\":\\\"Microsoft.AzureNotebookVM\\\",\\\"many_models\\\":false,\\\"pipeline_fetch_max_batch_size\\\":1,\\\"iterations\\\":1000,\\\"primary_metric\\\":\\\"accuracy\\\",\\\"task_type\\\":\\\"classification\\\",\\\"data_script\\\":null,\\\"validation_size\\\":0.0,\\\"n_cross_validations\\\":10,\\\"y_min\\\":null,\\\"y_max\\\":null,\\\"num_classes\\\":2,\\\"featurization\\\":\\\"off\\\",\\\"_ignore_package_version_incompatibilities\\\":false,\\\"is_timeseries\\\":false,\\\"max_cores_per_iteration\\\":1,\\\"max_concurrent_iterations\\\":4,\\\"iteration_timeout_minutes\\\":null,\\\"mem_in_mb\\\":null,\\\"enforce_time_on_windows\\\":false,\\\"experiment_timeout_minutes\\\":30,\\\"experiment_exit_score\\\":null,\\\"whitelist_models\\\":null,\\\"blacklist_algos\\\":[\\\"TensorFlowLinearClassifier\\\",\\\"TensorFlowDNN\\\"],\\\"supported_models\\\":[\\\"KNN\\\",\\\"AveragedPerceptronClassifier\\\",\\\"LinearSVM\\\",\\\"MultinomialNaiveBayes\\\",\\\"ExtremeRandomTrees\\\",\\\"SVM\\\",\\\"RandomForest\\\",\\\"BernoulliNaiveBayes\\\",\\\"GradientBoosting\\\",\\\"SGD\\\",\\\"LightGBM\\\",\\\"LogisticRegression\\\",\\\"DecisionTree\\\",\\\"XGBoostClassifier\\\",\\\"TensorFlowLinearClassifier\\\",\\\"TensorFlowDNN\\\"],\\\"private_models\\\":[],\\\"auto_blacklist\\\":true,\\\"blacklist_samples_reached\\\":false,\\\"exclude_nan_labels\\\":true,\\\"verbosity\\\":20,\\\"_debug_log\\\":\\\"automl_errors.log\\\",\\\"show_warnings\\\":false,\\\"model_explainability\\\":true,\\\"service_url\\\":null,\\\"sdk_url\\\":null,\\\"sdk_packages\\\":null,\\\"enable_onnx_compatible_models\\\":true,\\\"enable_split_onnx_featurizer_estimator_models\\\":false,\\\"vm_type\\\":null,\\\"telemetry_verbosity\\\":20,\\\"send_telemetry\\\":true,\\\"enable_dnn\\\":false,\\\"scenario\\\":\\\"SDK-1.13.0\\\",\\\"environment_label\\\":null,\\\"force_text_dnn\\\":false,\\\"enable_feature_sweeping\\\":false,\\\"enable_early_stopping\\\":true,\\\"early_stopping_n_iters\\\":10,\\\"metrics\\\":null,\\\"enable_ensembling\\\":true,\\\"enable_stack_ensembling\\\":false,\\\"ensemble_iterations\\\":15,\\\"enable_tf\\\":false,\\\"enable_subsampling\\\":null,\\\"subsample_seed\\\":null,\\\"enable_nimbusml\\\":false,\\\"enable_streaming\\\":false,\\\"force_streaming\\\":false,\\\"track_child_runs\\\":true,\\\"allowed_private_models\\\":[],\\\"label_column_name\\\":\\\"diagnosis\\\",\\\"weight_column_name\\\":null,\\\"cv_split_column_names\\\":null,\\\"enable_local_managed\\\":false,\\\"_local_managed_run_id\\\":null,\\\"cost_mode\\\":1,\\\"lag_length\\\":0,\\\"metric_operation\\\":\\\"maximize\\\",\\\"preprocess\\\":false}\", \"DataPrepJsonString\": \"{\\\\\\\"training_data\\\\\\\": \\\\\\\"{\\\\\\\\\\\\\\\"blocks\\\\\\\\\\\\\\\": [{\\\\\\\\\\\\\\\"id\\\\\\\\\\\\\\\": \\\\\\\\\\\\\\\"1026872c-7934-46b7-800e-a844b7da1efd\\\\\\\\\\\\\\\", \\\\\\\\\\\\\\\"type\\\\\\\\\\\\\\\": \\\\\\\\\\\\\\\"Microsoft.DPrep.GetFilesBlock\\\\\\\\\\\\\\\", \\\\\\\\\\\\\\\"arguments\\\\\\\\\\\\\\\": {\\\\\\\\\\\\\\\"isArchive\\\\\\\\\\\\\\\": false, \\\\\\\\\\\\\\\"path\\\\\\\\\\\\\\\": {\\\\\\\\\\\\\\\"target\\\\\\\\\\\\\\\": 4, \\\\\\\\\\\\\\\"resourceDetails\\\\\\\\\\\\\\\": [{\\\\\\\\\\\\\\\"path\\\\\\\\\\\\\\\": \\\\\\\\\\\\\\\"https://raw.githubusercontent.com/Ayoyinka-Sofuwa/Capstone-project/main/Breast_cancer_data.csv\\\\\\\\\\\\\\\"}]}}, \\\\\\\\\\\\\\\"localData\\\\\\\\\\\\\\\": {}, \\\\\\\\\\\\\\\"isEnabled\\\\\\\\\\\\\\\": true, \\\\\\\\\\\\\\\"name\\\\\\\\\\\\\\\": null, \\\\\\\\\\\\\\\"annotation\\\\\\\\\\\\\\\": null}, {\\\\\\\\\\\\\\\"id\\\\\\\\\\\\\\\": \\\\\\\\\\\\\\\"60bd6662-c092-4121-b158-50834cf76fcc\\\\\\\\\\\\\\\", \\\\\\\\\\\\\\\"type\\\\\\\\\\\\\\\": \\\\\\\\\\\\\\\"Microsoft.DPrep.ParseDelimitedBlock\\\\\\\\\\\\\\\", \\\\\\\\\\\\\\\"arguments\\\\\\\\\\\\\\\": {\\\\\\\\\\\\\\\"columnHeadersMode\\\\\\\\\\\\\\\": 3, \\\\\\\\\\\\\\\"fileEncoding\\\\\\\\\\\\\\\": 0, \\\\\\\\\\\\\\\"handleQuotedLineBreaks\\\\\\\\\\\\\\\": false, \\\\\\\\\\\\\\\"preview\\\\\\\\\\\\\\\": false, \\\\\\\\\\\\\\\"separator\\\\\\\\\\\\\\\": \\\\\\\\\\\\\\\",\\\\\\\\\\\\\\\", \\\\\\\\\\\\\\\"skipRows\\\\\\\\\\\\\\\": 0, \\\\\\\\\\\\\\\"skipRowsMode\\\\\\\\\\\\\\\": 0}, \\\\\\\\\\\\\\\"localData\\\\\\\\\\\\\\\": {}, \\\\\\\\\\\\\\\"isEnabled\\\\\\\\\\\\\\\": true, \\\\\\\\\\\\\\\"name\\\\\\\\\\\\\\\": null, \\\\\\\\\\\\\\\"annotation\\\\\\\\\\\\\\\": null}, {\\\\\\\\\\\\\\\"id\\\\\\\\\\\\\\\": \\\\\\\\\\\\\\\"c0dcccc9-ee95-4b18-9fd6-52ac1c441a94\\\\\\\\\\\\\\\", \\\\\\\\\\\\\\\"type\\\\\\\\\\\\\\\": \\\\\\\\\\\\\\\"Microsoft.DPrep.DropColumnsBlock\\\\\\\\\\\\\\\", \\\\\\\\\\\\\\\"arguments\\\\\\\\\\\\\\\": {\\\\\\\\\\\\\\\"columns\\\\\\\\\\\\\\\": {\\\\\\\\\\\\\\\"type\\\\\\\\\\\\\\\": 0, \\\\\\\\\\\\\\\"details\\\\\\\\\\\\\\\": {\\\\\\\\\\\\\\\"selectedColumns\\\\\\\\\\\\\\\": [\\\\\\\\\\\\\\\"Path\\\\\\\\\\\\\\\"]}}}, \\\\\\\\\\\\\\\"localData\\\\\\\\\\\\\\\": {}, \\\\\\\\\\\\\\\"isEnabled\\\\\\\\\\\\\\\": true, \\\\\\\\\\\\\\\"name\\\\\\\\\\\\\\\": null, \\\\\\\\\\\\\\\"annotation\\\\\\\\\\\\\\\": null}, {\\\\\\\\\\\\\\\"id\\\\\\\\\\\\\\\": \\\\\\\\\\\\\\\"e9f9ac13-5e05-47c4-92ad-bbcfc161a712\\\\\\\\\\\\\\\", \\\\\\\\\\\\\\\"type\\\\\\\\\\\\\\\": \\\\\\\\\\\\\\\"Microsoft.DPrep.SetColumnTypesBlock\\\\\\\\\\\\\\\", \\\\\\\\\\\\\\\"arguments\\\\\\\\\\\\\\\": {\\\\\\\\\\\\\\\"columnConversion\\\\\\\\\\\\\\\": [{\\\\\\\\\\\\\\\"column\\\\\\\\\\\\\\\": {\\\\\\\\\\\\\\\"type\\\\\\\\\\\\\\\": 2, \\\\\\\\\\\\\\\"details\\\\\\\\\\\\\\\": {\\\\\\\\\\\\\\\"selectedColumn\\\\\\\\\\\\\\\": \\\\\\\\\\\\\\\"mean_radius\\\\\\\\\\\\\\\"}}, \\\\\\\\\\\\\\\"typeProperty\\\\\\\\\\\\\\\": 3}, {\\\\\\\\\\\\\\\"column\\\\\\\\\\\\\\\": {\\\\\\\\\\\\\\\"type\\\\\\\\\\\\\\\": 2, \\\\\\\\\\\\\\\"details\\\\\\\\\\\\\\\": {\\\\\\\\\\\\\\\"selectedColumn\\\\\\\\\\\\\\\": \\\\\\\\\\\\\\\"mean_texture\\\\\\\\\\\\\\\"}}, \\\\\\\\\\\\\\\"typeProperty\\\\\\\\\\\\\\\": 3}, {\\\\\\\\\\\\\\\"column\\\\\\\\\\\\\\\": {\\\\\\\\\\\\\\\"type\\\\\\\\\\\\\\\": 2, \\\\\\\\\\\\\\\"details\\\\\\\\\\\\\\\": {\\\\\\\\\\\\\\\"selectedColumn\\\\\\\\\\\\\\\": \\\\\\\\\\\\\\\"mean_perimeter\\\\\\\\\\\\\\\"}}, \\\\\\\\\\\\\\\"typeProperty\\\\\\\\\\\\\\\": 3}, {\\\\\\\\\\\\\\\"column\\\\\\\\\\\\\\\": {\\\\\\\\\\\\\\\"type\\\\\\\\\\\\\\\": 2, \\\\\\\\\\\\\\\"details\\\\\\\\\\\\\\\": {\\\\\\\\\\\\\\\"selectedColumn\\\\\\\\\\\\\\\": \\\\\\\\\\\\\\\"mean_area\\\\\\\\\\\\\\\"}}, \\\\\\\\\\\\\\\"typeProperty\\\\\\\\\\\\\\\": 3}, {\\\\\\\\\\\\\\\"column\\\\\\\\\\\\\\\": {\\\\\\\\\\\\\\\"type\\\\\\\\\\\\\\\": 2, \\\\\\\\\\\\\\\"details\\\\\\\\\\\\\\\": {\\\\\\\\\\\\\\\"selectedColumn\\\\\\\\\\\\\\\": \\\\\\\\\\\\\\\"mean_smoothness\\\\\\\\\\\\\\\"}}, \\\\\\\\\\\\\\\"typeProperty\\\\\\\\\\\\\\\": 3}, {\\\\\\\\\\\\\\\"column\\\\\\\\\\\\\\\": {\\\\\\\\\\\\\\\"type\\\\\\\\\\\\\\\": 2, \\\\\\\\\\\\\\\"details\\\\\\\\\\\\\\\": {\\\\\\\\\\\\\\\"selectedColumn\\\\\\\\\\\\\\\": \\\\\\\\\\\\\\\"diagnosis\\\\\\\\\\\\\\\"}}, \\\\\\\\\\\\\\\"typeProperty\\\\\\\\\\\\\\\": 2}]}, \\\\\\\\\\\\\\\"localData\\\\\\\\\\\\\\\": {}, \\\\\\\\\\\\\\\"isEnabled\\\\\\\\\\\\\\\": true, \\\\\\\\\\\\\\\"name\\\\\\\\\\\\\\\": null, \\\\\\\\\\\\\\\"annotation\\\\\\\\\\\\\\\": null}], \\\\\\\\\\\\\\\"inspectors\\\\\\\\\\\\\\\": [], \\\\\\\\\\\\\\\"meta\\\\\\\\\\\\\\\": {\\\\\\\\\\\\\\\"savedDatasetId\\\\\\\\\\\\\\\": \\\\\\\\\\\\\\\"d23d1c75-750e-4aac-a9a1-60496175e066\\\\\\\\\\\\\\\", \\\\\\\\\\\\\\\"datasetType\\\\\\\\\\\\\\\": \\\\\\\\\\\\\\\"tabular\\\\\\\\\\\\\\\", \\\\\\\\\\\\\\\"subscriptionId\\\\\\\\\\\\\\\": \\\\\\\\\\\\\\\"9b72f9e6-56c5-4c16-991b-19c652994860\\\\\\\\\\\\\\\", \\\\\\\\\\\\\\\"workspaceId\\\\\\\\\\\\\\\": \\\\\\\\\\\\\\\"8e6e6ae1-17be-4cc9-99b1-57d9c1aa9306\\\\\\\\\\\\\\\", \\\\\\\\\\\\\\\"workspaceLocation\\\\\\\\\\\\\\\": \\\\\\\\\\\\\\\"southcentralus\\\\\\\\\\\\\\\"}}\\\\\\\", \\\\\\\"activities\\\\\\\": 0}\", \"EnableSubsampling\": null, \"runTemplate\": \"AutoML\", \"azureml.runsource\": \"automl\", \"display_task_type\": \"classification\", \"dependencies_versions\": \"{\\\"azureml-widgets\\\": \\\"1.22.0\\\", \\\"azureml-train\\\": \\\"1.22.0\\\", \\\"azureml-train-restclients-hyperdrive\\\": \\\"1.22.0\\\", \\\"azureml-train-core\\\": \\\"1.22.0\\\", \\\"azureml-train-automl\\\": \\\"1.22.0\\\", \\\"azureml-train-automl-runtime\\\": \\\"1.22.0\\\", \\\"azureml-train-automl-client\\\": \\\"1.22.0\\\", \\\"azureml-tensorboard\\\": \\\"1.22.0\\\", \\\"azureml-telemetry\\\": \\\"1.22.0\\\", \\\"azureml-sdk\\\": \\\"1.22.0\\\", \\\"azureml-samples\\\": \\\"0+unknown\\\", \\\"azureml-pipeline\\\": \\\"1.22.0\\\", \\\"azureml-pipeline-steps\\\": \\\"1.22.0\\\", \\\"azureml-pipeline-core\\\": \\\"1.22.0\\\", \\\"azureml-opendatasets\\\": \\\"1.22.0\\\", \\\"azureml-model-management-sdk\\\": \\\"1.0.1b6.post1\\\", \\\"azureml-mlflow\\\": \\\"1.22.0\\\", \\\"azureml-interpret\\\": \\\"1.22.0\\\", \\\"azureml-explain-model\\\": \\\"1.22.0\\\", \\\"azureml-defaults\\\": \\\"1.22.0\\\", \\\"azureml-dataset-runtime\\\": \\\"1.22.0\\\", \\\"azureml-dataprep\\\": \\\"2.9.1\\\", \\\"azureml-dataprep-rslex\\\": \\\"1.7.0\\\", \\\"azureml-dataprep-native\\\": \\\"29.0.0\\\", \\\"azureml-datadrift\\\": \\\"1.22.0\\\", \\\"azureml-core\\\": \\\"1.22.0\\\", \\\"azureml-contrib-services\\\": \\\"1.22.0\\\", \\\"azureml-contrib-server\\\": \\\"1.22.0\\\", \\\"azureml-contrib-reinforcementlearning\\\": \\\"1.22.0\\\", \\\"azureml-contrib-pipeline-steps\\\": \\\"1.22.0\\\", \\\"azureml-contrib-notebook\\\": \\\"1.22.0\\\", \\\"azureml-contrib-interpret\\\": \\\"1.22.0\\\", \\\"azureml-contrib-gbdt\\\": \\\"1.22.0\\\", \\\"azureml-contrib-fairness\\\": \\\"1.22.0\\\", \\\"azureml-contrib-dataset\\\": \\\"1.22.0\\\", \\\"azureml-cli-common\\\": \\\"1.22.0\\\", \\\"azureml-automl-runtime\\\": \\\"1.22.0\\\", \\\"azureml-automl-core\\\": \\\"1.22.0\\\", \\\"azureml-accel-models\\\": \\\"1.22.0\\\"}\", \"_aml_system_scenario_identification\": \"Local.Parent\", \"ClientSdkVersion\": \"1.22.0\", \"ClientType\": \"SDK\", \"environment_cpu_name\": \"AzureML-AutoML\", \"environment_cpu_label\": \"prod\", \"environment_gpu_name\": \"AzureML-AutoML-GPU\", \"environment_gpu_label\": \"prod\", \"root_attribution\": \"automl\", \"attribution\": \"AutoML\", \"Orchestrator\": \"AutoML\", \"_azureml.ComputeTargetType\": \"local\", \"ProblemInfoJsonString\": \"{\\\"dataset_num_categorical\\\": 0, \\\"is_sparse\\\": false, \\\"subsampling\\\": false, \\\"dataset_classes\\\": 2, \\\"dataset_features\\\": 5, \\\"dataset_samples\\\": 569, \\\"single_frequency_class_detected\\\": false}\", \"feature_skus\": \"automatedml_sdk_guardrails\"}, \"tags\": {\"model_explain_run\": \"best_run\", \"best_score\": \"0.9384398496240601\", \"best_pipeline\": \"VotingEnsemble\", \"automl_best_child_run_id\": \"AutoML_f522ea1c-2bb4-412c-b0e2-702869f6a55f_38\", \"model_explain_best_run_child_id\": \"AutoML_f522ea1c-2bb4-412c-b0e2-702869f6a55f_38\"}, \"end_time_utc\": \"2021-03-09T20:25:13.660813Z\", \"status\": \"Completed\", \"log_files\": {}, \"log_groups\": [], \"run_duration\": \"0:19:21\", \"run_number\": \"1\", \"run_queued_details\": {\"status\": \"Completed\", \"details\": null}}, \"child_runs\": [{\"run_id\": \"AutoML_f522ea1c-2bb4-412c-b0e2-702869f6a55f_0\", \"run_number\": 2, \"metric\": null, \"status\": \"Completed\", \"run_type\": null, \"training_percent\": \"100\", \"start_time\": \"2021-03-09T20:05:57.616857Z\", \"end_time\": \"2021-03-09T20:06:28.439174Z\", \"created_time\": \"2021-03-09T20:05:57.498073Z\", \"created_time_dt\": \"2021-03-09T20:05:57.498073Z\", \"duration\": \"0:00:30\", \"iteration\": \"0\", \"goal\": \"accuracy_max\", \"run_name\": \"MaxAbsScaler, LightGBM\", \"run_properties\": \"boosting_type='gbdt', class_weight=None,\\n                   colsample_bytree=1.0, importance_type='split',\\n                   learning_rate=0.1, max_depth=-1, min_child_samples=20,\\n                   min_child_weight=0.001, min_split_gain=0.0, n_estimators=100,\\n                   n_jobs=1, num_leaves=31, objective=None, random_state=None,\\n                   reg_alpha=0.0, reg_lambda=0.0, silent=True, subsample=1.0,\\n                   subsample_for_bin=200000, subsample_freq=0, verbose=-10\", \"primary_metric\": 0.92437343, \"best_metric\": 0.92437343}, {\"run_id\": \"AutoML_f522ea1c-2bb4-412c-b0e2-702869f6a55f_1\", \"run_number\": 3, \"metric\": null, \"status\": \"Failed\", \"run_type\": null, \"training_percent\": \"100\", \"start_time\": \"2021-03-09T20:06:28.827357Z\", \"end_time\": \"2021-03-09T20:06:37.909828Z\", \"created_time\": \"2021-03-09T20:06:28.709368Z\", \"created_time_dt\": \"2021-03-09T20:06:28.709368Z\", \"duration\": \"0:00:09\", \"iteration\": \"1\", \"goal\": \"accuracy_max\", \"run_name\": \"MaxAbsScaler, XGBoostClassifier\", \"run_properties\": \"\"}, {\"run_id\": \"AutoML_f522ea1c-2bb4-412c-b0e2-702869f6a55f_2\", \"run_number\": 4, \"metric\": null, \"status\": \"Completed\", \"run_type\": null, \"training_percent\": \"100\", \"start_time\": \"2021-03-09T20:06:38.615294Z\", \"end_time\": \"2021-03-09T20:07:06.020031Z\", \"created_time\": \"2021-03-09T20:06:38.469265Z\", \"created_time_dt\": \"2021-03-09T20:06:38.469265Z\", \"duration\": \"0:00:27\", \"iteration\": \"2\", \"goal\": \"accuracy_max\", \"run_name\": \"MinMaxScaler, RandomForest\", \"run_properties\": \"bootstrap=False, ccp_alpha=0.0, class_weight=None,\\n                       criterion='gini', max_depth=None, max_features='sqrt',\\n                       max_leaf_nodes=None, max_samples=None,\\n                       min_impurity_decrease=0.0, min_impurity_split=None,\\n                       min_samples_leaf=0.01,\\n                       min_samples_split=0.10368421052631578,\\n                       min_weight_fraction_leaf=0.0, n_estimators=10, n_jobs=1,\\n                       oob_score=False, random_state=None, verbose=0,\\n                       warm_start=False\", \"primary_metric\": 0.91027569, \"best_metric\": 0.92437343}, {\"run_id\": \"AutoML_f522ea1c-2bb4-412c-b0e2-702869f6a55f_3\", \"run_number\": 5, \"metric\": null, \"status\": \"Completed\", \"run_type\": null, \"training_percent\": \"100\", \"start_time\": \"2021-03-09T20:07:07.952309Z\", \"end_time\": \"2021-03-09T20:07:34.618455Z\", \"created_time\": \"2021-03-09T20:07:07.851618Z\", \"created_time_dt\": \"2021-03-09T20:07:07.851618Z\", \"duration\": \"0:00:26\", \"iteration\": \"3\", \"goal\": \"accuracy_max\", \"run_name\": \"MinMaxScaler, RandomForest\", \"run_properties\": \"bootstrap=True, ccp_alpha=0.0, class_weight=None,\\n                       criterion='gini', max_depth=None, max_features='sqrt',\\n                       max_leaf_nodes=None, max_samples=None,\\n                       min_impurity_decrease=0.0, min_impurity_split=None,\\n                       min_samples_leaf=0.035789473684210524,\\n                       min_samples_split=0.01, min_weight_fraction_leaf=0.0,\\n                       n_estimators=10, n_jobs=1, oob_score=True,\\n                       random_state=None, verbose=0, warm_start=False\", \"primary_metric\": 0.90673559, \"best_metric\": 0.92437343}, {\"run_id\": \"AutoML_f522ea1c-2bb4-412c-b0e2-702869f6a55f_4\", \"run_number\": 6, \"metric\": null, \"status\": \"Completed\", \"run_type\": null, \"training_percent\": \"100\", \"start_time\": \"2021-03-09T20:07:36.332637Z\", \"end_time\": \"2021-03-09T20:08:04.968792Z\", \"created_time\": \"2021-03-09T20:07:36.16133Z\", \"created_time_dt\": \"2021-03-09T20:07:36.16133Z\", \"duration\": \"0:00:28\", \"iteration\": \"4\", \"goal\": \"accuracy_max\", \"run_name\": \"MinMaxScaler, RandomForest\", \"run_properties\": \"bootstrap=True, ccp_alpha=0.0, class_weight='balanced',\\n                       criterion='gini', max_depth=None, max_features='log2',\\n                       max_leaf_nodes=None, max_samples=None,\\n                       min_impurity_decrease=0.0, min_impurity_split=None,\\n                       min_samples_leaf=0.01, min_samples_split=0.01,\\n                       min_weight_fraction_leaf=0.0, n_estimators=25, n_jobs=1,\\n                       oob_score=True, random_state=None, verbose=0,\\n                       warm_start=False\", \"primary_metric\": 0.91738722, \"best_metric\": 0.92437343}, {\"run_id\": \"AutoML_f522ea1c-2bb4-412c-b0e2-702869f6a55f_5\", \"run_number\": 7, \"metric\": null, \"status\": \"Completed\", \"run_type\": null, \"training_percent\": \"100\", \"start_time\": \"2021-03-09T20:08:06.477922Z\", \"end_time\": \"2021-03-09T20:08:35.015548Z\", \"created_time\": \"2021-03-09T20:08:06.284021Z\", \"created_time_dt\": \"2021-03-09T20:08:06.284021Z\", \"duration\": \"0:00:28\", \"iteration\": \"5\", \"goal\": \"accuracy_max\", \"run_name\": \"MinMaxScaler, SVM\", \"run_properties\": \"C=159.98587196060572, break_ties=False, cache_size=200,\\n           class_weight=None, coef0=0.0, decision_function_shape='ovr',\\n           degree=3, gamma='scale', kernel='rbf', max_iter=-1, probability=True,\\n           random_state=None, shrinking=True, tol=0.001, verbose=False\", \"primary_metric\": 0.92255639, \"best_metric\": 0.92437343}, {\"run_id\": \"AutoML_f522ea1c-2bb4-412c-b0e2-702869f6a55f_6\", \"run_number\": 8, \"metric\": null, \"status\": \"Completed\", \"run_type\": null, \"training_percent\": \"100\", \"start_time\": \"2021-03-09T20:08:36.502062Z\", \"end_time\": \"2021-03-09T20:09:05.941625Z\", \"created_time\": \"2021-03-09T20:08:36.330937Z\", \"created_time_dt\": \"2021-03-09T20:08:36.330937Z\", \"duration\": \"0:00:29\", \"iteration\": \"6\", \"goal\": \"accuracy_max\", \"run_name\": \"MaxAbsScaler, GradientBoosting\", \"run_properties\": \"ccp_alpha=0.0, criterion='friedman_mse', init=None,\\n                           learning_rate=0.046415888336127774, loss='deviance',\\n                           max_depth=4, max_features=0.4, max_leaf_nodes=None,\\n                           min_impurity_decrease=0.0, min_impurity_split=None,\\n                           min_samples_leaf=0.08736842105263157,\\n                           min_samples_split=0.5252631578947369,\\n                           min_weight_fraction_leaf=0.0, n_estimators=100,\\n                           n_iter_no_change=None, presort='deprecated',\\n                           random_state=None, subsample=1, tol=0.0001,\\n                           validation_fraction=0.1, verbose=0,\\n                           warm_start=False\", \"primary_metric\": 0.92785088, \"best_metric\": 0.92785088}, {\"run_id\": \"AutoML_f522ea1c-2bb4-412c-b0e2-702869f6a55f_7\", \"run_number\": 9, \"metric\": null, \"status\": \"Completed\", \"run_type\": null, \"training_percent\": \"100\", \"start_time\": \"2021-03-09T20:09:07.674486Z\", \"end_time\": \"2021-03-09T20:09:35.822024Z\", \"created_time\": \"2021-03-09T20:09:07.275055Z\", \"created_time_dt\": \"2021-03-09T20:09:07.275055Z\", \"duration\": \"0:00:28\", \"iteration\": \"7\", \"goal\": \"accuracy_max\", \"run_name\": \"StandardScalerWrapper, RandomForest\", \"run_properties\": \"bootstrap=False, ccp_alpha=0.0, class_weight=None,\\n                       criterion='entropy', max_depth=None, max_features=0.2,\\n                       max_leaf_nodes=None, max_samples=None,\\n                       min_impurity_decrease=0.0, min_impurity_split=None,\\n                       min_samples_leaf=0.01,\\n                       min_samples_split=0.10368421052631578,\\n                       min_weight_fraction_leaf=0.0, n_estimators=25, n_jobs=1,\\n                       oob_score=False, random_state=None, verbose=0,\\n                       warm_start=False\", \"primary_metric\": 0.91378446, \"best_metric\": 0.92785088}, {\"run_id\": \"AutoML_f522ea1c-2bb4-412c-b0e2-702869f6a55f_8\", \"run_number\": 10, \"metric\": null, \"status\": \"Failed\", \"run_type\": null, \"training_percent\": \"100\", \"start_time\": \"2021-03-09T20:09:37.468776Z\", \"end_time\": \"2021-03-09T20:09:46.34025Z\", \"created_time\": \"2021-03-09T20:09:37.265844Z\", \"created_time_dt\": \"2021-03-09T20:09:37.265844Z\", \"duration\": \"0:00:09\", \"iteration\": \"8\", \"goal\": \"accuracy_max\", \"run_name\": \"SparseNormalizer, XGBoostClassifier\", \"run_properties\": \"\"}, {\"run_id\": \"AutoML_f522ea1c-2bb4-412c-b0e2-702869f6a55f_9\", \"run_number\": 11, \"metric\": null, \"status\": \"Completed\", \"run_type\": null, \"training_percent\": \"100\", \"start_time\": \"2021-03-09T20:09:47.889113Z\", \"end_time\": \"2021-03-09T20:10:24.816269Z\", \"created_time\": \"2021-03-09T20:09:47.722184Z\", \"created_time_dt\": \"2021-03-09T20:09:47.722184Z\", \"duration\": \"0:00:37\", \"iteration\": \"9\", \"goal\": \"accuracy_max\", \"run_name\": \"MaxAbsScaler, SVM\", \"run_properties\": \"C=6866.488450042998, break_ties=False, cache_size=200,\\n           class_weight='balanced', coef0=0.0, decision_function_shape='ovr',\\n           degree=3, gamma='scale', kernel='rbf', max_iter=-1, probability=True,\\n           random_state=None, shrinking=True, tol=0.001, verbose=False\", \"primary_metric\": 0.91907895, \"best_metric\": 0.92785088}, {\"run_id\": \"AutoML_f522ea1c-2bb4-412c-b0e2-702869f6a55f_10\", \"run_number\": 12, \"metric\": null, \"status\": \"Completed\", \"run_type\": null, \"training_percent\": \"100\", \"start_time\": \"2021-03-09T20:10:26.200423Z\", \"end_time\": \"2021-03-09T20:10:53.466607Z\", \"created_time\": \"2021-03-09T20:10:26.043263Z\", \"created_time_dt\": \"2021-03-09T20:10:26.043263Z\", \"duration\": \"0:00:27\", \"iteration\": \"10\", \"goal\": \"accuracy_max\", \"run_name\": \"MaxAbsScaler, LightGBM\", \"run_properties\": \"boosting_type='gbdt', class_weight=None,\\n                   colsample_bytree=0.1988888888888889, importance_type='split',\\n                   learning_rate=0.04737368421052632, max_bin=280, max_depth=7,\\n                   min_child_samples=20, min_child_weight=3,\\n                   min_split_gain=0.7894736842105263, n_estimators=50, n_jobs=1,\\n                   num_leaves=89, objective=None, random_state=None,\\n                   reg_alpha=0.5263157894736842, reg_lambda=0.7894736842105263,\\n                   silent=True, subsample=0.5942105263157895,\\n                   subsample_for_bin=200000, subsample_freq=0, verbose=-10\", \"primary_metric\": 0.91553885, \"best_metric\": 0.92785088}, {\"run_id\": \"AutoML_f522ea1c-2bb4-412c-b0e2-702869f6a55f_11\", \"run_number\": 13, \"metric\": null, \"status\": \"Completed\", \"run_type\": null, \"training_percent\": \"100\", \"start_time\": \"2021-03-09T20:10:54.907796Z\", \"end_time\": \"2021-03-09T20:11:29.978518Z\", \"created_time\": \"2021-03-09T20:10:54.753219Z\", \"created_time_dt\": \"2021-03-09T20:10:54.753219Z\", \"duration\": \"0:00:35\", \"iteration\": \"11\", \"goal\": \"accuracy_max\", \"run_name\": \"MinMaxScaler, ExtremeRandomTrees\", \"run_properties\": \"bootstrap=False, ccp_alpha=0.0, class_weight='balanced',\\n                     criterion='gini', max_depth=None, max_features=0.9,\\n                     max_leaf_nodes=None, max_samples=None,\\n                     min_impurity_decrease=0.0, min_impurity_split=None,\\n                     min_samples_leaf=0.08736842105263157,\\n                     min_samples_split=0.01, min_weight_fraction_leaf=0.0,\\n                     n_estimators=100, n_jobs=1, oob_score=False,\\n                     random_state=None, verbose=0, warm_start=False\", \"primary_metric\": 0.8927005, \"best_metric\": 0.92785088}, {\"run_id\": \"AutoML_f522ea1c-2bb4-412c-b0e2-702869f6a55f_12\", \"run_number\": 14, \"metric\": null, \"status\": \"Completed\", \"run_type\": null, \"training_percent\": \"100\", \"start_time\": \"2021-03-09T20:11:31.480021Z\", \"end_time\": \"2021-03-09T20:12:08.535484Z\", \"created_time\": \"2021-03-09T20:11:31.29339Z\", \"created_time_dt\": \"2021-03-09T20:11:31.29339Z\", \"duration\": \"0:00:37\", \"iteration\": \"12\", \"goal\": \"accuracy_max\", \"run_name\": \"MaxAbsScaler, RandomForest\", \"run_properties\": \"bootstrap=True, ccp_alpha=0.0, class_weight=None,\\n                       criterion='gini', max_depth=None, max_features=0.3,\\n                       max_leaf_nodes=None, max_samples=None,\\n                       min_impurity_decrease=0.0, min_impurity_split=None,\\n                       min_samples_leaf=0.06157894736842105,\\n                       min_samples_split=0.01, min_weight_fraction_leaf=0.0,\\n                       n_estimators=200, n_jobs=1, oob_score=True,\\n                       random_state=None, verbose=0, warm_start=False\", \"primary_metric\": 0.90673559, \"best_metric\": 0.92785088}, {\"run_id\": \"AutoML_f522ea1c-2bb4-412c-b0e2-702869f6a55f_13\", \"run_number\": 15, \"metric\": null, \"status\": \"Completed\", \"run_type\": null, \"training_percent\": \"100\", \"start_time\": \"2021-03-09T20:12:10.061539Z\", \"end_time\": \"2021-03-09T20:12:45.410294Z\", \"created_time\": \"2021-03-09T20:12:09.903952Z\", \"created_time_dt\": \"2021-03-09T20:12:09.903952Z\", \"duration\": \"0:00:35\", \"iteration\": \"13\", \"goal\": \"accuracy_max\", \"run_name\": \"StandardScalerWrapper, ExtremeRandomTrees\", \"run_properties\": \"bootstrap=True, ccp_alpha=0.0, class_weight=None,\\n                     criterion='entropy', max_depth=None, max_features=0.5,\\n                     max_leaf_nodes=None, max_samples=None,\\n                     min_impurity_decrease=0.0, min_impurity_split=None,\\n                     min_samples_leaf=0.035789473684210524,\\n                     min_samples_split=0.01, min_weight_fraction_leaf=0.0,\\n                     n_estimators=25, n_jobs=1, oob_score=True,\\n                     random_state=None, verbose=0, warm_start=False\", \"primary_metric\": 0.87343358, \"best_metric\": 0.92785088}, {\"run_id\": \"AutoML_f522ea1c-2bb4-412c-b0e2-702869f6a55f_14\", \"run_number\": 16, \"metric\": null, \"status\": \"Failed\", \"run_type\": null, \"training_percent\": \"100\", \"start_time\": \"2021-03-09T20:12:46.737475Z\", \"end_time\": \"2021-03-09T20:12:54.978837Z\", \"created_time\": \"2021-03-09T20:12:46.633132Z\", \"created_time_dt\": \"2021-03-09T20:12:46.633132Z\", \"duration\": \"0:00:08\", \"iteration\": \"14\", \"goal\": \"accuracy_max\", \"run_name\": \"SparseNormalizer, XGBoostClassifier\", \"run_properties\": \"\"}, {\"run_id\": \"AutoML_f522ea1c-2bb4-412c-b0e2-702869f6a55f_15\", \"run_number\": 17, \"metric\": null, \"status\": \"Completed\", \"run_type\": null, \"training_percent\": \"100\", \"start_time\": \"2021-03-09T20:12:56.309637Z\", \"end_time\": \"2021-03-09T20:13:23.782539Z\", \"created_time\": \"2021-03-09T20:12:56.212322Z\", \"created_time_dt\": \"2021-03-09T20:12:56.212322Z\", \"duration\": \"0:00:27\", \"iteration\": \"15\", \"goal\": \"accuracy_max\", \"run_name\": \"StandardScalerWrapper, ExtremeRandomTrees\", \"run_properties\": \"bootstrap=True, ccp_alpha=0.0, class_weight=None,\\n                     criterion='gini', max_depth=None, max_features=0.7,\\n                     max_leaf_nodes=None, max_samples=None,\\n                     min_impurity_decrease=0.0, min_impurity_split=None,\\n                     min_samples_leaf=0.035789473684210524,\\n                     min_samples_split=0.10368421052631578,\\n                     min_weight_fraction_leaf=0.0, n_estimators=50, n_jobs=1,\\n                     oob_score=True, random_state=None, verbose=0,\\n                     warm_start=False\", \"primary_metric\": 0.90325815, \"best_metric\": 0.92785088}, {\"run_id\": \"AutoML_f522ea1c-2bb4-412c-b0e2-702869f6a55f_16\", \"run_number\": 18, \"metric\": null, \"status\": \"Completed\", \"run_type\": null, \"training_percent\": \"100\", \"start_time\": \"2021-03-09T20:13:25.101687Z\", \"end_time\": \"2021-03-09T20:13:51.558002Z\", \"created_time\": \"2021-03-09T20:13:24.987659Z\", \"created_time_dt\": \"2021-03-09T20:13:24.987659Z\", \"duration\": \"0:00:26\", \"iteration\": \"16\", \"goal\": \"accuracy_max\", \"run_name\": \"StandardScalerWrapper, LightGBM\", \"run_properties\": \"boosting_type='gbdt', class_weight=None,\\n                   colsample_bytree=0.1, importance_type='split',\\n                   learning_rate=0.08947473684210526, max_bin=100, max_depth=3,\\n                   min_child_samples=36, min_child_weight=2, min_split_gain=1,\\n                   n_estimators=50, n_jobs=1, num_leaves=248, objective=None,\\n                   random_state=None, reg_alpha=0.3157894736842105,\\n                   reg_lambda=0.631578947368421, silent=True,\\n                   subsample=0.9405263157894738, subsample_for_bin=200000,\\n                   subsample_freq=0, verbose=-10\", \"primary_metric\": 0.92086466, \"best_metric\": 0.92785088}, {\"run_id\": \"AutoML_f522ea1c-2bb4-412c-b0e2-702869f6a55f_17\", \"run_number\": 19, \"metric\": null, \"status\": \"Completed\", \"run_type\": null, \"training_percent\": \"100\", \"start_time\": \"2021-03-09T20:13:52.946706Z\", \"end_time\": \"2021-03-09T20:14:19.641989Z\", \"created_time\": \"2021-03-09T20:13:52.835761Z\", \"created_time_dt\": \"2021-03-09T20:13:52.835761Z\", \"duration\": \"0:00:26\", \"iteration\": \"17\", \"goal\": \"accuracy_max\", \"run_name\": \"RobustScaler, LightGBM\", \"run_properties\": \"boosting_type='goss', class_weight=None,\\n                   colsample_bytree=0.1988888888888889, importance_type='split',\\n                   learning_rate=0.07368684210526316, max_bin=150, max_depth=8,\\n                   min_child_samples=28, min_child_weight=4,\\n                   min_split_gain=0.05263157894736842, n_estimators=100,\\n                   n_jobs=1, num_leaves=215, objective=None, random_state=None,\\n                   reg_alpha=0.5263157894736842, reg_lambda=0.10526315789473684,\\n                   silent=True, subsample=1, subsample_for_bin=200000,\\n                   subsample_freq=0, verbose=-10\", \"primary_metric\": 0.92612782, \"best_metric\": 0.92785088}, {\"run_id\": \"AutoML_f522ea1c-2bb4-412c-b0e2-702869f6a55f_18\", \"run_number\": 20, \"metric\": null, \"status\": \"Completed\", \"run_type\": null, \"training_percent\": \"100\", \"start_time\": \"2021-03-09T20:14:21.186027Z\", \"end_time\": \"2021-03-09T20:14:47.822467Z\", \"created_time\": \"2021-03-09T20:14:21.077694Z\", \"created_time_dt\": \"2021-03-09T20:14:21.077694Z\", \"duration\": \"0:00:26\", \"iteration\": \"18\", \"goal\": \"accuracy_max\", \"run_name\": \"MaxAbsScaler, LightGBM\", \"run_properties\": \"boosting_type='gbdt', class_weight=None,\\n                   colsample_bytree=0.3966666666666666, importance_type='split',\\n                   learning_rate=0.05263631578947369, max_bin=260, max_depth=4,\\n                   min_child_samples=34, min_child_weight=3,\\n                   min_split_gain=0.3684210526315789, n_estimators=25, n_jobs=1,\\n                   num_leaves=218, objective=None, random_state=None,\\n                   reg_alpha=0.21052631578947367, reg_lambda=0.5263157894736842,\\n                   silent=True, subsample=0.5942105263157895,\\n                   subsample_for_bin=200000, subsample_freq=0, verbose=-10\", \"primary_metric\": 0.91024436, \"best_metric\": 0.92785088}, {\"run_id\": \"AutoML_f522ea1c-2bb4-412c-b0e2-702869f6a55f_19\", \"run_number\": 21, \"metric\": null, \"status\": \"Completed\", \"run_type\": null, \"training_percent\": \"100\", \"start_time\": \"2021-03-09T20:14:49.151028Z\", \"end_time\": \"2021-03-09T20:15:15.91694Z\", \"created_time\": \"2021-03-09T20:14:49.040803Z\", \"created_time_dt\": \"2021-03-09T20:14:49.040803Z\", \"duration\": \"0:00:26\", \"iteration\": \"19\", \"goal\": \"accuracy_max\", \"run_name\": \"MaxAbsScaler, LightGBM\", \"run_properties\": \"boosting_type='goss', class_weight=None,\\n                   colsample_bytree=0.6933333333333332, importance_type='split',\\n                   learning_rate=0.07368684210526316, max_bin=180, max_depth=5,\\n                   min_child_samples=20, min_child_weight=1,\\n                   min_split_gain=0.3157894736842105, n_estimators=25, n_jobs=1,\\n                   num_leaves=188, objective=None, random_state=None,\\n                   reg_alpha=0.42105263157894735, reg_lambda=0.7894736842105263,\\n                   silent=True, subsample=1, subsample_for_bin=200000,\\n                   subsample_freq=0, verbose=-10\", \"primary_metric\": 0.92080201, \"best_metric\": 0.92785088}, {\"run_id\": \"AutoML_f522ea1c-2bb4-412c-b0e2-702869f6a55f_20\", \"run_number\": 22, \"metric\": null, \"status\": \"Completed\", \"run_type\": null, \"training_percent\": \"100\", \"start_time\": \"2021-03-09T20:15:17.30081Z\", \"end_time\": \"2021-03-09T20:15:45.061756Z\", \"created_time\": \"2021-03-09T20:15:17.186227Z\", \"created_time_dt\": \"2021-03-09T20:15:17.186227Z\", \"duration\": \"0:00:27\", \"iteration\": \"20\", \"goal\": \"accuracy_max\", \"run_name\": \"StandardScalerWrapper, GradientBoosting\", \"run_properties\": \"ccp_alpha=0.0, criterion='mse', init=None,\\n                           learning_rate=0.1, loss='deviance', max_depth=6,\\n                           max_features=0.7, max_leaf_nodes=None,\\n                           min_impurity_decrease=0.0, min_impurity_split=None,\\n                           min_samples_leaf=0.13894736842105262,\\n                           min_samples_split=0.7126315789473684,\\n                           min_weight_fraction_leaf=0.0, n_estimators=25,\\n                           n_iter_no_change=None, presort='deprecated',\\n                           random_state=None, subsample=0.9526315789473684,\\n                           tol=0.0001, validation_fraction=0.1, verbose=0,\\n                           warm_start=False\", \"primary_metric\": 0.90673559, \"best_metric\": 0.92785088}, {\"run_id\": \"AutoML_f522ea1c-2bb4-412c-b0e2-702869f6a55f_21\", \"run_number\": 23, \"metric\": null, \"status\": \"Completed\", \"run_type\": null, \"training_percent\": \"100\", \"start_time\": \"2021-03-09T20:15:46.412492Z\", \"end_time\": \"2021-03-09T20:16:19.717352Z\", \"created_time\": \"2021-03-09T20:15:46.314698Z\", \"created_time_dt\": \"2021-03-09T20:15:46.314698Z\", \"duration\": \"0:00:33\", \"iteration\": \"21\", \"goal\": \"accuracy_max\", \"run_name\": \"SparseNormalizer, LightGBM\", \"run_properties\": \"boosting_type='gbdt', class_weight=None,\\n                   colsample_bytree=0.6933333333333332, importance_type='split',\\n                   learning_rate=0.0842121052631579, max_bin=380, max_depth=4,\\n                   min_child_samples=38, min_child_weight=0,\\n                   min_split_gain=0.894736842105263, n_estimators=25, n_jobs=1,\\n                   num_leaves=113, objective=None, random_state=None,\\n                   reg_alpha=0.3157894736842105, reg_lambda=0.3157894736842105,\\n                   silent=True, subsample=0.49526315789473685,\\n                   subsample_for_bin=200000, subsample_freq=0, verbose=-10\", \"primary_metric\": 0.90673559, \"best_metric\": 0.92785088}, {\"run_id\": \"AutoML_f522ea1c-2bb4-412c-b0e2-702869f6a55f_22\", \"run_number\": 24, \"metric\": null, \"status\": \"Completed\", \"run_type\": null, \"training_percent\": \"100\", \"start_time\": \"2021-03-09T20:16:21.075478Z\", \"end_time\": \"2021-03-09T20:16:48.569909Z\", \"created_time\": \"2021-03-09T20:16:20.977438Z\", \"created_time_dt\": \"2021-03-09T20:16:20.977438Z\", \"duration\": \"0:00:27\", \"iteration\": \"22\", \"goal\": \"accuracy_max\", \"run_name\": \"StandardScalerWrapper, ExtremeRandomTrees\", \"run_properties\": \"bootstrap=True, ccp_alpha=0.0, class_weight='balanced',\\n                     criterion='gini', max_depth=None, max_features=0.7,\\n                     max_leaf_nodes=None, max_samples=None,\\n                     min_impurity_decrease=0.0, min_impurity_split=None,\\n                     min_samples_leaf=0.035789473684210524,\\n                     min_samples_split=0.056842105263157895,\\n                     min_weight_fraction_leaf=0.0, n_estimators=25, n_jobs=1,\\n                     oob_score=True, random_state=None, verbose=0,\\n                     warm_start=False\", \"primary_metric\": 0.88737469, \"best_metric\": 0.92785088}, {\"run_id\": \"AutoML_f522ea1c-2bb4-412c-b0e2-702869f6a55f_23\", \"run_number\": 25, \"metric\": null, \"status\": \"Completed\", \"run_type\": null, \"training_percent\": \"100\", \"start_time\": \"2021-03-09T20:16:49.844315Z\", \"end_time\": \"2021-03-09T20:17:14.943047Z\", \"created_time\": \"2021-03-09T20:16:49.751132Z\", \"created_time_dt\": \"2021-03-09T20:16:49.751132Z\", \"duration\": \"0:00:25\", \"iteration\": \"23\", \"goal\": \"accuracy_max\", \"run_name\": \"SparseNormalizer, LightGBM\", \"run_properties\": \"boosting_type='gbdt', class_weight=None,\\n                   colsample_bytree=0.2977777777777778, importance_type='split',\\n                   learning_rate=0.05263631578947369, max_bin=60, max_depth=6,\\n                   min_child_samples=46, min_child_weight=4,\\n                   min_split_gain=0.10526315789473684, n_estimators=50,\\n                   n_jobs=1, num_leaves=107, objective=None, random_state=None,\\n                   reg_alpha=0.47368421052631576,\\n                   reg_lambda=0.42105263157894735, silent=True,\\n                   subsample=0.6931578947368422, subsample_for_bin=200000,\\n                   subsample_freq=0, verbose=-10\", \"primary_metric\": 0.89971805, \"best_metric\": 0.92785088}, {\"run_id\": \"AutoML_f522ea1c-2bb4-412c-b0e2-702869f6a55f_24\", \"run_number\": 26, \"metric\": null, \"status\": \"Completed\", \"run_type\": null, \"training_percent\": \"100\", \"start_time\": \"2021-03-09T20:17:16.231016Z\", \"end_time\": \"2021-03-09T20:17:40.88155Z\", \"created_time\": \"2021-03-09T20:17:16.132438Z\", \"created_time_dt\": \"2021-03-09T20:17:16.132438Z\", \"duration\": \"0:00:24\", \"iteration\": \"24\", \"goal\": \"accuracy_max\", \"run_name\": \"MaxAbsScaler, LightGBM\", \"run_properties\": \"boosting_type='goss', class_weight=None,\\n                   colsample_bytree=0.8911111111111111, importance_type='split',\\n                   learning_rate=0.1, max_bin=30, max_depth=9,\\n                   min_child_samples=36, min_child_weight=0, min_split_gain=1,\\n                   n_estimators=600, n_jobs=1, num_leaves=11, objective=None,\\n                   random_state=None, reg_alpha=0.8421052631578947,\\n                   reg_lambda=1, silent=True, subsample=1,\\n                   subsample_for_bin=200000, subsample_freq=0, verbose=-10\", \"primary_metric\": 0.93493108, \"best_metric\": 0.93493108}, {\"run_id\": \"AutoML_f522ea1c-2bb4-412c-b0e2-702869f6a55f_25\", \"run_number\": 27, \"metric\": null, \"status\": \"Completed\", \"run_type\": null, \"training_percent\": \"100\", \"start_time\": \"2021-03-09T20:17:43.354345Z\", \"end_time\": \"2021-03-09T20:18:19.568261Z\", \"created_time\": \"2021-03-09T20:17:43.265834Z\", \"created_time_dt\": \"2021-03-09T20:17:43.265834Z\", \"duration\": \"0:00:36\", \"iteration\": \"25\", \"goal\": \"accuracy_max\", \"run_name\": \"StandardScalerWrapper, LightGBM\", \"run_properties\": \"boosting_type='gbdt', class_weight=None,\\n                   colsample_bytree=0.1, importance_type='split',\\n                   learning_rate=0.005272631578947368, max_bin=60, max_depth=10,\\n                   min_child_samples=53, min_child_weight=9,\\n                   min_split_gain=0.10526315789473684, n_estimators=25,\\n                   n_jobs=1, num_leaves=95, objective=None, random_state=None,\\n                   reg_alpha=0.5789473684210527, reg_lambda=0.631578947368421,\\n                   silent=True, subsample=0.7921052631578948,\\n                   subsample_for_bin=200000, subsample_freq=0, verbose=-10\", \"primary_metric\": 0.62734962, \"best_metric\": 0.93493108}, {\"run_id\": \"AutoML_f522ea1c-2bb4-412c-b0e2-702869f6a55f_26\", \"run_number\": 28, \"metric\": null, \"status\": \"Completed\", \"run_type\": null, \"training_percent\": \"100\", \"start_time\": \"2021-03-09T20:18:21.983065Z\", \"end_time\": \"2021-03-09T20:18:58.872392Z\", \"created_time\": \"2021-03-09T20:18:21.597807Z\", \"created_time_dt\": \"2021-03-09T20:18:21.597807Z\", \"duration\": \"0:00:37\", \"iteration\": \"26\", \"goal\": \"accuracy_max\", \"run_name\": \"StandardScalerWrapper, LightGBM\", \"run_properties\": \"boosting_type='goss', class_weight=None,\\n                   colsample_bytree=0.3966666666666666, importance_type='split',\\n                   learning_rate=0.06316157894736842, max_bin=340, max_depth=2,\\n                   min_child_samples=14, min_child_weight=0,\\n                   min_split_gain=0.5263157894736842, n_estimators=25, n_jobs=1,\\n                   num_leaves=167, objective=None, random_state=None,\\n                   reg_alpha=0.5789473684210527, reg_lambda=0.5263157894736842,\\n                   silent=True, subsample=1, subsample_for_bin=200000,\\n                   subsample_freq=0, verbose=-10\", \"primary_metric\": 0.91027569, \"best_metric\": 0.93493108}, {\"run_id\": \"AutoML_f522ea1c-2bb4-412c-b0e2-702869f6a55f_27\", \"run_number\": 29, \"metric\": null, \"status\": \"Completed\", \"run_type\": null, \"training_percent\": \"100\", \"start_time\": \"2021-03-09T20:19:01.354314Z\", \"end_time\": \"2021-03-09T20:19:41.098028Z\", \"created_time\": \"2021-03-09T20:19:00.871759Z\", \"created_time_dt\": \"2021-03-09T20:19:00.871759Z\", \"duration\": \"0:00:40\", \"iteration\": \"27\", \"goal\": \"accuracy_max\", \"run_name\": \"MaxAbsScaler, RandomForest\", \"run_properties\": \"bootstrap=True, ccp_alpha=0.0, class_weight=None,\\n                       criterion='entropy', max_depth=None, max_features=0.4,\\n                       max_leaf_nodes=None, max_samples=None,\\n                       min_impurity_decrease=0.0, min_impurity_split=None,\\n                       min_samples_leaf=0.035789473684210524,\\n                       min_samples_split=0.15052631578947367,\\n                       min_weight_fraction_leaf=0.0, n_estimators=100, n_jobs=1,\\n                       oob_score=False, random_state=None, verbose=0,\\n                       warm_start=False\", \"primary_metric\": 0.89445489, \"best_metric\": 0.93493108}, {\"run_id\": \"AutoML_f522ea1c-2bb4-412c-b0e2-702869f6a55f_28\", \"run_number\": 30, \"metric\": null, \"status\": \"Completed\", \"run_type\": null, \"training_percent\": \"100\", \"start_time\": \"2021-03-09T20:19:43.401147Z\", \"end_time\": \"2021-03-09T20:20:08.91856Z\", \"created_time\": \"2021-03-09T20:19:42.911907Z\", \"created_time_dt\": \"2021-03-09T20:19:42.911907Z\", \"duration\": \"0:00:26\", \"iteration\": \"28\", \"goal\": \"accuracy_max\", \"run_name\": \"SparseNormalizer, LightGBM\", \"run_properties\": \"boosting_type='goss', class_weight=None,\\n                   colsample_bytree=0.99, importance_type='split',\\n                   learning_rate=0.05789894736842106, max_bin=190, max_depth=4,\\n                   min_child_samples=32, min_child_weight=2,\\n                   min_split_gain=0.42105263157894735, n_estimators=50,\\n                   n_jobs=1, num_leaves=38, objective=None, random_state=None,\\n                   reg_alpha=0.47368421052631576, reg_lambda=0.631578947368421,\\n                   silent=True, subsample=1, subsample_for_bin=200000,\\n                   subsample_freq=0, verbose=-10\", \"primary_metric\": 0.91378446, \"best_metric\": 0.93493108}, {\"run_id\": \"AutoML_f522ea1c-2bb4-412c-b0e2-702869f6a55f_29\", \"run_number\": 31, \"metric\": null, \"status\": \"Completed\", \"run_type\": null, \"training_percent\": \"100\", \"start_time\": \"2021-03-09T20:20:10.526863Z\", \"end_time\": \"2021-03-09T20:20:35.686916Z\", \"created_time\": \"2021-03-09T20:20:10.425637Z\", \"created_time_dt\": \"2021-03-09T20:20:10.425637Z\", \"duration\": \"0:00:25\", \"iteration\": \"29\", \"goal\": \"accuracy_max\", \"run_name\": \"SparseNormalizer, LightGBM\", \"run_properties\": \"boosting_type='goss', class_weight=None,\\n                   colsample_bytree=0.5944444444444444, importance_type='split',\\n                   learning_rate=0.1, max_bin=20, max_depth=6,\\n                   min_child_samples=42, min_child_weight=1,\\n                   min_split_gain=0.2631578947368421, n_estimators=50, n_jobs=1,\\n                   num_leaves=104, objective=None, random_state=None,\\n                   reg_alpha=0, reg_lambda=0.42105263157894735, silent=True,\\n                   subsample=1, subsample_for_bin=200000, subsample_freq=0,\\n                   verbose=-10\", \"primary_metric\": 0.90147243, \"best_metric\": 0.93493108}, {\"run_id\": \"AutoML_f522ea1c-2bb4-412c-b0e2-702869f6a55f_30\", \"run_number\": 32, \"metric\": null, \"status\": \"Completed\", \"run_type\": null, \"training_percent\": \"100\", \"start_time\": \"2021-03-09T20:20:38.002564Z\", \"end_time\": \"2021-03-09T20:21:01.343741Z\", \"created_time\": \"2021-03-09T20:20:37.884619Z\", \"created_time_dt\": \"2021-03-09T20:20:37.884619Z\", \"duration\": \"0:00:23\", \"iteration\": \"30\", \"goal\": \"accuracy_max\", \"run_name\": \"MaxAbsScaler, LightGBM\", \"run_properties\": \"boosting_type='gbdt', class_weight=None,\\n                   colsample_bytree=0.4955555555555555, importance_type='split',\\n                   learning_rate=0.07894947368421053, max_bin=260, max_depth=7,\\n                   min_child_samples=53, min_child_weight=3,\\n                   min_split_gain=0.631578947368421, n_estimators=25, n_jobs=1,\\n                   num_leaves=2, objective=None, random_state=None,\\n                   reg_alpha=0.9473684210526315, reg_lambda=0.631578947368421,\\n                   silent=True, subsample=0.99, subsample_for_bin=200000,\\n                   subsample_freq=0, verbose=-10\", \"primary_metric\": 0.8927005, \"best_metric\": 0.93493108}, {\"run_id\": \"AutoML_f522ea1c-2bb4-412c-b0e2-702869f6a55f_31\", \"run_number\": 33, \"metric\": null, \"status\": \"Completed\", \"run_type\": null, \"training_percent\": \"100\", \"start_time\": \"2021-03-09T20:21:02.734361Z\", \"end_time\": \"2021-03-09T20:21:27.515065Z\", \"created_time\": \"2021-03-09T20:21:02.614392Z\", \"created_time_dt\": \"2021-03-09T20:21:02.614392Z\", \"duration\": \"0:00:24\", \"iteration\": \"31\", \"goal\": \"accuracy_max\", \"run_name\": \"MinMaxScaler, LightGBM\", \"run_properties\": \"boosting_type='gbdt', class_weight=None,\\n                   colsample_bytree=0.3966666666666666, importance_type='split',\\n                   learning_rate=0.021060526315789474, max_bin=10, max_depth=10,\\n                   min_child_samples=12, min_child_weight=4,\\n                   min_split_gain=0.631578947368421, n_estimators=200, n_jobs=1,\\n                   num_leaves=143, objective=None, random_state=None,\\n                   reg_alpha=0.9473684210526315, reg_lambda=0.5263157894736842,\\n                   silent=True, subsample=0.24789473684210528,\\n                   subsample_for_bin=200000, subsample_freq=0, verbose=-10\", \"primary_metric\": 0.92261905, \"best_metric\": 0.93493108}, {\"run_id\": \"AutoML_f522ea1c-2bb4-412c-b0e2-702869f6a55f_32\", \"run_number\": 34, \"metric\": null, \"status\": \"Completed\", \"run_type\": null, \"training_percent\": \"100\", \"start_time\": \"2021-03-09T20:21:28.760456Z\", \"end_time\": \"2021-03-09T20:21:54.272847Z\", \"created_time\": \"2021-03-09T20:21:28.660607Z\", \"created_time_dt\": \"2021-03-09T20:21:28.660607Z\", \"duration\": \"0:00:25\", \"iteration\": \"32\", \"goal\": \"accuracy_max\", \"run_name\": \"RobustScaler, RandomForest\", \"run_properties\": \"bootstrap=False, ccp_alpha=0.0, class_weight='balanced',\\n                       criterion='gini', max_depth=None, max_features=0.2,\\n                       max_leaf_nodes=None, max_samples=None,\\n                       min_impurity_decrease=0.0, min_impurity_split=None,\\n                       min_samples_leaf=0.1131578947368421,\\n                       min_samples_split=0.19736842105263158,\\n                       min_weight_fraction_leaf=0.0, n_estimators=100, n_jobs=1,\\n                       oob_score=False, random_state=None, verbose=0,\\n                       warm_start=False\", \"primary_metric\": 0.90140977, \"best_metric\": 0.93493108}, {\"run_id\": \"AutoML_f522ea1c-2bb4-412c-b0e2-702869f6a55f_33\", \"run_number\": 35, \"metric\": null, \"status\": \"Completed\", \"run_type\": null, \"training_percent\": \"100\", \"start_time\": \"2021-03-09T20:21:55.589507Z\", \"end_time\": \"2021-03-09T20:22:38.713273Z\", \"created_time\": \"2021-03-09T20:21:55.494895Z\", \"created_time_dt\": \"2021-03-09T20:21:55.494895Z\", \"duration\": \"0:00:43\", \"iteration\": \"33\", \"goal\": \"accuracy_max\", \"run_name\": \"RobustScaler, ExtremeRandomTrees\", \"run_properties\": \"bootstrap=False, ccp_alpha=0.0, class_weight='balanced',\\n                     criterion='gini', max_depth=None, max_features=0.3,\\n                     max_leaf_nodes=None, max_samples=None,\\n                     min_impurity_decrease=0.0, min_impurity_split=None,\\n                     min_samples_leaf=0.06157894736842105,\\n                     min_samples_split=0.15052631578947367,\\n                     min_weight_fraction_leaf=0.0, n_estimators=400, n_jobs=1,\\n                     oob_score=False, random_state=None, verbose=0,\\n                     warm_start=False\", \"primary_metric\": 0.9156015, \"best_metric\": 0.93493108}, {\"run_id\": \"AutoML_f522ea1c-2bb4-412c-b0e2-702869f6a55f_34\", \"run_number\": 36, \"metric\": null, \"status\": \"Completed\", \"run_type\": null, \"training_percent\": \"100\", \"start_time\": \"2021-03-09T20:22:41.211583Z\", \"end_time\": \"2021-03-09T20:23:23.00966Z\", \"created_time\": \"2021-03-09T20:22:40.80102Z\", \"created_time_dt\": \"2021-03-09T20:22:40.80102Z\", \"duration\": \"0:00:42\", \"iteration\": \"34\", \"goal\": \"accuracy_max\", \"run_name\": \"RobustScaler, LightGBM\", \"run_properties\": \"boosting_type='gbdt', class_weight=None,\\n                   colsample_bytree=0.3966666666666666, importance_type='split',\\n                   learning_rate=0.036848421052631586, max_bin=230, max_depth=9,\\n                   min_child_samples=42, min_child_weight=2,\\n                   min_split_gain=0.3157894736842105, n_estimators=25, n_jobs=1,\\n                   num_leaves=173, objective=None, random_state=None,\\n                   reg_alpha=0.631578947368421, reg_lambda=0.05263157894736842,\\n                   silent=True, subsample=0.3468421052631579,\\n                   subsample_for_bin=200000, subsample_freq=0, verbose=-10\", \"primary_metric\": 0.89620927, \"best_metric\": 0.93493108}, {\"run_id\": \"AutoML_f522ea1c-2bb4-412c-b0e2-702869f6a55f_35\", \"run_number\": 37, \"metric\": null, \"status\": \"Completed\", \"run_type\": null, \"training_percent\": \"100\", \"start_time\": \"2021-03-09T20:23:26.239535Z\", \"end_time\": \"2021-03-09T20:23:51.405522Z\", \"created_time\": \"2021-03-09T20:23:25.948871Z\", \"created_time_dt\": \"2021-03-09T20:23:25.948871Z\", \"duration\": \"0:00:25\", \"iteration\": \"35\", \"goal\": \"accuracy_max\", \"run_name\": \"SparseNormalizer, LightGBM\", \"run_properties\": \"boosting_type='goss', class_weight=None,\\n                   colsample_bytree=0.4955555555555555, importance_type='split',\\n                   learning_rate=0.010535263157894737, max_bin=190, max_depth=2,\\n                   min_child_samples=44, min_child_weight=0, min_split_gain=1,\\n                   n_estimators=100, n_jobs=1, num_leaves=32, objective=None,\\n                   random_state=None, reg_alpha=0.631578947368421,\\n                   reg_lambda=0.2631578947368421, silent=True, subsample=1,\\n                   subsample_for_bin=200000, subsample_freq=0, verbose=-10\", \"primary_metric\": 0.88919173, \"best_metric\": 0.93493108}, {\"run_id\": \"AutoML_f522ea1c-2bb4-412c-b0e2-702869f6a55f_36\", \"run_number\": 38, \"metric\": null, \"status\": \"Completed\", \"run_type\": null, \"training_percent\": \"100\", \"start_time\": \"2021-03-09T20:23:52.702477Z\", \"end_time\": \"2021-03-09T20:24:16.641531Z\", \"created_time\": \"2021-03-09T20:23:52.599588Z\", \"created_time_dt\": \"2021-03-09T20:23:52.599588Z\", \"duration\": \"0:00:24\", \"iteration\": \"36\", \"goal\": \"accuracy_max\", \"run_name\": \"SparseNormalizer, LightGBM\", \"run_properties\": \"boosting_type='gbdt', class_weight=None,\\n                   colsample_bytree=0.4955555555555555, importance_type='split',\\n                   learning_rate=0.05263631578947369, max_bin=240, max_depth=3,\\n                   min_child_samples=2, min_child_weight=1,\\n                   min_split_gain=0.3157894736842105, n_estimators=25, n_jobs=1,\\n                   num_leaves=203, objective=None, random_state=None,\\n                   reg_alpha=0.7894736842105263, reg_lambda=0.05263157894736842,\\n                   silent=True, subsample=0.3468421052631579,\\n                   subsample_for_bin=200000, subsample_freq=0, verbose=-10\", \"primary_metric\": 0.88922306, \"best_metric\": 0.93493108}, {\"run_id\": \"AutoML_f522ea1c-2bb4-412c-b0e2-702869f6a55f_37\", \"run_number\": 39, \"metric\": null, \"status\": \"Completed\", \"run_type\": null, \"training_percent\": \"100\", \"start_time\": \"2021-03-09T20:24:17.986449Z\", \"end_time\": \"2021-03-09T20:24:42.839598Z\", \"created_time\": \"2021-03-09T20:24:17.876892Z\", \"created_time_dt\": \"2021-03-09T20:24:17.876892Z\", \"duration\": \"0:00:24\", \"iteration\": \"37\", \"goal\": \"accuracy_max\", \"run_name\": \"RobustScaler, LogisticRegression\", \"run_properties\": \"C=0.12648552168552957, class_weight='balanced', dual=False,\\n                   fit_intercept=True, intercept_scaling=1, l1_ratio=None,\\n                   max_iter=100, multi_class='multinomial', n_jobs=1,\\n                   penalty='l2', random_state=None, solver='newton-cg',\\n                   tol=0.0001, verbose=0, warm_start=False\", \"primary_metric\": 0.92969925, \"best_metric\": 0.93493108}, {\"run_id\": \"AutoML_f522ea1c-2bb4-412c-b0e2-702869f6a55f_38\", \"run_number\": 40, \"metric\": null, \"status\": \"Completed\", \"run_type\": null, \"training_percent\": \"100\", \"start_time\": \"2021-03-09T20:24:43.181543Z\", \"end_time\": \"2021-03-09T20:25:10.994555Z\", \"created_time\": \"2021-03-09T20:24:43.082864Z\", \"created_time_dt\": \"2021-03-09T20:24:43.082864Z\", \"duration\": \"0:00:27\", \"iteration\": \"38\", \"goal\": \"accuracy_max\", \"run_name\": \"VotingEnsemble\", \"run_properties\": \"\", \"primary_metric\": 0.93843985, \"best_metric\": 0.93843985}], \"children_metrics\": {\"categories\": [0], \"series\": {\"AUC_macro\": [{\"categories\": [\"0\", \"2\", \"3\", \"4\", \"5\", \"6\", \"7\", \"9\", \"10\", \"11\", \"12\", \"13\", \"15\", \"16\", \"17\", \"18\", \"19\", \"20\", \"21\", \"22\", \"23\", \"24\", \"25\", \"26\", \"27\", \"28\", \"29\", \"30\", \"31\", \"32\", \"33\", \"34\", \"35\", \"36\", \"37\", \"38\"], \"mode\": \"markers\", \"name\": \"AUC_macro\", \"stepped\": false, \"type\": \"scatter\", \"data\": [0.9773814891945802, 0.9661612764392459, 0.9665165721121566, 0.9749751287703244, 0.9446277944285291, 0.9801718927915845, 0.97482637853293, 0.9570384521844553, 0.9780986328600451, 0.9627996952219726, 0.9699574491456815, 0.9627484849821657, 0.965275851886555, 0.9796086026376278, 0.9806783452961485, 0.9737396791898367, 0.9773309908239576, 0.9636237170682801, 0.9500726298022883, 0.9643171507462682, 0.9522649715523979, 0.9813798443783721, 0.9690470509627598, 0.971568642698308, 0.96765266286014, 0.9636576104856527, 0.9507918426856117, 0.9572252006514557, 0.9746998098834068, 0.9678132119670437, 0.9707311933053548, 0.9736373240760694, 0.9195633911148059, 0.9347867327077981, 0.9822649074766037, 0.9817803508483784]}, {\"categories\": [\"0\", \"2\", \"3\", \"4\", \"5\", \"6\", \"7\", \"9\", \"10\", \"11\", \"12\", \"13\", \"15\", \"16\", \"17\", \"18\", \"19\", \"20\", \"21\", \"22\", \"23\", \"24\", \"25\", \"26\", \"27\", \"28\", \"29\", \"30\", \"31\", \"32\", \"33\", \"34\", \"35\", \"36\", \"37\", \"38\"], \"mode\": \"lines\", \"name\": \"AUC_macro_max\", \"stepped\": true, \"type\": \"scatter\", \"data\": [0.9773814891945802, 0.9773814891945802, 0.9773814891945802, 0.9773814891945802, 0.9773814891945802, 0.9801718927915845, 0.9801718927915845, 0.9801718927915845, 0.9801718927915845, 0.9801718927915845, 0.9801718927915845, 0.9801718927915845, 0.9801718927915845, 0.9801718927915845, 0.9806783452961485, 0.9806783452961485, 0.9806783452961485, 0.9806783452961485, 0.9806783452961485, 0.9806783452961485, 0.9806783452961485, 0.9813798443783721, 0.9813798443783721, 0.9813798443783721, 0.9813798443783721, 0.9813798443783721, 0.9813798443783721, 0.9813798443783721, 0.9813798443783721, 0.9813798443783721, 0.9813798443783721, 0.9813798443783721, 0.9813798443783721, 0.9813798443783721, 0.9822649074766037, 0.9822649074766037]}], \"recall_score_weighted\": [{\"categories\": [\"0\", \"2\", \"3\", \"4\", \"5\", \"6\", \"7\", \"9\", \"10\", \"11\", \"12\", \"13\", \"15\", \"16\", \"17\", \"18\", \"19\", \"20\", \"21\", \"22\", \"23\", \"24\", \"25\", \"26\", \"27\", \"28\", \"29\", \"30\", \"31\", \"32\", \"33\", \"34\", \"35\", \"36\", \"37\", \"38\"], \"mode\": \"markers\", \"name\": \"recall_score_weighted\", \"stepped\": false, \"type\": \"scatter\", \"data\": [0.9243734335839597, 0.9102756892230577, 0.9067355889724309, 0.9173872180451127, 0.9225563909774437, 0.9278508771929823, 0.9137844611528821, 0.9190789473684211, 0.9155388471177945, 0.8927005012531328, 0.9067355889724309, 0.8734335839598997, 0.9032581453634085, 0.9208646616541352, 0.9261278195488721, 0.9102443609022556, 0.9208020050125313, 0.9067355889724309, 0.9067355889724309, 0.887374686716792, 0.899718045112782, 0.9349310776942357, 0.6273496240601505, 0.9102756892230577, 0.894454887218045, 0.9137844611528821, 0.9014724310776941, 0.8927005012531328, 0.9226190476190474, 0.9014097744360902, 0.9156015037593983, 0.8962092731829573, 0.8891917293233081, 0.8892230576441102, 0.9296992481203008, 0.9384398496240601]}, {\"categories\": [\"0\", \"2\", \"3\", \"4\", \"5\", \"6\", \"7\", \"9\", \"10\", \"11\", \"12\", \"13\", \"15\", \"16\", \"17\", \"18\", \"19\", \"20\", \"21\", \"22\", \"23\", \"24\", \"25\", \"26\", \"27\", \"28\", \"29\", \"30\", \"31\", \"32\", \"33\", \"34\", \"35\", \"36\", \"37\", \"38\"], \"mode\": \"lines\", \"name\": \"recall_score_weighted_max\", \"stepped\": true, \"type\": \"scatter\", \"data\": [0.9243734335839597, 0.9243734335839597, 0.9243734335839597, 0.9243734335839597, 0.9243734335839597, 0.9278508771929823, 0.9278508771929823, 0.9278508771929823, 0.9278508771929823, 0.9278508771929823, 0.9278508771929823, 0.9278508771929823, 0.9278508771929823, 0.9278508771929823, 0.9278508771929823, 0.9278508771929823, 0.9278508771929823, 0.9278508771929823, 0.9278508771929823, 0.9278508771929823, 0.9278508771929823, 0.9349310776942357, 0.9349310776942357, 0.9349310776942357, 0.9349310776942357, 0.9349310776942357, 0.9349310776942357, 0.9349310776942357, 0.9349310776942357, 0.9349310776942357, 0.9349310776942357, 0.9349310776942357, 0.9349310776942357, 0.9349310776942357, 0.9349310776942357, 0.9384398496240601]}], \"matthews_correlation\": [{\"categories\": [\"0\", \"2\", \"3\", \"4\", \"5\", \"6\", \"7\", \"9\", \"10\", \"11\", \"12\", \"13\", \"15\", \"16\", \"17\", \"18\", \"19\", \"20\", \"21\", \"22\", \"23\", \"24\", \"25\", \"26\", \"27\", \"28\", \"29\", \"30\", \"31\", \"32\", \"33\", \"34\", \"35\", \"36\", \"37\", \"38\"], \"mode\": \"markers\", \"name\": \"matthews_correlation\", \"stepped\": false, \"type\": \"scatter\", \"data\": [0.8371715332149023, 0.8115938372636238, 0.8026363959673348, 0.8268117809309002, 0.8336824720755797, 0.8492891664159332, 0.817462335104554, 0.8229618711854579, 0.8218168802815539, 0.7761319574222721, 0.8040202177376159, 0.7325958516928939, 0.7973801056485781, 0.8328324269683373, 0.8436979157037168, 0.8104339845411858, 0.8335908005139601, 0.8033013165436639, 0.8023590793330293, 0.7665162277427278, 0.7866828017993341, 0.8618898677598514, 0.0, 0.811630991082464, 0.7782465214195088, 0.8142459018744128, 0.7916035604441198, 0.7727650219289146, 0.8369257485064197, 0.7944521740025359, 0.8218360772724422, 0.7818274607717692, 0.7653185093321342, 0.7629756677922872, 0.8548120088757439, 0.8678266159542292]}, {\"categories\": [\"0\", \"2\", \"3\", \"4\", \"5\", \"6\", \"7\", \"9\", \"10\", \"11\", \"12\", \"13\", \"15\", \"16\", \"17\", \"18\", \"19\", \"20\", \"21\", \"22\", \"23\", \"24\", \"25\", \"26\", \"27\", \"28\", \"29\", \"30\", \"31\", \"32\", \"33\", \"34\", \"35\", \"36\", \"37\", \"38\"], \"mode\": \"lines\", \"name\": \"matthews_correlation_max\", \"stepped\": true, \"type\": \"scatter\", \"data\": [0.8371715332149023, 0.8371715332149023, 0.8371715332149023, 0.8371715332149023, 0.8371715332149023, 0.8492891664159332, 0.8492891664159332, 0.8492891664159332, 0.8492891664159332, 0.8492891664159332, 0.8492891664159332, 0.8492891664159332, 0.8492891664159332, 0.8492891664159332, 0.8492891664159332, 0.8492891664159332, 0.8492891664159332, 0.8492891664159332, 0.8492891664159332, 0.8492891664159332, 0.8492891664159332, 0.8618898677598514, 0.8618898677598514, 0.8618898677598514, 0.8618898677598514, 0.8618898677598514, 0.8618898677598514, 0.8618898677598514, 0.8618898677598514, 0.8618898677598514, 0.8618898677598514, 0.8618898677598514, 0.8618898677598514, 0.8618898677598514, 0.8618898677598514, 0.8678266159542292]}], \"weighted_accuracy\": [{\"categories\": [\"0\", \"2\", \"3\", \"4\", \"5\", \"6\", \"7\", \"9\", \"10\", \"11\", \"12\", \"13\", \"15\", \"16\", \"17\", \"18\", \"19\", \"20\", \"21\", \"22\", \"23\", \"24\", \"25\", \"26\", \"27\", \"28\", \"29\", \"30\", \"31\", \"32\", \"33\", \"34\", \"35\", \"36\", \"37\", \"38\"], \"mode\": \"markers\", \"name\": \"weighted_accuracy\", \"stepped\": false, \"type\": \"scatter\", \"data\": [0.9298003113675322, 0.9216289951573249, 0.9210006637638557, 0.9209508572492858, 0.934680329191633, 0.9365523067079181, 0.9226434965120436, 0.931938408813631, 0.9251778326457236, 0.8943758390586769, 0.9206850613646844, 0.9042066149367154, 0.9218811724368713, 0.9310066878570951, 0.9314516895621262, 0.9241511684130786, 0.9303440232041875, 0.9229054908464139, 0.9193898076468029, 0.8875576400489591, 0.9170744011235039, 0.9411957999590849, 0.7314563038651748, 0.9249378224501056, 0.9125466905304235, 0.9251549391728535, 0.9103094071099582, 0.9117883209454705, 0.9298212519596557, 0.9033868149486267, 0.9216337652751327, 0.914413409502267, 0.9114302134279642, 0.9125565002926648, 0.927900718750091, 0.9436687497172818]}, {\"categories\": [\"0\", \"2\", \"3\", \"4\", \"5\", \"6\", \"7\", \"9\", \"10\", \"11\", \"12\", \"13\", \"15\", \"16\", \"17\", \"18\", \"19\", \"20\", \"21\", \"22\", \"23\", \"24\", \"25\", \"26\", \"27\", \"28\", \"29\", \"30\", \"31\", \"32\", \"33\", \"34\", \"35\", \"36\", \"37\", \"38\"], \"mode\": \"lines\", \"name\": \"weighted_accuracy_max\", \"stepped\": true, \"type\": \"scatter\", \"data\": [0.9298003113675322, 0.9298003113675322, 0.9298003113675322, 0.9298003113675322, 0.934680329191633, 0.9365523067079181, 0.9365523067079181, 0.9365523067079181, 0.9365523067079181, 0.9365523067079181, 0.9365523067079181, 0.9365523067079181, 0.9365523067079181, 0.9365523067079181, 0.9365523067079181, 0.9365523067079181, 0.9365523067079181, 0.9365523067079181, 0.9365523067079181, 0.9365523067079181, 0.9365523067079181, 0.9411957999590849, 0.9411957999590849, 0.9411957999590849, 0.9411957999590849, 0.9411957999590849, 0.9411957999590849, 0.9411957999590849, 0.9411957999590849, 0.9411957999590849, 0.9411957999590849, 0.9411957999590849, 0.9411957999590849, 0.9411957999590849, 0.9411957999590849, 0.9436687497172818]}], \"AUC_micro\": [{\"categories\": [\"0\", \"2\", \"3\", \"4\", \"5\", \"6\", \"7\", \"9\", \"10\", \"11\", \"12\", \"13\", \"15\", \"16\", \"17\", \"18\", \"19\", \"20\", \"21\", \"22\", \"23\", \"24\", \"25\", \"26\", \"27\", \"28\", \"29\", \"30\", \"31\", \"32\", \"33\", \"34\", \"35\", \"36\", \"37\", \"38\"], \"mode\": \"markers\", \"name\": \"AUC_micro\", \"stepped\": false, \"type\": \"scatter\", \"data\": [0.9787857213522528, 0.9666933035910578, 0.9673626716383692, 0.9747456733154942, 0.9559511197715466, 0.9789404491020784, 0.9745840164320576, 0.9618886364564292, 0.9763869259615202, 0.9633836215695881, 0.9703922929975315, 0.9494677718732921, 0.9618258325952727, 0.9779985089603709, 0.9799223151864623, 0.9693546895905175, 0.9757907652904192, 0.9626532555542993, 0.9529338403182142, 0.9636273582609405, 0.9543369015427039, 0.980949937107807, 0.8434534801917073, 0.9690810084421582, 0.9669783500888813, 0.9618832285915289, 0.9488732698758173, 0.9526707000898235, 0.9754097709028209, 0.9680090243622843, 0.9718072790057851, 0.9611584078460561, 0.9215492816471003, 0.9361916205771321, 0.9807996455738344, 0.9822800755805554]}, {\"categories\": [\"0\", \"2\", \"3\", \"4\", \"5\", \"6\", \"7\", \"9\", \"10\", \"11\", \"12\", \"13\", \"15\", \"16\", \"17\", \"18\", \"19\", \"20\", \"21\", \"22\", \"23\", \"24\", \"25\", \"26\", \"27\", \"28\", \"29\", \"30\", \"31\", \"32\", \"33\", \"34\", \"35\", \"36\", \"37\", \"38\"], \"mode\": \"lines\", \"name\": \"AUC_micro_max\", \"stepped\": true, \"type\": \"scatter\", \"data\": [0.9787857213522528, 0.9787857213522528, 0.9787857213522528, 0.9787857213522528, 0.9787857213522528, 0.9789404491020784, 0.9789404491020784, 0.9789404491020784, 0.9789404491020784, 0.9789404491020784, 0.9789404491020784, 0.9789404491020784, 0.9789404491020784, 0.9789404491020784, 0.9799223151864623, 0.9799223151864623, 0.9799223151864623, 0.9799223151864623, 0.9799223151864623, 0.9799223151864623, 0.9799223151864623, 0.980949937107807, 0.980949937107807, 0.980949937107807, 0.980949937107807, 0.980949937107807, 0.980949937107807, 0.980949937107807, 0.980949937107807, 0.980949937107807, 0.980949937107807, 0.980949937107807, 0.980949937107807, 0.980949937107807, 0.980949937107807, 0.9822800755805554]}], \"norm_macro_recall\": [{\"categories\": [\"0\", \"2\", \"3\", \"4\", \"5\", \"6\", \"7\", \"9\", \"10\", \"11\", \"12\", \"13\", \"15\", \"16\", \"17\", \"18\", \"19\", \"20\", \"21\", \"22\", \"23\", \"24\", \"25\", \"26\", \"27\", \"28\", \"29\", \"30\", \"31\", \"32\", \"33\", \"34\", \"35\", \"36\", \"37\", \"38\"], \"mode\": \"markers\", \"name\": \"norm_macro_recall\", \"stepped\": false, \"type\": \"scatter\", \"data\": [0.8364211902763173, 0.7956308429031471, 0.7814679587914137, 0.8292896155378907, 0.8157859776841667, 0.8368056817736381, 0.8088813029629215, 0.805425889732572, 0.8100880213091747, 0.784088284865652, 0.7824372144921273, 0.6696736838779677, 0.7639262772822667, 0.8192571861367586, 0.8421394101154555, 0.7894218692235851, 0.820970374250351, 0.7761767102904467, 0.7846341250975313, 0.7777091980820792, 0.758761411848859, 0.8561669432313724, 0.0, 0.7879058672881458, 0.7474964033850758, 0.8010334971739391, 0.7839600592291888, 0.7405920200101042, 0.8301335185022957, 0.8007985216383033, 0.8199404978391029, 0.7507854059426207, 0.7249511866301404, 0.7209484261056407, 0.866060245813071, 0.8653370921297079]}, {\"categories\": [\"0\", \"2\", \"3\", \"4\", \"5\", \"6\", \"7\", \"9\", \"10\", \"11\", \"12\", \"13\", \"15\", \"16\", \"17\", \"18\", \"19\", \"20\", \"21\", \"22\", \"23\", \"24\", \"25\", \"26\", \"27\", \"28\", \"29\", \"30\", \"31\", \"32\", \"33\", \"34\", \"35\", \"36\", \"37\", \"38\"], \"mode\": \"lines\", \"name\": \"norm_macro_recall_max\", \"stepped\": true, \"type\": \"scatter\", \"data\": [0.8364211902763173, 0.8364211902763173, 0.8364211902763173, 0.8364211902763173, 0.8364211902763173, 0.8368056817736381, 0.8368056817736381, 0.8368056817736381, 0.8368056817736381, 0.8368056817736381, 0.8368056817736381, 0.8368056817736381, 0.8368056817736381, 0.8368056817736381, 0.8421394101154555, 0.8421394101154555, 0.8421394101154555, 0.8421394101154555, 0.8421394101154555, 0.8421394101154555, 0.8421394101154555, 0.8561669432313724, 0.8561669432313724, 0.8561669432313724, 0.8561669432313724, 0.8561669432313724, 0.8561669432313724, 0.8561669432313724, 0.8561669432313724, 0.8561669432313724, 0.8561669432313724, 0.8561669432313724, 0.8561669432313724, 0.8561669432313724, 0.866060245813071, 0.866060245813071]}], \"recall_score_micro\": [{\"categories\": [\"0\", \"2\", \"3\", \"4\", \"5\", \"6\", \"7\", \"9\", \"10\", \"11\", \"12\", \"13\", \"15\", \"16\", \"17\", \"18\", \"19\", \"20\", \"21\", \"22\", \"23\", \"24\", \"25\", \"26\", \"27\", \"28\", \"29\", \"30\", \"31\", \"32\", \"33\", \"34\", \"35\", \"36\", \"37\", \"38\"], \"mode\": \"markers\", \"name\": \"recall_score_micro\", \"stepped\": false, \"type\": \"scatter\", \"data\": [0.9243734335839597, 0.9102756892230577, 0.9067355889724309, 0.9173872180451127, 0.9225563909774437, 0.9278508771929823, 0.9137844611528821, 0.9190789473684211, 0.9155388471177945, 0.8927005012531328, 0.9067355889724309, 0.8734335839598997, 0.9032581453634085, 0.9208646616541352, 0.9261278195488721, 0.9102443609022556, 0.9208020050125313, 0.9067355889724309, 0.9067355889724309, 0.887374686716792, 0.899718045112782, 0.9349310776942357, 0.6273496240601505, 0.9102756892230577, 0.894454887218045, 0.9137844611528821, 0.9014724310776941, 0.8927005012531328, 0.9226190476190474, 0.9014097744360902, 0.9156015037593983, 0.8962092731829573, 0.8891917293233081, 0.8892230576441102, 0.9296992481203008, 0.9384398496240601]}, {\"categories\": [\"0\", \"2\", \"3\", \"4\", \"5\", \"6\", \"7\", \"9\", \"10\", \"11\", \"12\", \"13\", \"15\", \"16\", \"17\", \"18\", \"19\", \"20\", \"21\", \"22\", \"23\", \"24\", \"25\", \"26\", \"27\", \"28\", \"29\", \"30\", \"31\", \"32\", \"33\", \"34\", \"35\", \"36\", \"37\", \"38\"], \"mode\": \"lines\", \"name\": \"recall_score_micro_max\", \"stepped\": true, \"type\": \"scatter\", \"data\": [0.9243734335839597, 0.9243734335839597, 0.9243734335839597, 0.9243734335839597, 0.9243734335839597, 0.9278508771929823, 0.9278508771929823, 0.9278508771929823, 0.9278508771929823, 0.9278508771929823, 0.9278508771929823, 0.9278508771929823, 0.9278508771929823, 0.9278508771929823, 0.9278508771929823, 0.9278508771929823, 0.9278508771929823, 0.9278508771929823, 0.9278508771929823, 0.9278508771929823, 0.9278508771929823, 0.9349310776942357, 0.9349310776942357, 0.9349310776942357, 0.9349310776942357, 0.9349310776942357, 0.9349310776942357, 0.9349310776942357, 0.9349310776942357, 0.9349310776942357, 0.9349310776942357, 0.9349310776942357, 0.9349310776942357, 0.9349310776942357, 0.9349310776942357, 0.9384398496240601]}], \"f1_score_macro\": [{\"categories\": [\"0\", \"2\", \"3\", \"4\", \"5\", \"6\", \"7\", \"9\", \"10\", \"11\", \"12\", \"13\", \"15\", \"16\", \"17\", \"18\", \"19\", \"20\", \"21\", \"22\", \"23\", \"24\", \"25\", \"26\", \"27\", \"28\", \"29\", \"30\", \"31\", \"32\", \"33\", \"34\", \"35\", \"36\", \"37\", \"38\"], \"mode\": \"markers\", \"name\": \"f1_score_macro\", \"stepped\": false, \"type\": \"scatter\", \"data\": [0.9171851072639103, 0.9022479641809209, 0.8973382152645529, 0.9103608656811086, 0.9142039593867148, 0.9217096201303085, 0.9064967874542177, 0.9091198261019015, 0.9085548750432499, 0.8854992213288486, 0.8977272451146501, 0.8514577776056566, 0.8916896625895117, 0.9129413723116088, 0.9198585785298583, 0.9012992248542476, 0.91407998173778, 0.8966185649328702, 0.8979299344382635, 0.8800382130195998, 0.888359159702069, 0.9296066621735839, 0.38483266157103707, 0.9010370020521032, 0.8829079569875565, 0.9047909463988641, 0.892658932526252, 0.8802431203663932, 0.9160095311276641, 0.8947404216100153, 0.9080861700977992, 0.884852929969148, 0.8754471551853327, 0.8745126751392898, 0.9246667792883946, 0.9328360009934242]}, {\"categories\": [\"0\", \"2\", \"3\", \"4\", \"5\", \"6\", \"7\", \"9\", \"10\", \"11\", \"12\", \"13\", \"15\", \"16\", \"17\", \"18\", \"19\", \"20\", \"21\", \"22\", \"23\", \"24\", \"25\", \"26\", \"27\", \"28\", \"29\", \"30\", \"31\", \"32\", \"33\", \"34\", \"35\", \"36\", \"37\", \"38\"], \"mode\": \"lines\", \"name\": \"f1_score_macro_max\", \"stepped\": true, \"type\": \"scatter\", \"data\": [0.9171851072639103, 0.9171851072639103, 0.9171851072639103, 0.9171851072639103, 0.9171851072639103, 0.9217096201303085, 0.9217096201303085, 0.9217096201303085, 0.9217096201303085, 0.9217096201303085, 0.9217096201303085, 0.9217096201303085, 0.9217096201303085, 0.9217096201303085, 0.9217096201303085, 0.9217096201303085, 0.9217096201303085, 0.9217096201303085, 0.9217096201303085, 0.9217096201303085, 0.9217096201303085, 0.9296066621735839, 0.9296066621735839, 0.9296066621735839, 0.9296066621735839, 0.9296066621735839, 0.9296066621735839, 0.9296066621735839, 0.9296066621735839, 0.9296066621735839, 0.9296066621735839, 0.9296066621735839, 0.9296066621735839, 0.9296066621735839, 0.9296066621735839, 0.9328360009934242]}], \"f1_score_micro\": [{\"categories\": [\"0\", \"2\", \"3\", \"4\", \"5\", \"6\", \"7\", \"9\", \"10\", \"11\", \"12\", \"13\", \"15\", \"16\", \"17\", \"18\", \"19\", \"20\", \"21\", \"22\", \"23\", \"24\", \"25\", \"26\", \"27\", \"28\", \"29\", \"30\", \"31\", \"32\", \"33\", \"34\", \"35\", \"36\", \"37\", \"38\"], \"mode\": \"markers\", \"name\": \"f1_score_micro\", \"stepped\": false, \"type\": \"scatter\", \"data\": [0.9243734335839597, 0.9102756892230577, 0.9067355889724309, 0.9173872180451127, 0.9225563909774437, 0.9278508771929823, 0.9137844611528821, 0.9190789473684211, 0.9155388471177945, 0.8927005012531328, 0.9067355889724309, 0.8734335839598997, 0.9032581453634085, 0.9208646616541352, 0.9261278195488721, 0.9102443609022556, 0.9208020050125313, 0.9067355889724309, 0.9067355889724309, 0.887374686716792, 0.899718045112782, 0.9349310776942357, 0.6273496240601505, 0.9102756892230577, 0.894454887218045, 0.9137844611528821, 0.9014724310776941, 0.8927005012531328, 0.9226190476190474, 0.9014097744360902, 0.9156015037593983, 0.8962092731829573, 0.8891917293233081, 0.8892230576441102, 0.9296992481203008, 0.9384398496240601]}, {\"categories\": [\"0\", \"2\", \"3\", \"4\", \"5\", \"6\", \"7\", \"9\", \"10\", \"11\", \"12\", \"13\", \"15\", \"16\", \"17\", \"18\", \"19\", \"20\", \"21\", \"22\", \"23\", \"24\", \"25\", \"26\", \"27\", \"28\", \"29\", \"30\", \"31\", \"32\", \"33\", \"34\", \"35\", \"36\", \"37\", \"38\"], \"mode\": \"lines\", \"name\": \"f1_score_micro_max\", \"stepped\": true, \"type\": \"scatter\", \"data\": [0.9243734335839597, 0.9243734335839597, 0.9243734335839597, 0.9243734335839597, 0.9243734335839597, 0.9278508771929823, 0.9278508771929823, 0.9278508771929823, 0.9278508771929823, 0.9278508771929823, 0.9278508771929823, 0.9278508771929823, 0.9278508771929823, 0.9278508771929823, 0.9278508771929823, 0.9278508771929823, 0.9278508771929823, 0.9278508771929823, 0.9278508771929823, 0.9278508771929823, 0.9278508771929823, 0.9349310776942357, 0.9349310776942357, 0.9349310776942357, 0.9349310776942357, 0.9349310776942357, 0.9349310776942357, 0.9349310776942357, 0.9349310776942357, 0.9349310776942357, 0.9349310776942357, 0.9349310776942357, 0.9349310776942357, 0.9349310776942357, 0.9349310776942357, 0.9384398496240601]}], \"f1_score_weighted\": [{\"categories\": [\"0\", \"2\", \"3\", \"4\", \"5\", \"6\", \"7\", \"9\", \"10\", \"11\", \"12\", \"13\", \"15\", \"16\", \"17\", \"18\", \"19\", \"20\", \"21\", \"22\", \"23\", \"24\", \"25\", \"26\", \"27\", \"28\", \"29\", \"30\", \"31\", \"32\", \"33\", \"34\", \"35\", \"36\", \"37\", \"38\"], \"mode\": \"markers\", \"name\": \"f1_score_weighted\", \"stepped\": false, \"type\": \"scatter\", \"data\": [0.9243524885717143, 0.9087834014456366, 0.9047322777649273, 0.9173670669588063, 0.9214357961761472, 0.9267308142033663, 0.9130583066870734, 0.9179593484999264, 0.9143495607032465, 0.893233846752515, 0.9047836310822428, 0.8672384573255574, 0.9006236252133597, 0.9197501500013976, 0.9257494403750467, 0.9083079055937027, 0.919575606250439, 0.9045352750682415, 0.9053391782436808, 0.8881570583232288, 0.897484076405636, 0.9345511852076506, 0.4850339249782264, 0.9082466433228005, 0.8916586926291602, 0.9127053667425228, 0.9007648920345066, 0.889821255549051, 0.9217716575924932, 0.9017578958162975, 0.9152655918089323, 0.8934671045656859, 0.8860074324682948, 0.8860438719025119, 0.9302341411679331, 0.9382077470164585]}, {\"categories\": [\"0\", \"2\", \"3\", \"4\", \"5\", \"6\", \"7\", \"9\", \"10\", \"11\", \"12\", \"13\", \"15\", \"16\", \"17\", \"18\", \"19\", \"20\", \"21\", \"22\", \"23\", \"24\", \"25\", \"26\", \"27\", \"28\", \"29\", \"30\", \"31\", \"32\", \"33\", \"34\", \"35\", \"36\", \"37\", \"38\"], \"mode\": \"lines\", \"name\": \"f1_score_weighted_max\", \"stepped\": true, \"type\": \"scatter\", \"data\": [0.9243524885717143, 0.9243524885717143, 0.9243524885717143, 0.9243524885717143, 0.9243524885717143, 0.9267308142033663, 0.9267308142033663, 0.9267308142033663, 0.9267308142033663, 0.9267308142033663, 0.9267308142033663, 0.9267308142033663, 0.9267308142033663, 0.9267308142033663, 0.9267308142033663, 0.9267308142033663, 0.9267308142033663, 0.9267308142033663, 0.9267308142033663, 0.9267308142033663, 0.9267308142033663, 0.9345511852076506, 0.9345511852076506, 0.9345511852076506, 0.9345511852076506, 0.9345511852076506, 0.9345511852076506, 0.9345511852076506, 0.9345511852076506, 0.9345511852076506, 0.9345511852076506, 0.9345511852076506, 0.9345511852076506, 0.9345511852076506, 0.9345511852076506, 0.9382077470164585]}], \"AUC_weighted\": [{\"categories\": [\"0\", \"2\", \"3\", \"4\", \"5\", \"6\", \"7\", \"9\", \"10\", \"11\", \"12\", \"13\", \"15\", \"16\", \"17\", \"18\", \"19\", \"20\", \"21\", \"22\", \"23\", \"24\", \"25\", \"26\", \"27\", \"28\", \"29\", \"30\", \"31\", \"32\", \"33\", \"34\", \"35\", \"36\", \"37\", \"38\"], \"mode\": \"markers\", \"name\": \"AUC_weighted\", \"stepped\": false, \"type\": \"scatter\", \"data\": [0.9773814891945802, 0.9661612764392459, 0.9665165721121566, 0.9749751287703244, 0.9446277944285291, 0.9801718927915845, 0.97482637853293, 0.9570384521844553, 0.9780986328600452, 0.9627996952219726, 0.9699574491456815, 0.9627484849821657, 0.9652758518865548, 0.9796086026376278, 0.9806783452961485, 0.9737396791898367, 0.9773309908239576, 0.9636237170682799, 0.9500726298022883, 0.9643171507462682, 0.9522649715523979, 0.9813798443783721, 0.9690470509627597, 0.971568642698308, 0.96765266286014, 0.9636576104856527, 0.9507918426856117, 0.9572252006514557, 0.9746998098834068, 0.9678132119670437, 0.9707311933053548, 0.9736373240760694, 0.9195633911148058, 0.9347867327077981, 0.9822649074766037, 0.9817803508483787]}, {\"categories\": [\"0\", \"2\", \"3\", \"4\", \"5\", \"6\", \"7\", \"9\", \"10\", \"11\", \"12\", \"13\", \"15\", \"16\", \"17\", \"18\", \"19\", \"20\", \"21\", \"22\", \"23\", \"24\", \"25\", \"26\", \"27\", \"28\", \"29\", \"30\", \"31\", \"32\", \"33\", \"34\", \"35\", \"36\", \"37\", \"38\"], \"mode\": \"lines\", \"name\": \"AUC_weighted_max\", \"stepped\": true, \"type\": \"scatter\", \"data\": [0.9773814891945802, 0.9773814891945802, 0.9773814891945802, 0.9773814891945802, 0.9773814891945802, 0.9801718927915845, 0.9801718927915845, 0.9801718927915845, 0.9801718927915845, 0.9801718927915845, 0.9801718927915845, 0.9801718927915845, 0.9801718927915845, 0.9801718927915845, 0.9806783452961485, 0.9806783452961485, 0.9806783452961485, 0.9806783452961485, 0.9806783452961485, 0.9806783452961485, 0.9806783452961485, 0.9813798443783721, 0.9813798443783721, 0.9813798443783721, 0.9813798443783721, 0.9813798443783721, 0.9813798443783721, 0.9813798443783721, 0.9813798443783721, 0.9813798443783721, 0.9813798443783721, 0.9813798443783721, 0.9813798443783721, 0.9813798443783721, 0.9822649074766037, 0.9822649074766037]}], \"average_precision_score_weighted\": [{\"categories\": [\"0\", \"2\", \"3\", \"4\", \"5\", \"6\", \"7\", \"9\", \"10\", \"11\", \"12\", \"13\", \"15\", \"16\", \"17\", \"18\", \"19\", \"20\", \"21\", \"22\", \"23\", \"24\", \"25\", \"26\", \"27\", \"28\", \"29\", \"30\", \"31\", \"32\", \"33\", \"34\", \"35\", \"36\", \"37\", \"38\"], \"mode\": \"markers\", \"name\": \"average_precision_score_weighted\", \"stepped\": false, \"type\": \"scatter\", \"data\": [0.9802393177765827, 0.9673115875462864, 0.9684694816040567, 0.9759155862338906, 0.945341511761919, 0.9814887141459184, 0.9759219714962072, 0.9583135996210632, 0.979409047516917, 0.9664599360085034, 0.97206354626852, 0.9654976306972319, 0.9685353782049445, 0.9809565173402198, 0.981936528420477, 0.974906468900655, 0.9782686826227392, 0.9643274083038861, 0.9488689603006805, 0.9682270296811826, 0.9525774845332651, 0.9832522096560959, 0.9700110071220498, 0.9729670942059595, 0.9696899470662441, 0.9608797128592729, 0.9509410353306771, 0.9554079239201245, 0.9763190950932419, 0.970474906930859, 0.9735255191910355, 0.9744426478318811, 0.9180189613303209, 0.9353305251801931, 0.9840220357348534, 0.9835508280236338]}, {\"categories\": [\"0\", \"2\", \"3\", \"4\", \"5\", \"6\", \"7\", \"9\", \"10\", \"11\", \"12\", \"13\", \"15\", \"16\", \"17\", \"18\", \"19\", \"20\", \"21\", \"22\", \"23\", \"24\", \"25\", \"26\", \"27\", \"28\", \"29\", \"30\", \"31\", \"32\", \"33\", \"34\", \"35\", \"36\", \"37\", \"38\"], \"mode\": \"lines\", \"name\": \"average_precision_score_weighted_max\", \"stepped\": true, \"type\": \"scatter\", \"data\": [0.9802393177765827, 0.9802393177765827, 0.9802393177765827, 0.9802393177765827, 0.9802393177765827, 0.9814887141459184, 0.9814887141459184, 0.9814887141459184, 0.9814887141459184, 0.9814887141459184, 0.9814887141459184, 0.9814887141459184, 0.9814887141459184, 0.9814887141459184, 0.981936528420477, 0.981936528420477, 0.981936528420477, 0.981936528420477, 0.981936528420477, 0.981936528420477, 0.981936528420477, 0.9832522096560959, 0.9832522096560959, 0.9832522096560959, 0.9832522096560959, 0.9832522096560959, 0.9832522096560959, 0.9832522096560959, 0.9832522096560959, 0.9832522096560959, 0.9832522096560959, 0.9832522096560959, 0.9832522096560959, 0.9832522096560959, 0.9840220357348534, 0.9840220357348534]}], \"accuracy\": [{\"categories\": [\"0\", \"2\", \"3\", \"4\", \"5\", \"6\", \"7\", \"9\", \"10\", \"11\", \"12\", \"13\", \"15\", \"16\", \"17\", \"18\", \"19\", \"20\", \"21\", \"22\", \"23\", \"24\", \"25\", \"26\", \"27\", \"28\", \"29\", \"30\", \"31\", \"32\", \"33\", \"34\", \"35\", \"36\", \"37\", \"38\"], \"mode\": \"markers\", \"name\": \"accuracy\", \"stepped\": false, \"type\": \"scatter\", \"data\": [0.9243734335839597, 0.9102756892230577, 0.9067355889724309, 0.9173872180451127, 0.9225563909774437, 0.9278508771929823, 0.9137844611528821, 0.9190789473684211, 0.9155388471177945, 0.8927005012531328, 0.9067355889724309, 0.8734335839598997, 0.9032581453634085, 0.9208646616541352, 0.9261278195488721, 0.9102443609022556, 0.9208020050125313, 0.9067355889724309, 0.9067355889724309, 0.887374686716792, 0.899718045112782, 0.9349310776942357, 0.6273496240601505, 0.9102756892230577, 0.894454887218045, 0.9137844611528821, 0.9014724310776941, 0.8927005012531328, 0.9226190476190474, 0.9014097744360902, 0.9156015037593983, 0.8962092731829573, 0.8891917293233081, 0.8892230576441102, 0.9296992481203008, 0.9384398496240601]}, {\"categories\": [\"0\", \"2\", \"3\", \"4\", \"5\", \"6\", \"7\", \"9\", \"10\", \"11\", \"12\", \"13\", \"15\", \"16\", \"17\", \"18\", \"19\", \"20\", \"21\", \"22\", \"23\", \"24\", \"25\", \"26\", \"27\", \"28\", \"29\", \"30\", \"31\", \"32\", \"33\", \"34\", \"35\", \"36\", \"37\", \"38\"], \"mode\": \"lines\", \"name\": \"accuracy_max\", \"stepped\": true, \"type\": \"scatter\", \"data\": [0.9243734335839597, 0.9243734335839597, 0.9243734335839597, 0.9243734335839597, 0.9243734335839597, 0.9278508771929823, 0.9278508771929823, 0.9278508771929823, 0.9278508771929823, 0.9278508771929823, 0.9278508771929823, 0.9278508771929823, 0.9278508771929823, 0.9278508771929823, 0.9278508771929823, 0.9278508771929823, 0.9278508771929823, 0.9278508771929823, 0.9278508771929823, 0.9278508771929823, 0.9278508771929823, 0.9349310776942357, 0.9349310776942357, 0.9349310776942357, 0.9349310776942357, 0.9349310776942357, 0.9349310776942357, 0.9349310776942357, 0.9349310776942357, 0.9349310776942357, 0.9349310776942357, 0.9349310776942357, 0.9349310776942357, 0.9349310776942357, 0.9349310776942357, 0.9384398496240601]}], \"log_loss\": [{\"categories\": [\"0\", \"2\", \"3\", \"4\", \"5\", \"6\", \"7\", \"9\", \"10\", \"11\", \"12\", \"13\", \"15\", \"16\", \"17\", \"18\", \"19\", \"20\", \"21\", \"22\", \"23\", \"24\", \"25\", \"26\", \"27\", \"28\", \"29\", \"30\", \"31\", \"32\", \"33\", \"34\", \"35\", \"36\", \"37\", \"38\"], \"mode\": \"markers\", \"name\": \"log_loss\", \"stepped\": false, \"type\": \"scatter\", \"data\": [0.24927938382759157, 0.27894905194627106, 0.23876288431030362, 0.24993342203634125, 0.27226149074051786, 0.19650866245711301, 0.21367871476097222, 0.2697264063780393, 0.23868693057987206, 0.3322353639171697, 0.25208346643127605, 0.39981523730321145, 0.3185758490404295, 0.19832091693747494, 0.18397539721715878, 0.31422942339925913, 0.25342035144806974, 0.2865226518322413, 0.28953428813816995, 0.34946267703396106, 0.28526869124145593, 0.18253430388878167, 0.5944436077963384, 0.3027848731290239, 0.24936646161604198, 0.2509480096309723, 0.28051827138123014, 0.32218507320355705, 0.21680560397938803, 0.2693176655851378, 0.5531630025994353, 0.3669629275875577, 0.3909234540837109, 0.3531736109240036, 0.191074476052868, 0.18089927319883362]}, {\"categories\": [\"0\", \"2\", \"3\", \"4\", \"5\", \"6\", \"7\", \"9\", \"10\", \"11\", \"12\", \"13\", \"15\", \"16\", \"17\", \"18\", \"19\", \"20\", \"21\", \"22\", \"23\", \"24\", \"25\", \"26\", \"27\", \"28\", \"29\", \"30\", \"31\", \"32\", \"33\", \"34\", \"35\", \"36\", \"37\", \"38\"], \"mode\": \"lines\", \"name\": \"log_loss_min\", \"stepped\": true, \"type\": \"scatter\", \"data\": [0.24927938382759157, 0.24927938382759157, 0.23876288431030362, 0.23876288431030362, 0.23876288431030362, 0.19650866245711301, 0.19650866245711301, 0.19650866245711301, 0.19650866245711301, 0.19650866245711301, 0.19650866245711301, 0.19650866245711301, 0.19650866245711301, 0.19650866245711301, 0.18397539721715878, 0.18397539721715878, 0.18397539721715878, 0.18397539721715878, 0.18397539721715878, 0.18397539721715878, 0.18397539721715878, 0.18253430388878167, 0.18253430388878167, 0.18253430388878167, 0.18253430388878167, 0.18253430388878167, 0.18253430388878167, 0.18253430388878167, 0.18253430388878167, 0.18253430388878167, 0.18253430388878167, 0.18253430388878167, 0.18253430388878167, 0.18253430388878167, 0.18253430388878167, 0.18089927319883362]}], \"average_precision_score_macro\": [{\"categories\": [\"0\", \"2\", \"3\", \"4\", \"5\", \"6\", \"7\", \"9\", \"10\", \"11\", \"12\", \"13\", \"15\", \"16\", \"17\", \"18\", \"19\", \"20\", \"21\", \"22\", \"23\", \"24\", \"25\", \"26\", \"27\", \"28\", \"29\", \"30\", \"31\", \"32\", \"33\", \"34\", \"35\", \"36\", \"37\", \"38\"], \"mode\": \"markers\", \"name\": \"average_precision_score_macro\", \"stepped\": false, \"type\": \"scatter\", \"data\": [0.9780138106513124, 0.9647027487380028, 0.966096762596156, 0.9738469779017311, 0.9444414092051154, 0.9800881917545684, 0.9742821617967641, 0.9546967044158468, 0.9781734134931115, 0.9633481265330225, 0.9695934278505896, 0.962180855688508, 0.9655067918027266, 0.9795024214468799, 0.980089881380462, 0.9731831020346116, 0.9770434362472737, 0.9624717339897527, 0.9460115161085237, 0.9652576480300722, 0.9498933536039249, 0.9819356696492774, 0.9673887039537806, 0.9711229199423416, 0.9672409621825097, 0.9569078985068084, 0.947526385531605, 0.9520038460457506, 0.9747296276037165, 0.967619909124099, 0.970727807774896, 0.9729411736310087, 0.913207792487197, 0.9311162209300017, 0.9820717683479032, 0.9820583997779491]}, {\"categories\": [\"0\", \"2\", \"3\", \"4\", \"5\", \"6\", \"7\", \"9\", \"10\", \"11\", \"12\", \"13\", \"15\", \"16\", \"17\", \"18\", \"19\", \"20\", \"21\", \"22\", \"23\", \"24\", \"25\", \"26\", \"27\", \"28\", \"29\", \"30\", \"31\", \"32\", \"33\", \"34\", \"35\", \"36\", \"37\", \"38\"], \"mode\": \"lines\", \"name\": \"average_precision_score_macro_max\", \"stepped\": true, \"type\": \"scatter\", \"data\": [0.9780138106513124, 0.9780138106513124, 0.9780138106513124, 0.9780138106513124, 0.9780138106513124, 0.9800881917545684, 0.9800881917545684, 0.9800881917545684, 0.9800881917545684, 0.9800881917545684, 0.9800881917545684, 0.9800881917545684, 0.9800881917545684, 0.9800881917545684, 0.980089881380462, 0.980089881380462, 0.980089881380462, 0.980089881380462, 0.980089881380462, 0.980089881380462, 0.980089881380462, 0.9819356696492774, 0.9819356696492774, 0.9819356696492774, 0.9819356696492774, 0.9819356696492774, 0.9819356696492774, 0.9819356696492774, 0.9819356696492774, 0.9819356696492774, 0.9819356696492774, 0.9819356696492774, 0.9819356696492774, 0.9819356696492774, 0.9820717683479032, 0.9820717683479032]}], \"precision_score_macro\": [{\"categories\": [\"0\", \"2\", \"3\", \"4\", \"5\", \"6\", \"7\", \"9\", \"10\", \"11\", \"12\", \"13\", \"15\", \"16\", \"17\", \"18\", \"19\", \"20\", \"21\", \"22\", \"23\", \"24\", \"25\", \"26\", \"27\", \"28\", \"29\", \"30\", \"31\", \"32\", \"33\", \"34\", \"35\", \"36\", \"37\", \"38\"], \"mode\": \"markers\", \"name\": \"precision_score_macro\", \"stepped\": false, \"type\": \"scatter\", \"data\": [0.9192347941740525, 0.9144938722598359, 0.9126052859927791, 0.9128991854005314, 0.9262749834483174, 0.9314895238827926, 0.9134598925396855, 0.9206177423651216, 0.9171734157260474, 0.8845697124917363, 0.9136086428618523, 0.9023585502296839, 0.9168655135447927, 0.9239038852228599, 0.923080002376893, 0.9164473240684631, 0.9235551050024735, 0.9162381856685057, 0.9106074859542688, 0.8782805868923196, 0.9081083885678023, 0.9340997037170856, 0.31367481203007525, 0.9185753929016739, 0.905713194514224, 0.9140621278737109, 0.9002088867771452, 0.9035733700440426, 0.9223246596451267, 0.8945691985378854, 0.9124809640352245, 0.9074836107904544, 0.9042416099647058, 0.9039905286757609, 0.9222805232693508, 0.9353620924840564]}, {\"categories\": [\"0\", \"2\", \"3\", \"4\", \"5\", \"6\", \"7\", \"9\", \"10\", \"11\", \"12\", \"13\", \"15\", \"16\", \"17\", \"18\", \"19\", \"20\", \"21\", \"22\", \"23\", \"24\", \"25\", \"26\", \"27\", \"28\", \"29\", \"30\", \"31\", \"32\", \"33\", \"34\", \"35\", \"36\", \"37\", \"38\"], \"mode\": \"lines\", \"name\": \"precision_score_macro_max\", \"stepped\": true, \"type\": \"scatter\", \"data\": [0.9192347941740525, 0.9192347941740525, 0.9192347941740525, 0.9192347941740525, 0.9262749834483174, 0.9314895238827926, 0.9314895238827926, 0.9314895238827926, 0.9314895238827926, 0.9314895238827926, 0.9314895238827926, 0.9314895238827926, 0.9314895238827926, 0.9314895238827926, 0.9314895238827926, 0.9314895238827926, 0.9314895238827926, 0.9314895238827926, 0.9314895238827926, 0.9314895238827926, 0.9314895238827926, 0.9340997037170856, 0.9340997037170856, 0.9340997037170856, 0.9340997037170856, 0.9340997037170856, 0.9340997037170856, 0.9340997037170856, 0.9340997037170856, 0.9340997037170856, 0.9340997037170856, 0.9340997037170856, 0.9340997037170856, 0.9340997037170856, 0.9340997037170856, 0.9353620924840564]}], \"average_precision_score_micro\": [{\"categories\": [\"0\", \"2\", \"3\", \"4\", \"5\", \"6\", \"7\", \"9\", \"10\", \"11\", \"12\", \"13\", \"15\", \"16\", \"17\", \"18\", \"19\", \"20\", \"21\", \"22\", \"23\", \"24\", \"25\", \"26\", \"27\", \"28\", \"29\", \"30\", \"31\", \"32\", \"33\", \"34\", \"35\", \"36\", \"37\", \"38\"], \"mode\": \"markers\", \"name\": \"average_precision_score_micro\", \"stepped\": false, \"type\": \"scatter\", \"data\": [0.9796992152407007, 0.9666447660148785, 0.9677121645469351, 0.9740376007125453, 0.9517074761311102, 0.978952071834167, 0.9744673252983587, 0.9584451762851176, 0.9761724504304967, 0.9654168633555884, 0.9712497977182555, 0.9484606357511838, 0.9623236254245932, 0.9784430991707831, 0.9804453042117235, 0.9687337640654151, 0.9749554469636449, 0.9606645557997817, 0.9462663391634575, 0.9658541643241424, 0.9502609064051579, 0.9816713867126247, 0.8653618554525526, 0.9686931995039576, 0.9676973700648952, 0.957696200302798, 0.9434882137502983, 0.9477074596459334, 0.9759291459954829, 0.9693575843100595, 0.9733361862718304, 0.9603715786375933, 0.9103339316322451, 0.929006197528126, 0.9818245522512841, 0.9830288961871847]}, {\"categories\": [\"0\", \"2\", \"3\", \"4\", \"5\", \"6\", \"7\", \"9\", \"10\", \"11\", \"12\", \"13\", \"15\", \"16\", \"17\", \"18\", \"19\", \"20\", \"21\", \"22\", \"23\", \"24\", \"25\", \"26\", \"27\", \"28\", \"29\", \"30\", \"31\", \"32\", \"33\", \"34\", \"35\", \"36\", \"37\", \"38\"], \"mode\": \"lines\", \"name\": \"average_precision_score_micro_max\", \"stepped\": true, \"type\": \"scatter\", \"data\": [0.9796992152407007, 0.9796992152407007, 0.9796992152407007, 0.9796992152407007, 0.9796992152407007, 0.9796992152407007, 0.9796992152407007, 0.9796992152407007, 0.9796992152407007, 0.9796992152407007, 0.9796992152407007, 0.9796992152407007, 0.9796992152407007, 0.9796992152407007, 0.9804453042117235, 0.9804453042117235, 0.9804453042117235, 0.9804453042117235, 0.9804453042117235, 0.9804453042117235, 0.9804453042117235, 0.9816713867126247, 0.9816713867126247, 0.9816713867126247, 0.9816713867126247, 0.9816713867126247, 0.9816713867126247, 0.9816713867126247, 0.9816713867126247, 0.9816713867126247, 0.9816713867126247, 0.9816713867126247, 0.9816713867126247, 0.9816713867126247, 0.9818245522512841, 0.9830288961871847]}], \"precision_score_micro\": [{\"categories\": [\"0\", \"2\", \"3\", \"4\", \"5\", \"6\", \"7\", \"9\", \"10\", \"11\", \"12\", \"13\", \"15\", \"16\", \"17\", \"18\", \"19\", \"20\", \"21\", \"22\", \"23\", \"24\", \"25\", \"26\", \"27\", \"28\", \"29\", \"30\", \"31\", \"32\", \"33\", \"34\", \"35\", \"36\", \"37\", \"38\"], \"mode\": \"markers\", \"name\": \"precision_score_micro\", \"stepped\": false, \"type\": \"scatter\", \"data\": [0.9243734335839597, 0.9102756892230577, 0.9067355889724309, 0.9173872180451127, 0.9225563909774437, 0.9278508771929823, 0.9137844611528821, 0.9190789473684211, 0.9155388471177945, 0.8927005012531328, 0.9067355889724309, 0.8734335839598997, 0.9032581453634085, 0.9208646616541352, 0.9261278195488721, 0.9102443609022556, 0.9208020050125313, 0.9067355889724309, 0.9067355889724309, 0.887374686716792, 0.899718045112782, 0.9349310776942357, 0.6273496240601505, 0.9102756892230577, 0.894454887218045, 0.9137844611528821, 0.9014724310776941, 0.8927005012531328, 0.9226190476190474, 0.9014097744360902, 0.9156015037593983, 0.8962092731829573, 0.8891917293233081, 0.8892230576441102, 0.9296992481203008, 0.9384398496240601]}, {\"categories\": [\"0\", \"2\", \"3\", \"4\", \"5\", \"6\", \"7\", \"9\", \"10\", \"11\", \"12\", \"13\", \"15\", \"16\", \"17\", \"18\", \"19\", \"20\", \"21\", \"22\", \"23\", \"24\", \"25\", \"26\", \"27\", \"28\", \"29\", \"30\", \"31\", \"32\", \"33\", \"34\", \"35\", \"36\", \"37\", \"38\"], \"mode\": \"lines\", \"name\": \"precision_score_micro_max\", \"stepped\": true, \"type\": \"scatter\", \"data\": [0.9243734335839597, 0.9243734335839597, 0.9243734335839597, 0.9243734335839597, 0.9243734335839597, 0.9278508771929823, 0.9278508771929823, 0.9278508771929823, 0.9278508771929823, 0.9278508771929823, 0.9278508771929823, 0.9278508771929823, 0.9278508771929823, 0.9278508771929823, 0.9278508771929823, 0.9278508771929823, 0.9278508771929823, 0.9278508771929823, 0.9278508771929823, 0.9278508771929823, 0.9278508771929823, 0.9349310776942357, 0.9349310776942357, 0.9349310776942357, 0.9349310776942357, 0.9349310776942357, 0.9349310776942357, 0.9349310776942357, 0.9349310776942357, 0.9349310776942357, 0.9349310776942357, 0.9349310776942357, 0.9349310776942357, 0.9349310776942357, 0.9349310776942357, 0.9384398496240601]}], \"precision_score_weighted\": [{\"categories\": [\"0\", \"2\", \"3\", \"4\", \"5\", \"6\", \"7\", \"9\", \"10\", \"11\", \"12\", \"13\", \"15\", \"16\", \"17\", \"18\", \"19\", \"20\", \"21\", \"22\", \"23\", \"24\", \"25\", \"26\", \"27\", \"28\", \"29\", \"30\", \"31\", \"32\", \"33\", \"34\", \"35\", \"36\", \"37\", \"38\"], \"mode\": \"markers\", \"name\": \"precision_score_weighted\", \"stepped\": false, \"type\": \"scatter\", \"data\": [0.9268260876918551, 0.9140080146758924, 0.9103161174825779, 0.9225323044803379, 0.9253325431465154, 0.9311407868932993, 0.9164141457304211, 0.9213345246673231, 0.9175984580832226, 0.8981369396806078, 0.9109610244529612, 0.8887450771925636, 0.9113607721611086, 0.9251448552067891, 0.9288581147142345, 0.9137796784464112, 0.9234834892452619, 0.9119032980187614, 0.9101231163416473, 0.8943677888406073, 0.9048420678824558, 0.9366036433328443, 0.39656017589399567, 0.9153227056246178, 0.9007380618177832, 0.9160652569259131, 0.9057726259937409, 0.8986982440526041, 0.9254734090507837, 0.9063732474576975, 0.9198900496460609, 0.9023309936231134, 0.8965333545639773, 0.8959546875897123, 0.935564721986972, 0.9399361548388994]}, {\"categories\": [\"0\", \"2\", \"3\", \"4\", \"5\", \"6\", \"7\", \"9\", \"10\", \"11\", \"12\", \"13\", \"15\", \"16\", \"17\", \"18\", \"19\", \"20\", \"21\", \"22\", \"23\", \"24\", \"25\", \"26\", \"27\", \"28\", \"29\", \"30\", \"31\", \"32\", \"33\", \"34\", \"35\", \"36\", \"37\", \"38\"], \"mode\": \"lines\", \"name\": \"precision_score_weighted_max\", \"stepped\": true, \"type\": \"scatter\", \"data\": [0.9268260876918551, 0.9268260876918551, 0.9268260876918551, 0.9268260876918551, 0.9268260876918551, 0.9311407868932993, 0.9311407868932993, 0.9311407868932993, 0.9311407868932993, 0.9311407868932993, 0.9311407868932993, 0.9311407868932993, 0.9311407868932993, 0.9311407868932993, 0.9311407868932993, 0.9311407868932993, 0.9311407868932993, 0.9311407868932993, 0.9311407868932993, 0.9311407868932993, 0.9311407868932993, 0.9366036433328443, 0.9366036433328443, 0.9366036433328443, 0.9366036433328443, 0.9366036433328443, 0.9366036433328443, 0.9366036433328443, 0.9366036433328443, 0.9366036433328443, 0.9366036433328443, 0.9366036433328443, 0.9366036433328443, 0.9366036433328443, 0.9366036433328443, 0.9399361548388994]}], \"recall_score_macro\": [{\"categories\": [\"0\", \"2\", \"3\", \"4\", \"5\", \"6\", \"7\", \"9\", \"10\", \"11\", \"12\", \"13\", \"15\", \"16\", \"17\", \"18\", \"19\", \"20\", \"21\", \"22\", \"23\", \"24\", \"25\", \"26\", \"27\", \"28\", \"29\", \"30\", \"31\", \"32\", \"33\", \"34\", \"35\", \"36\", \"37\", \"38\"], \"mode\": \"markers\", \"name\": \"recall_score_macro\", \"stepped\": false, \"type\": \"scatter\", \"data\": [0.9182105951381587, 0.8978154214515734, 0.890733979395707, 0.9146448077689453, 0.9078929888420832, 0.918402840886819, 0.9044406514814606, 0.9027129448662861, 0.9050440106545873, 0.892044142432826, 0.8912186072460637, 0.8348368419389839, 0.8819631386411333, 0.9096285930683793, 0.9210697050577277, 0.8947109346117926, 0.9104851871251753, 0.8880883551452234, 0.8923170625487657, 0.8888545990410396, 0.8793807059244296, 0.928083471615686, 0.5, 0.8939529336440728, 0.873748201692538, 0.9005167485869695, 0.8919800296145943, 0.8702960100050522, 0.9150667592511479, 0.9003992608191517, 0.9099702489195515, 0.8753927029713104, 0.8624755933150702, 0.8604742130528203, 0.9330301229065355, 0.932668546064854]}, {\"categories\": [\"0\", \"2\", \"3\", \"4\", \"5\", \"6\", \"7\", \"9\", \"10\", \"11\", \"12\", \"13\", \"15\", \"16\", \"17\", \"18\", \"19\", \"20\", \"21\", \"22\", \"23\", \"24\", \"25\", \"26\", \"27\", \"28\", \"29\", \"30\", \"31\", \"32\", \"33\", \"34\", \"35\", \"36\", \"37\", \"38\"], \"mode\": \"lines\", \"name\": \"recall_score_macro_max\", \"stepped\": true, \"type\": \"scatter\", \"data\": [0.9182105951381587, 0.9182105951381587, 0.9182105951381587, 0.9182105951381587, 0.9182105951381587, 0.918402840886819, 0.918402840886819, 0.918402840886819, 0.918402840886819, 0.918402840886819, 0.918402840886819, 0.918402840886819, 0.918402840886819, 0.918402840886819, 0.9210697050577277, 0.9210697050577277, 0.9210697050577277, 0.9210697050577277, 0.9210697050577277, 0.9210697050577277, 0.9210697050577277, 0.928083471615686, 0.928083471615686, 0.928083471615686, 0.928083471615686, 0.928083471615686, 0.928083471615686, 0.928083471615686, 0.928083471615686, 0.928083471615686, 0.928083471615686, 0.928083471615686, 0.928083471615686, 0.928083471615686, 0.9330301229065355, 0.9330301229065355]}], \"balanced_accuracy\": [{\"categories\": [\"0\", \"2\", \"3\", \"4\", \"5\", \"6\", \"7\", \"9\", \"10\", \"11\", \"12\", \"13\", \"15\", \"16\", \"17\", \"18\", \"19\", \"20\", \"21\", \"22\", \"23\", \"24\", \"25\", \"26\", \"27\", \"28\", \"29\", \"30\", \"31\", \"32\", \"33\", \"34\", \"35\", \"36\", \"37\", \"38\"], \"mode\": \"markers\", \"name\": \"balanced_accuracy\", \"stepped\": false, \"type\": \"scatter\", \"data\": [0.9182105951381587, 0.8978154214515734, 0.890733979395707, 0.9146448077689453, 0.9078929888420832, 0.918402840886819, 0.9044406514814606, 0.9027129448662861, 0.9050440106545873, 0.892044142432826, 0.8912186072460637, 0.8348368419389839, 0.8819631386411333, 0.9096285930683793, 0.9210697050577277, 0.8947109346117926, 0.9104851871251753, 0.8880883551452234, 0.8923170625487657, 0.8888545990410396, 0.8793807059244296, 0.928083471615686, 0.5, 0.8939529336440728, 0.873748201692538, 0.9005167485869695, 0.8919800296145943, 0.8702960100050522, 0.9150667592511479, 0.9003992608191517, 0.9099702489195515, 0.8753927029713104, 0.8624755933150702, 0.8604742130528203, 0.9330301229065355, 0.932668546064854]}, {\"categories\": [\"0\", \"2\", \"3\", \"4\", \"5\", \"6\", \"7\", \"9\", \"10\", \"11\", \"12\", \"13\", \"15\", \"16\", \"17\", \"18\", \"19\", \"20\", \"21\", \"22\", \"23\", \"24\", \"25\", \"26\", \"27\", \"28\", \"29\", \"30\", \"31\", \"32\", \"33\", \"34\", \"35\", \"36\", \"37\", \"38\"], \"mode\": \"lines\", \"name\": \"balanced_accuracy_max\", \"stepped\": true, \"type\": \"scatter\", \"data\": [0.9182105951381587, 0.9182105951381587, 0.9182105951381587, 0.9182105951381587, 0.9182105951381587, 0.918402840886819, 0.918402840886819, 0.918402840886819, 0.918402840886819, 0.918402840886819, 0.918402840886819, 0.918402840886819, 0.918402840886819, 0.918402840886819, 0.9210697050577277, 0.9210697050577277, 0.9210697050577277, 0.9210697050577277, 0.9210697050577277, 0.9210697050577277, 0.9210697050577277, 0.928083471615686, 0.928083471615686, 0.928083471615686, 0.928083471615686, 0.928083471615686, 0.928083471615686, 0.928083471615686, 0.928083471615686, 0.928083471615686, 0.928083471615686, 0.928083471615686, 0.928083471615686, 0.928083471615686, 0.9330301229065355, 0.9330301229065355]}]}, \"metricName\": null, \"primaryMetricName\": \"accuracy\", \"showLegend\": false}, \"run_metrics\": [{\"name\": \"matthews_correlation\", \"run_id\": \"AutoML_f522ea1c-2bb4-412c-b0e2-702869f6a55f\", \"categories\": [0], \"series\": [{\"data\": [0.8678266159542292]}]}, {\"name\": \"precision_score_micro\", \"run_id\": \"AutoML_f522ea1c-2bb4-412c-b0e2-702869f6a55f\", \"categories\": [0], \"series\": [{\"data\": [0.9384398496240601]}]}, {\"name\": \"precision_score_weighted\", \"run_id\": \"AutoML_f522ea1c-2bb4-412c-b0e2-702869f6a55f\", \"categories\": [0], \"series\": [{\"data\": [0.9399361548388994]}]}, {\"name\": \"AUC_weighted\", \"run_id\": \"AutoML_f522ea1c-2bb4-412c-b0e2-702869f6a55f\", \"categories\": [0], \"series\": [{\"data\": [0.9817803508483787]}]}, {\"name\": \"accuracy\", \"run_id\": \"AutoML_f522ea1c-2bb4-412c-b0e2-702869f6a55f\", \"categories\": [0], \"series\": [{\"data\": [0.9384398496240601]}]}, {\"name\": \"recall_score_macro\", \"run_id\": \"AutoML_f522ea1c-2bb4-412c-b0e2-702869f6a55f\", \"categories\": [0], \"series\": [{\"data\": [0.932668546064854]}]}, {\"name\": \"precision_score_macro\", \"run_id\": \"AutoML_f522ea1c-2bb4-412c-b0e2-702869f6a55f\", \"categories\": [0], \"series\": [{\"data\": [0.9353620924840564]}]}, {\"name\": \"recall_score_weighted\", \"run_id\": \"AutoML_f522ea1c-2bb4-412c-b0e2-702869f6a55f\", \"categories\": [0], \"series\": [{\"data\": [0.9384398496240601]}]}, {\"name\": \"average_precision_score_micro\", \"run_id\": \"AutoML_f522ea1c-2bb4-412c-b0e2-702869f6a55f\", \"categories\": [0], \"series\": [{\"data\": [0.9830288961871847]}]}, {\"name\": \"balanced_accuracy\", \"run_id\": \"AutoML_f522ea1c-2bb4-412c-b0e2-702869f6a55f\", \"categories\": [0], \"series\": [{\"data\": [0.932668546064854]}]}, {\"name\": \"norm_macro_recall\", \"run_id\": \"AutoML_f522ea1c-2bb4-412c-b0e2-702869f6a55f\", \"categories\": [0], \"series\": [{\"data\": [0.8653370921297079]}]}, {\"name\": \"AUC_micro\", \"run_id\": \"AutoML_f522ea1c-2bb4-412c-b0e2-702869f6a55f\", \"categories\": [0], \"series\": [{\"data\": [0.9822800755805554]}]}, {\"name\": \"recall_score_micro\", \"run_id\": \"AutoML_f522ea1c-2bb4-412c-b0e2-702869f6a55f\", \"categories\": [0], \"series\": [{\"data\": [0.9384398496240601]}]}, {\"name\": \"f1_score_weighted\", \"run_id\": \"AutoML_f522ea1c-2bb4-412c-b0e2-702869f6a55f\", \"categories\": [0], \"series\": [{\"data\": [0.9382077470164585]}]}, {\"name\": \"average_precision_score_macro\", \"run_id\": \"AutoML_f522ea1c-2bb4-412c-b0e2-702869f6a55f\", \"categories\": [0], \"series\": [{\"data\": [0.9820583997779491]}]}, {\"name\": \"f1_score_macro\", \"run_id\": \"AutoML_f522ea1c-2bb4-412c-b0e2-702869f6a55f\", \"categories\": [0], \"series\": [{\"data\": [0.9328360009934242]}]}, {\"name\": \"average_precision_score_weighted\", \"run_id\": \"AutoML_f522ea1c-2bb4-412c-b0e2-702869f6a55f\", \"categories\": [0], \"series\": [{\"data\": [0.9835508280236338]}]}, {\"name\": \"AUC_macro\", \"run_id\": \"AutoML_f522ea1c-2bb4-412c-b0e2-702869f6a55f\", \"categories\": [0], \"series\": [{\"data\": [0.9817803508483784]}]}, {\"name\": \"f1_score_micro\", \"run_id\": \"AutoML_f522ea1c-2bb4-412c-b0e2-702869f6a55f\", \"categories\": [0], \"series\": [{\"data\": [0.9384398496240601]}]}, {\"name\": \"log_loss\", \"run_id\": \"AutoML_f522ea1c-2bb4-412c-b0e2-702869f6a55f\", \"categories\": [0], \"series\": [{\"data\": [0.18089927319883362]}]}, {\"name\": \"weighted_accuracy\", \"run_id\": \"AutoML_f522ea1c-2bb4-412c-b0e2-702869f6a55f\", \"categories\": [0], \"series\": [{\"data\": [0.9436687497172818]}]}], \"run_logs\": \"\\nRun is completed.\", \"graph\": {}, \"widget_settings\": {\"childWidgetDisplay\": \"popup\", \"send_telemetry\": false, \"log_level\": \"INFO\", \"sdk_version\": \"1.22.0\"}, \"loading\": false}"
     },
     "metadata": {},
     "output_type": "display_data"
    }
   ],
   "source": [
    "from azureml.widgets import RunDetails\n",
    "RunDetails(automl_run).show()\n"
   ]
  },
  {
   "cell_type": "code",
   "execution_count": 8,
   "metadata": {},
   "outputs": [
    {
     "name": "stdout",
     "output_type": "stream",
     "text": [
      "\n",
      "\n",
      "****************************************************************************************************\n",
      "DATA GUARDRAILS: \n",
      "\n",
      "TYPE:         Cross validation\n",
      "STATUS:       DONE\n",
      "DESCRIPTION:  Each iteration of the trained model was validated through cross-validation.\n",
      "              \n",
      "DETAILS:      \n",
      "+---------------------------------+\n",
      "|Number of folds                  |\n",
      "+=================================+\n",
      "|10                               |\n",
      "+---------------------------------+\n",
      "\n",
      "****************************************************************************************************\n",
      "\n",
      "TYPE:         Class balancing detection\n",
      "STATUS:       PASSED\n",
      "DESCRIPTION:  Your inputs were analyzed, and all classes are balanced in your training data.\n",
      "              Learn more about imbalanced data: https://aka.ms/AutomatedMLImbalancedData\n",
      "\n",
      "****************************************************************************************************\n",
      "\n",
      "****************************************************************************************************\n",
      "ITERATION: The iteration being evaluated.\n",
      "PIPELINE: A summary description of the pipeline being evaluated.\n",
      "DURATION: Time taken for the current iteration.\n",
      "METRIC: The result of computing score on the fitted pipeline.\n",
      "BEST: The best observed score thus far.\n",
      "****************************************************************************************************\n",
      "\n",
      " ITERATION   PIPELINE                                       DURATION      METRIC      BEST\n",
      "         0   MaxAbsScaler LightGBM                          0:00:31       0.9244    0.9244\n",
      "         1   MaxAbsScaler XGBoostClassifier                 0:00:09          nan    0.9244\n",
      "ERROR: {\n",
      "    \"additional_properties\": {},\n",
      "    \"error\": {\n",
      "        \"additional_properties\": {\n",
      "            \"debugInfo\": null\n",
      "        },\n",
      "        \"code\": \"SystemError\",\n",
      "        \"severity\": null,\n",
      "        \"message\": \"Encountered an internal AutoML error. Error Message/Code: FitException. Additional Info: FitException:\\n\\tMessage: /anaconda/envs/azureml_py36/lib/libxgboost.so: undefined symbol: XGDMatrixSetDenseInfo\\n\\tInnerException: None\\n\\tErrorResponse \\n{\\n    \\\"error\\\": {\\n        \\\"message\\\": \\\"/anaconda/envs/azureml_py36/lib/libxgboost.so: undefined symbol: XGDMatrixSetDenseInfo\\\",\\n        \\\"target\\\": \\\"Xgboost\\\",\\n        \\\"reference_code\\\": \\\"Xgboost\\\"\\n    }\\n}\",\n",
      "        \"message_format\": \"Encountered an internal AutoML error. Error Message/Code: FitException. Additional Info: {error_details}\",\n",
      "        \"message_parameters\": {\n",
      "            \"error_message\": \"FitException\",\n",
      "            \"error_details\": \"FitException:\\n\\tMessage: /anaconda/envs/azureml_py36/lib/libxgboost.so: undefined symbol: XGDMatrixSetDenseInfo\\n\\tInnerException: None\\n\\tErrorResponse \\n{\\n    \\\"error\\\": {\\n        \\\"message\\\": \\\"/anaconda/envs/azureml_py36/lib/libxgboost.so: undefined symbol: XGDMatrixSetDenseInfo\\\",\\n        \\\"target\\\": \\\"Xgboost\\\",\\n        \\\"reference_code\\\": \\\"Xgboost\\\"\\n    }\\n}\"\n",
      "        },\n",
      "        \"reference_code\": \"Xgboost\",\n",
      "        \"details_uri\": \"https://docs.microsoft.com/azure/machine-learning/resource-known-issues#automated-machine-learning\",\n",
      "        \"target\": \"Xgboost\",\n",
      "        \"details\": [],\n",
      "        \"inner_error\": {\n",
      "            \"additional_properties\": {},\n",
      "            \"code\": \"ClientError\",\n",
      "            \"inner_error\": {\n",
      "                \"additional_properties\": {},\n",
      "                \"code\": \"AutoMLInternal\",\n",
      "                \"inner_error\": null\n",
      "            }\n",
      "        }\n",
      "    },\n",
      "    \"correlation\": null,\n",
      "    \"environment\": null,\n",
      "    \"location\": null,\n",
      "    \"time\": {},\n",
      "    \"component_name\": null\n",
      "}\n",
      "         2   MinMaxScaler RandomForest                      0:00:27       0.9103    0.9244\n",
      "         3   MinMaxScaler RandomForest                      0:00:27       0.9067    0.9244\n",
      "         4   MinMaxScaler RandomForest                      0:00:29       0.9174    0.9244\n",
      "         5   MinMaxScaler SVM                               0:00:29       0.9226    0.9244\n",
      "         6   MaxAbsScaler GradientBoosting                  0:00:29       0.9279    0.9279\n",
      "         7   StandardScalerWrapper RandomForest             0:00:28       0.9138    0.9279\n",
      "        10   MaxAbsScaler LightGBM                          0:00:27       0.9155    0.9279\n",
      "        11   MinMaxScaler ExtremeRandomTrees                0:00:35       0.8927    0.9279\n",
      "         8   SparseNormalizer XGBoostClassifier             0:00:09          nan    0.9279\n",
      "ERROR: {\n",
      "    \"additional_properties\": {},\n",
      "    \"error\": {\n",
      "        \"additional_properties\": {\n",
      "            \"debugInfo\": null\n",
      "        },\n",
      "        \"code\": \"SystemError\",\n",
      "        \"severity\": null,\n",
      "        \"message\": \"Encountered an internal AutoML error. Error Message/Code: FitException. Additional Info: FitException:\\n\\tMessage: /anaconda/envs/azureml_py36/lib/libxgboost.so: undefined symbol: XGDMatrixSetDenseInfo\\n\\tInnerException: None\\n\\tErrorResponse \\n{\\n    \\\"error\\\": {\\n        \\\"message\\\": \\\"/anaconda/envs/azureml_py36/lib/libxgboost.so: undefined symbol: XGDMatrixSetDenseInfo\\\",\\n        \\\"target\\\": \\\"Xgboost\\\",\\n        \\\"reference_code\\\": \\\"Xgboost\\\"\\n    }\\n}\",\n",
      "        \"message_format\": \"Encountered an internal AutoML error. Error Message/Code: FitException. Additional Info: {error_details}\",\n",
      "        \"message_parameters\": {\n",
      "            \"error_message\": \"FitException\",\n",
      "            \"error_details\": \"FitException:\\n\\tMessage: /anaconda/envs/azureml_py36/lib/libxgboost.so: undefined symbol: XGDMatrixSetDenseInfo\\n\\tInnerException: None\\n\\tErrorResponse \\n{\\n    \\\"error\\\": {\\n        \\\"message\\\": \\\"/anaconda/envs/azureml_py36/lib/libxgboost.so: undefined symbol: XGDMatrixSetDenseInfo\\\",\\n        \\\"target\\\": \\\"Xgboost\\\",\\n        \\\"reference_code\\\": \\\"Xgboost\\\"\\n    }\\n}\"\n",
      "        },\n",
      "        \"reference_code\": \"Xgboost\",\n",
      "        \"details_uri\": \"https://docs.microsoft.com/azure/machine-learning/resource-known-issues#automated-machine-learning\",\n",
      "        \"target\": \"Xgboost\",\n",
      "        \"details\": [],\n",
      "        \"inner_error\": {\n",
      "            \"additional_properties\": {},\n",
      "            \"code\": \"ClientError\",\n",
      "            \"inner_error\": {\n",
      "                \"additional_properties\": {},\n",
      "                \"code\": \"AutoMLInternal\",\n",
      "                \"inner_error\": null\n",
      "            }\n",
      "        }\n",
      "    },\n",
      "    \"correlation\": null,\n",
      "    \"environment\": null,\n",
      "    \"location\": null,\n",
      "    \"time\": {},\n",
      "    \"component_name\": null\n",
      "}\n",
      "         9   MaxAbsScaler SVM                               0:00:37       0.9191    0.9279\n",
      "        12   MaxAbsScaler RandomForest                      0:00:37       0.9067    0.9279\n",
      "        13   StandardScalerWrapper ExtremeRandomTrees       0:00:35       0.8734    0.9279\n",
      "        14   SparseNormalizer XGBoostClassifier             0:00:08          nan    0.9279\n",
      "ERROR: {\n",
      "    \"additional_properties\": {},\n",
      "    \"error\": {\n",
      "        \"additional_properties\": {\n",
      "            \"debugInfo\": null\n",
      "        },\n",
      "        \"code\": \"SystemError\",\n",
      "        \"severity\": null,\n",
      "        \"message\": \"Encountered an internal AutoML error. Error Message/Code: FitException. Additional Info: FitException:\\n\\tMessage: /anaconda/envs/azureml_py36/lib/libxgboost.so: undefined symbol: XGDMatrixSetDenseInfo\\n\\tInnerException: None\\n\\tErrorResponse \\n{\\n    \\\"error\\\": {\\n        \\\"message\\\": \\\"/anaconda/envs/azureml_py36/lib/libxgboost.so: undefined symbol: XGDMatrixSetDenseInfo\\\",\\n        \\\"target\\\": \\\"Xgboost\\\",\\n        \\\"reference_code\\\": \\\"Xgboost\\\"\\n    }\\n}\",\n",
      "        \"message_format\": \"Encountered an internal AutoML error. Error Message/Code: FitException. Additional Info: {error_details}\",\n",
      "        \"message_parameters\": {\n",
      "            \"error_message\": \"FitException\",\n",
      "            \"error_details\": \"FitException:\\n\\tMessage: /anaconda/envs/azureml_py36/lib/libxgboost.so: undefined symbol: XGDMatrixSetDenseInfo\\n\\tInnerException: None\\n\\tErrorResponse \\n{\\n    \\\"error\\\": {\\n        \\\"message\\\": \\\"/anaconda/envs/azureml_py36/lib/libxgboost.so: undefined symbol: XGDMatrixSetDenseInfo\\\",\\n        \\\"target\\\": \\\"Xgboost\\\",\\n        \\\"reference_code\\\": \\\"Xgboost\\\"\\n    }\\n}\"\n",
      "        },\n",
      "        \"reference_code\": \"Xgboost\",\n",
      "        \"details_uri\": \"https://docs.microsoft.com/azure/machine-learning/resource-known-issues#automated-machine-learning\",\n",
      "        \"target\": \"Xgboost\",\n",
      "        \"details\": [],\n",
      "        \"inner_error\": {\n",
      "            \"additional_properties\": {},\n",
      "            \"code\": \"ClientError\",\n",
      "            \"inner_error\": {\n",
      "                \"additional_properties\": {},\n",
      "                \"code\": \"AutoMLInternal\",\n",
      "                \"inner_error\": null\n",
      "            }\n",
      "        }\n",
      "    },\n",
      "    \"correlation\": null,\n",
      "    \"environment\": null,\n",
      "    \"location\": null,\n",
      "    \"time\": {},\n",
      "    \"component_name\": null\n",
      "}\n",
      "        15   StandardScalerWrapper ExtremeRandomTrees       0:00:27       0.9033    0.9279\n",
      "        16   StandardScalerWrapper LightGBM                 0:00:26       0.9209    0.9279\n",
      "        17   RobustScaler LightGBM                          0:00:27       0.9261    0.9279\n",
      "        18   MaxAbsScaler LightGBM                          0:00:27       0.9102    0.9279\n",
      "        19   MaxAbsScaler LightGBM                          0:00:27       0.9208    0.9279\n",
      "        20   StandardScalerWrapper GradientBoosting         0:00:28       0.9067    0.9279\n",
      "        21   SparseNormalizer LightGBM                      0:00:33       0.9067    0.9279\n",
      "        22   StandardScalerWrapper ExtremeRandomTrees       0:00:27       0.8874    0.9279\n",
      "        23   SparseNormalizer LightGBM                      0:00:25       0.8997    0.9279\n",
      "        24   MaxAbsScaler LightGBM                          0:00:25       0.9349    0.9349\n",
      "        25   StandardScalerWrapper LightGBM                 0:00:36       0.6273    0.9349\n",
      "        26   StandardScalerWrapper LightGBM                 0:00:37       0.9103    0.9349\n",
      "        27   MaxAbsScaler RandomForest                      0:00:40       0.8945    0.9349\n",
      "        28   SparseNormalizer LightGBM                      0:00:26       0.9138    0.9349\n",
      "        29   SparseNormalizer LightGBM                      0:00:25       0.9015    0.9349\n",
      "        30   MaxAbsScaler LightGBM                          0:00:23       0.8927    0.9349\n",
      "        31   MinMaxScaler LightGBM                          0:00:25       0.9226    0.9349\n",
      "        32   RobustScaler RandomForest                      0:00:26       0.9014    0.9349\n",
      "        33   RobustScaler ExtremeRandomTrees                0:00:43       0.9156    0.9349\n",
      "        34   RobustScaler LightGBM                          0:00:42       0.8962    0.9349\n",
      "        35   SparseNormalizer LightGBM                      0:00:25       0.8892    0.9349\n",
      "        36   SparseNormalizer LightGBM                      0:00:24       0.8892    0.9349\n",
      "        37   RobustScaler LogisticRegression                0:00:25       0.9297    0.9349\n",
      "        38    VotingEnsemble                                0:00:28       0.9384    0.9384\n"
     ]
    },
    {
     "data": {
      "text/plain": [
       "{'runId': 'AutoML_f522ea1c-2bb4-412c-b0e2-702869f6a55f',\n",
       " 'target': 'local',\n",
       " 'status': 'Completed',\n",
       " 'startTimeUtc': '2021-03-09T20:05:52.602983Z',\n",
       " 'endTimeUtc': '2021-03-09T20:25:13.660813Z',\n",
       " 'properties': {'num_iterations': '1000',\n",
       "  'training_type': 'TrainFull',\n",
       "  'acquisition_function': 'EI',\n",
       "  'primary_metric': 'accuracy',\n",
       "  'train_split': '0',\n",
       "  'acquisition_parameter': '0',\n",
       "  'num_cross_validation': '10',\n",
       "  'target': 'local',\n",
       "  'AMLSettingsJsonString': '{\"path\":null,\"name\":\"automl-exp\",\"subscription_id\":\"9b72f9e6-56c5-4c16-991b-19c652994860\",\"resource_group\":\"aml-quickstarts-140119\",\"workspace_name\":\"quick-starts-ws-140119\",\"region\":\"southcentralus\",\"compute_target\":\"local\",\"spark_service\":null,\"azure_service\":\"Microsoft.AzureNotebookVM\",\"many_models\":false,\"pipeline_fetch_max_batch_size\":1,\"iterations\":1000,\"primary_metric\":\"accuracy\",\"task_type\":\"classification\",\"data_script\":null,\"validation_size\":0.0,\"n_cross_validations\":10,\"y_min\":null,\"y_max\":null,\"num_classes\":2,\"featurization\":\"off\",\"_ignore_package_version_incompatibilities\":false,\"is_timeseries\":false,\"max_cores_per_iteration\":1,\"max_concurrent_iterations\":4,\"iteration_timeout_minutes\":null,\"mem_in_mb\":null,\"enforce_time_on_windows\":false,\"experiment_timeout_minutes\":30,\"experiment_exit_score\":null,\"whitelist_models\":null,\"blacklist_algos\":[\"TensorFlowLinearClassifier\",\"TensorFlowDNN\"],\"supported_models\":[\"KNN\",\"AveragedPerceptronClassifier\",\"LinearSVM\",\"MultinomialNaiveBayes\",\"ExtremeRandomTrees\",\"SVM\",\"RandomForest\",\"BernoulliNaiveBayes\",\"GradientBoosting\",\"SGD\",\"LightGBM\",\"LogisticRegression\",\"DecisionTree\",\"XGBoostClassifier\",\"TensorFlowLinearClassifier\",\"TensorFlowDNN\"],\"private_models\":[],\"auto_blacklist\":true,\"blacklist_samples_reached\":false,\"exclude_nan_labels\":true,\"verbosity\":20,\"_debug_log\":\"automl_errors.log\",\"show_warnings\":false,\"model_explainability\":true,\"service_url\":null,\"sdk_url\":null,\"sdk_packages\":null,\"enable_onnx_compatible_models\":true,\"enable_split_onnx_featurizer_estimator_models\":false,\"vm_type\":null,\"telemetry_verbosity\":20,\"send_telemetry\":true,\"enable_dnn\":false,\"scenario\":\"SDK-1.13.0\",\"environment_label\":null,\"force_text_dnn\":false,\"enable_feature_sweeping\":false,\"enable_early_stopping\":true,\"early_stopping_n_iters\":10,\"metrics\":null,\"enable_ensembling\":true,\"enable_stack_ensembling\":false,\"ensemble_iterations\":15,\"enable_tf\":false,\"enable_subsampling\":null,\"subsample_seed\":null,\"enable_nimbusml\":false,\"enable_streaming\":false,\"force_streaming\":false,\"track_child_runs\":true,\"allowed_private_models\":[],\"label_column_name\":\"diagnosis\",\"weight_column_name\":null,\"cv_split_column_names\":null,\"enable_local_managed\":false,\"_local_managed_run_id\":null,\"cost_mode\":1,\"lag_length\":0,\"metric_operation\":\"maximize\",\"preprocess\":false}',\n",
       "  'DataPrepJsonString': '{\\\\\"training_data\\\\\": \\\\\"{\\\\\\\\\\\\\"blocks\\\\\\\\\\\\\": [{\\\\\\\\\\\\\"id\\\\\\\\\\\\\": \\\\\\\\\\\\\"1026872c-7934-46b7-800e-a844b7da1efd\\\\\\\\\\\\\", \\\\\\\\\\\\\"type\\\\\\\\\\\\\": \\\\\\\\\\\\\"Microsoft.DPrep.GetFilesBlock\\\\\\\\\\\\\", \\\\\\\\\\\\\"arguments\\\\\\\\\\\\\": {\\\\\\\\\\\\\"isArchive\\\\\\\\\\\\\": false, \\\\\\\\\\\\\"path\\\\\\\\\\\\\": {\\\\\\\\\\\\\"target\\\\\\\\\\\\\": 4, \\\\\\\\\\\\\"resourceDetails\\\\\\\\\\\\\": [{\\\\\\\\\\\\\"path\\\\\\\\\\\\\": \\\\\\\\\\\\\"https://raw.githubusercontent.com/Ayoyinka-Sofuwa/Capstone-project/main/Breast_cancer_data.csv\\\\\\\\\\\\\"}]}}, \\\\\\\\\\\\\"localData\\\\\\\\\\\\\": {}, \\\\\\\\\\\\\"isEnabled\\\\\\\\\\\\\": true, \\\\\\\\\\\\\"name\\\\\\\\\\\\\": null, \\\\\\\\\\\\\"annotation\\\\\\\\\\\\\": null}, {\\\\\\\\\\\\\"id\\\\\\\\\\\\\": \\\\\\\\\\\\\"60bd6662-c092-4121-b158-50834cf76fcc\\\\\\\\\\\\\", \\\\\\\\\\\\\"type\\\\\\\\\\\\\": \\\\\\\\\\\\\"Microsoft.DPrep.ParseDelimitedBlock\\\\\\\\\\\\\", \\\\\\\\\\\\\"arguments\\\\\\\\\\\\\": {\\\\\\\\\\\\\"columnHeadersMode\\\\\\\\\\\\\": 3, \\\\\\\\\\\\\"fileEncoding\\\\\\\\\\\\\": 0, \\\\\\\\\\\\\"handleQuotedLineBreaks\\\\\\\\\\\\\": false, \\\\\\\\\\\\\"preview\\\\\\\\\\\\\": false, \\\\\\\\\\\\\"separator\\\\\\\\\\\\\": \\\\\\\\\\\\\",\\\\\\\\\\\\\", \\\\\\\\\\\\\"skipRows\\\\\\\\\\\\\": 0, \\\\\\\\\\\\\"skipRowsMode\\\\\\\\\\\\\": 0}, \\\\\\\\\\\\\"localData\\\\\\\\\\\\\": {}, \\\\\\\\\\\\\"isEnabled\\\\\\\\\\\\\": true, \\\\\\\\\\\\\"name\\\\\\\\\\\\\": null, \\\\\\\\\\\\\"annotation\\\\\\\\\\\\\": null}, {\\\\\\\\\\\\\"id\\\\\\\\\\\\\": \\\\\\\\\\\\\"c0dcccc9-ee95-4b18-9fd6-52ac1c441a94\\\\\\\\\\\\\", \\\\\\\\\\\\\"type\\\\\\\\\\\\\": \\\\\\\\\\\\\"Microsoft.DPrep.DropColumnsBlock\\\\\\\\\\\\\", \\\\\\\\\\\\\"arguments\\\\\\\\\\\\\": {\\\\\\\\\\\\\"columns\\\\\\\\\\\\\": {\\\\\\\\\\\\\"type\\\\\\\\\\\\\": 0, \\\\\\\\\\\\\"details\\\\\\\\\\\\\": {\\\\\\\\\\\\\"selectedColumns\\\\\\\\\\\\\": [\\\\\\\\\\\\\"Path\\\\\\\\\\\\\"]}}}, \\\\\\\\\\\\\"localData\\\\\\\\\\\\\": {}, \\\\\\\\\\\\\"isEnabled\\\\\\\\\\\\\": true, \\\\\\\\\\\\\"name\\\\\\\\\\\\\": null, \\\\\\\\\\\\\"annotation\\\\\\\\\\\\\": null}, {\\\\\\\\\\\\\"id\\\\\\\\\\\\\": \\\\\\\\\\\\\"e9f9ac13-5e05-47c4-92ad-bbcfc161a712\\\\\\\\\\\\\", \\\\\\\\\\\\\"type\\\\\\\\\\\\\": \\\\\\\\\\\\\"Microsoft.DPrep.SetColumnTypesBlock\\\\\\\\\\\\\", \\\\\\\\\\\\\"arguments\\\\\\\\\\\\\": {\\\\\\\\\\\\\"columnConversion\\\\\\\\\\\\\": [{\\\\\\\\\\\\\"column\\\\\\\\\\\\\": {\\\\\\\\\\\\\"type\\\\\\\\\\\\\": 2, \\\\\\\\\\\\\"details\\\\\\\\\\\\\": {\\\\\\\\\\\\\"selectedColumn\\\\\\\\\\\\\": \\\\\\\\\\\\\"mean_radius\\\\\\\\\\\\\"}}, \\\\\\\\\\\\\"typeProperty\\\\\\\\\\\\\": 3}, {\\\\\\\\\\\\\"column\\\\\\\\\\\\\": {\\\\\\\\\\\\\"type\\\\\\\\\\\\\": 2, \\\\\\\\\\\\\"details\\\\\\\\\\\\\": {\\\\\\\\\\\\\"selectedColumn\\\\\\\\\\\\\": \\\\\\\\\\\\\"mean_texture\\\\\\\\\\\\\"}}, \\\\\\\\\\\\\"typeProperty\\\\\\\\\\\\\": 3}, {\\\\\\\\\\\\\"column\\\\\\\\\\\\\": {\\\\\\\\\\\\\"type\\\\\\\\\\\\\": 2, \\\\\\\\\\\\\"details\\\\\\\\\\\\\": {\\\\\\\\\\\\\"selectedColumn\\\\\\\\\\\\\": \\\\\\\\\\\\\"mean_perimeter\\\\\\\\\\\\\"}}, \\\\\\\\\\\\\"typeProperty\\\\\\\\\\\\\": 3}, {\\\\\\\\\\\\\"column\\\\\\\\\\\\\": {\\\\\\\\\\\\\"type\\\\\\\\\\\\\": 2, \\\\\\\\\\\\\"details\\\\\\\\\\\\\": {\\\\\\\\\\\\\"selectedColumn\\\\\\\\\\\\\": \\\\\\\\\\\\\"mean_area\\\\\\\\\\\\\"}}, \\\\\\\\\\\\\"typeProperty\\\\\\\\\\\\\": 3}, {\\\\\\\\\\\\\"column\\\\\\\\\\\\\": {\\\\\\\\\\\\\"type\\\\\\\\\\\\\": 2, \\\\\\\\\\\\\"details\\\\\\\\\\\\\": {\\\\\\\\\\\\\"selectedColumn\\\\\\\\\\\\\": \\\\\\\\\\\\\"mean_smoothness\\\\\\\\\\\\\"}}, \\\\\\\\\\\\\"typeProperty\\\\\\\\\\\\\": 3}, {\\\\\\\\\\\\\"column\\\\\\\\\\\\\": {\\\\\\\\\\\\\"type\\\\\\\\\\\\\": 2, \\\\\\\\\\\\\"details\\\\\\\\\\\\\": {\\\\\\\\\\\\\"selectedColumn\\\\\\\\\\\\\": \\\\\\\\\\\\\"diagnosis\\\\\\\\\\\\\"}}, \\\\\\\\\\\\\"typeProperty\\\\\\\\\\\\\": 2}]}, \\\\\\\\\\\\\"localData\\\\\\\\\\\\\": {}, \\\\\\\\\\\\\"isEnabled\\\\\\\\\\\\\": true, \\\\\\\\\\\\\"name\\\\\\\\\\\\\": null, \\\\\\\\\\\\\"annotation\\\\\\\\\\\\\": null}], \\\\\\\\\\\\\"inspectors\\\\\\\\\\\\\": [], \\\\\\\\\\\\\"meta\\\\\\\\\\\\\": {\\\\\\\\\\\\\"savedDatasetId\\\\\\\\\\\\\": \\\\\\\\\\\\\"d23d1c75-750e-4aac-a9a1-60496175e066\\\\\\\\\\\\\", \\\\\\\\\\\\\"datasetType\\\\\\\\\\\\\": \\\\\\\\\\\\\"tabular\\\\\\\\\\\\\", \\\\\\\\\\\\\"subscriptionId\\\\\\\\\\\\\": \\\\\\\\\\\\\"9b72f9e6-56c5-4c16-991b-19c652994860\\\\\\\\\\\\\", \\\\\\\\\\\\\"workspaceId\\\\\\\\\\\\\": \\\\\\\\\\\\\"8e6e6ae1-17be-4cc9-99b1-57d9c1aa9306\\\\\\\\\\\\\", \\\\\\\\\\\\\"workspaceLocation\\\\\\\\\\\\\": \\\\\\\\\\\\\"southcentralus\\\\\\\\\\\\\"}}\\\\\", \\\\\"activities\\\\\": 0}',\n",
       "  'EnableSubsampling': None,\n",
       "  'runTemplate': 'AutoML',\n",
       "  'azureml.runsource': 'automl',\n",
       "  'display_task_type': 'classification',\n",
       "  'dependencies_versions': '{\"azureml-widgets\": \"1.22.0\", \"azureml-train\": \"1.22.0\", \"azureml-train-restclients-hyperdrive\": \"1.22.0\", \"azureml-train-core\": \"1.22.0\", \"azureml-train-automl\": \"1.22.0\", \"azureml-train-automl-runtime\": \"1.22.0\", \"azureml-train-automl-client\": \"1.22.0\", \"azureml-tensorboard\": \"1.22.0\", \"azureml-telemetry\": \"1.22.0\", \"azureml-sdk\": \"1.22.0\", \"azureml-samples\": \"0+unknown\", \"azureml-pipeline\": \"1.22.0\", \"azureml-pipeline-steps\": \"1.22.0\", \"azureml-pipeline-core\": \"1.22.0\", \"azureml-opendatasets\": \"1.22.0\", \"azureml-model-management-sdk\": \"1.0.1b6.post1\", \"azureml-mlflow\": \"1.22.0\", \"azureml-interpret\": \"1.22.0\", \"azureml-explain-model\": \"1.22.0\", \"azureml-defaults\": \"1.22.0\", \"azureml-dataset-runtime\": \"1.22.0\", \"azureml-dataprep\": \"2.9.1\", \"azureml-dataprep-rslex\": \"1.7.0\", \"azureml-dataprep-native\": \"29.0.0\", \"azureml-datadrift\": \"1.22.0\", \"azureml-core\": \"1.22.0\", \"azureml-contrib-services\": \"1.22.0\", \"azureml-contrib-server\": \"1.22.0\", \"azureml-contrib-reinforcementlearning\": \"1.22.0\", \"azureml-contrib-pipeline-steps\": \"1.22.0\", \"azureml-contrib-notebook\": \"1.22.0\", \"azureml-contrib-interpret\": \"1.22.0\", \"azureml-contrib-gbdt\": \"1.22.0\", \"azureml-contrib-fairness\": \"1.22.0\", \"azureml-contrib-dataset\": \"1.22.0\", \"azureml-cli-common\": \"1.22.0\", \"azureml-automl-runtime\": \"1.22.0\", \"azureml-automl-core\": \"1.22.0\", \"azureml-accel-models\": \"1.22.0\"}',\n",
       "  '_aml_system_scenario_identification': 'Local.Parent',\n",
       "  'ClientSdkVersion': '1.22.0',\n",
       "  'ClientType': 'SDK',\n",
       "  'environment_cpu_name': 'AzureML-AutoML',\n",
       "  'environment_cpu_label': 'prod',\n",
       "  'environment_gpu_name': 'AzureML-AutoML-GPU',\n",
       "  'environment_gpu_label': 'prod',\n",
       "  'root_attribution': 'automl',\n",
       "  'attribution': 'AutoML',\n",
       "  'Orchestrator': 'AutoML',\n",
       "  '_azureml.ComputeTargetType': 'local',\n",
       "  'ProblemInfoJsonString': '{\"dataset_num_categorical\": 0, \"is_sparse\": false, \"subsampling\": false, \"dataset_classes\": 2, \"dataset_features\": 5, \"dataset_samples\": 569, \"single_frequency_class_detected\": false}',\n",
       "  'feature_skus': 'automatedml_sdk_guardrails'},\n",
       " 'inputDatasets': [{'dataset': {'id': 'd23d1c75-750e-4aac-a9a1-60496175e066'}, 'consumptionDetails': {'type': 'RunInput', 'inputName': 'training_data', 'mechanism': 'Direct'}}],\n",
       " 'outputDatasets': [],\n",
       " 'logFiles': {},\n",
       " 'submittedBy': 'ODL_User 140119'}"
      ]
     },
     "execution_count": 8,
     "metadata": {},
     "output_type": "execute_result"
    }
   ],
   "source": [
    "automl_run.wait_for_completion(show_output=True)"
   ]
  },
  {
   "cell_type": "markdown",
   "metadata": {},
   "source": [
    "## Best Model\n",
    "\n",
    "TODO: In the cell below, get the best model from the automl experiments and display all the properties of the model.\n",
    "\n"
   ]
  },
  {
   "cell_type": "code",
   "execution_count": 9,
   "metadata": {},
   "outputs": [
    {
     "name": "stdout",
     "output_type": "stream",
     "text": [
      "Run(Experiment: automl-exp,\n",
      "Id: AutoML_f522ea1c-2bb4-412c-b0e2-702869f6a55f_38,\n",
      "Type: None,\n",
      "Status: Completed)\n"
     ]
    }
   ],
   "source": [
    "best_model, fitted_model = automl_run.get_output()\n",
    "\n",
    "print(best_model)"
   ]
  },
  {
   "cell_type": "code",
   "execution_count": 10,
   "metadata": {},
   "outputs": [
    {
     "data": {
      "text/plain": [
       "Pipeline(memory=None,\n",
       "         steps=[('prefittedsoftvotingclassifier',\n",
       "                 PreFittedSoftVotingClassifier(classification_labels=None,\n",
       "                                               estimators=[('24',\n",
       "                                                            Pipeline(memory=None,\n",
       "                                                                     steps=[('MaxAbsScaler',\n",
       "                                                                             MaxAbsScaler(copy=True)),\n",
       "                                                                            ('LightGBMClassifier',\n",
       "                                                                             LightGBMClassifier(boosting_type='goss',\n",
       "                                                                                                class_weight=None,\n",
       "                                                                                                colsample_bytree=0.8911111111111111,\n",
       "                                                                                                importance_type='split',\n",
       "                                                                                                learn...\n",
       "                                                                                                random_state=None,\n",
       "                                                                                                reg_alpha=0.47368421052631576,\n",
       "                                                                                                reg_lambda=0.631578947368421,\n",
       "                                                                                                silent=True,\n",
       "                                                                                                subsample=1,\n",
       "                                                                                                subsample_for_bin=200000,\n",
       "                                                                                                subsample_freq=0,\n",
       "                                                                                                verbose=-10))],\n",
       "                                                                     verbose=False))],\n",
       "                                               flatten_transform=None,\n",
       "                                               weights=[0.42857142857142855,\n",
       "                                                        0.14285714285714285,\n",
       "                                                        0.07142857142857142,\n",
       "                                                        0.14285714285714285,\n",
       "                                                        0.07142857142857142,\n",
       "                                                        0.07142857142857142,\n",
       "                                                        0.07142857142857142]))],\n",
       "         verbose=False)"
      ]
     },
     "execution_count": 10,
     "metadata": {},
     "output_type": "execute_result"
    }
   ],
   "source": [
    "fitted_model"
   ]
  },
  {
   "cell_type": "code",
   "execution_count": 11,
   "metadata": {},
   "outputs": [
    {
     "data": {
      "text/plain": [
       "{'AUC_macro': 0.9817803508483784,\n",
       " 'recall_score_weighted': 0.9384398496240601,\n",
       " 'matthews_correlation': 0.8678266159542292,\n",
       " 'weighted_accuracy': 0.9436687497172818,\n",
       " 'AUC_micro': 0.9822800755805554,\n",
       " 'norm_macro_recall': 0.8653370921297079,\n",
       " 'recall_score_micro': 0.9384398496240601,\n",
       " 'f1_score_macro': 0.9328360009934242,\n",
       " 'f1_score_micro': 0.9384398496240601,\n",
       " 'f1_score_weighted': 0.9382077470164585,\n",
       " 'AUC_weighted': 0.9817803508483787,\n",
       " 'average_precision_score_weighted': 0.9835508280236338,\n",
       " 'accuracy': 0.9384398496240601,\n",
       " 'log_loss': 0.18089927319883362,\n",
       " 'average_precision_score_macro': 0.9820583997779491,\n",
       " 'precision_score_macro': 0.9353620924840564,\n",
       " 'average_precision_score_micro': 0.9830288961871847,\n",
       " 'precision_score_micro': 0.9384398496240601,\n",
       " 'precision_score_weighted': 0.9399361548388994,\n",
       " 'recall_score_macro': 0.932668546064854,\n",
       " 'balanced_accuracy': 0.932668546064854,\n",
       " 'accuracy_table': 'aml://artifactId/ExperimentRun/dcid.AutoML_f522ea1c-2bb4-412c-b0e2-702869f6a55f_38/accuracy_table',\n",
       " 'confusion_matrix': 'aml://artifactId/ExperimentRun/dcid.AutoML_f522ea1c-2bb4-412c-b0e2-702869f6a55f_38/confusion_matrix'}"
      ]
     },
     "execution_count": 11,
     "metadata": {},
     "output_type": "execute_result"
    }
   ],
   "source": [
    "best_model.get_metrics()"
   ]
  },
  {
   "cell_type": "code",
   "execution_count": 12,
   "metadata": {},
   "outputs": [
    {
     "data": {
      "text/plain": [
       "0.9384398496240601"
      ]
     },
     "execution_count": 12,
     "metadata": {},
     "output_type": "execute_result"
    }
   ],
   "source": [
    "metrics = best_model.get_metrics()\n",
    "metrics['accuracy']"
   ]
  },
  {
   "cell_type": "code",
   "execution_count": 13,
   "metadata": {
    "gather": {
     "logged": 1598431426111
    },
    "jupyter": {
     "outputs_hidden": false,
     "source_hidden": false
    },
    "nteract": {
     "transient": {
      "deleting": false
     }
    }
   },
   "outputs": [],
   "source": [
    "#TODO: Save the best model\n",
    "from azureml.automl.runtime.onnx_convert import OnnxConverter\n",
    "\n",
    "best_automl_model, onnx_model= automl_run.get_output(return_onnx_model=True)"
   ]
  },
  {
   "cell_type": "code",
   "execution_count": 14,
   "metadata": {},
   "outputs": [],
   "source": [
    "onnx_path = \"./best_automl_model.onnx\"\n",
    "OnnxConverter.save_onnx_model(onnx_model, file_path=onnx_path)"
   ]
  },
  {
   "cell_type": "markdown",
   "metadata": {},
   "source": [
    "## Model Deployment\n",
    "\n",
    "Remember you have to deploy only one of the two models you trained.. Perform the steps in the rest of this notebook only if you wish to deploy this model.\n",
    "\n",
    "TODO: In the cell below, register the model, create an inference config and deploy the model as a web service."
   ]
  },
  {
   "cell_type": "code",
   "execution_count": 16,
   "metadata": {
    "gather": {
     "logged": 1598431435189
    },
    "jupyter": {
     "outputs_hidden": false,
     "source_hidden": false
    },
    "nteract": {
     "transient": {
      "deleting": false
     }
    }
   },
   "outputs": [],
   "source": [
    "automl_model = automl_run.register_model(model_name='best_automl_model', description='The best automl experiment model')"
   ]
  },
  {
   "cell_type": "code",
   "execution_count": 21,
   "metadata": {},
   "outputs": [],
   "source": [
    "from azureml.core.model import InferenceConfig\n",
    "from azureml.core.environment import Environment\n",
    "from azureml.core.model import Model\n",
    "from azureml.automl.core.shared import constants\n",
    "from azureml.core.webservice import Webservice\n",
    "\n",
    "from azureml.core.webservice import AciWebservice\n",
    "\n",
    "deployment_config = AciWebservice.deploy_configuration(cpu_cores = 1, memory_gb = 1, auth_enabled=True)\n",
    "\n",
    "model = Model(ws, 'best_automl_model')"
   ]
  },
  {
   "cell_type": "code",
   "execution_count": 41,
   "metadata": {},
   "outputs": [],
   "source": [
    "best_model.download_file(constants.CONDA_ENV_FILE_PATH, 'myenv.yml')\n",
    "\n",
    "myenv = Environment.from_conda_specification(name=\"myenv\", file_path=\"myenv.yml\")"
   ]
  },
  {
   "cell_type": "code",
   "execution_count": 47,
   "metadata": {},
   "outputs": [
    {
     "name": "stdout",
     "output_type": "stream",
     "text": [
      "Tips: You can try get_logs(): https://aka.ms/debugimage#dockerlog or local deployment: https://aka.ms/debugimage#debug-locally to debug if deployment takes longer than 10 minutes.\n",
      "Running.......................................................................................................................................................................................................\n",
      "Succeeded\n",
      "ACI service creation operation finished, operation \"Succeeded\"\n"
     ]
    }
   ],
   "source": [
    "name = 'best-model-deployment'\n",
    "\n",
    "inference_config = InferenceConfig(entry_script='score.py', environment=myenv)\n",
    "service = Model.deploy(ws, name, [model], inference_config, deployment_config)\n",
    "service.wait_for_deployment(show_output=True)"
   ]
  },
  {
   "cell_type": "code",
   "execution_count": 48,
   "metadata": {},
   "outputs": [],
   "source": [
    "service.update(enable_app_insights=True)"
   ]
  },
  {
   "cell_type": "code",
   "execution_count": 50,
   "metadata": {},
   "outputs": [
    {
     "name": "stdout",
     "output_type": "stream",
     "text": [
      "Healthy\n",
      "<bound method Webservice.get_keys of AciWebservice(workspace=Workspace.create(name='quick-starts-ws-140119', subscription_id='9b72f9e6-56c5-4c16-991b-19c652994860', resource_group='aml-quickstarts-140119'), name=best-model-deployment, image_id=None, compute_type=None, state=ACI, scoring_uri=Healthy, tags=http://e381f9b4-cd2a-41f3-b935-d2cd04fa48e9.southcentralus.azurecontainer.io/score, properties={}, created_by={'hasInferenceSchema': 'True', 'hasHttps': 'False'})>\n",
      "http://e381f9b4-cd2a-41f3-b935-d2cd04fa48e9.southcentralus.azurecontainer.io/score\n",
      "http://e381f9b4-cd2a-41f3-b935-d2cd04fa48e9.southcentralus.azurecontainer.io/swagger.json\n"
     ]
    }
   ],
   "source": [
    "print(service.state, service.get_keys, service.scoring_uri, service.swagger_uri, sep= '\\n')"
   ]
  },
  {
   "cell_type": "code",
   "execution_count": 57,
   "metadata": {},
   "outputs": [
    {
     "name": "stdout",
     "output_type": "stream",
     "text": [
      "{\"result\": [0, 1]}\n"
     ]
    }
   ],
   "source": [
    "%run endpoint.py"
   ]
  },
  {
   "cell_type": "markdown",
   "metadata": {
    "collapsed": true,
    "gather": {
     "logged": 1598431657736
    },
    "jupyter": {
     "outputs_hidden": false,
     "source_hidden": false
    },
    "nteract": {
     "transient": {
      "deleting": false
     }
    }
   },
   "source": [
    "TODO: In the cell below, send a request to the web service you deployed to test it."
   ]
  },
  {
   "cell_type": "code",
   "execution_count": 54,
   "metadata": {
    "gather": {
     "logged": 1598432707604
    },
    "jupyter": {
     "outputs_hidden": false,
     "source_hidden": false
    },
    "nteract": {
     "transient": {
      "deleting": false
     }
    }
   },
   "outputs": [],
   "source": [
    "# load existing web service\n",
    "from azureml.core.webservice import Webservice\n",
    "service = Webservice(name='best-model-deployment', workspace=ws)"
   ]
  },
  {
   "cell_type": "markdown",
   "metadata": {
    "collapsed": true,
    "gather": {
     "logged": 1598432765711
    },
    "jupyter": {
     "outputs_hidden": false,
     "source_hidden": false
    },
    "nteract": {
     "transient": {
      "deleting": false
     }
    }
   },
   "source": [
    "TODO: In the cell below, print the logs of the web service and delete the service"
   ]
  },
  {
   "cell_type": "code",
   "execution_count": 55,
   "metadata": {
    "jupyter": {
     "outputs_hidden": false,
     "source_hidden": false
    },
    "nteract": {
     "transient": {
      "deleting": false
     }
    }
   },
   "outputs": [],
   "source": [
    "logs = service.get_logs()"
   ]
  },
  {
   "cell_type": "code",
   "execution_count": 56,
   "metadata": {},
   "outputs": [
    {
     "name": "stdout",
     "output_type": "stream",
     "text": [
      "2021-03-09T22:12:26,063852800+00:00 - iot-server/run \n",
      "2021-03-09T22:12:26,073521400+00:00 - rsyslog/run \n",
      "2021-03-09T22:12:26,064836800+00:00 - gunicorn/run \n",
      "2021-03-09T22:12:26,096194900+00:00 - nginx/run \n",
      "/usr/sbin/nginx: /azureml-envs/azureml_6f3791fe7434448b4ebe2b0fd691d644/lib/libcrypto.so.1.0.0: no version information available (required by /usr/sbin/nginx)\n",
      "/usr/sbin/nginx: /azureml-envs/azureml_6f3791fe7434448b4ebe2b0fd691d644/lib/libcrypto.so.1.0.0: no version information available (required by /usr/sbin/nginx)\n",
      "/usr/sbin/nginx: /azureml-envs/azureml_6f3791fe7434448b4ebe2b0fd691d644/lib/libssl.so.1.0.0: no version information available (required by /usr/sbin/nginx)\n",
      "/usr/sbin/nginx: /azureml-envs/azureml_6f3791fe7434448b4ebe2b0fd691d644/lib/libssl.so.1.0.0: no version information available (required by /usr/sbin/nginx)\n",
      "/usr/sbin/nginx: /azureml-envs/azureml_6f3791fe7434448b4ebe2b0fd691d644/lib/libssl.so.1.0.0: no version information available (required by /usr/sbin/nginx)\n",
      "rsyslogd: /azureml-envs/azureml_6f3791fe7434448b4ebe2b0fd691d644/lib/libuuid.so.1: no version information available (required by rsyslogd)\n",
      "\n"
     ]
    }
   ],
   "source": [
    "for line in logs.split('\\n'):\n",
    "    print(line)"
   ]
  },
  {
   "cell_type": "code",
   "execution_count": 58,
   "metadata": {},
   "outputs": [],
   "source": [
    "compute_target.delete()"
   ]
  },
  {
   "cell_type": "code",
   "execution_count": null,
   "metadata": {},
   "outputs": [],
   "source": []
  }
 ],
 "metadata": {
  "kernel_info": {
   "name": "python3-azureml"
  },
  "kernelspec": {
   "display_name": "Python 3",
   "language": "python",
   "name": "python3"
  },
  "language_info": {
   "codemirror_mode": {
    "name": "ipython",
    "version": 3
   },
   "file_extension": ".py",
   "mimetype": "text/x-python",
   "name": "python",
   "nbconvert_exporter": "python",
   "pygments_lexer": "ipython3",
   "version": "3.6.9"
  },
  "nteract": {
   "version": "nteract-front-end@1.0.0"
  }
 },
 "nbformat": 4,
 "nbformat_minor": 2
}
