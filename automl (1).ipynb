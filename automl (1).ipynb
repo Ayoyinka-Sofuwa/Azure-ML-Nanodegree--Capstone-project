{
 "cells": [
  {
   "cell_type": "markdown",
   "metadata": {},
   "source": [
    "# Automated ML\n",
    "\n",
    "TODO: Import Dependencies. In the cell below, import all the dependencies that you will need to complete the project."
   ]
  },
  {
   "cell_type": "code",
   "execution_count": 1,
   "metadata": {
    "gather": {
     "logged": 1598423888013
    },
    "jupyter": {
     "outputs_hidden": false,
     "source_hidden": false
    },
    "nteract": {
     "transient": {
      "deleting": false
     }
    }
   },
   "outputs": [
    {
     "name": "stdout",
     "output_type": "stream",
     "text": [
      "Sdk version is: 1.20.0\n"
     ]
    }
   ],
   "source": [
    "from azureml.core.experiment import Experiment\n",
    "from azureml.core.workspace import Workspace\n",
    "from azureml.train.automl import AutoMLConfig\n",
    "from azureml.core.dataset import Dataset\n",
    "\n",
    "print(\"Sdk version is:\", azureml.core.VERSION)"
   ]
  },
  {
   "cell_type": "markdown",
   "metadata": {},
   "source": [
    "## Dataset\n",
    "\n",
    "### Overview\n",
    "TODO: In this markdown cell, give an overview of the dataset you are using. Also mention the task you will be performing.\n",
    "\n",
    "\n",
    "TODO: Get data. In the cell below, write code to access the data you will be using in this project. Remember that the dataset needs to be external."
   ]
  },
  {
   "cell_type": "markdown",
   "metadata": {},
   "source": [
    "For this project, I'll be using the breast cancer dataset that contains features centered on the size and area of the tumor to determine if it's cancerous or not, or otherwise: malignant or benign.\n",
    "\n",
    "This task is going to be a classification task which decides only two variables; cancerous or not."
   ]
  },
  {
   "cell_type": "code",
   "execution_count": 2,
   "metadata": {
    "gather": {
     "logged": 1598423890461
    },
    "jupyter": {
     "outputs_hidden": false,
     "source_hidden": false
    },
    "nteract": {
     "transient": {
      "deleting": false
     }
    }
   },
   "outputs": [],
   "source": [
    "ws = Workspace.from_config()\n",
    "\n",
    "# choose a name for experiment\n",
    "experiment_name = 'automl-exp'\n",
    "project_folder = \"./automl-project\"\n",
    "\n",
    "exp=Experiment(ws, experiment_name)"
   ]
  },
  {
   "cell_type": "code",
   "execution_count": 3,
   "metadata": {},
   "outputs": [
    {
     "name": "stdout",
     "output_type": "stream",
     "text": [
      "Found existing cluster, use it.\n",
      "Succeeded\n",
      "AmlCompute wait for completion finished\n",
      "\n",
      "Minimum number of nodes requested have been provisioned\n"
     ]
    },
    {
     "data": {
      "text/plain": [
       "<azureml.core.compute.amlcompute.AmlComputeStatus at 0x7ff09e07e3c8>"
      ]
     },
     "execution_count": 3,
     "metadata": {},
     "output_type": "execute_result"
    }
   ],
   "source": [
    "from azureml.core.compute_target import ComputeTargetException\n",
    "from azureml.core.compute import AmlCompute\n",
    "from azureml.core.compute import ComputeTarget\n",
    "\n",
    "cluster_name= \"AML-Cluster\"\n",
    "\n",
    "#Verify that cluster does not exist already\n",
    "try:\n",
    "    compute_target = ComputeTarget(workspace=ws, name=cluster_name)\n",
    "    print('Found existing cluster, use it.')\n",
    "    \n",
    "except ComputeTargetException:\n",
    "    compute_config = AmlCompute.provisioning_configuration(vm_size='STANDARD_DS12_v2',\n",
    "                                                           min_nodes=1, max_nodes=5)\n",
    "    \n",
    "    compute_target = ComputeTarget.create(ws, cluster_name, compute_config)\n",
    "\n",
    "compute_target.wait_for_completion(show_output=True, min_node_count = 1, timeout_in_minutes = 10)\n",
    "compute_target.get_status()"
   ]
  },
  {
   "cell_type": "code",
   "execution_count": 4,
   "metadata": {},
   "outputs": [
    {
     "data": {
      "text/html": [
       "<div>\n",
       "<style scoped>\n",
       "    .dataframe tbody tr th:only-of-type {\n",
       "        vertical-align: middle;\n",
       "    }\n",
       "\n",
       "    .dataframe tbody tr th {\n",
       "        vertical-align: top;\n",
       "    }\n",
       "\n",
       "    .dataframe thead th {\n",
       "        text-align: right;\n",
       "    }\n",
       "</style>\n",
       "<table border=\"1\" class=\"dataframe\">\n",
       "  <thead>\n",
       "    <tr style=\"text-align: right;\">\n",
       "      <th></th>\n",
       "      <th>mean_radius</th>\n",
       "      <th>mean_texture</th>\n",
       "      <th>mean_perimeter</th>\n",
       "      <th>mean_area</th>\n",
       "      <th>mean_smoothness</th>\n",
       "      <th>diagnosis</th>\n",
       "    </tr>\n",
       "  </thead>\n",
       "  <tbody>\n",
       "    <tr>\n",
       "      <th>count</th>\n",
       "      <td>569.000000</td>\n",
       "      <td>569.000000</td>\n",
       "      <td>569.000000</td>\n",
       "      <td>569.000000</td>\n",
       "      <td>569.000000</td>\n",
       "      <td>569.000000</td>\n",
       "    </tr>\n",
       "    <tr>\n",
       "      <th>mean</th>\n",
       "      <td>14.127292</td>\n",
       "      <td>19.289649</td>\n",
       "      <td>91.969033</td>\n",
       "      <td>654.889104</td>\n",
       "      <td>0.096360</td>\n",
       "      <td>0.627417</td>\n",
       "    </tr>\n",
       "    <tr>\n",
       "      <th>std</th>\n",
       "      <td>3.524049</td>\n",
       "      <td>4.301036</td>\n",
       "      <td>24.298981</td>\n",
       "      <td>351.914129</td>\n",
       "      <td>0.014064</td>\n",
       "      <td>0.483918</td>\n",
       "    </tr>\n",
       "    <tr>\n",
       "      <th>min</th>\n",
       "      <td>6.981000</td>\n",
       "      <td>9.710000</td>\n",
       "      <td>43.790000</td>\n",
       "      <td>143.500000</td>\n",
       "      <td>0.052630</td>\n",
       "      <td>0.000000</td>\n",
       "    </tr>\n",
       "    <tr>\n",
       "      <th>25%</th>\n",
       "      <td>11.700000</td>\n",
       "      <td>16.170000</td>\n",
       "      <td>75.170000</td>\n",
       "      <td>420.300000</td>\n",
       "      <td>0.086370</td>\n",
       "      <td>0.000000</td>\n",
       "    </tr>\n",
       "    <tr>\n",
       "      <th>50%</th>\n",
       "      <td>13.370000</td>\n",
       "      <td>18.840000</td>\n",
       "      <td>86.240000</td>\n",
       "      <td>551.100000</td>\n",
       "      <td>0.095870</td>\n",
       "      <td>1.000000</td>\n",
       "    </tr>\n",
       "    <tr>\n",
       "      <th>75%</th>\n",
       "      <td>15.780000</td>\n",
       "      <td>21.800000</td>\n",
       "      <td>104.100000</td>\n",
       "      <td>782.700000</td>\n",
       "      <td>0.105300</td>\n",
       "      <td>1.000000</td>\n",
       "    </tr>\n",
       "    <tr>\n",
       "      <th>max</th>\n",
       "      <td>28.110000</td>\n",
       "      <td>39.280000</td>\n",
       "      <td>188.500000</td>\n",
       "      <td>2501.000000</td>\n",
       "      <td>0.163400</td>\n",
       "      <td>1.000000</td>\n",
       "    </tr>\n",
       "  </tbody>\n",
       "</table>\n",
       "</div>"
      ],
      "text/plain": [
       "       mean_radius  mean_texture  mean_perimeter    mean_area  \\\n",
       "count   569.000000    569.000000      569.000000   569.000000   \n",
       "mean     14.127292     19.289649       91.969033   654.889104   \n",
       "std       3.524049      4.301036       24.298981   351.914129   \n",
       "min       6.981000      9.710000       43.790000   143.500000   \n",
       "25%      11.700000     16.170000       75.170000   420.300000   \n",
       "50%      13.370000     18.840000       86.240000   551.100000   \n",
       "75%      15.780000     21.800000      104.100000   782.700000   \n",
       "max      28.110000     39.280000      188.500000  2501.000000   \n",
       "\n",
       "       mean_smoothness   diagnosis  \n",
       "count       569.000000  569.000000  \n",
       "mean          0.096360    0.627417  \n",
       "std           0.014064    0.483918  \n",
       "min           0.052630    0.000000  \n",
       "25%           0.086370    0.000000  \n",
       "50%           0.095870    1.000000  \n",
       "75%           0.105300    1.000000  \n",
       "max           0.163400    1.000000  "
      ]
     },
     "execution_count": 4,
     "metadata": {},
     "output_type": "execute_result"
    }
   ],
   "source": [
    "#load the data\n",
    "found = False\n",
    "key = \"breast-cancer-data\"\n",
    "description_text = \"breast cancer prediction for third Project\"\n",
    "\n",
    "if key in ws.datasets.keys(): \n",
    "        found = True\n",
    "        dataset = ws.datasets[key] \n",
    "\n",
    "if not found:\n",
    "        # Create AML Dataset and register it into Workspace\n",
    "        data = 'https://raw.githubusercontent.com/Ayoyinka-Sofuwa/Capstone-project/main/Breast_cancer_data.csv'\n",
    "        dataset = Dataset.Tabular.from_delimited_files(data)        \n",
    "        #Register Dataset in Workspace\n",
    "        dataset = dataset.register(workspace=ws,\n",
    "                                   name=key,\n",
    "                                   description=description_text)\n",
    "\n",
    "\n",
    "df = dataset.to_pandas_dataframe()\n",
    "\n",
    "df.describe()"
   ]
  },
  {
   "cell_type": "markdown",
   "metadata": {},
   "source": [
    "## AutoML Configuration\n",
    "\n",
    "TODO: Explain why you chose the automl settings and cofiguration you used below."
   ]
  },
  {
   "cell_type": "markdown",
   "metadata": {},
   "source": [
    "In my automl settings, "
   ]
  },
  {
   "cell_type": "code",
   "execution_count": 5,
   "metadata": {
    "gather": {
     "logged": 1598429217746
    },
    "jupyter": {
     "outputs_hidden": false,
     "source_hidden": false
    },
    "nteract": {
     "transient": {
      "deleting": false
     }
    }
   },
   "outputs": [],
   "source": [
    "#Put your automl settings here\n",
    "automl_settings = {\"experiment_timeout_minutes\": 30,\n",
    "                   \"max_concurrent_iterations\": 4,\n",
    "                   \"primary_metric\" : 'accuracy'}\n",
    "\n",
    "#Put your automl config here\n",
    "automl_config = AutoMLConfig(compute_target=compute_target,\n",
    "                             task = \"classification\",\n",
    "                             training_data=dataset,\n",
    "                             label_column_name=\"diagnosis\",   \n",
    "                             path = project_folder,\n",
    "                             enable_early_stopping= True,\n",
    "                             featurization= 'auto',\n",
    "                             enable_onnx_compatible_models=True,\n",
    "                             debug_log = \"automl_errors.log\",\n",
    "                             **automl_settings)"
   ]
  },
  {
   "cell_type": "code",
   "execution_count": 6,
   "metadata": {
    "gather": {
     "logged": 1598431107951
    },
    "jupyter": {
     "outputs_hidden": false,
     "source_hidden": false
    },
    "nteract": {
     "transient": {
      "deleting": false
     }
    }
   },
   "outputs": [
    {
     "name": "stdout",
     "output_type": "stream",
     "text": [
      "Running on remote.\n"
     ]
    }
   ],
   "source": [
    "#Submit your experiment\n",
    "automl_run = exp.submit(automl_config)"
   ]
  },
  {
   "cell_type": "markdown",
   "metadata": {},
   "source": [
    "## Run Details\n",
    "\n",
    "OPTIONAL: Write about the different models trained and their performance. Why do you think some models did better than others?\n",
    "\n",
    "TODO: In the cell below, use the `RunDetails` widget to show the different experiments."
   ]
  },
  {
   "cell_type": "code",
   "execution_count": 9,
   "metadata": {
    "gather": {
     "logged": 1598431121770
    },
    "jupyter": {
     "outputs_hidden": false,
     "source_hidden": false
    },
    "nteract": {
     "transient": {
      "deleting": false
     }
    }
   },
   "outputs": [
    {
     "data": {
      "application/vnd.jupyter.widget-view+json": {
       "model_id": "087995c609d74b34ae00c9986be7377a",
       "version_major": 2,
       "version_minor": 0
      },
      "text/plain": [
       "_AutoMLWidget(widget_settings={'childWidgetDisplay': 'popup', 'send_telemetry': False, 'log_level': 'INFO', 's…"
      ]
     },
     "metadata": {},
     "output_type": "display_data"
    },
    {
     "data": {
      "application/aml.mini.widget.v1": "{\"status\": \"Completed\", \"workbench_run_details_uri\": \"https://ml.azure.com/experiments/automl-exp/runs/AutoML_1440c676-7dd5-49b8-9e33-c02999606195?wsid=/subscriptions/3e42d11f-d64d-4173-af9b-12ecaa1030b3/resourcegroups/aml-quickstarts-138628/workspaces/quick-starts-ws-138628\", \"run_id\": \"AutoML_1440c676-7dd5-49b8-9e33-c02999606195\", \"run_properties\": {\"run_id\": \"AutoML_1440c676-7dd5-49b8-9e33-c02999606195\", \"created_utc\": \"2021-02-11T22:14:26.664068Z\", \"properties\": {\"num_iterations\": \"1000\", \"training_type\": \"TrainFull\", \"acquisition_function\": \"EI\", \"primary_metric\": \"accuracy\", \"train_split\": \"0\", \"acquisition_parameter\": \"0\", \"num_cross_validation\": null, \"target\": \"AML-Cluster\", \"AMLSettingsJsonString\": \"{\\\"path\\\":null,\\\"name\\\":\\\"automl-exp\\\",\\\"subscription_id\\\":\\\"3e42d11f-d64d-4173-af9b-12ecaa1030b3\\\",\\\"resource_group\\\":\\\"aml-quickstarts-138628\\\",\\\"workspace_name\\\":\\\"quick-starts-ws-138628\\\",\\\"region\\\":\\\"southcentralus\\\",\\\"compute_target\\\":\\\"AML-Cluster\\\",\\\"spark_service\\\":null,\\\"azure_service\\\":\\\"remote\\\",\\\"many_models\\\":false,\\\"pipeline_fetch_max_batch_size\\\":1,\\\"iterations\\\":1000,\\\"primary_metric\\\":\\\"accuracy\\\",\\\"task_type\\\":\\\"classification\\\",\\\"data_script\\\":null,\\\"validation_size\\\":0.0,\\\"n_cross_validations\\\":null,\\\"y_min\\\":null,\\\"y_max\\\":null,\\\"num_classes\\\":null,\\\"featurization\\\":\\\"auto\\\",\\\"_ignore_package_version_incompatibilities\\\":false,\\\"is_timeseries\\\":false,\\\"max_cores_per_iteration\\\":1,\\\"max_concurrent_iterations\\\":4,\\\"iteration_timeout_minutes\\\":null,\\\"mem_in_mb\\\":null,\\\"enforce_time_on_windows\\\":false,\\\"experiment_timeout_minutes\\\":30,\\\"experiment_exit_score\\\":null,\\\"whitelist_models\\\":null,\\\"blacklist_algos\\\":[\\\"TensorFlowLinearClassifier\\\",\\\"TensorFlowDNN\\\"],\\\"supported_models\\\":[\\\"LightGBM\\\",\\\"SVM\\\",\\\"DecisionTree\\\",\\\"SGD\\\",\\\"KNN\\\",\\\"XGBoostClassifier\\\",\\\"ExtremeRandomTrees\\\",\\\"LinearSVM\\\",\\\"LogisticRegression\\\",\\\"GradientBoosting\\\",\\\"AveragedPerceptronClassifier\\\",\\\"TensorFlowDNN\\\",\\\"MultinomialNaiveBayes\\\",\\\"RandomForest\\\",\\\"BernoulliNaiveBayes\\\",\\\"TensorFlowLinearClassifier\\\"],\\\"auto_blacklist\\\":true,\\\"blacklist_samples_reached\\\":false,\\\"exclude_nan_labels\\\":true,\\\"verbosity\\\":20,\\\"_debug_log\\\":\\\"azureml_automl.log\\\",\\\"show_warnings\\\":false,\\\"model_explainability\\\":true,\\\"service_url\\\":null,\\\"sdk_url\\\":null,\\\"sdk_packages\\\":null,\\\"enable_onnx_compatible_models\\\":true,\\\"enable_split_onnx_featurizer_estimator_models\\\":false,\\\"vm_type\\\":\\\"STANDARD_DS12_V2\\\",\\\"telemetry_verbosity\\\":20,\\\"send_telemetry\\\":true,\\\"enable_dnn\\\":false,\\\"scenario\\\":\\\"SDK-1.13.0\\\",\\\"environment_label\\\":null,\\\"force_text_dnn\\\":false,\\\"enable_feature_sweeping\\\":false,\\\"enable_early_stopping\\\":true,\\\"early_stopping_n_iters\\\":10,\\\"metrics\\\":null,\\\"enable_ensembling\\\":true,\\\"enable_stack_ensembling\\\":false,\\\"ensemble_iterations\\\":15,\\\"enable_tf\\\":false,\\\"enable_subsampling\\\":null,\\\"subsample_seed\\\":null,\\\"enable_nimbusml\\\":false,\\\"enable_streaming\\\":false,\\\"force_streaming\\\":false,\\\"track_child_runs\\\":true,\\\"allowed_private_models\\\":[],\\\"label_column_name\\\":\\\"diagnosis\\\",\\\"weight_column_name\\\":null,\\\"cv_split_column_names\\\":null,\\\"enable_local_managed\\\":false,\\\"_local_managed_run_id\\\":null,\\\"cost_mode\\\":1,\\\"lag_length\\\":0,\\\"metric_operation\\\":\\\"maximize\\\",\\\"preprocess\\\":true}\", \"DataPrepJsonString\": \"{\\\\\\\"training_data\\\\\\\": \\\\\\\"{\\\\\\\\\\\\\\\"blocks\\\\\\\\\\\\\\\": [{\\\\\\\\\\\\\\\"id\\\\\\\\\\\\\\\": \\\\\\\\\\\\\\\"95ade5c5-f77a-49bc-b287-a7101a2b4657\\\\\\\\\\\\\\\", \\\\\\\\\\\\\\\"type\\\\\\\\\\\\\\\": \\\\\\\\\\\\\\\"Microsoft.DPrep.GetFilesBlock\\\\\\\\\\\\\\\", \\\\\\\\\\\\\\\"arguments\\\\\\\\\\\\\\\": {\\\\\\\\\\\\\\\"isArchive\\\\\\\\\\\\\\\": false, \\\\\\\\\\\\\\\"path\\\\\\\\\\\\\\\": {\\\\\\\\\\\\\\\"target\\\\\\\\\\\\\\\": 4, \\\\\\\\\\\\\\\"resourceDetails\\\\\\\\\\\\\\\": [{\\\\\\\\\\\\\\\"path\\\\\\\\\\\\\\\": \\\\\\\\\\\\\\\"https://raw.githubusercontent.com/Ayoyinka-Sofuwa/Capstone-project/main/Breast_cancer_data.csv\\\\\\\\\\\\\\\"}]}}, \\\\\\\\\\\\\\\"localData\\\\\\\\\\\\\\\": {}, \\\\\\\\\\\\\\\"isEnabled\\\\\\\\\\\\\\\": true, \\\\\\\\\\\\\\\"name\\\\\\\\\\\\\\\": null, \\\\\\\\\\\\\\\"annotation\\\\\\\\\\\\\\\": null}, {\\\\\\\\\\\\\\\"id\\\\\\\\\\\\\\\": \\\\\\\\\\\\\\\"74697172-05aa-4633-a29b-af81c3f68df4\\\\\\\\\\\\\\\", \\\\\\\\\\\\\\\"type\\\\\\\\\\\\\\\": \\\\\\\\\\\\\\\"Microsoft.DPrep.ParseDelimitedBlock\\\\\\\\\\\\\\\", \\\\\\\\\\\\\\\"arguments\\\\\\\\\\\\\\\": {\\\\\\\\\\\\\\\"columnHeadersMode\\\\\\\\\\\\\\\": 3, \\\\\\\\\\\\\\\"fileEncoding\\\\\\\\\\\\\\\": 0, \\\\\\\\\\\\\\\"handleQuotedLineBreaks\\\\\\\\\\\\\\\": false, \\\\\\\\\\\\\\\"preview\\\\\\\\\\\\\\\": false, \\\\\\\\\\\\\\\"separator\\\\\\\\\\\\\\\": \\\\\\\\\\\\\\\",\\\\\\\\\\\\\\\", \\\\\\\\\\\\\\\"skipRows\\\\\\\\\\\\\\\": 0, \\\\\\\\\\\\\\\"skipRowsMode\\\\\\\\\\\\\\\": 0}, \\\\\\\\\\\\\\\"localData\\\\\\\\\\\\\\\": {}, \\\\\\\\\\\\\\\"isEnabled\\\\\\\\\\\\\\\": true, \\\\\\\\\\\\\\\"name\\\\\\\\\\\\\\\": null, \\\\\\\\\\\\\\\"annotation\\\\\\\\\\\\\\\": null}, {\\\\\\\\\\\\\\\"id\\\\\\\\\\\\\\\": \\\\\\\\\\\\\\\"d4a54b76-2066-45f8-8122-29db99e225f1\\\\\\\\\\\\\\\", \\\\\\\\\\\\\\\"type\\\\\\\\\\\\\\\": \\\\\\\\\\\\\\\"Microsoft.DPrep.DropColumnsBlock\\\\\\\\\\\\\\\", \\\\\\\\\\\\\\\"arguments\\\\\\\\\\\\\\\": {\\\\\\\\\\\\\\\"columns\\\\\\\\\\\\\\\": {\\\\\\\\\\\\\\\"type\\\\\\\\\\\\\\\": 0, \\\\\\\\\\\\\\\"details\\\\\\\\\\\\\\\": {\\\\\\\\\\\\\\\"selectedColumns\\\\\\\\\\\\\\\": [\\\\\\\\\\\\\\\"Path\\\\\\\\\\\\\\\"]}}}, \\\\\\\\\\\\\\\"localData\\\\\\\\\\\\\\\": {}, \\\\\\\\\\\\\\\"isEnabled\\\\\\\\\\\\\\\": true, \\\\\\\\\\\\\\\"name\\\\\\\\\\\\\\\": null, \\\\\\\\\\\\\\\"annotation\\\\\\\\\\\\\\\": null}, {\\\\\\\\\\\\\\\"id\\\\\\\\\\\\\\\": \\\\\\\\\\\\\\\"72e1a566-d1f0-4eee-9f82-3837a0a68623\\\\\\\\\\\\\\\", \\\\\\\\\\\\\\\"type\\\\\\\\\\\\\\\": \\\\\\\\\\\\\\\"Microsoft.DPrep.SetColumnTypesBlock\\\\\\\\\\\\\\\", \\\\\\\\\\\\\\\"arguments\\\\\\\\\\\\\\\": {\\\\\\\\\\\\\\\"columnConversion\\\\\\\\\\\\\\\": [{\\\\\\\\\\\\\\\"column\\\\\\\\\\\\\\\": {\\\\\\\\\\\\\\\"type\\\\\\\\\\\\\\\": 2, \\\\\\\\\\\\\\\"details\\\\\\\\\\\\\\\": {\\\\\\\\\\\\\\\"selectedColumn\\\\\\\\\\\\\\\": \\\\\\\\\\\\\\\"mean_radius\\\\\\\\\\\\\\\"}}, \\\\\\\\\\\\\\\"typeProperty\\\\\\\\\\\\\\\": 3}, {\\\\\\\\\\\\\\\"column\\\\\\\\\\\\\\\": {\\\\\\\\\\\\\\\"type\\\\\\\\\\\\\\\": 2, \\\\\\\\\\\\\\\"details\\\\\\\\\\\\\\\": {\\\\\\\\\\\\\\\"selectedColumn\\\\\\\\\\\\\\\": \\\\\\\\\\\\\\\"mean_texture\\\\\\\\\\\\\\\"}}, \\\\\\\\\\\\\\\"typeProperty\\\\\\\\\\\\\\\": 3}, {\\\\\\\\\\\\\\\"column\\\\\\\\\\\\\\\": {\\\\\\\\\\\\\\\"type\\\\\\\\\\\\\\\": 2, \\\\\\\\\\\\\\\"details\\\\\\\\\\\\\\\": {\\\\\\\\\\\\\\\"selectedColumn\\\\\\\\\\\\\\\": \\\\\\\\\\\\\\\"mean_perimeter\\\\\\\\\\\\\\\"}}, \\\\\\\\\\\\\\\"typeProperty\\\\\\\\\\\\\\\": 3}, {\\\\\\\\\\\\\\\"column\\\\\\\\\\\\\\\": {\\\\\\\\\\\\\\\"type\\\\\\\\\\\\\\\": 2, \\\\\\\\\\\\\\\"details\\\\\\\\\\\\\\\": {\\\\\\\\\\\\\\\"selectedColumn\\\\\\\\\\\\\\\": \\\\\\\\\\\\\\\"mean_area\\\\\\\\\\\\\\\"}}, \\\\\\\\\\\\\\\"typeProperty\\\\\\\\\\\\\\\": 3}, {\\\\\\\\\\\\\\\"column\\\\\\\\\\\\\\\": {\\\\\\\\\\\\\\\"type\\\\\\\\\\\\\\\": 2, \\\\\\\\\\\\\\\"details\\\\\\\\\\\\\\\": {\\\\\\\\\\\\\\\"selectedColumn\\\\\\\\\\\\\\\": \\\\\\\\\\\\\\\"mean_smoothness\\\\\\\\\\\\\\\"}}, \\\\\\\\\\\\\\\"typeProperty\\\\\\\\\\\\\\\": 3}, {\\\\\\\\\\\\\\\"column\\\\\\\\\\\\\\\": {\\\\\\\\\\\\\\\"type\\\\\\\\\\\\\\\": 2, \\\\\\\\\\\\\\\"details\\\\\\\\\\\\\\\": {\\\\\\\\\\\\\\\"selectedColumn\\\\\\\\\\\\\\\": \\\\\\\\\\\\\\\"diagnosis\\\\\\\\\\\\\\\"}}, \\\\\\\\\\\\\\\"typeProperty\\\\\\\\\\\\\\\": 2}]}, \\\\\\\\\\\\\\\"localData\\\\\\\\\\\\\\\": {}, \\\\\\\\\\\\\\\"isEnabled\\\\\\\\\\\\\\\": true, \\\\\\\\\\\\\\\"name\\\\\\\\\\\\\\\": null, \\\\\\\\\\\\\\\"annotation\\\\\\\\\\\\\\\": null}], \\\\\\\\\\\\\\\"inspectors\\\\\\\\\\\\\\\": [], \\\\\\\\\\\\\\\"meta\\\\\\\\\\\\\\\": {\\\\\\\\\\\\\\\"savedDatasetId\\\\\\\\\\\\\\\": \\\\\\\\\\\\\\\"e036f263-e5c7-49f8-a13a-174d7ea4454e\\\\\\\\\\\\\\\", \\\\\\\\\\\\\\\"datasetType\\\\\\\\\\\\\\\": \\\\\\\\\\\\\\\"tabular\\\\\\\\\\\\\\\", \\\\\\\\\\\\\\\"subscriptionId\\\\\\\\\\\\\\\": \\\\\\\\\\\\\\\"3e42d11f-d64d-4173-af9b-12ecaa1030b3\\\\\\\\\\\\\\\", \\\\\\\\\\\\\\\"workspaceId\\\\\\\\\\\\\\\": \\\\\\\\\\\\\\\"119c0089-76e3-4b37-964b-8db3817839a3\\\\\\\\\\\\\\\", \\\\\\\\\\\\\\\"workspaceLocation\\\\\\\\\\\\\\\": \\\\\\\\\\\\\\\"southcentralus\\\\\\\\\\\\\\\"}}\\\\\\\", \\\\\\\"activities\\\\\\\": 0}\", \"EnableSubsampling\": null, \"runTemplate\": \"AutoML\", \"azureml.runsource\": \"automl\", \"display_task_type\": \"classification\", \"dependencies_versions\": \"{\\\"azureml-widgets\\\": \\\"1.20.0\\\", \\\"azureml-train\\\": \\\"1.20.0\\\", \\\"azureml-train-restclients-hyperdrive\\\": \\\"1.20.0\\\", \\\"azureml-train-core\\\": \\\"1.20.0\\\", \\\"azureml-train-automl\\\": \\\"1.20.0\\\", \\\"azureml-train-automl-runtime\\\": \\\"1.20.0\\\", \\\"azureml-train-automl-client\\\": \\\"1.20.0\\\", \\\"azureml-tensorboard\\\": \\\"1.20.0\\\", \\\"azureml-telemetry\\\": \\\"1.20.0\\\", \\\"azureml-sdk\\\": \\\"1.20.0\\\", \\\"azureml-samples\\\": \\\"0+unknown\\\", \\\"azureml-pipeline\\\": \\\"1.20.0\\\", \\\"azureml-pipeline-steps\\\": \\\"1.20.0\\\", \\\"azureml-pipeline-core\\\": \\\"1.20.0\\\", \\\"azureml-opendatasets\\\": \\\"1.20.0\\\", \\\"azureml-model-management-sdk\\\": \\\"1.0.1b6.post1\\\", \\\"azureml-mlflow\\\": \\\"1.20.0.post1\\\", \\\"azureml-interpret\\\": \\\"1.20.0\\\", \\\"azureml-explain-model\\\": \\\"1.20.0\\\", \\\"azureml-defaults\\\": \\\"1.20.0\\\", \\\"azureml-dataset-runtime\\\": \\\"1.20.0\\\", \\\"azureml-dataprep\\\": \\\"2.7.3\\\", \\\"azureml-dataprep-rslex\\\": \\\"1.5.0\\\", \\\"azureml-dataprep-native\\\": \\\"27.0.0\\\", \\\"azureml-datadrift\\\": \\\"1.20.0\\\", \\\"azureml-core\\\": \\\"1.20.0\\\", \\\"azureml-contrib-services\\\": \\\"1.20.0\\\", \\\"azureml-contrib-server\\\": \\\"1.20.0\\\", \\\"azureml-contrib-reinforcementlearning\\\": \\\"1.20.0\\\", \\\"azureml-contrib-pipeline-steps\\\": \\\"1.20.0\\\", \\\"azureml-contrib-notebook\\\": \\\"1.20.0\\\", \\\"azureml-contrib-interpret\\\": \\\"1.20.0\\\", \\\"azureml-contrib-gbdt\\\": \\\"1.20.0\\\", \\\"azureml-contrib-fairness\\\": \\\"1.20.0\\\", \\\"azureml-contrib-dataset\\\": \\\"1.20.0\\\", \\\"azureml-cli-common\\\": \\\"1.20.0\\\", \\\"azureml-automl-runtime\\\": \\\"1.20.0\\\", \\\"azureml-automl-core\\\": \\\"1.20.0\\\", \\\"azureml-accel-models\\\": \\\"1.20.0\\\"}\", \"_aml_system_scenario_identification\": \"Remote.Parent\", \"ClientType\": \"SDK\", \"environment_cpu_name\": \"AzureML-AutoML\", \"environment_cpu_label\": \"prod\", \"environment_gpu_name\": \"AzureML-AutoML-GPU\", \"environment_gpu_label\": \"prod\", \"root_attribution\": \"automl\", \"attribution\": \"AutoML\", \"Orchestrator\": \"AutoML\", \"CancelUri\": \"https://southcentralus.experiments.azureml.net/jasmine/v1.0/subscriptions/3e42d11f-d64d-4173-af9b-12ecaa1030b3/resourceGroups/aml-quickstarts-138628/providers/Microsoft.MachineLearningServices/workspaces/quick-starts-ws-138628/experimentids/f333284a-ab8e-4500-9793-586335b1536b/cancel/AutoML_1440c676-7dd5-49b8-9e33-c02999606195\", \"ClientSdkVersion\": \"1.21.0\", \"snapshotId\": \"00000000-0000-0000-0000-000000000000\", \"SetupRunId\": \"AutoML_1440c676-7dd5-49b8-9e33-c02999606195_setup\", \"SetupRunContainerId\": \"dcid.AutoML_1440c676-7dd5-49b8-9e33-c02999606195_setup\", \"FeaturizationRunJsonPath\": \"featurizer_container.json\", \"FeaturizationRunId\": \"AutoML_1440c676-7dd5-49b8-9e33-c02999606195_featurize\", \"ProblemInfoJsonString\": \"{\\\"dataset_num_categorical\\\": 0, \\\"is_sparse\\\": false, \\\"subsampling\\\": false, \\\"dataset_classes\\\": 2, \\\"dataset_features\\\": 5, \\\"dataset_samples\\\": 569, \\\"single_frequency_class_detected\\\": false}\", \"ModelExplainRunId\": \"AutoML_1440c676-7dd5-49b8-9e33-c02999606195_ModelExplain\"}, \"tags\": {\"model_explain_run\": \"best_run\", \"_aml_system_azureml.automlComponent\": \"AutoML\", \"pipeline_id\": \"\", \"score\": \"\", \"predicted_cost\": \"\", \"fit_time\": \"\", \"training_percent\": \"\", \"iteration\": \"\", \"run_preprocessor\": \"\", \"run_algorithm\": \"\", \"dynamic_whitelisting_iterations\": \"<25>;<30>;<33>;\", \"automl_best_child_run_id\": \"AutoML_1440c676-7dd5-49b8-9e33-c02999606195_36\"}, \"end_time_utc\": \"2021-02-11T22:36:52.696023Z\", \"status\": \"Completed\", \"log_files\": {}, \"log_groups\": [], \"run_duration\": \"0:22:26\"}, \"child_runs\": [{\"run_id\": \"AutoML_1440c676-7dd5-49b8-9e33-c02999606195_0\", \"run_number\": 7, \"metric\": null, \"status\": \"Completed\", \"run_type\": \"azureml.scriptrun\", \"training_percent\": \"100\", \"start_time\": \"2021-02-11T22:22:41.215922Z\", \"end_time\": \"2021-02-11T22:23:42.24701Z\", \"created_time\": \"2021-02-11T22:20:14.575679Z\", \"created_time_dt\": \"2021-02-11T22:20:14.575679Z\", \"duration\": \"0:03:27\", \"iteration\": \"0\", \"goal\": \"accuracy_max\", \"run_name\": \"MaxAbsScaler, LightGBM\", \"run_properties\": \"copy=True\", \"primary_metric\": 0.92437343, \"best_metric\": 0.92437343}, {\"run_id\": \"AutoML_1440c676-7dd5-49b8-9e33-c02999606195_1\", \"run_number\": 8, \"metric\": null, \"status\": \"Completed\", \"run_type\": \"azureml.scriptrun\", \"training_percent\": \"100\", \"start_time\": \"2021-02-11T22:23:46.89242Z\", \"end_time\": \"2021-02-11T22:24:50.336954Z\", \"created_time\": \"2021-02-11T22:20:14.693784Z\", \"created_time_dt\": \"2021-02-11T22:20:14.693784Z\", \"duration\": \"0:04:35\", \"iteration\": \"1\", \"goal\": \"accuracy_max\", \"run_name\": \"MaxAbsScaler, XGBoostClassifier\", \"run_properties\": \"copy=True\", \"primary_metric\": 0.93493108, \"best_metric\": 0.93493108}, {\"run_id\": \"AutoML_1440c676-7dd5-49b8-9e33-c02999606195_2\", \"run_number\": 9, \"metric\": null, \"status\": \"Completed\", \"run_type\": \"azureml.scriptrun\", \"training_percent\": \"100\", \"start_time\": \"2021-02-11T22:21:32.892084Z\", \"end_time\": \"2021-02-11T22:22:36.14759Z\", \"created_time\": \"2021-02-11T22:20:14.732865Z\", \"created_time_dt\": \"2021-02-11T22:20:14.732865Z\", \"duration\": \"0:02:21\", \"iteration\": \"2\", \"goal\": \"accuracy_max\", \"run_name\": \"MinMaxScaler, RandomForest\", \"run_properties\": \"copy=True, feature_range=(0, 1\", \"primary_metric\": 0.9049812, \"best_metric\": 0.93493108}, {\"run_id\": \"AutoML_1440c676-7dd5-49b8-9e33-c02999606195_3\", \"run_number\": 10, \"metric\": null, \"status\": \"Completed\", \"run_type\": \"azureml.scriptrun\", \"training_percent\": \"100\", \"start_time\": \"2021-02-11T22:20:26.807056Z\", \"end_time\": \"2021-02-11T22:21:26.666232Z\", \"created_time\": \"2021-02-11T22:20:14.820916Z\", \"created_time_dt\": \"2021-02-11T22:20:14.820916Z\", \"duration\": \"0:01:11\", \"iteration\": \"3\", \"goal\": \"accuracy_max\", \"run_name\": \"MinMaxScaler, RandomForest\", \"run_properties\": \"copy=True, feature_range=(0, 1\", \"primary_metric\": 0.91024436, \"best_metric\": 0.93493108}, {\"run_id\": \"AutoML_1440c676-7dd5-49b8-9e33-c02999606195_4\", \"run_number\": 11, \"metric\": null, \"status\": \"Completed\", \"run_type\": \"azureml.scriptrun\", \"training_percent\": \"100\", \"start_time\": \"2021-02-11T22:23:52.347463Z\", \"end_time\": \"2021-02-11T22:26:13.920808Z\", \"created_time\": \"2021-02-11T22:21:31.234228Z\", \"created_time_dt\": \"2021-02-11T22:21:31.234228Z\", \"duration\": \"0:04:42\", \"iteration\": \"4\", \"goal\": \"accuracy_max\", \"run_name\": \"MinMaxScaler, RandomForest\", \"run_properties\": \"copy=True, feature_range=(0, 1\", \"primary_metric\": 0.92261905, \"best_metric\": 0.93493108}, {\"run_id\": \"AutoML_1440c676-7dd5-49b8-9e33-c02999606195_5\", \"run_number\": 12, \"metric\": null, \"status\": \"Completed\", \"run_type\": \"azureml.scriptrun\", \"training_percent\": \"100\", \"start_time\": \"2021-02-11T22:23:51.919223Z\", \"end_time\": \"2021-02-11T22:26:06.931284Z\", \"created_time\": \"2021-02-11T22:22:39.152428Z\", \"created_time_dt\": \"2021-02-11T22:22:39.152428Z\", \"duration\": \"0:03:27\", \"iteration\": \"5\", \"goal\": \"accuracy_max\", \"run_name\": \"MinMaxScaler, SVM\", \"run_properties\": \"copy=True, feature_range=(0, 1\", \"primary_metric\": 0.92612782, \"best_metric\": 0.93493108}, {\"run_id\": \"AutoML_1440c676-7dd5-49b8-9e33-c02999606195_6\", \"run_number\": 13, \"metric\": null, \"status\": \"Completed\", \"run_type\": \"azureml.scriptrun\", \"training_percent\": \"100\", \"start_time\": \"2021-02-11T22:24:00.994289Z\", \"end_time\": \"2021-02-11T22:26:03.936445Z\", \"created_time\": \"2021-02-11T22:23:45.368154Z\", \"created_time_dt\": \"2021-02-11T22:23:45.368154Z\", \"duration\": \"0:02:18\", \"iteration\": \"6\", \"goal\": \"accuracy_max\", \"run_name\": \"MinMaxScaler, SVM\", \"run_properties\": \"copy=True, feature_range=(0, 1\", \"primary_metric\": 0.91203008, \"best_metric\": 0.93493108}, {\"run_id\": \"AutoML_1440c676-7dd5-49b8-9e33-c02999606195_7\", \"run_number\": 14, \"metric\": null, \"status\": \"Completed\", \"run_type\": \"azureml.scriptrun\", \"training_percent\": \"100\", \"start_time\": \"2021-02-11T22:25:05.319643Z\", \"end_time\": \"2021-02-11T22:25:59.575865Z\", \"created_time\": \"2021-02-11T22:24:53.146387Z\", \"created_time_dt\": \"2021-02-11T22:24:53.146387Z\", \"duration\": \"0:01:06\", \"iteration\": \"7\", \"goal\": \"accuracy_max\", \"run_name\": \"MinMaxScaler, SVM\", \"run_properties\": \"copy=True, feature_range=(0, 1\", \"primary_metric\": 0.92083333, \"best_metric\": 0.93493108}, {\"run_id\": \"AutoML_1440c676-7dd5-49b8-9e33-c02999606195_8\", \"run_number\": 15, \"metric\": null, \"status\": \"Completed\", \"run_type\": \"azureml.scriptrun\", \"training_percent\": \"100\", \"start_time\": \"2021-02-11T22:26:14.891043Z\", \"end_time\": \"2021-02-11T22:27:08.464887Z\", \"created_time\": \"2021-02-11T22:26:02.520176Z\", \"created_time_dt\": \"2021-02-11T22:26:02.520176Z\", \"duration\": \"0:01:05\", \"iteration\": \"8\", \"goal\": \"accuracy_max\", \"run_name\": \"SparseNormalizer, XGBoostClassifier\", \"run_properties\": \"<azureml.automl.runtime.shared.model_wrappers.SparseNormalizer object at 0x7f8922528ba8\", \"primary_metric\": 0.92261905, \"best_metric\": 0.93493108}, {\"run_id\": \"AutoML_1440c676-7dd5-49b8-9e33-c02999606195_9\", \"run_number\": 16, \"metric\": null, \"status\": \"Completed\", \"run_type\": \"azureml.scriptrun\", \"training_percent\": \"100\", \"start_time\": \"2021-02-11T22:26:20.196133Z\", \"end_time\": \"2021-02-11T22:27:15.285349Z\", \"created_time\": \"2021-02-11T22:26:07.82858Z\", \"created_time_dt\": \"2021-02-11T22:26:07.82858Z\", \"duration\": \"0:01:07\", \"iteration\": \"9\", \"goal\": \"accuracy_max\", \"run_name\": \"StandardScalerWrapper, LightGBM\", \"run_properties\": \"<azureml.automl.runtime.shared.model_wrappers.StandardScalerWrapper object at 0x7f25be61a4e0\", \"primary_metric\": 0.92612782, \"best_metric\": 0.93493108}, {\"run_id\": \"AutoML_1440c676-7dd5-49b8-9e33-c02999606195_10\", \"run_number\": 17, \"metric\": null, \"status\": \"Completed\", \"run_type\": \"azureml.scriptrun\", \"training_percent\": \"100\", \"start_time\": \"2021-02-11T22:26:24.511319Z\", \"end_time\": \"2021-02-11T22:27:16.374115Z\", \"created_time\": \"2021-02-11T22:26:12.436858Z\", \"created_time_dt\": \"2021-02-11T22:26:12.436858Z\", \"duration\": \"0:01:03\", \"iteration\": \"10\", \"goal\": \"accuracy_max\", \"run_name\": \"MaxAbsScaler, GradientBoosting\", \"run_properties\": \"copy=True\", \"primary_metric\": 0.92080201, \"best_metric\": 0.93493108}, {\"run_id\": \"AutoML_1440c676-7dd5-49b8-9e33-c02999606195_11\", \"run_number\": 18, \"metric\": null, \"status\": \"Completed\", \"run_type\": \"azureml.scriptrun\", \"training_percent\": \"100\", \"start_time\": \"2021-02-11T22:26:28.725643Z\", \"end_time\": \"2021-02-11T22:27:18.27089Z\", \"created_time\": \"2021-02-11T22:26:16.674377Z\", \"created_time_dt\": \"2021-02-11T22:26:16.674377Z\", \"duration\": \"0:01:01\", \"iteration\": \"11\", \"goal\": \"accuracy_max\", \"run_name\": \"StandardScalerWrapper, LightGBM\", \"run_properties\": \"<azureml.automl.runtime.shared.model_wrappers.StandardScalerWrapper object at 0x7fde44c9ed68\", \"primary_metric\": 0.92785088, \"best_metric\": 0.93493108}, {\"run_id\": \"AutoML_1440c676-7dd5-49b8-9e33-c02999606195_12\", \"run_number\": 19, \"metric\": null, \"status\": \"Completed\", \"run_type\": \"azureml.scriptrun\", \"training_percent\": \"100\", \"start_time\": \"2021-02-11T22:27:23.020544Z\", \"end_time\": \"2021-02-11T22:28:18.720372Z\", \"created_time\": \"2021-02-11T22:27:10.917296Z\", \"created_time_dt\": \"2021-02-11T22:27:10.917296Z\", \"duration\": \"0:01:07\", \"iteration\": \"12\", \"goal\": \"accuracy_max\", \"run_name\": \"StandardScalerWrapper, LightGBM\", \"run_properties\": \"<azureml.automl.runtime.shared.model_wrappers.StandardScalerWrapper object at 0x7f91fc6a5588\", \"primary_metric\": 0.89094612, \"best_metric\": 0.93493108}, {\"run_id\": \"AutoML_1440c676-7dd5-49b8-9e33-c02999606195_13\", \"run_number\": 20, \"metric\": null, \"status\": \"Completed\", \"run_type\": \"azureml.scriptrun\", \"training_percent\": \"100\", \"start_time\": \"2021-02-11T22:27:29.648437Z\", \"end_time\": \"2021-02-11T22:28:29.392615Z\", \"created_time\": \"2021-02-11T22:27:17.929367Z\", \"created_time_dt\": \"2021-02-11T22:27:17.929367Z\", \"duration\": \"0:01:11\", \"iteration\": \"13\", \"goal\": \"accuracy_max\", \"run_name\": \"RobustScaler, ExtremeRandomTrees\", \"run_properties\": \"copy=True, quantile_range=[25, 75], with_centering=True,\\n             with_scaling=False\", \"primary_metric\": 0.90147243, \"best_metric\": 0.93493108}, {\"run_id\": \"AutoML_1440c676-7dd5-49b8-9e33-c02999606195_15\", \"run_number\": 21, \"metric\": null, \"status\": \"Completed\", \"run_type\": \"azureml.scriptrun\", \"training_percent\": \"100\", \"start_time\": \"2021-02-11T22:27:36.49855Z\", \"end_time\": \"2021-02-11T22:28:25.48458Z\", \"created_time\": \"2021-02-11T22:27:23.041478Z\", \"created_time_dt\": \"2021-02-11T22:27:23.041478Z\", \"duration\": \"0:01:02\", \"iteration\": \"15\", \"goal\": \"accuracy_max\", \"run_name\": \"StandardScalerWrapper, LightGBM\", \"run_properties\": \"<azureml.automl.runtime.shared.model_wrappers.StandardScalerWrapper object at 0x7f1d48c4f6a0\", \"primary_metric\": 0.89796366, \"best_metric\": 0.93493108}, {\"run_id\": \"AutoML_1440c676-7dd5-49b8-9e33-c02999606195_14\", \"run_number\": 22, \"metric\": null, \"status\": \"Completed\", \"run_type\": \"azureml.scriptrun\", \"training_percent\": \"100\", \"start_time\": \"2021-02-11T22:27:35.932879Z\", \"end_time\": \"2021-02-11T22:28:26.409278Z\", \"created_time\": \"2021-02-11T22:27:23.035402Z\", \"created_time_dt\": \"2021-02-11T22:27:23.035402Z\", \"duration\": \"0:01:03\", \"iteration\": \"14\", \"goal\": \"accuracy_max\", \"run_name\": \"StandardScalerWrapper, RandomForest\", \"run_properties\": \"<azureml.automl.runtime.shared.model_wrappers.StandardScalerWrapper object at 0x7f7865763b70\", \"primary_metric\": 0.92086466, \"best_metric\": 0.93493108}, {\"run_id\": \"AutoML_1440c676-7dd5-49b8-9e33-c02999606195_16\", \"run_number\": 23, \"metric\": null, \"status\": \"Completed\", \"run_type\": \"azureml.scriptrun\", \"training_percent\": \"100\", \"start_time\": \"2021-02-11T22:28:34.741045Z\", \"end_time\": \"2021-02-11T22:29:36.627149Z\", \"created_time\": \"2021-02-11T22:28:21.97405Z\", \"created_time_dt\": \"2021-02-11T22:28:21.97405Z\", \"duration\": \"0:01:14\", \"iteration\": \"16\", \"goal\": \"accuracy_max\", \"run_name\": \"StandardScalerWrapper, GradientBoosting\", \"run_properties\": \"<azureml.automl.runtime.shared.model_wrappers.StandardScalerWrapper object at 0x7ff1eca8fe80\", \"primary_metric\": 0.92080201, \"best_metric\": 0.93493108}, {\"run_id\": \"AutoML_1440c676-7dd5-49b8-9e33-c02999606195_17\", \"run_number\": 24, \"metric\": null, \"status\": \"Completed\", \"run_type\": \"azureml.scriptrun\", \"training_percent\": \"100\", \"start_time\": \"2021-02-11T22:28:39.618155Z\", \"end_time\": \"2021-02-11T22:29:36.553817Z\", \"created_time\": \"2021-02-11T22:28:27.947536Z\", \"created_time_dt\": \"2021-02-11T22:28:27.947536Z\", \"duration\": \"0:01:08\", \"iteration\": \"17\", \"goal\": \"accuracy_max\", \"run_name\": \"StandardScalerWrapper, LightGBM\", \"run_properties\": \"<azureml.automl.runtime.shared.model_wrappers.StandardScalerWrapper object at 0x7fb66a0f3c50\", \"primary_metric\": 0.91378446, \"best_metric\": 0.93493108}, {\"run_id\": \"AutoML_1440c676-7dd5-49b8-9e33-c02999606195_18\", \"run_number\": 25, \"metric\": null, \"status\": \"Completed\", \"run_type\": \"azureml.scriptrun\", \"training_percent\": \"100\", \"start_time\": \"2021-02-11T22:28:43.40112Z\", \"end_time\": \"2021-02-11T22:29:37.753142Z\", \"created_time\": \"2021-02-11T22:28:32.490317Z\", \"created_time_dt\": \"2021-02-11T22:28:32.490317Z\", \"duration\": \"0:01:05\", \"iteration\": \"18\", \"goal\": \"accuracy_max\", \"run_name\": \"SparseNormalizer, XGBoostClassifier\", \"run_properties\": \"<azureml.automl.runtime.shared.model_wrappers.SparseNormalizer object at 0x7fcd9aa3e978\", \"primary_metric\": 0.92434211, \"best_metric\": 0.93493108}, {\"run_id\": \"AutoML_1440c676-7dd5-49b8-9e33-c02999606195_19\", \"run_number\": 26, \"metric\": null, \"status\": \"Completed\", \"run_type\": \"azureml.scriptrun\", \"training_percent\": \"100\", \"start_time\": \"2021-02-11T22:28:45.933993Z\", \"end_time\": \"2021-02-11T22:29:40.324172Z\", \"created_time\": \"2021-02-11T22:28:32.763249Z\", \"created_time_dt\": \"2021-02-11T22:28:32.763249Z\", \"duration\": \"0:01:07\", \"iteration\": \"19\", \"goal\": \"accuracy_max\", \"run_name\": \"SparseNormalizer, XGBoostClassifier\", \"run_properties\": \"<azureml.automl.runtime.shared.model_wrappers.SparseNormalizer object at 0x7f020f32a898\", \"primary_metric\": 0.92080201, \"best_metric\": 0.93493108}, {\"run_id\": \"AutoML_1440c676-7dd5-49b8-9e33-c02999606195_20\", \"run_number\": 27, \"metric\": null, \"status\": \"Completed\", \"run_type\": \"azureml.scriptrun\", \"training_percent\": \"100\", \"start_time\": \"2021-02-11T22:29:51.935432Z\", \"end_time\": \"2021-02-11T22:30:50.180669Z\", \"created_time\": \"2021-02-11T22:29:39.002368Z\", \"created_time_dt\": \"2021-02-11T22:29:39.002368Z\", \"duration\": \"0:01:11\", \"iteration\": \"20\", \"goal\": \"accuracy_max\", \"run_name\": \"MinMaxScaler, ExtremeRandomTrees\", \"run_properties\": \"copy=True, feature_range=(0, 1\", \"primary_metric\": 0.91203008, \"best_metric\": 0.93493108}, {\"run_id\": \"AutoML_1440c676-7dd5-49b8-9e33-c02999606195_21\", \"run_number\": 28, \"metric\": null, \"status\": \"Completed\", \"run_type\": \"azureml.scriptrun\", \"training_percent\": \"100\", \"start_time\": \"2021-02-11T22:29:53.687191Z\", \"end_time\": \"2021-02-11T22:30:45.410688Z\", \"created_time\": \"2021-02-11T22:29:39.127496Z\", \"created_time_dt\": \"2021-02-11T22:29:39.127496Z\", \"duration\": \"0:01:06\", \"iteration\": \"21\", \"goal\": \"accuracy_max\", \"run_name\": \"RobustScaler, RandomForest\", \"run_properties\": \"copy=True, quantile_range=[25, 75], with_centering=True,\\n             with_scaling=False\", \"primary_metric\": 0.9049812, \"best_metric\": 0.93493108}, {\"run_id\": \"AutoML_1440c676-7dd5-49b8-9e33-c02999606195_22\", \"run_number\": 29, \"metric\": null, \"status\": \"Completed\", \"run_type\": \"azureml.scriptrun\", \"training_percent\": \"100\", \"start_time\": \"2021-02-11T22:29:57.721472Z\", \"end_time\": \"2021-02-11T22:30:48.342938Z\", \"created_time\": \"2021-02-11T22:29:45.241695Z\", \"created_time_dt\": \"2021-02-11T22:29:45.241695Z\", \"duration\": \"0:01:03\", \"iteration\": \"22\", \"goal\": \"accuracy_max\", \"run_name\": \"MinMaxScaler, LogisticRegression\", \"run_properties\": \"copy=True, feature_range=(0, 1\", \"primary_metric\": 0.92612782, \"best_metric\": 0.93493108}, {\"run_id\": \"AutoML_1440c676-7dd5-49b8-9e33-c02999606195_23\", \"run_number\": 30, \"metric\": null, \"status\": \"Completed\", \"run_type\": \"azureml.scriptrun\", \"training_percent\": \"100\", \"start_time\": \"2021-02-11T22:29:56.130333Z\", \"end_time\": \"2021-02-11T22:30:47.476513Z\", \"created_time\": \"2021-02-11T22:29:45.244795Z\", \"created_time_dt\": \"2021-02-11T22:29:45.244795Z\", \"duration\": \"0:01:02\", \"iteration\": \"23\", \"goal\": \"accuracy_max\", \"run_name\": \"StandardScalerWrapper, LightGBM\", \"run_properties\": \"<azureml.automl.runtime.shared.model_wrappers.StandardScalerWrapper object at 0x7f21a650ca20\", \"primary_metric\": 0.92434211, \"best_metric\": 0.93493108}, {\"run_id\": \"AutoML_1440c676-7dd5-49b8-9e33-c02999606195_24\", \"run_number\": 31, \"metric\": null, \"status\": \"Completed\", \"run_type\": \"azureml.scriptrun\", \"training_percent\": \"100\", \"start_time\": \"2021-02-11T22:31:00.974482Z\", \"end_time\": \"2021-02-11T22:32:05.294683Z\", \"created_time\": \"2021-02-11T22:30:48.442894Z\", \"created_time_dt\": \"2021-02-11T22:30:48.442894Z\", \"duration\": \"0:01:16\", \"iteration\": \"24\", \"goal\": \"accuracy_max\", \"run_name\": \"MaxAbsScaler, LogisticRegression\", \"run_properties\": \"copy=True\", \"primary_metric\": 0.92612782, \"best_metric\": 0.93493108}, {\"run_id\": \"AutoML_1440c676-7dd5-49b8-9e33-c02999606195_27\", \"run_number\": 32, \"metric\": null, \"status\": \"Completed\", \"run_type\": \"azureml.scriptrun\", \"training_percent\": \"100\", \"start_time\": \"2021-02-11T22:31:07.247364Z\", \"end_time\": \"2021-02-11T22:32:03.463888Z\", \"created_time\": \"2021-02-11T22:30:54.203203Z\", \"created_time_dt\": \"2021-02-11T22:30:54.203203Z\", \"duration\": \"0:01:09\", \"iteration\": \"27\", \"goal\": \"accuracy_max\", \"run_name\": \"SparseNormalizer, XGBoostClassifier\", \"run_properties\": \"<azureml.automl.runtime.shared.model_wrappers.SparseNormalizer object at 0x7f18831f2e80\", \"primary_metric\": 0.92609649, \"best_metric\": 0.93493108}, {\"run_id\": \"AutoML_1440c676-7dd5-49b8-9e33-c02999606195_25\", \"run_number\": 33, \"metric\": null, \"status\": \"Completed\", \"run_type\": \"azureml.scriptrun\", \"training_percent\": \"100\", \"start_time\": \"2021-02-11T22:31:07.497018Z\", \"end_time\": \"2021-02-11T22:31:59.430608Z\", \"created_time\": \"2021-02-11T22:30:54.231956Z\", \"created_time_dt\": \"2021-02-11T22:30:54.231956Z\", \"duration\": \"0:01:05\", \"iteration\": \"25\", \"goal\": \"accuracy_max\", \"run_name\": \"StandardScalerWrapper, XGBoostClassifier\", \"run_properties\": \"<azureml.automl.runtime.shared.model_wrappers.StandardScalerWrapper object at 0x7f3655db2f28\", \"primary_metric\": 0.92083333, \"best_metric\": 0.93493108}, {\"run_id\": \"AutoML_1440c676-7dd5-49b8-9e33-c02999606195_26\", \"run_number\": 34, \"metric\": null, \"status\": \"Completed\", \"run_type\": \"azureml.scriptrun\", \"training_percent\": \"100\", \"start_time\": \"2021-02-11T22:31:06.684444Z\", \"end_time\": \"2021-02-11T22:31:54.931264Z\", \"created_time\": \"2021-02-11T22:30:54.349228Z\", \"created_time_dt\": \"2021-02-11T22:30:54.349228Z\", \"duration\": \"0:01:00\", \"iteration\": \"26\", \"goal\": \"accuracy_max\", \"run_name\": \"SparseNormalizer, XGBoostClassifier\", \"run_properties\": \"<azureml.automl.runtime.shared.model_wrappers.SparseNormalizer object at 0x7f5ab5a023c8\", \"primary_metric\": 0.93308271, \"best_metric\": 0.93493108}, {\"run_id\": \"AutoML_1440c676-7dd5-49b8-9e33-c02999606195_28\", \"run_number\": 35, \"metric\": null, \"status\": \"Completed\", \"run_type\": \"azureml.scriptrun\", \"training_percent\": \"100\", \"start_time\": \"2021-02-11T22:32:09.274309Z\", \"end_time\": \"2021-02-11T22:33:12.53174Z\", \"created_time\": \"2021-02-11T22:31:57.169792Z\", \"created_time_dt\": \"2021-02-11T22:31:57.169792Z\", \"duration\": \"0:01:15\", \"iteration\": \"28\", \"goal\": \"accuracy_max\", \"run_name\": \"SparseNormalizer, ExtremeRandomTrees\", \"run_properties\": \"<azureml.automl.runtime.shared.model_wrappers.SparseNormalizer object at 0x7f95fc28ac88\", \"primary_metric\": 0.8962406, \"best_metric\": 0.93493108}, {\"run_id\": \"AutoML_1440c676-7dd5-49b8-9e33-c02999606195_29\", \"run_number\": 36, \"metric\": null, \"status\": \"Completed\", \"run_type\": \"azureml.scriptrun\", \"training_percent\": \"100\", \"start_time\": \"2021-02-11T22:32:16.797592Z\", \"end_time\": \"2021-02-11T22:33:15.665953Z\", \"created_time\": \"2021-02-11T22:32:03.318707Z\", \"created_time_dt\": \"2021-02-11T22:32:03.318707Z\", \"duration\": \"0:01:12\", \"iteration\": \"29\", \"goal\": \"accuracy_max\", \"run_name\": \"StandardScalerWrapper, XGBoostClassifier\", \"run_properties\": \"<azureml.automl.runtime.shared.model_wrappers.StandardScalerWrapper object at 0x7efcc0c3b438\", \"primary_metric\": 0.92258772, \"best_metric\": 0.93493108}, {\"run_id\": \"AutoML_1440c676-7dd5-49b8-9e33-c02999606195_30\", \"run_number\": 37, \"metric\": null, \"status\": \"Completed\", \"run_type\": \"azureml.scriptrun\", \"training_percent\": \"100\", \"start_time\": \"2021-02-11T22:32:21.726567Z\", \"end_time\": \"2021-02-11T22:33:18.85731Z\", \"created_time\": \"2021-02-11T22:32:09.599871Z\", \"created_time_dt\": \"2021-02-11T22:32:09.599871Z\", \"duration\": \"0:01:09\", \"iteration\": \"30\", \"goal\": \"accuracy_max\", \"run_name\": \"PCA, XGBoostClassifier\", \"run_properties\": \"copy=True, iterated_power='auto', n_components=0.01, random_state=None,\\n    svd_solver='auto', tol=0.0, whiten=True\", \"primary_metric\": 0.8927005, \"best_metric\": 0.93493108}, {\"run_id\": \"AutoML_1440c676-7dd5-49b8-9e33-c02999606195_31\", \"run_number\": 38, \"metric\": null, \"status\": \"Completed\", \"run_type\": \"azureml.scriptrun\", \"training_percent\": \"100\", \"start_time\": \"2021-02-11T22:32:22.072196Z\", \"end_time\": \"2021-02-11T22:33:14.302497Z\", \"created_time\": \"2021-02-11T22:32:10.068032Z\", \"created_time_dt\": \"2021-02-11T22:32:10.068032Z\", \"duration\": \"0:01:04\", \"iteration\": \"31\", \"goal\": \"accuracy_max\", \"run_name\": \"SparseNormalizer, XGBoostClassifier\", \"run_properties\": \"<azureml.automl.runtime.shared.model_wrappers.SparseNormalizer object at 0x7f7bf43e7860\", \"primary_metric\": 0.92606516, \"best_metric\": 0.93493108}, {\"run_id\": \"AutoML_1440c676-7dd5-49b8-9e33-c02999606195_32\", \"run_number\": 39, \"metric\": null, \"status\": \"Completed\", \"run_type\": \"azureml.scriptrun\", \"training_percent\": \"100\", \"start_time\": \"2021-02-11T22:33:30.495325Z\", \"end_time\": \"2021-02-11T22:34:21.522309Z\", \"created_time\": \"2021-02-11T22:33:16.139512Z\", \"created_time_dt\": \"2021-02-11T22:33:16.139512Z\", \"duration\": \"0:01:05\", \"iteration\": \"32\", \"goal\": \"accuracy_max\", \"run_name\": \"SparseNormalizer, XGBoostClassifier\", \"run_properties\": \"<azureml.automl.runtime.shared.model_wrappers.SparseNormalizer object at 0x7febb19894a8\", \"primary_metric\": 0.92788221, \"best_metric\": 0.93493108}, {\"run_id\": \"AutoML_1440c676-7dd5-49b8-9e33-c02999606195_35\", \"run_number\": 40, \"metric\": null, \"status\": \"Canceled\", \"run_type\": \"azureml.scriptrun\", \"training_percent\": \"100\", \"start_time\": \"2021-02-11T22:33:35.69572Z\", \"end_time\": \"2021-02-11T22:34:24.989308Z\", \"created_time\": \"2021-02-11T22:33:22.576759Z\", \"created_time_dt\": \"2021-02-11T22:33:22.576759Z\", \"duration\": \"0:01:02\", \"iteration\": \"35\", \"goal\": \"accuracy_max\", \"run_name\": \"SparseNormalizer, XGBoostClassifier\", \"run_properties\": \"<azureml.automl.runtime.shared.model_wrappers.SparseNormalizer object at 0x7faa5caebd68\", \"primary_metric\": 0.92609649, \"best_metric\": 0.93493108}, {\"run_id\": \"AutoML_1440c676-7dd5-49b8-9e33-c02999606195_33\", \"run_number\": 41, \"metric\": null, \"status\": \"Canceled\", \"run_type\": \"azureml.scriptrun\", \"training_percent\": \"100\", \"start_time\": \"2021-02-11T22:33:35.727105Z\", \"end_time\": \"2021-02-11T22:34:29.256767Z\", \"created_time\": \"2021-02-11T22:33:22.60703Z\", \"created_time_dt\": \"2021-02-11T22:33:22.60703Z\", \"duration\": \"0:01:06\", \"iteration\": \"33\", \"goal\": \"accuracy_max\", \"run_name\": \"SparseNormalizer, XGBoostClassifier\", \"run_properties\": \"<azureml.automl.runtime.shared.model_wrappers.SparseNormalizer object at 0x7f197de9b898\", \"primary_metric\": 0.91199875, \"best_metric\": 0.93493108}, {\"run_id\": \"AutoML_1440c676-7dd5-49b8-9e33-c02999606195_34\", \"run_number\": 42, \"metric\": null, \"status\": \"Canceled\", \"run_type\": \"azureml.scriptrun\", \"training_percent\": \"100\", \"start_time\": \"2021-02-11T22:33:35.996691Z\", \"end_time\": \"2021-02-11T22:34:24.923196Z\", \"created_time\": \"2021-02-11T22:33:22.535777Z\", \"created_time_dt\": \"2021-02-11T22:33:22.535777Z\", \"duration\": \"0:01:02\", \"iteration\": \"34\", \"goal\": \"accuracy_max\", \"run_name\": \"SparseNormalizer, XGBoostClassifier\", \"run_properties\": \"<azureml.automl.runtime.shared.model_wrappers.SparseNormalizer object at 0x7f1611a43240\", \"primary_metric\": 0.93305138, \"best_metric\": 0.93493108}, {\"run_id\": \"AutoML_1440c676-7dd5-49b8-9e33-c02999606195_36\", \"run_number\": 43, \"metric\": null, \"status\": \"Completed\", \"run_type\": \"azureml.scriptrun\", \"training_percent\": \"100\", \"start_time\": \"2021-02-11T22:34:44.315162Z\", \"end_time\": \"2021-02-11T22:36:40.609624Z\", \"created_time\": \"2021-02-11T22:34:30.791351Z\", \"created_time_dt\": \"2021-02-11T22:34:30.791351Z\", \"duration\": \"0:02:09\", \"iteration\": \"36\", \"goal\": \"accuracy_max\", \"run_name\": \"VotingEnsemble\", \"run_properties\": \"classification_labels=None,\\n                              estimators=[('1',\\n                                           Pipeline(memory=None,\\n                                                    steps=[('maxabsscaler',\\n                                                            MaxAbsScaler(copy=True\", \"primary_metric\": 0.94191729, \"best_metric\": 0.94191729}], \"children_metrics\": {\"categories\": [0], \"series\": {\"accuracy\": [{\"categories\": [\"0\", \"1\", \"2\", \"3\", \"4\", \"5\", \"6\", \"7\", \"8\", \"9\", \"10\", \"11\", \"12\", \"13\", \"14\", \"15\", \"16\", \"17\", \"18\", \"19\", \"20\", \"21\", \"22\", \"23\", \"24\", \"25\", \"26\", \"27\", \"28\", \"29\", \"30\", \"31\", \"32\", \"33\", \"34\", \"35\", \"36\"], \"mode\": \"markers\", \"name\": \"accuracy\", \"stepped\": false, \"type\": \"scatter\", \"data\": [0.9243734335839597, 0.9349310776942357, 0.9049812030075186, 0.9102443609022555, 0.9226190476190474, 0.9261278195488721, 0.91203007518797, 0.9208333333333334, 0.9226190476190477, 0.9261278195488721, 0.9208020050125313, 0.9278508771929823, 0.8909461152882205, 0.9014724310776941, 0.9208646616541353, 0.8979636591478697, 0.9208020050125313, 0.9137844611528821, 0.9243421052631579, 0.9208020050125313, 0.9120300751879699, 0.9049812030075186, 0.9261278195488721, 0.9243421052631579, 0.9261278195488721, 0.9208333333333334, 0.9330827067669173, 0.9260964912280703, 0.8962406015037594, 0.9225877192982456, 0.8927005012531326, 0.9260651629072681, 0.9278822055137843, 0.9119987468671678, 0.9330513784461152, 0.9260964912280703, 0.9419172932330826]}, {\"categories\": [\"0\", \"1\", \"2\", \"3\", \"4\", \"5\", \"6\", \"7\", \"8\", \"9\", \"10\", \"11\", \"12\", \"13\", \"14\", \"15\", \"16\", \"17\", \"18\", \"19\", \"20\", \"21\", \"22\", \"23\", \"24\", \"25\", \"26\", \"27\", \"28\", \"29\", \"30\", \"31\", \"32\", \"33\", \"34\", \"35\", \"36\"], \"mode\": \"lines\", \"name\": \"accuracy_max\", \"stepped\": true, \"type\": \"scatter\", \"data\": [0.9243734335839597, 0.9349310776942357, 0.9349310776942357, 0.9349310776942357, 0.9349310776942357, 0.9349310776942357, 0.9349310776942357, 0.9349310776942357, 0.9349310776942357, 0.9349310776942357, 0.9349310776942357, 0.9349310776942357, 0.9349310776942357, 0.9349310776942357, 0.9349310776942357, 0.9349310776942357, 0.9349310776942357, 0.9349310776942357, 0.9349310776942357, 0.9349310776942357, 0.9349310776942357, 0.9349310776942357, 0.9349310776942357, 0.9349310776942357, 0.9349310776942357, 0.9349310776942357, 0.9349310776942357, 0.9349310776942357, 0.9349310776942357, 0.9349310776942357, 0.9349310776942357, 0.9349310776942357, 0.9349310776942357, 0.9349310776942357, 0.9349310776942357, 0.9349310776942357, 0.9419172932330826]}], \"average_precision_score_weighted\": [{\"categories\": [\"0\", \"1\", \"2\", \"3\", \"4\", \"5\", \"6\", \"7\", \"8\", \"9\", \"10\", \"11\", \"12\", \"13\", \"14\", \"15\", \"16\", \"17\", \"18\", \"19\", \"20\", \"21\", \"22\", \"23\", \"24\", \"25\", \"26\", \"27\", \"28\", \"29\", \"30\", \"31\", \"32\", \"33\", \"34\", \"35\", \"36\"], \"mode\": \"markers\", \"name\": \"average_precision_score_weighted\", \"stepped\": false, \"type\": \"scatter\", \"data\": [0.9802393177765827, 0.9809132200707505, 0.9647821869268229, 0.9651463123554918, 0.979203496587058, 0.9453467331487195, 0.9522597949968018, 0.9573461948934728, 0.9581914189119282, 0.9837908720023656, 0.9817015805459866, 0.9820702973566882, 0.9728862314551809, 0.9668220057100363, 0.9748058341132027, 0.9720674404373824, 0.979274456813353, 0.9796631797129184, 0.9653474756890651, 0.9730045144686447, 0.975933329275534, 0.9709303245001619, 0.9836936914647646, 0.9810711878657727, 0.9834661823261392, 0.9718530273826149, 0.9772627064239193, 0.9767028559133483, 0.9587304890506833, 0.9791821871296132, 0.9267229541265761, 0.9765461336976365, 0.9776494222453064, 0.9529483266548846, 0.9771530234826729, 0.9704978010494472, 0.9834824494026607]}, {\"categories\": [\"0\", \"1\", \"2\", \"3\", \"4\", \"5\", \"6\", \"7\", \"8\", \"9\", \"10\", \"11\", \"12\", \"13\", \"14\", \"15\", \"16\", \"17\", \"18\", \"19\", \"20\", \"21\", \"22\", \"23\", \"24\", \"25\", \"26\", \"27\", \"28\", \"29\", \"30\", \"31\", \"32\", \"33\", \"34\", \"35\", \"36\"], \"mode\": \"lines\", \"name\": \"average_precision_score_weighted_max\", \"stepped\": true, \"type\": \"scatter\", \"data\": [0.9802393177765827, 0.9809132200707505, 0.9809132200707505, 0.9809132200707505, 0.9809132200707505, 0.9809132200707505, 0.9809132200707505, 0.9809132200707505, 0.9809132200707505, 0.9837908720023656, 0.9837908720023656, 0.9837908720023656, 0.9837908720023656, 0.9837908720023656, 0.9837908720023656, 0.9837908720023656, 0.9837908720023656, 0.9837908720023656, 0.9837908720023656, 0.9837908720023656, 0.9837908720023656, 0.9837908720023656, 0.9837908720023656, 0.9837908720023656, 0.9837908720023656, 0.9837908720023656, 0.9837908720023656, 0.9837908720023656, 0.9837908720023656, 0.9837908720023656, 0.9837908720023656, 0.9837908720023656, 0.9837908720023656, 0.9837908720023656, 0.9837908720023656, 0.9837908720023656, 0.9837908720023656]}], \"f1_score_weighted\": [{\"categories\": [\"0\", \"1\", \"2\", \"3\", \"4\", \"5\", \"6\", \"7\", \"8\", \"9\", \"10\", \"11\", \"12\", \"13\", \"14\", \"15\", \"16\", \"17\", \"18\", \"19\", \"20\", \"21\", \"22\", \"23\", \"24\", \"25\", \"26\", \"27\", \"28\", \"29\", \"30\", \"31\", \"32\", \"33\", \"34\", \"35\", \"36\"], \"mode\": \"markers\", \"name\": \"f1_score_weighted\", \"stepped\": false, \"type\": \"scatter\", \"data\": [0.9243524885717143, 0.9347298055027193, 0.9035793417462183, 0.9084489796892914, 0.9224676201317223, 0.925279333591113, 0.9110422812410537, 0.9197420572190792, 0.9220265000848663, 0.9257293727277238, 0.9195283168882338, 0.9265841088892138, 0.8875594990464775, 0.8989592800513775, 0.9199494831759656, 0.8952104577130546, 0.9194760907417431, 0.9125690415821481, 0.9235737164823286, 0.9197308046804714, 0.9102221886635375, 0.9029627555527201, 0.9258001957697204, 0.9232682143134919, 0.9259236688678364, 0.9196798837112764, 0.9327068418194608, 0.9252132980784074, 0.895754966305214, 0.9213883183221405, 0.8895504262090667, 0.9251840716790889, 0.9271590439441363, 0.9106595144390901, 0.9324281654003409, 0.9249733178858547, 0.9414526893248916]}, {\"categories\": [\"0\", \"1\", \"2\", \"3\", \"4\", \"5\", \"6\", \"7\", \"8\", \"9\", \"10\", \"11\", \"12\", \"13\", \"14\", \"15\", \"16\", \"17\", \"18\", \"19\", \"20\", \"21\", \"22\", \"23\", \"24\", \"25\", \"26\", \"27\", \"28\", \"29\", \"30\", \"31\", \"32\", \"33\", \"34\", \"35\", \"36\"], \"mode\": \"lines\", \"name\": \"f1_score_weighted_max\", \"stepped\": true, \"type\": \"scatter\", \"data\": [0.9243524885717143, 0.9347298055027193, 0.9347298055027193, 0.9347298055027193, 0.9347298055027193, 0.9347298055027193, 0.9347298055027193, 0.9347298055027193, 0.9347298055027193, 0.9347298055027193, 0.9347298055027193, 0.9347298055027193, 0.9347298055027193, 0.9347298055027193, 0.9347298055027193, 0.9347298055027193, 0.9347298055027193, 0.9347298055027193, 0.9347298055027193, 0.9347298055027193, 0.9347298055027193, 0.9347298055027193, 0.9347298055027193, 0.9347298055027193, 0.9347298055027193, 0.9347298055027193, 0.9347298055027193, 0.9347298055027193, 0.9347298055027193, 0.9347298055027193, 0.9347298055027193, 0.9347298055027193, 0.9347298055027193, 0.9347298055027193, 0.9347298055027193, 0.9347298055027193, 0.9414526893248916]}], \"weighted_accuracy\": [{\"categories\": [\"0\", \"1\", \"2\", \"3\", \"4\", \"5\", \"6\", \"7\", \"8\", \"9\", \"10\", \"11\", \"12\", \"13\", \"14\", \"15\", \"16\", \"17\", \"18\", \"19\", \"20\", \"21\", \"22\", \"23\", \"24\", \"25\", \"26\", \"27\", \"28\", \"29\", \"30\", \"31\", \"32\", \"33\", \"34\", \"35\", \"36\"], \"mode\": \"markers\", \"name\": \"weighted_accuracy\", \"stepped\": false, \"type\": \"scatter\", \"data\": [0.9298003113675322, 0.9400916551250733, 0.915947020623714, 0.922533467198299, 0.9266172838479143, 0.9375233452608542, 0.9242845593310834, 0.9338438545664023, 0.929238093922684, 0.9337012562403085, 0.9296453198692477, 0.9385383332763017, 0.9122754399103915, 0.9187077216782192, 0.9305332291149719, 0.9145224992627096, 0.9306875142674528, 0.9228407402458251, 0.9328591132578639, 0.93226318931246, 0.9243259393654564, 0.9187505749412687, 0.9314507238185442, 0.933899648556032, 0.9306407360259528, 0.9314893168486715, 0.9403067329598453, 0.9353415885670489, 0.9044235579062547, 0.9319556174096654, 0.914311268936833, 0.9361348542130422, 0.9376316330240628, 0.9248218289492944, 0.9415634992910326, 0.9368831970639538, 0.9499026326918776]}, {\"categories\": [\"0\", \"1\", \"2\", \"3\", \"4\", \"5\", \"6\", \"7\", \"8\", \"9\", \"10\", \"11\", \"12\", \"13\", \"14\", \"15\", \"16\", \"17\", \"18\", \"19\", \"20\", \"21\", \"22\", \"23\", \"24\", \"25\", \"26\", \"27\", \"28\", \"29\", \"30\", \"31\", \"32\", \"33\", \"34\", \"35\", \"36\"], \"mode\": \"lines\", \"name\": \"weighted_accuracy_max\", \"stepped\": true, \"type\": \"scatter\", \"data\": [0.9298003113675322, 0.9400916551250733, 0.9400916551250733, 0.9400916551250733, 0.9400916551250733, 0.9400916551250733, 0.9400916551250733, 0.9400916551250733, 0.9400916551250733, 0.9400916551250733, 0.9400916551250733, 0.9400916551250733, 0.9400916551250733, 0.9400916551250733, 0.9400916551250733, 0.9400916551250733, 0.9400916551250733, 0.9400916551250733, 0.9400916551250733, 0.9400916551250733, 0.9400916551250733, 0.9400916551250733, 0.9400916551250733, 0.9400916551250733, 0.9400916551250733, 0.9400916551250733, 0.9403067329598453, 0.9403067329598453, 0.9403067329598453, 0.9403067329598453, 0.9403067329598453, 0.9403067329598453, 0.9403067329598453, 0.9403067329598453, 0.9415634992910326, 0.9415634992910326, 0.9499026326918776]}], \"norm_macro_recall\": [{\"categories\": [\"0\", \"1\", \"2\", \"3\", \"4\", \"5\", \"6\", \"7\", \"8\", \"9\", \"10\", \"11\", \"12\", \"13\", \"14\", \"15\", \"16\", \"17\", \"18\", \"19\", \"20\", \"21\", \"22\", \"23\", \"24\", \"25\", \"26\", \"27\", \"28\", \"29\", \"30\", \"31\", \"32\", \"33\", \"34\", \"35\", \"36\"], \"mode\": \"markers\", \"name\": \"norm_macro_recall\", \"stepped\": false, \"type\": \"scatter\", \"data\": [0.8364211902763173, 0.8573613556245597, 0.785986963729856, 0.7933335456058497, 0.8378294070772657, 0.8244816298580797, 0.7936433569423667, 0.8082181602639731, 0.8318625873454206, 0.83417927722509, 0.8228432717337881, 0.831197351485001, 0.7316803436278396, 0.7629184520321883, 0.8206355422651889, 0.759225560382775, 0.8202288926488206, 0.8084146138268693, 0.8302794308283662, 0.8146551316556223, 0.7977043911057026, 0.7791916901954521, 0.8421477787379545, 0.8280006772806541, 0.8440227787379545, 0.8173296167758339, 0.8485867851470583, 0.830194386092575, 0.7748719483507964, 0.8248210270421803, 0.733299012717097, 0.8279736625221815, 0.833366752713642, 0.795221199673662, 0.8453417143684943, 0.8264176656976424, 0.8641181983623696]}, {\"categories\": [\"0\", \"1\", \"2\", \"3\", \"4\", \"5\", \"6\", \"7\", \"8\", \"9\", \"10\", \"11\", \"12\", \"13\", \"14\", \"15\", \"16\", \"17\", \"18\", \"19\", \"20\", \"21\", \"22\", \"23\", \"24\", \"25\", \"26\", \"27\", \"28\", \"29\", \"30\", \"31\", \"32\", \"33\", \"34\", \"35\", \"36\"], \"mode\": \"lines\", \"name\": \"norm_macro_recall_max\", \"stepped\": true, \"type\": \"scatter\", \"data\": [0.8364211902763173, 0.8573613556245597, 0.8573613556245597, 0.8573613556245597, 0.8573613556245597, 0.8573613556245597, 0.8573613556245597, 0.8573613556245597, 0.8573613556245597, 0.8573613556245597, 0.8573613556245597, 0.8573613556245597, 0.8573613556245597, 0.8573613556245597, 0.8573613556245597, 0.8573613556245597, 0.8573613556245597, 0.8573613556245597, 0.8573613556245597, 0.8573613556245597, 0.8573613556245597, 0.8573613556245597, 0.8573613556245597, 0.8573613556245597, 0.8573613556245597, 0.8573613556245597, 0.8573613556245597, 0.8573613556245597, 0.8573613556245597, 0.8573613556245597, 0.8573613556245597, 0.8573613556245597, 0.8573613556245597, 0.8573613556245597, 0.8573613556245597, 0.8573613556245597, 0.8641181983623696]}], \"average_precision_score_micro\": [{\"categories\": [\"0\", \"1\", \"2\", \"3\", \"4\", \"5\", \"6\", \"7\", \"8\", \"9\", \"10\", \"11\", \"12\", \"13\", \"14\", \"15\", \"16\", \"17\", \"18\", \"19\", \"20\", \"21\", \"22\", \"23\", \"24\", \"25\", \"26\", \"27\", \"28\", \"29\", \"30\", \"31\", \"32\", \"33\", \"34\", \"35\", \"36\"], \"mode\": \"markers\", \"name\": \"average_precision_score_micro\", \"stepped\": false, \"type\": \"scatter\", \"data\": [0.9796992152407007, 0.9809504135069336, 0.9641879408632514, 0.9628329668083341, 0.9774235846535813, 0.9513532388822178, 0.9511257714748604, 0.9552603199941281, 0.961301239443159, 0.9820608895854022, 0.9783447553051525, 0.9791904950796665, 0.9476399743615567, 0.9663088492968251, 0.9727652105566807, 0.9561220888259884, 0.9774566626339114, 0.9760470412165952, 0.9646884666788018, 0.9726825355394544, 0.9746906746485784, 0.9685738193848502, 0.9824517843408204, 0.978613457938072, 0.9823468320981361, 0.9698971740311249, 0.9775000760005659, 0.9758741421148038, 0.9588618262593137, 0.9783777472602377, 0.9400520175316354, 0.9759443174926853, 0.9763462892463026, 0.9560141377066049, 0.9755783882832173, 0.9722599847038227, 0.9827169323940768]}, {\"categories\": [\"0\", \"1\", \"2\", \"3\", \"4\", \"5\", \"6\", \"7\", \"8\", \"9\", \"10\", \"11\", \"12\", \"13\", \"14\", \"15\", \"16\", \"17\", \"18\", \"19\", \"20\", \"21\", \"22\", \"23\", \"24\", \"25\", \"26\", \"27\", \"28\", \"29\", \"30\", \"31\", \"32\", \"33\", \"34\", \"35\", \"36\"], \"mode\": \"lines\", \"name\": \"average_precision_score_micro_max\", \"stepped\": true, \"type\": \"scatter\", \"data\": [0.9796992152407007, 0.9809504135069336, 0.9809504135069336, 0.9809504135069336, 0.9809504135069336, 0.9809504135069336, 0.9809504135069336, 0.9809504135069336, 0.9809504135069336, 0.9820608895854022, 0.9820608895854022, 0.9820608895854022, 0.9820608895854022, 0.9820608895854022, 0.9820608895854022, 0.9820608895854022, 0.9820608895854022, 0.9820608895854022, 0.9820608895854022, 0.9820608895854022, 0.9820608895854022, 0.9820608895854022, 0.9824517843408204, 0.9824517843408204, 0.9824517843408204, 0.9824517843408204, 0.9824517843408204, 0.9824517843408204, 0.9824517843408204, 0.9824517843408204, 0.9824517843408204, 0.9824517843408204, 0.9824517843408204, 0.9824517843408204, 0.9824517843408204, 0.9824517843408204, 0.9827169323940768]}], \"AUC_weighted\": [{\"categories\": [\"0\", \"1\", \"2\", \"3\", \"4\", \"5\", \"6\", \"7\", \"8\", \"9\", \"10\", \"11\", \"12\", \"13\", \"14\", \"15\", \"16\", \"17\", \"18\", \"19\", \"20\", \"21\", \"22\", \"23\", \"24\", \"25\", \"26\", \"27\", \"28\", \"29\", \"30\", \"31\", \"32\", \"33\", \"34\", \"35\", \"36\"], \"mode\": \"markers\", \"name\": \"AUC_weighted\", \"stepped\": false, \"type\": \"scatter\", \"data\": [0.9773814891945802, 0.9792780725646366, 0.9649023471571387, 0.9649261436978159, 0.9786573792908175, 0.9446277944285291, 0.9510440273281899, 0.9543980793638575, 0.9616728219983923, 0.982282900544402, 0.9804890304943686, 0.9807307225735599, 0.9723528610767727, 0.9631374212588673, 0.9733965450654992, 0.9704332015747921, 0.9775485993880167, 0.9785706124541476, 0.965557299655947, 0.9734639093708972, 0.9734633091158622, 0.9692594049308049, 0.9820068384646985, 0.979407008431528, 0.9817089732022225, 0.9735364583546794, 0.9763623914093753, 0.9743977569602087, 0.9545892068226942, 0.977305892081594, 0.937056732569617, 0.9762758129390015, 0.9767225696094503, 0.9536900418740476, 0.9760072001918452, 0.9714819964104076, 0.9815598746837446]}, {\"categories\": [\"0\", \"1\", \"2\", \"3\", \"4\", \"5\", \"6\", \"7\", \"8\", \"9\", \"10\", \"11\", \"12\", \"13\", \"14\", \"15\", \"16\", \"17\", \"18\", \"19\", \"20\", \"21\", \"22\", \"23\", \"24\", \"25\", \"26\", \"27\", \"28\", \"29\", \"30\", \"31\", \"32\", \"33\", \"34\", \"35\", \"36\"], \"mode\": \"lines\", \"name\": \"AUC_weighted_max\", \"stepped\": true, \"type\": \"scatter\", \"data\": [0.9773814891945802, 0.9792780725646366, 0.9792780725646366, 0.9792780725646366, 0.9792780725646366, 0.9792780725646366, 0.9792780725646366, 0.9792780725646366, 0.9792780725646366, 0.982282900544402, 0.982282900544402, 0.982282900544402, 0.982282900544402, 0.982282900544402, 0.982282900544402, 0.982282900544402, 0.982282900544402, 0.982282900544402, 0.982282900544402, 0.982282900544402, 0.982282900544402, 0.982282900544402, 0.982282900544402, 0.982282900544402, 0.982282900544402, 0.982282900544402, 0.982282900544402, 0.982282900544402, 0.982282900544402, 0.982282900544402, 0.982282900544402, 0.982282900544402, 0.982282900544402, 0.982282900544402, 0.982282900544402, 0.982282900544402, 0.982282900544402]}], \"AUC_micro\": [{\"categories\": [\"0\", \"1\", \"2\", \"3\", \"4\", \"5\", \"6\", \"7\", \"8\", \"9\", \"10\", \"11\", \"12\", \"13\", \"14\", \"15\", \"16\", \"17\", \"18\", \"19\", \"20\", \"21\", \"22\", \"23\", \"24\", \"25\", \"26\", \"27\", \"28\", \"29\", \"30\", \"31\", \"32\", \"33\", \"34\", \"35\", \"36\"], \"mode\": \"markers\", \"name\": \"AUC_micro\", \"stepped\": false, \"type\": \"scatter\", \"data\": [0.9787857213522528, 0.9806840193371901, 0.9660150631120408, 0.9650991906457873, 0.9778138367535381, 0.9558506031683219, 0.957266560825623, 0.9604664366900961, 0.9659013703588546, 0.9814878675385206, 0.9785084382321718, 0.9786240644688162, 0.9477644122053253, 0.9645773365902224, 0.9725481859410431, 0.956300368716277, 0.9774311836923134, 0.9763628015841608, 0.9671721695372517, 0.974995504896326, 0.973289092876301, 0.9677663967248951, 0.9814523778116973, 0.977748677379539, 0.981329263007142, 0.9732206063404124, 0.9775590095225531, 0.9756254966206244, 0.9570947850516014, 0.9778410134829555, 0.9482321876118869, 0.9772512225111651, 0.9772229367277845, 0.9593341416668236, 0.9763661287460506, 0.9746206152128443, 0.982000014918248]}, {\"categories\": [\"0\", \"1\", \"2\", \"3\", \"4\", \"5\", \"6\", \"7\", \"8\", \"9\", \"10\", \"11\", \"12\", \"13\", \"14\", \"15\", \"16\", \"17\", \"18\", \"19\", \"20\", \"21\", \"22\", \"23\", \"24\", \"25\", \"26\", \"27\", \"28\", \"29\", \"30\", \"31\", \"32\", \"33\", \"34\", \"35\", \"36\"], \"mode\": \"lines\", \"name\": \"AUC_micro_max\", \"stepped\": true, \"type\": \"scatter\", \"data\": [0.9787857213522528, 0.9806840193371901, 0.9806840193371901, 0.9806840193371901, 0.9806840193371901, 0.9806840193371901, 0.9806840193371901, 0.9806840193371901, 0.9806840193371901, 0.9814878675385206, 0.9814878675385206, 0.9814878675385206, 0.9814878675385206, 0.9814878675385206, 0.9814878675385206, 0.9814878675385206, 0.9814878675385206, 0.9814878675385206, 0.9814878675385206, 0.9814878675385206, 0.9814878675385206, 0.9814878675385206, 0.9814878675385206, 0.9814878675385206, 0.9814878675385206, 0.9814878675385206, 0.9814878675385206, 0.9814878675385206, 0.9814878675385206, 0.9814878675385206, 0.9814878675385206, 0.9814878675385206, 0.9814878675385206, 0.9814878675385206, 0.9814878675385206, 0.9814878675385206, 0.982000014918248]}], \"recall_score_weighted\": [{\"categories\": [\"0\", \"1\", \"2\", \"3\", \"4\", \"5\", \"6\", \"7\", \"8\", \"9\", \"10\", \"11\", \"12\", \"13\", \"14\", \"15\", \"16\", \"17\", \"18\", \"19\", \"20\", \"21\", \"22\", \"23\", \"24\", \"25\", \"26\", \"27\", \"28\", \"29\", \"30\", \"31\", \"32\", \"33\", \"34\", \"35\", \"36\"], \"mode\": \"markers\", \"name\": \"recall_score_weighted\", \"stepped\": false, \"type\": \"scatter\", \"data\": [0.9243734335839597, 0.9349310776942357, 0.9049812030075186, 0.9102443609022555, 0.9226190476190474, 0.9261278195488721, 0.91203007518797, 0.9208333333333334, 0.9226190476190477, 0.9261278195488721, 0.9208020050125313, 0.9278508771929823, 0.8909461152882205, 0.9014724310776941, 0.9208646616541353, 0.8979636591478697, 0.9208020050125313, 0.9137844611528821, 0.9243421052631579, 0.9208020050125313, 0.9120300751879699, 0.9049812030075186, 0.9261278195488721, 0.9243421052631579, 0.9261278195488721, 0.9208333333333334, 0.9330827067669173, 0.9260964912280703, 0.8962406015037594, 0.9225877192982456, 0.8927005012531326, 0.9260651629072681, 0.9278822055137843, 0.9119987468671678, 0.9330513784461152, 0.9260964912280703, 0.9419172932330826]}, {\"categories\": [\"0\", \"1\", \"2\", \"3\", \"4\", \"5\", \"6\", \"7\", \"8\", \"9\", \"10\", \"11\", \"12\", \"13\", \"14\", \"15\", \"16\", \"17\", \"18\", \"19\", \"20\", \"21\", \"22\", \"23\", \"24\", \"25\", \"26\", \"27\", \"28\", \"29\", \"30\", \"31\", \"32\", \"33\", \"34\", \"35\", \"36\"], \"mode\": \"lines\", \"name\": \"recall_score_weighted_max\", \"stepped\": true, \"type\": \"scatter\", \"data\": [0.9243734335839597, 0.9349310776942357, 0.9349310776942357, 0.9349310776942357, 0.9349310776942357, 0.9349310776942357, 0.9349310776942357, 0.9349310776942357, 0.9349310776942357, 0.9349310776942357, 0.9349310776942357, 0.9349310776942357, 0.9349310776942357, 0.9349310776942357, 0.9349310776942357, 0.9349310776942357, 0.9349310776942357, 0.9349310776942357, 0.9349310776942357, 0.9349310776942357, 0.9349310776942357, 0.9349310776942357, 0.9349310776942357, 0.9349310776942357, 0.9349310776942357, 0.9349310776942357, 0.9349310776942357, 0.9349310776942357, 0.9349310776942357, 0.9349310776942357, 0.9349310776942357, 0.9349310776942357, 0.9349310776942357, 0.9349310776942357, 0.9349310776942357, 0.9349310776942357, 0.9419172932330826]}], \"log_loss\": [{\"categories\": [\"0\", \"1\", \"2\", \"3\", \"4\", \"5\", \"6\", \"7\", \"8\", \"9\", \"10\", \"11\", \"12\", \"13\", \"14\", \"15\", \"16\", \"17\", \"18\", \"19\", \"20\", \"21\", \"22\", \"23\", \"24\", \"25\", \"26\", \"27\", \"28\", \"29\", \"30\", \"31\", \"32\", \"33\", \"34\", \"35\", \"36\"], \"mode\": \"markers\", \"name\": \"log_loss\", \"stepped\": false, \"type\": \"scatter\", \"data\": [0.24927938382759157, 0.18069034358192027, 0.3305277628751577, 0.34171280720824465, 0.24442957228134116, 0.268762630338321, 0.2804537464999703, 0.2722574000237863, 0.33351243603287095, 0.17381773801217493, 0.1981850876239246, 0.1997686240035637, 0.4194801874534124, 0.27706134665247834, 0.21822460793877196, 0.37789089796537845, 0.19956993217569616, 0.24844365850001665, 0.24020118979294347, 0.19862427772459532, 0.21963299547621196, 0.23821103133827387, 0.1717844692595889, 0.21635913287939545, 0.1711824251421495, 0.33209963864633024, 0.1924407390959995, 0.20210046611603788, 0.3331754968224604, 0.23306150676229298, 0.3089564250199427, 0.18904278930876622, 0.18362534457035262, 0.260000554631361, 0.18829706291739776, 0.20932575148642624, 0.1737367661801829]}, {\"categories\": [\"0\", \"1\", \"2\", \"3\", \"4\", \"5\", \"6\", \"7\", \"8\", \"9\", \"10\", \"11\", \"12\", \"13\", \"14\", \"15\", \"16\", \"17\", \"18\", \"19\", \"20\", \"21\", \"22\", \"23\", \"24\", \"25\", \"26\", \"27\", \"28\", \"29\", \"30\", \"31\", \"32\", \"33\", \"34\", \"35\", \"36\"], \"mode\": \"lines\", \"name\": \"log_loss_min\", \"stepped\": true, \"type\": \"scatter\", \"data\": [0.24927938382759157, 0.18069034358192027, 0.18069034358192027, 0.18069034358192027, 0.18069034358192027, 0.18069034358192027, 0.18069034358192027, 0.18069034358192027, 0.18069034358192027, 0.17381773801217493, 0.17381773801217493, 0.17381773801217493, 0.17381773801217493, 0.17381773801217493, 0.17381773801217493, 0.17381773801217493, 0.17381773801217493, 0.17381773801217493, 0.17381773801217493, 0.17381773801217493, 0.17381773801217493, 0.17381773801217493, 0.1717844692595889, 0.1717844692595889, 0.1711824251421495, 0.1711824251421495, 0.1711824251421495, 0.1711824251421495, 0.1711824251421495, 0.1711824251421495, 0.1711824251421495, 0.1711824251421495, 0.1711824251421495, 0.1711824251421495, 0.1711824251421495, 0.1711824251421495, 0.1711824251421495]}], \"AUC_macro\": [{\"categories\": [\"0\", \"1\", \"2\", \"3\", \"4\", \"5\", \"6\", \"7\", \"8\", \"9\", \"10\", \"11\", \"12\", \"13\", \"14\", \"15\", \"16\", \"17\", \"18\", \"19\", \"20\", \"21\", \"22\", \"23\", \"24\", \"25\", \"26\", \"27\", \"28\", \"29\", \"30\", \"31\", \"32\", \"33\", \"34\", \"35\", \"36\"], \"mode\": \"markers\", \"name\": \"AUC_macro\", \"stepped\": false, \"type\": \"scatter\", \"data\": [0.9773814891945802, 0.9792780725646366, 0.9649023471571387, 0.9649261436978159, 0.9786573792908179, 0.9446277944285291, 0.9510440273281899, 0.9543980793638575, 0.9616728219983923, 0.982282900544402, 0.9804890304943686, 0.9807307225735599, 0.9723528610767727, 0.9631374212588675, 0.9733965450654992, 0.9704332015747921, 0.9775485993880167, 0.9785706124541476, 0.965557299655947, 0.9734639093708972, 0.9734633091158622, 0.9692594049308049, 0.9820068384646985, 0.979407008431528, 0.9817089732022224, 0.9735364583546794, 0.9763623914093753, 0.9743977569602086, 0.9545892068226942, 0.977305892081594, 0.937056732569617, 0.9762758129390015, 0.9767225696094503, 0.9536900418740476, 0.9760072001918452, 0.9714819964104076, 0.9815598746837446]}, {\"categories\": [\"0\", \"1\", \"2\", \"3\", \"4\", \"5\", \"6\", \"7\", \"8\", \"9\", \"10\", \"11\", \"12\", \"13\", \"14\", \"15\", \"16\", \"17\", \"18\", \"19\", \"20\", \"21\", \"22\", \"23\", \"24\", \"25\", \"26\", \"27\", \"28\", \"29\", \"30\", \"31\", \"32\", \"33\", \"34\", \"35\", \"36\"], \"mode\": \"lines\", \"name\": \"AUC_macro_max\", \"stepped\": true, \"type\": \"scatter\", \"data\": [0.9773814891945802, 0.9792780725646366, 0.9792780725646366, 0.9792780725646366, 0.9792780725646366, 0.9792780725646366, 0.9792780725646366, 0.9792780725646366, 0.9792780725646366, 0.982282900544402, 0.982282900544402, 0.982282900544402, 0.982282900544402, 0.982282900544402, 0.982282900544402, 0.982282900544402, 0.982282900544402, 0.982282900544402, 0.982282900544402, 0.982282900544402, 0.982282900544402, 0.982282900544402, 0.982282900544402, 0.982282900544402, 0.982282900544402, 0.982282900544402, 0.982282900544402, 0.982282900544402, 0.982282900544402, 0.982282900544402, 0.982282900544402, 0.982282900544402, 0.982282900544402, 0.982282900544402, 0.982282900544402, 0.982282900544402, 0.982282900544402]}], \"recall_score_macro\": [{\"categories\": [\"0\", \"1\", \"2\", \"3\", \"4\", \"5\", \"6\", \"7\", \"8\", \"9\", \"10\", \"11\", \"12\", \"13\", \"14\", \"15\", \"16\", \"17\", \"18\", \"19\", \"20\", \"21\", \"22\", \"23\", \"24\", \"25\", \"26\", \"27\", \"28\", \"29\", \"30\", \"31\", \"32\", \"33\", \"34\", \"35\", \"36\"], \"mode\": \"markers\", \"name\": \"recall_score_macro\", \"stepped\": false, \"type\": \"scatter\", \"data\": [0.9182105951381587, 0.9286806778122797, 0.8929934818649281, 0.8966667728029248, 0.918914703538633, 0.9122408149290399, 0.8968216784711833, 0.9041090801319864, 0.9159312936727103, 0.9170896386125451, 0.9114216358668938, 0.9155986757425003, 0.8658401718139199, 0.8814592260160943, 0.9103177711325946, 0.8796127801913876, 0.9101144463244102, 0.9042073069134344, 0.9151397154141832, 0.9073275658278112, 0.8988521955528512, 0.8895958450977262, 0.9210738893689774, 0.914000338640327, 0.9220113893689772, 0.9086648083879169, 0.9242933925735292, 0.9150971930462874, 0.8874359741753983, 0.9124105135210903, 0.8666495063585484, 0.9139868312610906, 0.916683376356821, 0.8976105998368311, 0.9226708571842469, 0.9132088328488213, 0.9320590991811848]}, {\"categories\": [\"0\", \"1\", \"2\", \"3\", \"4\", \"5\", \"6\", \"7\", \"8\", \"9\", \"10\", \"11\", \"12\", \"13\", \"14\", \"15\", \"16\", \"17\", \"18\", \"19\", \"20\", \"21\", \"22\", \"23\", \"24\", \"25\", \"26\", \"27\", \"28\", \"29\", \"30\", \"31\", \"32\", \"33\", \"34\", \"35\", \"36\"], \"mode\": \"lines\", \"name\": \"recall_score_macro_max\", \"stepped\": true, \"type\": \"scatter\", \"data\": [0.9182105951381587, 0.9286806778122797, 0.9286806778122797, 0.9286806778122797, 0.9286806778122797, 0.9286806778122797, 0.9286806778122797, 0.9286806778122797, 0.9286806778122797, 0.9286806778122797, 0.9286806778122797, 0.9286806778122797, 0.9286806778122797, 0.9286806778122797, 0.9286806778122797, 0.9286806778122797, 0.9286806778122797, 0.9286806778122797, 0.9286806778122797, 0.9286806778122797, 0.9286806778122797, 0.9286806778122797, 0.9286806778122797, 0.9286806778122797, 0.9286806778122797, 0.9286806778122797, 0.9286806778122797, 0.9286806778122797, 0.9286806778122797, 0.9286806778122797, 0.9286806778122797, 0.9286806778122797, 0.9286806778122797, 0.9286806778122797, 0.9286806778122797, 0.9286806778122797, 0.9320590991811848]}], \"precision_score_micro\": [{\"categories\": [\"0\", \"1\", \"2\", \"3\", \"4\", \"5\", \"6\", \"7\", \"8\", \"9\", \"10\", \"11\", \"12\", \"13\", \"14\", \"15\", \"16\", \"17\", \"18\", \"19\", \"20\", \"21\", \"22\", \"23\", \"24\", \"25\", \"26\", \"27\", \"28\", \"29\", \"30\", \"31\", \"32\", \"33\", \"34\", \"35\", \"36\"], \"mode\": \"markers\", \"name\": \"precision_score_micro\", \"stepped\": false, \"type\": \"scatter\", \"data\": [0.9243734335839597, 0.9349310776942357, 0.9049812030075186, 0.9102443609022555, 0.9226190476190474, 0.9261278195488721, 0.91203007518797, 0.9208333333333334, 0.9226190476190477, 0.9261278195488721, 0.9208020050125313, 0.9278508771929823, 0.8909461152882205, 0.9014724310776941, 0.9208646616541353, 0.8979636591478697, 0.9208020050125313, 0.9137844611528821, 0.9243421052631579, 0.9208020050125313, 0.9120300751879699, 0.9049812030075186, 0.9261278195488721, 0.9243421052631579, 0.9261278195488721, 0.9208333333333334, 0.9330827067669173, 0.9260964912280703, 0.8962406015037594, 0.9225877192982456, 0.8927005012531326, 0.9260651629072681, 0.9278822055137843, 0.9119987468671678, 0.9330513784461152, 0.9260964912280703, 0.9419172932330826]}, {\"categories\": [\"0\", \"1\", \"2\", \"3\", \"4\", \"5\", \"6\", \"7\", \"8\", \"9\", \"10\", \"11\", \"12\", \"13\", \"14\", \"15\", \"16\", \"17\", \"18\", \"19\", \"20\", \"21\", \"22\", \"23\", \"24\", \"25\", \"26\", \"27\", \"28\", \"29\", \"30\", \"31\", \"32\", \"33\", \"34\", \"35\", \"36\"], \"mode\": \"lines\", \"name\": \"precision_score_micro_max\", \"stepped\": true, \"type\": \"scatter\", \"data\": [0.9243734335839597, 0.9349310776942357, 0.9349310776942357, 0.9349310776942357, 0.9349310776942357, 0.9349310776942357, 0.9349310776942357, 0.9349310776942357, 0.9349310776942357, 0.9349310776942357, 0.9349310776942357, 0.9349310776942357, 0.9349310776942357, 0.9349310776942357, 0.9349310776942357, 0.9349310776942357, 0.9349310776942357, 0.9349310776942357, 0.9349310776942357, 0.9349310776942357, 0.9349310776942357, 0.9349310776942357, 0.9349310776942357, 0.9349310776942357, 0.9349310776942357, 0.9349310776942357, 0.9349310776942357, 0.9349310776942357, 0.9349310776942357, 0.9349310776942357, 0.9349310776942357, 0.9349310776942357, 0.9349310776942357, 0.9349310776942357, 0.9349310776942357, 0.9349310776942357, 0.9419172932330826]}], \"precision_score_weighted\": [{\"categories\": [\"0\", \"1\", \"2\", \"3\", \"4\", \"5\", \"6\", \"7\", \"8\", \"9\", \"10\", \"11\", \"12\", \"13\", \"14\", \"15\", \"16\", \"17\", \"18\", \"19\", \"20\", \"21\", \"22\", \"23\", \"24\", \"25\", \"26\", \"27\", \"28\", \"29\", \"30\", \"31\", \"32\", \"33\", \"34\", \"35\", \"36\"], \"mode\": \"markers\", \"name\": \"precision_score_weighted\", \"stepped\": false, \"type\": \"scatter\", \"data\": [0.9268260876918551, 0.9368016381341674, 0.9084947184231311, 0.9133251550986742, 0.9249298463103285, 0.9282004580113343, 0.9134731560514993, 0.9232171963170414, 0.925964500806165, 0.9273110676597824, 0.9247874342667268, 0.9315722749702167, 0.8987740666339737, 0.9071562227233724, 0.9234800048828642, 0.9040287614883848, 0.92506419301994, 0.9164684836291483, 0.9278602374160286, 0.9237083658159072, 0.9182568507539992, 0.9088650190623875, 0.931276143118615, 0.9274318614087868, 0.9307673192970976, 0.9233683073524361, 0.9343655002450018, 0.9283855704205631, 0.8998629343978154, 0.9259077289633778, 0.8999182417784699, 0.9279779636744518, 0.9312958434033849, 0.9157508215614067, 0.9345620593560344, 0.9296458465560196, 0.9431078453407302]}, {\"categories\": [\"0\", \"1\", \"2\", \"3\", \"4\", \"5\", \"6\", \"7\", \"8\", \"9\", \"10\", \"11\", \"12\", \"13\", \"14\", \"15\", \"16\", \"17\", \"18\", \"19\", \"20\", \"21\", \"22\", \"23\", \"24\", \"25\", \"26\", \"27\", \"28\", \"29\", \"30\", \"31\", \"32\", \"33\", \"34\", \"35\", \"36\"], \"mode\": \"lines\", \"name\": \"precision_score_weighted_max\", \"stepped\": true, \"type\": \"scatter\", \"data\": [0.9268260876918551, 0.9368016381341674, 0.9368016381341674, 0.9368016381341674, 0.9368016381341674, 0.9368016381341674, 0.9368016381341674, 0.9368016381341674, 0.9368016381341674, 0.9368016381341674, 0.9368016381341674, 0.9368016381341674, 0.9368016381341674, 0.9368016381341674, 0.9368016381341674, 0.9368016381341674, 0.9368016381341674, 0.9368016381341674, 0.9368016381341674, 0.9368016381341674, 0.9368016381341674, 0.9368016381341674, 0.9368016381341674, 0.9368016381341674, 0.9368016381341674, 0.9368016381341674, 0.9368016381341674, 0.9368016381341674, 0.9368016381341674, 0.9368016381341674, 0.9368016381341674, 0.9368016381341674, 0.9368016381341674, 0.9368016381341674, 0.9368016381341674, 0.9368016381341674, 0.9431078453407302]}], \"precision_score_macro\": [{\"categories\": [\"0\", \"1\", \"2\", \"3\", \"4\", \"5\", \"6\", \"7\", \"8\", \"9\", \"10\", \"11\", \"12\", \"13\", \"14\", \"15\", \"16\", \"17\", \"18\", \"19\", \"20\", \"21\", \"22\", \"23\", \"24\", \"25\", \"26\", \"27\", \"28\", \"29\", \"30\", \"31\", \"32\", \"33\", \"34\", \"35\", \"36\"], \"mode\": \"markers\", \"name\": \"precision_score_macro\", \"stepped\": false, \"type\": \"scatter\", \"data\": [0.9192347941740525, 0.9313971529998291, 0.908119293409991, 0.9143075728443801, 0.9182889434117729, 0.9288021831891393, 0.9116544996014166, 0.9226023247254235, 0.9214081398832425, 0.9232506917047232, 0.9236069901682156, 0.9334115017988948, 0.9056588689947823, 0.9114868289241151, 0.9227709166676391, 0.9077766667473395, 0.9247249704967222, 0.9144075201312043, 0.9244868060654641, 0.9241583709408422, 0.9182940803606439, 0.9111177790125158, 0.9247344479780624, 0.927930429616269, 0.9236887779618043, 0.9242578074978128, 0.9322321811498531, 0.9271767947091945, 0.8921409841697219, 0.9263816551112412, 0.9073099059659413, 0.928506973522117, 0.928862866229065, 0.9157343863459317, 0.9346517119516514, 0.9312066407430899, 0.9436660834660229]}, {\"categories\": [\"0\", \"1\", \"2\", \"3\", \"4\", \"5\", \"6\", \"7\", \"8\", \"9\", \"10\", \"11\", \"12\", \"13\", \"14\", \"15\", \"16\", \"17\", \"18\", \"19\", \"20\", \"21\", \"22\", \"23\", \"24\", \"25\", \"26\", \"27\", \"28\", \"29\", \"30\", \"31\", \"32\", \"33\", \"34\", \"35\", \"36\"], \"mode\": \"lines\", \"name\": \"precision_score_macro_max\", \"stepped\": true, \"type\": \"scatter\", \"data\": [0.9192347941740525, 0.9313971529998291, 0.9313971529998291, 0.9313971529998291, 0.9313971529998291, 0.9313971529998291, 0.9313971529998291, 0.9313971529998291, 0.9313971529998291, 0.9313971529998291, 0.9313971529998291, 0.9334115017988948, 0.9334115017988948, 0.9334115017988948, 0.9334115017988948, 0.9334115017988948, 0.9334115017988948, 0.9334115017988948, 0.9334115017988948, 0.9334115017988948, 0.9334115017988948, 0.9334115017988948, 0.9334115017988948, 0.9334115017988948, 0.9334115017988948, 0.9334115017988948, 0.9334115017988948, 0.9334115017988948, 0.9334115017988948, 0.9334115017988948, 0.9334115017988948, 0.9334115017988948, 0.9334115017988948, 0.9334115017988948, 0.9346517119516514, 0.9346517119516514, 0.9436660834660229]}], \"f1_score_macro\": [{\"categories\": [\"0\", \"1\", \"2\", \"3\", \"4\", \"5\", \"6\", \"7\", \"8\", \"9\", \"10\", \"11\", \"12\", \"13\", \"14\", \"15\", \"16\", \"17\", \"18\", \"19\", \"20\", \"21\", \"22\", \"23\", \"24\", \"25\", \"26\", \"27\", \"28\", \"29\", \"30\", \"31\", \"32\", \"33\", \"34\", \"35\", \"36\"], \"mode\": \"markers\", \"name\": \"f1_score_macro\", \"stepped\": false, \"type\": \"scatter\", \"data\": [0.9171851072639103, 0.928675565063369, 0.8968886393454101, 0.9016188446571702, 0.916967276507173, 0.9183309435136989, 0.9023059881692234, 0.9107159861857363, 0.9159519252745902, 0.9190346366099558, 0.9136674283033692, 0.9208908988672319, 0.8773715547601894, 0.8901913072444645, 0.9139138937562932, 0.887105791653617, 0.9133678897832279, 0.906322557610526, 0.916833926056516, 0.9129004681662742, 0.9027153194246521, 0.8957132532538733, 0.9194531030229832, 0.917999828418903, 0.9198246909130517, 0.9135015008018105, 0.9271039160876582, 0.918889483247151, 0.8870202007540857, 0.9160482639447611, 0.8791094123664672, 0.9191984616977573, 0.919972710995131, 0.9029961203211647, 0.9270858902530368, 0.9189274682670922, 0.9366372617393776]}, {\"categories\": [\"0\", \"1\", \"2\", \"3\", \"4\", \"5\", \"6\", \"7\", \"8\", \"9\", \"10\", \"11\", \"12\", \"13\", \"14\", \"15\", \"16\", \"17\", \"18\", \"19\", \"20\", \"21\", \"22\", \"23\", \"24\", \"25\", \"26\", \"27\", \"28\", \"29\", \"30\", \"31\", \"32\", \"33\", \"34\", \"35\", \"36\"], \"mode\": \"lines\", \"name\": \"f1_score_macro_max\", \"stepped\": true, \"type\": \"scatter\", \"data\": [0.9171851072639103, 0.928675565063369, 0.928675565063369, 0.928675565063369, 0.928675565063369, 0.928675565063369, 0.928675565063369, 0.928675565063369, 0.928675565063369, 0.928675565063369, 0.928675565063369, 0.928675565063369, 0.928675565063369, 0.928675565063369, 0.928675565063369, 0.928675565063369, 0.928675565063369, 0.928675565063369, 0.928675565063369, 0.928675565063369, 0.928675565063369, 0.928675565063369, 0.928675565063369, 0.928675565063369, 0.928675565063369, 0.928675565063369, 0.928675565063369, 0.928675565063369, 0.928675565063369, 0.928675565063369, 0.928675565063369, 0.928675565063369, 0.928675565063369, 0.928675565063369, 0.928675565063369, 0.928675565063369, 0.9366372617393776]}], \"balanced_accuracy\": [{\"categories\": [\"0\", \"1\", \"2\", \"3\", \"4\", \"5\", \"6\", \"7\", \"8\", \"9\", \"10\", \"11\", \"12\", \"13\", \"14\", \"15\", \"16\", \"17\", \"18\", \"19\", \"20\", \"21\", \"22\", \"23\", \"24\", \"25\", \"26\", \"27\", \"28\", \"29\", \"30\", \"31\", \"32\", \"33\", \"34\", \"35\", \"36\"], \"mode\": \"markers\", \"name\": \"balanced_accuracy\", \"stepped\": false, \"type\": \"scatter\", \"data\": [0.9182105951381587, 0.9286806778122797, 0.8929934818649281, 0.8966667728029248, 0.918914703538633, 0.9122408149290399, 0.8968216784711833, 0.9041090801319864, 0.9159312936727103, 0.9170896386125451, 0.9114216358668938, 0.9155986757425003, 0.8658401718139199, 0.8814592260160943, 0.9103177711325946, 0.8796127801913876, 0.9101144463244102, 0.9042073069134344, 0.9151397154141832, 0.9073275658278112, 0.8988521955528512, 0.8895958450977262, 0.9210738893689774, 0.914000338640327, 0.9220113893689772, 0.9086648083879169, 0.9242933925735292, 0.9150971930462874, 0.8874359741753983, 0.9124105135210903, 0.8666495063585484, 0.9139868312610906, 0.916683376356821, 0.8976105998368311, 0.9226708571842469, 0.9132088328488213, 0.9320590991811848]}, {\"categories\": [\"0\", \"1\", \"2\", \"3\", \"4\", \"5\", \"6\", \"7\", \"8\", \"9\", \"10\", \"11\", \"12\", \"13\", \"14\", \"15\", \"16\", \"17\", \"18\", \"19\", \"20\", \"21\", \"22\", \"23\", \"24\", \"25\", \"26\", \"27\", \"28\", \"29\", \"30\", \"31\", \"32\", \"33\", \"34\", \"35\", \"36\"], \"mode\": \"lines\", \"name\": \"balanced_accuracy_max\", \"stepped\": true, \"type\": \"scatter\", \"data\": [0.9182105951381587, 0.9286806778122797, 0.9286806778122797, 0.9286806778122797, 0.9286806778122797, 0.9286806778122797, 0.9286806778122797, 0.9286806778122797, 0.9286806778122797, 0.9286806778122797, 0.9286806778122797, 0.9286806778122797, 0.9286806778122797, 0.9286806778122797, 0.9286806778122797, 0.9286806778122797, 0.9286806778122797, 0.9286806778122797, 0.9286806778122797, 0.9286806778122797, 0.9286806778122797, 0.9286806778122797, 0.9286806778122797, 0.9286806778122797, 0.9286806778122797, 0.9286806778122797, 0.9286806778122797, 0.9286806778122797, 0.9286806778122797, 0.9286806778122797, 0.9286806778122797, 0.9286806778122797, 0.9286806778122797, 0.9286806778122797, 0.9286806778122797, 0.9286806778122797, 0.9320590991811848]}], \"average_precision_score_macro\": [{\"categories\": [\"0\", \"1\", \"2\", \"3\", \"4\", \"5\", \"6\", \"7\", \"8\", \"9\", \"10\", \"11\", \"12\", \"13\", \"14\", \"15\", \"16\", \"17\", \"18\", \"19\", \"20\", \"21\", \"22\", \"23\", \"24\", \"25\", \"26\", \"27\", \"28\", \"29\", \"30\", \"31\", \"32\", \"33\", \"34\", \"35\", \"36\"], \"mode\": \"markers\", \"name\": \"average_precision_score_macro\", \"stepped\": false, \"type\": \"scatter\", \"data\": [0.9780138106513124, 0.9792427499659313, 0.9622210815691778, 0.9629911126944546, 0.9773686039549279, 0.9444477656760026, 0.9491536009182011, 0.9546539847184599, 0.9560397414906827, 0.981912415550015, 0.9804946374132306, 0.9807656381104269, 0.9711864319300677, 0.9636131005768066, 0.9726759059576876, 0.9701531462423538, 0.9778411651760385, 0.9784034244122681, 0.962800139590518, 0.9704878107028396, 0.9735443305681016, 0.9688042263732699, 0.9816551935563451, 0.9794757291344018, 0.9813525716465458, 0.9707989590223987, 0.9746880184241679, 0.9742248703180717, 0.9539511147579394, 0.9777523271723189, 0.9206623140412751, 0.9737638330987156, 0.9755804575690489, 0.9498186427028144, 0.974732683096482, 0.9683869852645784, 0.9815482101074965]}, {\"categories\": [\"0\", \"1\", \"2\", \"3\", \"4\", \"5\", \"6\", \"7\", \"8\", \"9\", \"10\", \"11\", \"12\", \"13\", \"14\", \"15\", \"16\", \"17\", \"18\", \"19\", \"20\", \"21\", \"22\", \"23\", \"24\", \"25\", \"26\", \"27\", \"28\", \"29\", \"30\", \"31\", \"32\", \"33\", \"34\", \"35\", \"36\"], \"mode\": \"lines\", \"name\": \"average_precision_score_macro_max\", \"stepped\": true, \"type\": \"scatter\", \"data\": [0.9780138106513124, 0.9792427499659313, 0.9792427499659313, 0.9792427499659313, 0.9792427499659313, 0.9792427499659313, 0.9792427499659313, 0.9792427499659313, 0.9792427499659313, 0.981912415550015, 0.981912415550015, 0.981912415550015, 0.981912415550015, 0.981912415550015, 0.981912415550015, 0.981912415550015, 0.981912415550015, 0.981912415550015, 0.981912415550015, 0.981912415550015, 0.981912415550015, 0.981912415550015, 0.981912415550015, 0.981912415550015, 0.981912415550015, 0.981912415550015, 0.981912415550015, 0.981912415550015, 0.981912415550015, 0.981912415550015, 0.981912415550015, 0.981912415550015, 0.981912415550015, 0.981912415550015, 0.981912415550015, 0.981912415550015, 0.981912415550015]}], \"matthews_correlation\": [{\"categories\": [\"0\", \"1\", \"2\", \"3\", \"4\", \"5\", \"6\", \"7\", \"8\", \"9\", \"10\", \"11\", \"12\", \"13\", \"14\", \"15\", \"16\", \"17\", \"18\", \"19\", \"20\", \"21\", \"22\", \"23\", \"24\", \"25\", \"26\", \"27\", \"28\", \"29\", \"30\", \"31\", \"32\", \"33\", \"34\", \"35\", \"36\"], \"mode\": \"markers\", \"name\": \"matthews_correlation\", \"stepped\": false, \"type\": \"scatter\", \"data\": [0.8371715332149023, 0.8598311618941656, 0.8004642694850327, 0.8103044724004208, 0.8368959924175909, 0.8406628757058842, 0.8082111178529121, 0.826266635137622, 0.8368590696294689, 0.8401803467514002, 0.8342966798655367, 0.848377467986521, 0.7699881087861693, 0.7916522453975777, 0.8326105408211022, 0.7862979152714928, 0.834082842739352, 0.8181215502619613, 0.8391292763859288, 0.8310883545168861, 0.8159466293469739, 0.7998102311777081, 0.8452283971158561, 0.841494495956827, 0.8451808600772436, 0.832213917962431, 0.8563642146844298, 0.8419985202550702, 0.7791265746301789, 0.8381685345570264, 0.7724619431534605, 0.8422424551744756, 0.8451103198697316, 0.8127932765808337, 0.8570991608371438, 0.843936456657706, 0.8755389442490582]}, {\"categories\": [\"0\", \"1\", \"2\", \"3\", \"4\", \"5\", \"6\", \"7\", \"8\", \"9\", \"10\", \"11\", \"12\", \"13\", \"14\", \"15\", \"16\", \"17\", \"18\", \"19\", \"20\", \"21\", \"22\", \"23\", \"24\", \"25\", \"26\", \"27\", \"28\", \"29\", \"30\", \"31\", \"32\", \"33\", \"34\", \"35\", \"36\"], \"mode\": \"lines\", \"name\": \"matthews_correlation_max\", \"stepped\": true, \"type\": \"scatter\", \"data\": [0.8371715332149023, 0.8598311618941656, 0.8598311618941656, 0.8598311618941656, 0.8598311618941656, 0.8598311618941656, 0.8598311618941656, 0.8598311618941656, 0.8598311618941656, 0.8598311618941656, 0.8598311618941656, 0.8598311618941656, 0.8598311618941656, 0.8598311618941656, 0.8598311618941656, 0.8598311618941656, 0.8598311618941656, 0.8598311618941656, 0.8598311618941656, 0.8598311618941656, 0.8598311618941656, 0.8598311618941656, 0.8598311618941656, 0.8598311618941656, 0.8598311618941656, 0.8598311618941656, 0.8598311618941656, 0.8598311618941656, 0.8598311618941656, 0.8598311618941656, 0.8598311618941656, 0.8598311618941656, 0.8598311618941656, 0.8598311618941656, 0.8598311618941656, 0.8598311618941656, 0.8755389442490582]}], \"f1_score_micro\": [{\"categories\": [\"0\", \"1\", \"2\", \"3\", \"4\", \"5\", \"6\", \"7\", \"8\", \"9\", \"10\", \"11\", \"12\", \"13\", \"14\", \"15\", \"16\", \"17\", \"18\", \"19\", \"20\", \"21\", \"22\", \"23\", \"24\", \"25\", \"26\", \"27\", \"28\", \"29\", \"30\", \"31\", \"32\", \"33\", \"34\", \"35\", \"36\"], \"mode\": \"markers\", \"name\": \"f1_score_micro\", \"stepped\": false, \"type\": \"scatter\", \"data\": [0.9243734335839597, 0.9349310776942357, 0.9049812030075186, 0.9102443609022555, 0.9226190476190474, 0.9261278195488721, 0.91203007518797, 0.9208333333333334, 0.9226190476190477, 0.9261278195488721, 0.9208020050125313, 0.9278508771929823, 0.8909461152882205, 0.9014724310776941, 0.9208646616541353, 0.8979636591478697, 0.9208020050125313, 0.9137844611528821, 0.9243421052631579, 0.9208020050125313, 0.9120300751879699, 0.9049812030075186, 0.9261278195488721, 0.9243421052631579, 0.9261278195488721, 0.9208333333333334, 0.9330827067669173, 0.9260964912280703, 0.8962406015037594, 0.9225877192982456, 0.8927005012531326, 0.9260651629072681, 0.9278822055137843, 0.9119987468671678, 0.9330513784461152, 0.9260964912280703, 0.9419172932330826]}, {\"categories\": [\"0\", \"1\", \"2\", \"3\", \"4\", \"5\", \"6\", \"7\", \"8\", \"9\", \"10\", \"11\", \"12\", \"13\", \"14\", \"15\", \"16\", \"17\", \"18\", \"19\", \"20\", \"21\", \"22\", \"23\", \"24\", \"25\", \"26\", \"27\", \"28\", \"29\", \"30\", \"31\", \"32\", \"33\", \"34\", \"35\", \"36\"], \"mode\": \"lines\", \"name\": \"f1_score_micro_max\", \"stepped\": true, \"type\": \"scatter\", \"data\": [0.9243734335839597, 0.9349310776942357, 0.9349310776942357, 0.9349310776942357, 0.9349310776942357, 0.9349310776942357, 0.9349310776942357, 0.9349310776942357, 0.9349310776942357, 0.9349310776942357, 0.9349310776942357, 0.9349310776942357, 0.9349310776942357, 0.9349310776942357, 0.9349310776942357, 0.9349310776942357, 0.9349310776942357, 0.9349310776942357, 0.9349310776942357, 0.9349310776942357, 0.9349310776942357, 0.9349310776942357, 0.9349310776942357, 0.9349310776942357, 0.9349310776942357, 0.9349310776942357, 0.9349310776942357, 0.9349310776942357, 0.9349310776942357, 0.9349310776942357, 0.9349310776942357, 0.9349310776942357, 0.9349310776942357, 0.9349310776942357, 0.9349310776942357, 0.9349310776942357, 0.9419172932330826]}], \"recall_score_micro\": [{\"categories\": [\"0\", \"1\", \"2\", \"3\", \"4\", \"5\", \"6\", \"7\", \"8\", \"9\", \"10\", \"11\", \"12\", \"13\", \"14\", \"15\", \"16\", \"17\", \"18\", \"19\", \"20\", \"21\", \"22\", \"23\", \"24\", \"25\", \"26\", \"27\", \"28\", \"29\", \"30\", \"31\", \"32\", \"33\", \"34\", \"35\", \"36\"], \"mode\": \"markers\", \"name\": \"recall_score_micro\", \"stepped\": false, \"type\": \"scatter\", \"data\": [0.9243734335839597, 0.9349310776942357, 0.9049812030075186, 0.9102443609022555, 0.9226190476190474, 0.9261278195488721, 0.91203007518797, 0.9208333333333334, 0.9226190476190477, 0.9261278195488721, 0.9208020050125313, 0.9278508771929823, 0.8909461152882205, 0.9014724310776941, 0.9208646616541353, 0.8979636591478697, 0.9208020050125313, 0.9137844611528821, 0.9243421052631579, 0.9208020050125313, 0.9120300751879699, 0.9049812030075186, 0.9261278195488721, 0.9243421052631579, 0.9261278195488721, 0.9208333333333334, 0.9330827067669173, 0.9260964912280703, 0.8962406015037594, 0.9225877192982456, 0.8927005012531326, 0.9260651629072681, 0.9278822055137843, 0.9119987468671678, 0.9330513784461152, 0.9260964912280703, 0.9419172932330826]}, {\"categories\": [\"0\", \"1\", \"2\", \"3\", \"4\", \"5\", \"6\", \"7\", \"8\", \"9\", \"10\", \"11\", \"12\", \"13\", \"14\", \"15\", \"16\", \"17\", \"18\", \"19\", \"20\", \"21\", \"22\", \"23\", \"24\", \"25\", \"26\", \"27\", \"28\", \"29\", \"30\", \"31\", \"32\", \"33\", \"34\", \"35\", \"36\"], \"mode\": \"lines\", \"name\": \"recall_score_micro_max\", \"stepped\": true, \"type\": \"scatter\", \"data\": [0.9243734335839597, 0.9349310776942357, 0.9349310776942357, 0.9349310776942357, 0.9349310776942357, 0.9349310776942357, 0.9349310776942357, 0.9349310776942357, 0.9349310776942357, 0.9349310776942357, 0.9349310776942357, 0.9349310776942357, 0.9349310776942357, 0.9349310776942357, 0.9349310776942357, 0.9349310776942357, 0.9349310776942357, 0.9349310776942357, 0.9349310776942357, 0.9349310776942357, 0.9349310776942357, 0.9349310776942357, 0.9349310776942357, 0.9349310776942357, 0.9349310776942357, 0.9349310776942357, 0.9349310776942357, 0.9349310776942357, 0.9349310776942357, 0.9349310776942357, 0.9349310776942357, 0.9349310776942357, 0.9349310776942357, 0.9349310776942357, 0.9349310776942357, 0.9349310776942357, 0.9419172932330826]}]}, \"metricName\": null, \"primaryMetricName\": \"accuracy\", \"showLegend\": false}, \"run_metrics\": [{\"name\": \"experiment_status\", \"run_id\": \"AutoML_1440c676-7dd5-49b8-9e33-c02999606195\", \"categories\": [0, 1, 2, 3, 4, 5], \"series\": [{\"data\": [\"DatasetEvaluation\", \"FeaturesGeneration\", \"DatasetFeaturization\", \"DatasetFeaturizationCompleted\", \"DatasetCrossValidationSplit\", \"ModelSelection\"]}]}, {\"name\": \"experiment_status_description\", \"run_id\": \"AutoML_1440c676-7dd5-49b8-9e33-c02999606195\", \"categories\": [0, 1, 2, 3, 4, 5], \"series\": [{\"data\": [\"Gathering dataset statistics.\", \"Generating features for the dataset.\", \"Beginning to fit featurizers and featurize the dataset.\", \"Completed fit featurizers and featurizing the dataset.\", \"Generating individually featurized CV splits.\", \"Beginning model selection.\"]}]}, {\"name\": \"f1_score_weighted\", \"run_id\": \"AutoML_1440c676-7dd5-49b8-9e33-c02999606195\", \"categories\": [0], \"series\": [{\"data\": [0.9414526893248916]}]}, {\"name\": \"average_precision_score_weighted\", \"run_id\": \"AutoML_1440c676-7dd5-49b8-9e33-c02999606195\", \"categories\": [0], \"series\": [{\"data\": [0.9834824494026607]}]}, {\"name\": \"recall_score_micro\", \"run_id\": \"AutoML_1440c676-7dd5-49b8-9e33-c02999606195\", \"categories\": [0], \"series\": [{\"data\": [0.9419172932330826]}]}, {\"name\": \"matthews_correlation\", \"run_id\": \"AutoML_1440c676-7dd5-49b8-9e33-c02999606195\", \"categories\": [0], \"series\": [{\"data\": [0.8755389442490582]}]}, {\"name\": \"precision_score_weighted\", \"run_id\": \"AutoML_1440c676-7dd5-49b8-9e33-c02999606195\", \"categories\": [0], \"series\": [{\"data\": [0.9431078453407302]}]}, {\"name\": \"AUC_weighted\", \"run_id\": \"AutoML_1440c676-7dd5-49b8-9e33-c02999606195\", \"categories\": [0], \"series\": [{\"data\": [0.9815598746837446]}]}, {\"name\": \"weighted_accuracy\", \"run_id\": \"AutoML_1440c676-7dd5-49b8-9e33-c02999606195\", \"categories\": [0], \"series\": [{\"data\": [0.9499026326918776]}]}, {\"name\": \"log_loss\", \"run_id\": \"AutoML_1440c676-7dd5-49b8-9e33-c02999606195\", \"categories\": [0], \"series\": [{\"data\": [0.1737367661801829]}]}, {\"name\": \"precision_score_micro\", \"run_id\": \"AutoML_1440c676-7dd5-49b8-9e33-c02999606195\", \"categories\": [0], \"series\": [{\"data\": [0.9419172932330826]}]}, {\"name\": \"accuracy\", \"run_id\": \"AutoML_1440c676-7dd5-49b8-9e33-c02999606195\", \"categories\": [0], \"series\": [{\"data\": [0.9419172932330826]}]}, {\"name\": \"norm_macro_recall\", \"run_id\": \"AutoML_1440c676-7dd5-49b8-9e33-c02999606195\", \"categories\": [0], \"series\": [{\"data\": [0.8641181983623696]}]}, {\"name\": \"recall_score_weighted\", \"run_id\": \"AutoML_1440c676-7dd5-49b8-9e33-c02999606195\", \"categories\": [0], \"series\": [{\"data\": [0.9419172932330826]}]}, {\"name\": \"recall_score_macro\", \"run_id\": \"AutoML_1440c676-7dd5-49b8-9e33-c02999606195\", \"categories\": [0], \"series\": [{\"data\": [0.9320590991811848]}]}, {\"name\": \"average_precision_score_micro\", \"run_id\": \"AutoML_1440c676-7dd5-49b8-9e33-c02999606195\", \"categories\": [0], \"series\": [{\"data\": [0.9827169323940768]}]}, {\"name\": \"balanced_accuracy\", \"run_id\": \"AutoML_1440c676-7dd5-49b8-9e33-c02999606195\", \"categories\": [0], \"series\": [{\"data\": [0.9320590991811848]}]}, {\"name\": \"average_precision_score_macro\", \"run_id\": \"AutoML_1440c676-7dd5-49b8-9e33-c02999606195\", \"categories\": [0], \"series\": [{\"data\": [0.9815482101074965]}]}, {\"name\": \"AUC_macro\", \"run_id\": \"AutoML_1440c676-7dd5-49b8-9e33-c02999606195\", \"categories\": [0], \"series\": [{\"data\": [0.9815598746837446]}]}, {\"name\": \"AUC_micro\", \"run_id\": \"AutoML_1440c676-7dd5-49b8-9e33-c02999606195\", \"categories\": [0], \"series\": [{\"data\": [0.982000014918248]}]}, {\"name\": \"f1_score_macro\", \"run_id\": \"AutoML_1440c676-7dd5-49b8-9e33-c02999606195\", \"categories\": [0], \"series\": [{\"data\": [0.9366372617393776]}]}, {\"name\": \"precision_score_macro\", \"run_id\": \"AutoML_1440c676-7dd5-49b8-9e33-c02999606195\", \"categories\": [0], \"series\": [{\"data\": [0.9436660834660229]}]}, {\"name\": \"f1_score_micro\", \"run_id\": \"AutoML_1440c676-7dd5-49b8-9e33-c02999606195\", \"categories\": [0], \"series\": [{\"data\": [0.9419172932330826]}]}], \"run_logs\": \"\\nRun is completed.\", \"graph\": {}, \"widget_settings\": {\"childWidgetDisplay\": \"popup\", \"send_telemetry\": false, \"log_level\": \"INFO\", \"sdk_version\": \"1.20.0\"}, \"loading\": false}"
     },
     "metadata": {},
     "output_type": "display_data"
    }
   ],
   "source": [
    "from azureml.widgets import RunDetails\n",
    "RunDetails(automl_run).show()\n"
   ]
  },
  {
   "cell_type": "code",
   "execution_count": 8,
   "metadata": {},
   "outputs": [
    {
     "name": "stdout",
     "output_type": "stream",
     "text": [
      "\n",
      "Current status: FeaturesGeneration. Generating features for the dataset.\n",
      "Current status: ModelSelection. Beginning model selection.\n",
      "\n",
      "****************************************************************************************************\n",
      "DATA GUARDRAILS: \n",
      "\n",
      "TYPE:         Cross validation\n",
      "STATUS:       DONE\n",
      "DESCRIPTION:  Each iteration of the trained model was validated through cross-validation.\n",
      "              \n",
      "DETAILS:      \n",
      "+---------------------------------+\n",
      "|Number of folds                  |\n",
      "+=================================+\n",
      "|10                               |\n",
      "+---------------------------------+\n",
      "\n",
      "****************************************************************************************************\n",
      "\n",
      "TYPE:         Class balancing detection\n",
      "STATUS:       PASSED\n",
      "DESCRIPTION:  Your inputs were analyzed, and all classes are balanced in your training data.\n",
      "              Learn more about imbalanced data: https://aka.ms/AutomatedMLImbalancedData\n",
      "\n",
      "****************************************************************************************************\n",
      "\n",
      "TYPE:         Missing feature values imputation\n",
      "STATUS:       PASSED\n",
      "DESCRIPTION:  No feature missing values were detected in the training data.\n",
      "              Learn more about missing value imputation: https://aka.ms/AutomatedMLFeaturization\n",
      "\n",
      "****************************************************************************************************\n",
      "\n",
      "TYPE:         High cardinality feature detection\n",
      "STATUS:       PASSED\n",
      "DESCRIPTION:  Your inputs were analyzed, and no high cardinality features were detected.\n",
      "              Learn more about high cardinality feature handling: https://aka.ms/AutomatedMLFeaturization\n",
      "\n",
      "****************************************************************************************************\n",
      "\n",
      "****************************************************************************************************\n",
      "ITERATION: The iteration being evaluated.\n",
      "PIPELINE: A summary description of the pipeline being evaluated.\n",
      "DURATION: Time taken for the current iteration.\n",
      "METRIC: The result of computing score on the fitted pipeline.\n",
      "BEST: The best observed score thus far.\n",
      "****************************************************************************************************\n",
      "\n",
      " ITERATION   PIPELINE                                       DURATION      METRIC      BEST\n",
      "         3   MinMaxScaler RandomForest                      0:01:00       0.9102    0.9102\n",
      "         2   MinMaxScaler RandomForest                      0:01:03       0.9050    0.9102\n",
      "         0   MaxAbsScaler LightGBM                          0:01:01       0.9244    0.9244\n",
      "         1   MaxAbsScaler XGBoostClassifier                 0:01:03       0.9349    0.9349\n",
      "         6   MinMaxScaler SVM                               0:02:03       0.9120    0.9349\n",
      "         7   MinMaxScaler SVM                               0:00:54       0.9208    0.9349\n",
      "         4   MinMaxScaler RandomForest                      0:02:22       0.9226    0.9349\n",
      "         5   MinMaxScaler SVM                               0:02:15       0.9261    0.9349\n",
      "         8   SparseNormalizer XGBoostClassifier             0:00:54       0.9226    0.9349\n",
      "        10   MaxAbsScaler GradientBoosting                  0:00:52       0.9208    0.9349\n",
      "        11   StandardScalerWrapper LightGBM                 0:00:50       0.9279    0.9349\n",
      "         9   StandardScalerWrapper LightGBM                 0:00:55       0.9261    0.9349\n",
      "        12   StandardScalerWrapper LightGBM                 0:00:56       0.8909    0.9349\n",
      "        13   RobustScaler ExtremeRandomTrees                0:01:00       0.9015    0.9349\n",
      "        14   StandardScalerWrapper RandomForest             0:00:50       0.9209    0.9349\n",
      "        15   StandardScalerWrapper LightGBM                 0:00:49       0.8980    0.9349\n",
      "        16   StandardScalerWrapper GradientBoosting         0:01:02       0.9208    0.9349\n",
      "        17   StandardScalerWrapper LightGBM                 0:00:57       0.9138    0.9349\n",
      "        18   SparseNormalizer XGBoostClassifier             0:00:54       0.9243    0.9349\n",
      "        19   SparseNormalizer XGBoostClassifier             0:00:54       0.9208    0.9349\n",
      "        20   MinMaxScaler ExtremeRandomTrees                0:00:58       0.9120    0.9349\n",
      "        21   RobustScaler RandomForest                      0:00:52       0.9050    0.9349\n",
      "        22   MinMaxScaler LogisticRegression                0:00:51       0.9261    0.9349\n",
      "        23   StandardScalerWrapper LightGBM                 0:00:51       0.9243    0.9349\n",
      "        26   SparseNormalizer XGBoostClassifier             0:00:48       0.9331    0.9349\n",
      "        24   MaxAbsScaler LogisticRegression                0:01:04       0.9261    0.9349\n",
      "        25   StandardScalerWrapper XGBoostClassifier        0:00:52       0.9208    0.9349\n",
      "        27   SparseNormalizer XGBoostClassifier             0:00:56       0.9261    0.9349\n",
      "        28   SparseNormalizer ExtremeRandomTrees            0:01:03       0.8962    0.9349\n",
      "        29   StandardScalerWrapper XGBoostClassifier        0:00:59       0.9226    0.9349\n",
      "        30   PCA XGBoostClassifier                          0:00:57       0.8927    0.9349\n",
      "        31   SparseNormalizer XGBoostClassifier             0:00:52       0.9261    0.9349\n",
      "        32   SparseNormalizer XGBoostClassifier             0:00:51       0.9279    0.9349\n",
      "        34   SparseNormalizer XGBoostClassifier             0:00:49       0.9331    0.9349\n",
      "        35   SparseNormalizer XGBoostClassifier             0:00:49       0.9261    0.9349\n",
      "        33   SparseNormalizer XGBoostClassifier             0:00:54       0.9120    0.9349\n",
      "        36    VotingEnsemble                                0:01:56       0.9419    0.9419\n"
     ]
    },
    {
     "data": {
      "text/plain": [
       "{'runId': 'AutoML_1440c676-7dd5-49b8-9e33-c02999606195',\n",
       " 'target': 'AML-Cluster',\n",
       " 'status': 'Completed',\n",
       " 'startTimeUtc': '2021-02-11T22:14:43.165662Z',\n",
       " 'endTimeUtc': '2021-02-11T22:36:52.696023Z',\n",
       " 'properties': {'num_iterations': '1000',\n",
       "  'training_type': 'TrainFull',\n",
       "  'acquisition_function': 'EI',\n",
       "  'primary_metric': 'accuracy',\n",
       "  'train_split': '0',\n",
       "  'acquisition_parameter': '0',\n",
       "  'num_cross_validation': None,\n",
       "  'target': 'AML-Cluster',\n",
       "  'AMLSettingsJsonString': '{\"path\":null,\"name\":\"automl-exp\",\"subscription_id\":\"3e42d11f-d64d-4173-af9b-12ecaa1030b3\",\"resource_group\":\"aml-quickstarts-138628\",\"workspace_name\":\"quick-starts-ws-138628\",\"region\":\"southcentralus\",\"compute_target\":\"AML-Cluster\",\"spark_service\":null,\"azure_service\":\"remote\",\"many_models\":false,\"pipeline_fetch_max_batch_size\":1,\"iterations\":1000,\"primary_metric\":\"accuracy\",\"task_type\":\"classification\",\"data_script\":null,\"validation_size\":0.0,\"n_cross_validations\":null,\"y_min\":null,\"y_max\":null,\"num_classes\":null,\"featurization\":\"auto\",\"_ignore_package_version_incompatibilities\":false,\"is_timeseries\":false,\"max_cores_per_iteration\":1,\"max_concurrent_iterations\":4,\"iteration_timeout_minutes\":null,\"mem_in_mb\":null,\"enforce_time_on_windows\":false,\"experiment_timeout_minutes\":30,\"experiment_exit_score\":null,\"whitelist_models\":null,\"blacklist_algos\":[\"TensorFlowLinearClassifier\",\"TensorFlowDNN\"],\"supported_models\":[\"LightGBM\",\"SVM\",\"DecisionTree\",\"SGD\",\"KNN\",\"XGBoostClassifier\",\"ExtremeRandomTrees\",\"LinearSVM\",\"LogisticRegression\",\"GradientBoosting\",\"AveragedPerceptronClassifier\",\"TensorFlowDNN\",\"MultinomialNaiveBayes\",\"RandomForest\",\"BernoulliNaiveBayes\",\"TensorFlowLinearClassifier\"],\"auto_blacklist\":true,\"blacklist_samples_reached\":false,\"exclude_nan_labels\":true,\"verbosity\":20,\"_debug_log\":\"azureml_automl.log\",\"show_warnings\":false,\"model_explainability\":true,\"service_url\":null,\"sdk_url\":null,\"sdk_packages\":null,\"enable_onnx_compatible_models\":true,\"enable_split_onnx_featurizer_estimator_models\":false,\"vm_type\":\"STANDARD_DS12_V2\",\"telemetry_verbosity\":20,\"send_telemetry\":true,\"enable_dnn\":false,\"scenario\":\"SDK-1.13.0\",\"environment_label\":null,\"force_text_dnn\":false,\"enable_feature_sweeping\":false,\"enable_early_stopping\":true,\"early_stopping_n_iters\":10,\"metrics\":null,\"enable_ensembling\":true,\"enable_stack_ensembling\":false,\"ensemble_iterations\":15,\"enable_tf\":false,\"enable_subsampling\":null,\"subsample_seed\":null,\"enable_nimbusml\":false,\"enable_streaming\":false,\"force_streaming\":false,\"track_child_runs\":true,\"allowed_private_models\":[],\"label_column_name\":\"diagnosis\",\"weight_column_name\":null,\"cv_split_column_names\":null,\"enable_local_managed\":false,\"_local_managed_run_id\":null,\"cost_mode\":1,\"lag_length\":0,\"metric_operation\":\"maximize\",\"preprocess\":true}',\n",
       "  'DataPrepJsonString': '{\\\\\"training_data\\\\\": \\\\\"{\\\\\\\\\\\\\"blocks\\\\\\\\\\\\\": [{\\\\\\\\\\\\\"id\\\\\\\\\\\\\": \\\\\\\\\\\\\"95ade5c5-f77a-49bc-b287-a7101a2b4657\\\\\\\\\\\\\", \\\\\\\\\\\\\"type\\\\\\\\\\\\\": \\\\\\\\\\\\\"Microsoft.DPrep.GetFilesBlock\\\\\\\\\\\\\", \\\\\\\\\\\\\"arguments\\\\\\\\\\\\\": {\\\\\\\\\\\\\"isArchive\\\\\\\\\\\\\": false, \\\\\\\\\\\\\"path\\\\\\\\\\\\\": {\\\\\\\\\\\\\"target\\\\\\\\\\\\\": 4, \\\\\\\\\\\\\"resourceDetails\\\\\\\\\\\\\": [{\\\\\\\\\\\\\"path\\\\\\\\\\\\\": \\\\\\\\\\\\\"https://raw.githubusercontent.com/Ayoyinka-Sofuwa/Capstone-project/main/Breast_cancer_data.csv\\\\\\\\\\\\\"}]}}, \\\\\\\\\\\\\"localData\\\\\\\\\\\\\": {}, \\\\\\\\\\\\\"isEnabled\\\\\\\\\\\\\": true, \\\\\\\\\\\\\"name\\\\\\\\\\\\\": null, \\\\\\\\\\\\\"annotation\\\\\\\\\\\\\": null}, {\\\\\\\\\\\\\"id\\\\\\\\\\\\\": \\\\\\\\\\\\\"74697172-05aa-4633-a29b-af81c3f68df4\\\\\\\\\\\\\", \\\\\\\\\\\\\"type\\\\\\\\\\\\\": \\\\\\\\\\\\\"Microsoft.DPrep.ParseDelimitedBlock\\\\\\\\\\\\\", \\\\\\\\\\\\\"arguments\\\\\\\\\\\\\": {\\\\\\\\\\\\\"columnHeadersMode\\\\\\\\\\\\\": 3, \\\\\\\\\\\\\"fileEncoding\\\\\\\\\\\\\": 0, \\\\\\\\\\\\\"handleQuotedLineBreaks\\\\\\\\\\\\\": false, \\\\\\\\\\\\\"preview\\\\\\\\\\\\\": false, \\\\\\\\\\\\\"separator\\\\\\\\\\\\\": \\\\\\\\\\\\\",\\\\\\\\\\\\\", \\\\\\\\\\\\\"skipRows\\\\\\\\\\\\\": 0, \\\\\\\\\\\\\"skipRowsMode\\\\\\\\\\\\\": 0}, \\\\\\\\\\\\\"localData\\\\\\\\\\\\\": {}, \\\\\\\\\\\\\"isEnabled\\\\\\\\\\\\\": true, \\\\\\\\\\\\\"name\\\\\\\\\\\\\": null, \\\\\\\\\\\\\"annotation\\\\\\\\\\\\\": null}, {\\\\\\\\\\\\\"id\\\\\\\\\\\\\": \\\\\\\\\\\\\"d4a54b76-2066-45f8-8122-29db99e225f1\\\\\\\\\\\\\", \\\\\\\\\\\\\"type\\\\\\\\\\\\\": \\\\\\\\\\\\\"Microsoft.DPrep.DropColumnsBlock\\\\\\\\\\\\\", \\\\\\\\\\\\\"arguments\\\\\\\\\\\\\": {\\\\\\\\\\\\\"columns\\\\\\\\\\\\\": {\\\\\\\\\\\\\"type\\\\\\\\\\\\\": 0, \\\\\\\\\\\\\"details\\\\\\\\\\\\\": {\\\\\\\\\\\\\"selectedColumns\\\\\\\\\\\\\": [\\\\\\\\\\\\\"Path\\\\\\\\\\\\\"]}}}, \\\\\\\\\\\\\"localData\\\\\\\\\\\\\": {}, \\\\\\\\\\\\\"isEnabled\\\\\\\\\\\\\": true, \\\\\\\\\\\\\"name\\\\\\\\\\\\\": null, \\\\\\\\\\\\\"annotation\\\\\\\\\\\\\": null}, {\\\\\\\\\\\\\"id\\\\\\\\\\\\\": \\\\\\\\\\\\\"72e1a566-d1f0-4eee-9f82-3837a0a68623\\\\\\\\\\\\\", \\\\\\\\\\\\\"type\\\\\\\\\\\\\": \\\\\\\\\\\\\"Microsoft.DPrep.SetColumnTypesBlock\\\\\\\\\\\\\", \\\\\\\\\\\\\"arguments\\\\\\\\\\\\\": {\\\\\\\\\\\\\"columnConversion\\\\\\\\\\\\\": [{\\\\\\\\\\\\\"column\\\\\\\\\\\\\": {\\\\\\\\\\\\\"type\\\\\\\\\\\\\": 2, \\\\\\\\\\\\\"details\\\\\\\\\\\\\": {\\\\\\\\\\\\\"selectedColumn\\\\\\\\\\\\\": \\\\\\\\\\\\\"mean_radius\\\\\\\\\\\\\"}}, \\\\\\\\\\\\\"typeProperty\\\\\\\\\\\\\": 3}, {\\\\\\\\\\\\\"column\\\\\\\\\\\\\": {\\\\\\\\\\\\\"type\\\\\\\\\\\\\": 2, \\\\\\\\\\\\\"details\\\\\\\\\\\\\": {\\\\\\\\\\\\\"selectedColumn\\\\\\\\\\\\\": \\\\\\\\\\\\\"mean_texture\\\\\\\\\\\\\"}}, \\\\\\\\\\\\\"typeProperty\\\\\\\\\\\\\": 3}, {\\\\\\\\\\\\\"column\\\\\\\\\\\\\": {\\\\\\\\\\\\\"type\\\\\\\\\\\\\": 2, \\\\\\\\\\\\\"details\\\\\\\\\\\\\": {\\\\\\\\\\\\\"selectedColumn\\\\\\\\\\\\\": \\\\\\\\\\\\\"mean_perimeter\\\\\\\\\\\\\"}}, \\\\\\\\\\\\\"typeProperty\\\\\\\\\\\\\": 3}, {\\\\\\\\\\\\\"column\\\\\\\\\\\\\": {\\\\\\\\\\\\\"type\\\\\\\\\\\\\": 2, \\\\\\\\\\\\\"details\\\\\\\\\\\\\": {\\\\\\\\\\\\\"selectedColumn\\\\\\\\\\\\\": \\\\\\\\\\\\\"mean_area\\\\\\\\\\\\\"}}, \\\\\\\\\\\\\"typeProperty\\\\\\\\\\\\\": 3}, {\\\\\\\\\\\\\"column\\\\\\\\\\\\\": {\\\\\\\\\\\\\"type\\\\\\\\\\\\\": 2, \\\\\\\\\\\\\"details\\\\\\\\\\\\\": {\\\\\\\\\\\\\"selectedColumn\\\\\\\\\\\\\": \\\\\\\\\\\\\"mean_smoothness\\\\\\\\\\\\\"}}, \\\\\\\\\\\\\"typeProperty\\\\\\\\\\\\\": 3}, {\\\\\\\\\\\\\"column\\\\\\\\\\\\\": {\\\\\\\\\\\\\"type\\\\\\\\\\\\\": 2, \\\\\\\\\\\\\"details\\\\\\\\\\\\\": {\\\\\\\\\\\\\"selectedColumn\\\\\\\\\\\\\": \\\\\\\\\\\\\"diagnosis\\\\\\\\\\\\\"}}, \\\\\\\\\\\\\"typeProperty\\\\\\\\\\\\\": 2}]}, \\\\\\\\\\\\\"localData\\\\\\\\\\\\\": {}, \\\\\\\\\\\\\"isEnabled\\\\\\\\\\\\\": true, \\\\\\\\\\\\\"name\\\\\\\\\\\\\": null, \\\\\\\\\\\\\"annotation\\\\\\\\\\\\\": null}], \\\\\\\\\\\\\"inspectors\\\\\\\\\\\\\": [], \\\\\\\\\\\\\"meta\\\\\\\\\\\\\": {\\\\\\\\\\\\\"savedDatasetId\\\\\\\\\\\\\": \\\\\\\\\\\\\"e036f263-e5c7-49f8-a13a-174d7ea4454e\\\\\\\\\\\\\", \\\\\\\\\\\\\"datasetType\\\\\\\\\\\\\": \\\\\\\\\\\\\"tabular\\\\\\\\\\\\\", \\\\\\\\\\\\\"subscriptionId\\\\\\\\\\\\\": \\\\\\\\\\\\\"3e42d11f-d64d-4173-af9b-12ecaa1030b3\\\\\\\\\\\\\", \\\\\\\\\\\\\"workspaceId\\\\\\\\\\\\\": \\\\\\\\\\\\\"119c0089-76e3-4b37-964b-8db3817839a3\\\\\\\\\\\\\", \\\\\\\\\\\\\"workspaceLocation\\\\\\\\\\\\\": \\\\\\\\\\\\\"southcentralus\\\\\\\\\\\\\"}}\\\\\", \\\\\"activities\\\\\": 0}',\n",
       "  'EnableSubsampling': None,\n",
       "  'runTemplate': 'AutoML',\n",
       "  'azureml.runsource': 'automl',\n",
       "  'display_task_type': 'classification',\n",
       "  'dependencies_versions': '{\"azureml-widgets\": \"1.20.0\", \"azureml-train\": \"1.20.0\", \"azureml-train-restclients-hyperdrive\": \"1.20.0\", \"azureml-train-core\": \"1.20.0\", \"azureml-train-automl\": \"1.20.0\", \"azureml-train-automl-runtime\": \"1.20.0\", \"azureml-train-automl-client\": \"1.20.0\", \"azureml-tensorboard\": \"1.20.0\", \"azureml-telemetry\": \"1.20.0\", \"azureml-sdk\": \"1.20.0\", \"azureml-samples\": \"0+unknown\", \"azureml-pipeline\": \"1.20.0\", \"azureml-pipeline-steps\": \"1.20.0\", \"azureml-pipeline-core\": \"1.20.0\", \"azureml-opendatasets\": \"1.20.0\", \"azureml-model-management-sdk\": \"1.0.1b6.post1\", \"azureml-mlflow\": \"1.20.0.post1\", \"azureml-interpret\": \"1.20.0\", \"azureml-explain-model\": \"1.20.0\", \"azureml-defaults\": \"1.20.0\", \"azureml-dataset-runtime\": \"1.20.0\", \"azureml-dataprep\": \"2.7.3\", \"azureml-dataprep-rslex\": \"1.5.0\", \"azureml-dataprep-native\": \"27.0.0\", \"azureml-datadrift\": \"1.20.0\", \"azureml-core\": \"1.20.0\", \"azureml-contrib-services\": \"1.20.0\", \"azureml-contrib-server\": \"1.20.0\", \"azureml-contrib-reinforcementlearning\": \"1.20.0\", \"azureml-contrib-pipeline-steps\": \"1.20.0\", \"azureml-contrib-notebook\": \"1.20.0\", \"azureml-contrib-interpret\": \"1.20.0\", \"azureml-contrib-gbdt\": \"1.20.0\", \"azureml-contrib-fairness\": \"1.20.0\", \"azureml-contrib-dataset\": \"1.20.0\", \"azureml-cli-common\": \"1.20.0\", \"azureml-automl-runtime\": \"1.20.0\", \"azureml-automl-core\": \"1.20.0\", \"azureml-accel-models\": \"1.20.0\"}',\n",
       "  '_aml_system_scenario_identification': 'Remote.Parent',\n",
       "  'ClientType': 'SDK',\n",
       "  'environment_cpu_name': 'AzureML-AutoML',\n",
       "  'environment_cpu_label': 'prod',\n",
       "  'environment_gpu_name': 'AzureML-AutoML-GPU',\n",
       "  'environment_gpu_label': 'prod',\n",
       "  'root_attribution': 'automl',\n",
       "  'attribution': 'AutoML',\n",
       "  'Orchestrator': 'AutoML',\n",
       "  'CancelUri': 'https://southcentralus.experiments.azureml.net/jasmine/v1.0/subscriptions/3e42d11f-d64d-4173-af9b-12ecaa1030b3/resourceGroups/aml-quickstarts-138628/providers/Microsoft.MachineLearningServices/workspaces/quick-starts-ws-138628/experimentids/f333284a-ab8e-4500-9793-586335b1536b/cancel/AutoML_1440c676-7dd5-49b8-9e33-c02999606195',\n",
       "  'ClientSdkVersion': '1.21.0',\n",
       "  'snapshotId': '00000000-0000-0000-0000-000000000000',\n",
       "  'SetupRunId': 'AutoML_1440c676-7dd5-49b8-9e33-c02999606195_setup',\n",
       "  'SetupRunContainerId': 'dcid.AutoML_1440c676-7dd5-49b8-9e33-c02999606195_setup',\n",
       "  'FeaturizationRunJsonPath': 'featurizer_container.json',\n",
       "  'FeaturizationRunId': 'AutoML_1440c676-7dd5-49b8-9e33-c02999606195_featurize',\n",
       "  'ProblemInfoJsonString': '{\"dataset_num_categorical\": 0, \"is_sparse\": false, \"subsampling\": false, \"dataset_classes\": 2, \"dataset_features\": 5, \"dataset_samples\": 569, \"single_frequency_class_detected\": false}',\n",
       "  'ModelExplainRunId': 'AutoML_1440c676-7dd5-49b8-9e33-c02999606195_ModelExplain'},\n",
       " 'inputDatasets': [{'dataset': {'id': 'e036f263-e5c7-49f8-a13a-174d7ea4454e'}, 'consumptionDetails': {'type': 'RunInput', 'inputName': 'training_data', 'mechanism': 'Direct'}}],\n",
       " 'outputDatasets': [],\n",
       " 'logFiles': {},\n",
       " 'submittedBy': 'ODL_User 138628'}"
      ]
     },
     "execution_count": 8,
     "metadata": {},
     "output_type": "execute_result"
    }
   ],
   "source": [
    "automl_run.wait_for_completion(show_output=True)"
   ]
  },
  {
   "cell_type": "markdown",
   "metadata": {},
   "source": [
    "## Best Model\n",
    "\n",
    "TODO: In the cell below, get the best model from the automl experiments and display all the properties of the model.\n",
    "\n"
   ]
  },
  {
   "cell_type": "code",
   "execution_count": null,
   "metadata": {
    "gather": {
     "logged": 1598431425670
    },
    "jupyter": {
     "outputs_hidden": false,
     "source_hidden": false
    },
    "nteract": {
     "transient": {
      "deleting": false
     }
    }
   },
   "outputs": [],
   "source": [
    "best_model= automl_run.get_output()"
   ]
  },
  {
   "cell_type": "code",
   "execution_count": null,
   "metadata": {
    "gather": {
     "logged": 1598431426111
    },
    "jupyter": {
     "outputs_hidden": false,
     "source_hidden": false
    },
    "nteract": {
     "transient": {
      "deleting": false
     }
    }
   },
   "outputs": [],
   "source": [
    "#TODO: Save the best model"
   ]
  },
  {
   "cell_type": "markdown",
   "metadata": {},
   "source": [
    "## Model Deployment\n",
    "\n",
    "Remember you have to deploy only one of the two models you trained.. Perform the steps in the rest of this notebook only if you wish to deploy this model.\n",
    "\n",
    "TODO: In the cell below, register the model, create an inference config and deploy the model as a web service."
   ]
  },
  {
   "cell_type": "code",
   "execution_count": null,
   "metadata": {
    "gather": {
     "logged": 1598431435189
    },
    "jupyter": {
     "outputs_hidden": false,
     "source_hidden": false
    },
    "nteract": {
     "transient": {
      "deleting": false
     }
    }
   },
   "outputs": [],
   "source": []
  },
  {
   "cell_type": "markdown",
   "metadata": {
    "collapsed": true,
    "gather": {
     "logged": 1598431657736
    },
    "jupyter": {
     "outputs_hidden": false,
     "source_hidden": false
    },
    "nteract": {
     "transient": {
      "deleting": false
     }
    }
   },
   "source": [
    "TODO: In the cell below, send a request to the web service you deployed to test it."
   ]
  },
  {
   "cell_type": "code",
   "execution_count": null,
   "metadata": {
    "gather": {
     "logged": 1598432707604
    },
    "jupyter": {
     "outputs_hidden": false,
     "source_hidden": false
    },
    "nteract": {
     "transient": {
      "deleting": false
     }
    }
   },
   "outputs": [],
   "source": []
  },
  {
   "cell_type": "markdown",
   "metadata": {
    "collapsed": true,
    "gather": {
     "logged": 1598432765711
    },
    "jupyter": {
     "outputs_hidden": false,
     "source_hidden": false
    },
    "nteract": {
     "transient": {
      "deleting": false
     }
    }
   },
   "source": [
    "TODO: In the cell below, print the logs of the web service and delete the service"
   ]
  },
  {
   "cell_type": "code",
   "execution_count": null,
   "metadata": {
    "jupyter": {
     "outputs_hidden": false,
     "source_hidden": false
    },
    "nteract": {
     "transient": {
      "deleting": false
     }
    }
   },
   "outputs": [],
   "source": []
  }
 ],
 "metadata": {
  "kernel_info": {
   "name": "python3-azureml"
  },
  "kernelspec": {
   "display_name": "Python 3",
   "language": "python",
   "name": "python3"
  },
  "language_info": {
   "codemirror_mode": {
    "name": "ipython",
    "version": 3
   },
   "file_extension": ".py",
   "mimetype": "text/x-python",
   "name": "python",
   "nbconvert_exporter": "python",
   "pygments_lexer": "ipython3",
   "version": "3.6.9"
  },
  "nteract": {
   "version": "nteract-front-end@1.0.0"
  }
 },
 "nbformat": 4,
 "nbformat_minor": 2
}
